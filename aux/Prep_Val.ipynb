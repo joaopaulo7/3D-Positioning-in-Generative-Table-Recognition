{
 "cells": [
  {
   "cell_type": "code",
   "execution_count": 6,
   "id": "39de905a-956b-488f-a30b-f2aa746af9a9",
   "metadata": {},
   "outputs": [],
   "source": [
    "import sys\n",
    "import json\n",
    "import os\n",
    "\n",
    "ANN_PATH = 'data/anns/val/'\n",
    "\n",
    "json_list = os.listdir(ANN_PATH)\n",
    "\n",
    "html_list = []\n",
    "\n",
    "for f in json_list:\n",
    "    if(f[-6:-5] == \"L\"):\n",
    "        html_list.append(f)"
   ]
  },
  {
   "cell_type": "code",
   "execution_count": 7,
   "id": "23a4c0f1-43ce-4ef8-9229-09b95a0f4ba9",
   "metadata": {},
   "outputs": [
    {
     "data": {
      "text/plain": [
       "'PMC4107951_003_00-HTML.json'"
      ]
     },
     "execution_count": 7,
     "metadata": {},
     "output_type": "execute_result"
    }
   ],
   "source": [
    "html_list[0]"
   ]
  },
  {
   "cell_type": "code",
   "execution_count": 8,
   "id": "b8e3016b-1798-4aea-8253-12a1737c5640",
   "metadata": {},
   "outputs": [],
   "source": [
    "val_dic = {}\n",
    "\n",
    "for file_name in html_list:\n",
    "    with open(ANN_PATH + file_name, encoding=\"utf-8\") as f:\n",
    "        \n",
    "        image_file = file_name.split('-')[0]+'.png'\n",
    "        annotation = '<html><body><table>' + json.load(f) + '</table></body></html>'\n",
    "        if 'colspan' in annotation or 'rowspan' in annotation:\n",
    "            t_type = 'complex'\n",
    "        else:\n",
    "            t_type = 'simple'\n",
    "        \n",
    "        val_dic[image_file] = {'html': annotation, 'type': t_type}"
   ]
  },
  {
   "cell_type": "code",
   "execution_count": 9,
   "id": "6d3fac91-8a3f-424d-acb6-ffaec24bd277",
   "metadata": {},
   "outputs": [
    {
     "data": {
      "text/plain": [
       "{'html': '<html><body><table><thead><tr><td><b>Target group</b></td><td><b>Sequence (5′–3′)</b></td><td><b>Annealing temperature (°C)</b></td></tr></thead><tbody><tr><td rowspan=\"2\"><i>Faecalibacterium prausnitzii</i></td><td>GATGGCCTCGCGTCCGATTAG</td><td rowspan=\"2\">58</td></tr><tr><td>CCGAAGACCTTCTTCCTCC</td></tr><tr><td rowspan=\"2\"><i>Bifidobacterium</i> genus</td><td>GGGTGGTAATGCCGGATG</td><td rowspan=\"2\">59</td></tr><tr><td>TAAGCCATGGACTTTCACACC</td></tr><tr><td rowspan=\"2\">Lactic acid bacteria</td><td>AGCAGTAGGGAATCTTCCA</td><td rowspan=\"2\">58</td></tr><tr><td>ATTYCACCGCTACACATG</td></tr><tr><td rowspan=\"2\"><i>Enterococcus faecalis</i></td><td>AACCTACCCATCAGAGGG</td><td rowspan=\"2\">57</td></tr><tr><td>GACGTTCAGTTACTAACG</td></tr><tr><td rowspan=\"2\"><i>Enterobacteriaceae</i></td><td>CATTGACGTTACCCGCAGAAGAAGC</td><td rowspan=\"2\">63</td></tr><tr><td>CTCTACGAGACTCAAGCTTGC</td></tr><tr><td rowspan=\"2\"><i>Bacteroides-Prevotella</i> group</td><td>GAAGGTCCCCCACATTG</td><td rowspan=\"2\">56</td></tr><tr><td>CAATCGGAGTTCTTCGTG</td></tr></tbody></table></body></html>',\n",
       " 'type': 'complex'}"
      ]
     },
     "execution_count": 9,
     "metadata": {},
     "output_type": "execute_result"
    }
   ],
   "source": [
    "val_dic['PMC4107951_003_00.png']"
   ]
  },
  {
   "cell_type": "code",
   "execution_count": 10,
   "id": "5b12dfdf-fb10-416d-98c3-8b51f616acdb",
   "metadata": {},
   "outputs": [],
   "source": [
    "with open(ANN_PATH+\"val_dic.json\", 'w') as out:\n",
    "    json.dump(val_dic, out, ensure_ascii=False)"
   ]
  },
  {
   "cell_type": "code",
   "execution_count": null,
   "id": "6e7ca502-9cb7-472b-9347-b40385f5be78",
   "metadata": {},
   "outputs": [],
   "source": []
  }
 ],
 "metadata": {
  "kernelspec": {
   "display_name": "Python 3 (ipykernel)",
   "language": "python",
   "name": "python3"
  },
  "language_info": {
   "codemirror_mode": {
    "name": "ipython",
    "version": 3
   },
   "file_extension": ".py",
   "mimetype": "text/x-python",
   "name": "python",
   "nbconvert_exporter": "python",
   "pygments_lexer": "ipython3",
   "version": "3.10.12"
  }
 },
 "nbformat": 4,
 "nbformat_minor": 5
}
