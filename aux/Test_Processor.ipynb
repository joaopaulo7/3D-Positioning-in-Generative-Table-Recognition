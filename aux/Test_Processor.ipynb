{
 "cells": [
  {
   "cell_type": "code",
   "execution_count": 1,
   "id": "86fac0e3",
   "metadata": {},
   "outputs": [
    {
     "name": "stderr",
     "output_type": "stream",
     "text": [
      "/home/jao/.local/lib/python3.10/site-packages/tqdm/auto.py:21: TqdmWarning: IProgress not found. Please update jupyter and ipywidgets. See https://ipywidgets.readthedocs.io/en/stable/user_install.html\n",
      "  from .autonotebook import tqdm as notebook_tqdm\n"
     ]
    }
   ],
   "source": [
    "from transformers import DonutProcessor\n",
    "import sys\n",
    "sys.path.insert(1, 'PubTabNet/src/')\n",
    "sys.path.insert(1, '../proj/src/')\n",
    "\n",
    "from metric import TEDS\n",
    "from processing_tabeleiro import TabeleiroProcessor\n",
    "import json\n",
    "import os\n",
    "\n",
    "\n",
    "SPLIT = \"val/\"\n",
    "\n",
    "PUBTABNET = 'data/anns/'\n",
    "\n",
    "ANN_PATH = PUBTABNET\n",
    "\n",
    "json_list = os.listdir(ANN_PATH + SPLIT)\n",
    "\n",
    "aux_list = []\n",
    "html_list = []\n",
    "\n",
    "for f in json_list:\n",
    "    if(f[-6:-5] == \"L\"):\n",
    "        html_list.append(f)\n",
    "    else:\n",
    "        aux_list.append(f)\n",
    "json_list = aux_list\n",
    "processor = TabeleiroProcessor.from_pretrained(\"processors/Donut_PubTables_TML_Processor8k\")"
   ]
  },
  {
   "cell_type": "code",
   "execution_count": 2,
   "id": "f9f10dd9",
   "metadata": {},
   "outputs": [
    {
     "data": {
      "text/plain": [
       "['PMC5771025_005_00.json',\n",
       " 'PMC4077014_004_00.json',\n",
       " 'PMC4042280_008_01.json',\n",
       " 'PMC5629611_006_00.json',\n",
       " 'PMC4824228_005_00.json',\n",
       " 'PMC6060525_003_00.json',\n",
       " 'PMC2265025_002_00.json',\n",
       " 'PMC4846708_004_00.json',\n",
       " 'PMC4100296_012_00.json',\n",
       " 'PMC3112163_003_00.json']"
      ]
     },
     "execution_count": 2,
     "metadata": {},
     "output_type": "execute_result"
    }
   ],
   "source": [
    "json_list[:10]"
   ]
  },
  {
   "cell_type": "code",
   "execution_count": 3,
   "id": "8211d955",
   "metadata": {},
   "outputs": [],
   "source": [
    "gt_list = []\n",
    "pred_list = []\n",
    "\n",
    "teds = TEDS(n_jobs=4, structure_only = False)"
   ]
  },
  {
   "cell_type": "code",
   "execution_count": 4,
   "id": "33db82ff",
   "metadata": {},
   "outputs": [
    {
     "data": {
      "text/plain": [
       "{'input_ids': [0, 2, 2], 'attention_mask': [1, 1, 1]}"
      ]
     },
     "execution_count": 4,
     "metadata": {},
     "output_type": "execute_result"
    }
   ],
   "source": [
    "processor.tokenizer(\"</s>\")"
   ]
  },
  {
   "cell_type": "code",
   "execution_count": null,
   "id": "83d386ad",
   "metadata": {},
   "outputs": [
    {
     "name": "stderr",
     "output_type": "stream",
     "text": [
      "  0%|                                          | 1/9115 [00:00<53:01,  2.87it/s]"
     ]
    },
    {
     "name": "stdout",
     "output_type": "stream",
     "text": [
      "0.8865979381443299\n",
      "0-> 0.0\n"
     ]
    },
    {
     "name": "stderr",
     "output_type": "stream",
     "text": [
      "  0%|                                        | 2/9115 [00:00<1:03:10,  2.40it/s]"
     ]
    },
    {
     "name": "stdout",
     "output_type": "stream",
     "text": [
      "0.7611940298507462\n",
      "1.0\n"
     ]
    },
    {
     "name": "stderr",
     "output_type": "stream",
     "text": [
      "  0%|                                          | 4/9115 [00:01<51:53,  2.93it/s]"
     ]
    },
    {
     "name": "stdout",
     "output_type": "stream",
     "text": [
      "0.75\n"
     ]
    },
    {
     "name": "stderr",
     "output_type": "stream",
     "text": [
      "  0%|                                          | 5/9115 [00:01<47:08,  3.22it/s]"
     ]
    },
    {
     "name": "stdout",
     "output_type": "stream",
     "text": [
      "0.9949494949494949\n",
      "1.0\n"
     ]
    },
    {
     "name": "stderr",
     "output_type": "stream",
     "text": [
      "  0%|                                          | 7/9115 [00:02<56:49,  2.67it/s]"
     ]
    },
    {
     "name": "stdout",
     "output_type": "stream",
     "text": [
      "0.51\n"
     ]
    },
    {
     "name": "stderr",
     "output_type": "stream",
     "text": [
      "  0%|                                        | 9/9115 [00:04<1:20:45,  1.88it/s]"
     ]
    },
    {
     "name": "stdout",
     "output_type": "stream",
     "text": [
      "0.640625\n",
      "1.0\n"
     ]
    },
    {
     "name": "stderr",
     "output_type": "stream",
     "text": [
      "  0%|                                       | 10/9115 [00:04<1:06:14,  2.29it/s]"
     ]
    },
    {
     "name": "stdout",
     "output_type": "stream",
     "text": [
      "1.0\n"
     ]
    },
    {
     "name": "stderr",
     "output_type": "stream",
     "text": [
      "  0%|                                         | 11/9115 [00:04<58:59,  2.57it/s]"
     ]
    },
    {
     "name": "stdout",
     "output_type": "stream",
     "text": [
      "0.9804878048780488\n",
      "10-> 0.854336646294457\n"
     ]
    },
    {
     "name": "stderr",
     "output_type": "stream",
     "text": [
      "  0%|                                         | 12/9115 [00:04<54:42,  2.77it/s]"
     ]
    },
    {
     "name": "stdout",
     "output_type": "stream",
     "text": [
      "0.6711711711711712\n"
     ]
    },
    {
     "name": "stderr",
     "output_type": "stream",
     "text": [
      "  0%|                                       | 13/9115 [00:07<2:17:33,  1.10it/s]"
     ]
    },
    {
     "name": "stdout",
     "output_type": "stream",
     "text": [
      "0.2741747855169405\n",
      "<table>\n",
      "<html><body><table><thead><tr><td><b>Age (year)</b></td><td><b>Gender</b></td><td><b>Diagnosis</b></td><td><b><i>β</i>2-microglobulin (<i>μ</i>g/L)</b></td><td><b>KIM score</b></td><td><b>Serum creatinine (mg/dL)</b></td><td><b>Urine analysis</b></td></tr></thead><tbody><tr><td>53</td><td>F</td><td>IgA nephropathy</td><td><0.21</td><td>0.5</td><td>0.9</td><td>Hematuria</td></tr><tr><td>72</td><td>M</td><td>Membranous nephropathy</td><td><0.21</td><td>1.5</td><td>2.4</td><td>↑ Tubular cells, hematuria</td></tr><tr><td>59</td><td>F</td><td>Diabetic nephropathy</td><td><0.21</td><td>1.0</td><td>1.51</td><td>↑ Tubular cells</td></tr><tr><td>51</td><td>F</td><td>Focal, segmental glomerulosclerosis</td><td><0.21</td><td>1.0</td><td>1.1</td><td>Hematuria</td></tr><tr><td>46</td><td>M</td><td>Diabetic nephropathy, IgA nephropathy</td><td><0.21</td><td>2.0</td><td>2.5</td><td>↑ Tubular cells, hematuria</td></tr><tr><td>37</td><td>M</td><td>Lupus nephritis</td><td><0.21</td><td>1.5</td><td>3.2</td><td>↑ Tubular cells, hematuria</td></tr><tr><td>72</td><td>F</td><td>Acute interstitial nephritis, IgA nephropathy </td><td><0.21</td><td>2.0</td><td>2.3</td><td>Hematuria</td></tr><tr><td>69</td><td>M</td><td>Membranous nephropathy</td><td>0.28</td><td>1.0</td><td>0.99</td><td></td></tr></tbody></table></body></html>\n",
      "\n",
      "<html><body><table><thead><tr><td><b>Age (year)</b></td><td><b>Gender</b></td><td><b>Diagnosis</b></td><td><b><i>β</i>2-microglobulin (<i>μ</i>g/L)</b></td><td><b>KIM score</b></td><td><b>Serum creatinine (mg/dL)</b></td><td><b>Urine analysis</b></td></tr></thead><tbody><tr><td>53</td><td>F</td><td>IgA nephropathy</td><td><0.21</td><td>0.5</td><td>0.9</td><td>Hematuria</td></tr><tr><td>72</td><td>M</td><td>Membranous nephropathy</td><td><0.21</td><td>1.5</td><td>2.4</td><td>↑ Tubular cells, hematuria</td></tr><tr><td>59</td><td>F</td><td>Diabetic nephropathy</td><td><0.21</td><td>1.0</td><td>1.51</td><td>↑ Tubular cells</td></tr><tr><td>51</td><td>F</td><td>Focal, segmental glomerulosclerosis</td><td><0.21</td><td>1.0</td><td>1.1</td><td>Hematuria</td></tr><tr><td>46</td><td>M</td><td>Diabetic nephropathy, IgA nephropathy</td><td><0.21</td><td>2.0</td><td>2.5</td><td>↑ Tubular cells, hematuria</td></tr><tr><td>37</td><td>M</td><td>Lupus nephritis</td><td><0.21</td><td>1.5</td><td>3.2</td><td>↑ Tubular cells, hematuria</td></tr><tr><td>72</td><td>F</td><td>Acute interstitial nephritis, IgA nephropathy</td><td><0.21</td><td>2.0</td><td>2.3</td><td>Hematuria</td></tr><tr><td>69</td><td>M</td><td>Membranous nephropathy</td><td>0.28</td><td>1.0</td><td>0.99</td><td>↑ Tubular cells</td></tr><tr><td>87</td><td>M</td><td>IgA nephropathy, acute interstitial nephritis</td><td>0.29</td><td>2.0</td><td>3.2</td><td>↑ Tubular cells</td></tr><tr><td>50</td><td>M</td><td>Lupus nephritis, tubular injury (toxic)</td><td>0.31</td><td>3.0</td><td>0.64</td><td></td></tr><tr><td>83</td><td>M</td><td>Diabetic nephropathy, tubular injury</td><td>0.33</td><td>1.0</td><td>1.00</td><td></td></tr><tr><td>53</td><td>F</td><td>Focal, segmental glomerulosclerosis</td><td>0.47</td><td>1.0</td><td>2.40</td><td>↑ Tubular cells</td></tr><tr><td>60</td><td>M</td><td>IgA nephropathy, tubular injury</td><td>0.49</td><td>2.0</td><td>5.00</td><td>↑ Tubular cells, hematuria</td></tr><tr><td>29</td><td>M</td><td>Renal transplantation, tubular injury</td><td>0.53</td><td>2.0</td><td>4.50</td><td>↑ Tubular cells, hematuria</td></tr><tr><td>35</td><td>M</td><td>IgA nephropathy</td><td>0.54</td><td>2.0</td><td>2.90</td><td>↑ Tubular cells, hematuria</td></tr><tr><td>49</td><td>M</td><td>Lupus nephritis</td><td>0.63</td><td>3.0</td><td>1.03</td><td>↑ Tubular cells</td></tr><tr><td>68</td><td>M</td><td>Focal, segmental glomerulosclerosis</td><td>0.69</td><td>1.0</td><td>1.15</td><td>Hematuria</td></tr><tr><td>44</td><td>F</td><td>Focal, segmental glomerulosclerosis</td><td>1.15</td><td>1.0</td><td>1.10</td><td>↑ Tubular cells, hematuria</td></tr><tr><td>16</td><td>F</td><td>Focal, segmental glomerulosclerosis</td><td>1.60</td><td>3.0</td><td>2.00</td><td>↑ Tubular cells, hematuria</td></tr><tr><td>52</td><td>F</td><td>Granuloma</td><td>1.89</td><td>2.0</td><td>0.70</td><td>↑ Tubular cells</td></tr><tr><td>50</td><td>M</td><td>IgA nephropathy</td><td>1.89</td><td>2.0</td><td>0.83</td><td></td></tr><tr><td>20</td><td>M</td><td>Normal</td><td>4.52</td><td>1.0</td><td>3.26</td><td>↑ Tubular cells</td></tr><tr><td>47</td><td>M</td><td>Focal, segmental glomerulosclerosis</td><td>5.36</td><td>2.0</td><td>1.18</td><td>↑ Tubular cells, hematuria</td></tr><tr><td>47</td><td>M</td><td>Renal transplantation</td><td>5.44</td><td>2.0</td><td>1.19</td><td>Hematuria</td></tr><tr><td>74</td><td>M</td><td>Focal, segmental glomerulosclerosis</td><td>6.23</td><td>3.0</td><td>1.50</td><td>Granular casts</td></tr><tr><td>63</td><td>F</td><td>Focal, segmental glomerulosclerosis</td><td>7.19</td><td>1.0</td><td>4.50</td><td>↑ Tubular cells, hematuria</td></tr><tr><td>38</td><td>M</td><td>Diabetic nephropathy</td><td>7.87</td><td>2.0</td><td>3.00</td><td>Granular casts</td></tr><tr><td>77</td><td>F</td><td>ANCA-associated glomerulonephritis</td><td>9.23</td><td>3.0</td><td>2.90</td><td></td></tr><tr><td>73</td><td>M</td><td>ANCA-associated glomerulonephritis</td><td>12.9</td><td>1.5</td><td>2.30</td><td></td></tr><tr><td>63</td><td>M</td><td>Diabetic nephropathy, tubular injury (toxic)</td><td>16.1</td><td>1.0</td><td>6.00</td><td>↑ Tubular cells</td></tr><tr><td>42</td><td>M</td><td>Focal, segmental glomerulosclerosis</td><td>29.8</td><td>1.0</td><td>1.70</td><td>Neutrophils</td></tr><tr><td>62</td><td>F</td><td>Focal, segmental glomerulosclerosis</td><td>35.9</td><td>3.0</td><td>7.10</td><td>↑ Tubular cells</td></tr><tr><td>68</td><td>F</td><td>Focal, segmental glomerulosclerosis</td><td>46.3</td><td>2.0</td><td>2.50</td><td>↑ Tubular cells</td></tr><tr><td>53</td><td>F</td><td>Acute interstitial nephritis</td><td>47.2</td><td>1.0</td><td>5.60</td><td>↑ Tubular cells</td></tr><tr><td>60</td><td>M</td><td>Acute interstitial nephritis</td><td>79.8</td><td>2.0</td><td>4.50</td><td>↑ Tubular cells</td></tr></tbody></table></body></html>\n",
      "0.2741747855169405\n"
     ]
    },
    {
     "name": "stderr",
     "output_type": "stream",
     "text": [
      "  0%|                                       | 14/9115 [00:07<1:46:58,  1.42it/s]"
     ]
    },
    {
     "name": "stdout",
     "output_type": "stream",
     "text": [
      "0.9186046511627907\n"
     ]
    },
    {
     "name": "stderr",
     "output_type": "stream",
     "text": [
      "  0%|                                       | 15/9115 [00:07<1:29:32,  1.69it/s]"
     ]
    },
    {
     "name": "stdout",
     "output_type": "stream",
     "text": [
      "0.8085480093676816\n",
      "1.0\n"
     ]
    },
    {
     "name": "stderr",
     "output_type": "stream",
     "text": [
      "  0%|                                       | 17/9115 [00:08<1:17:12,  1.96it/s]"
     ]
    }
   ],
   "source": [
    "import random\n",
    "import torch\n",
    "from difflib import SequenceMatcher\n",
    "from tqdm.auto import tqdm\n",
    "\n",
    "removed_tags = []\n",
    "soma_ratios = 0\n",
    "\n",
    "for i, file_name in enumerate(tqdm(json_list)):\n",
    "\n",
    "    with open(ANN_PATH + SPLIT + file_name, encoding=\"utf-8\") as f:\n",
    "        annotation = json.load(f)\n",
    "    with open(ANN_PATH + SPLIT + file_name[:-5]+\"-HTML.json\", encoding=\"utf-8\") as f:\n",
    "        gt_html = \"<html><body><table>\"+str(json.load(f))+\"</table></body></html>\"\n",
    "    \n",
    "    for tag in removed_tags:\n",
    "        gt_html = \"<html><body><table>\"+gt_html.replace(tag, \"\")+\"</table></body></html>\"\n",
    "    \n",
    "    target_sequence = \"<s>\"+processor.json2token(annotation)+\"</s>\"\n",
    "    input_ids = processor.tokenizer(\n",
    "        target_sequence,\n",
    "        add_special_tokens=False,\n",
    "        max_length= 256,\n",
    "        padding=\"max_length\",\n",
    "        truncation=True,\n",
    "        return_tensors=\"pt\",\n",
    "    )[\"input_ids\"].squeeze(0)\n",
    "    \n",
    "    \n",
    "    input_ids = torch.cat((input_ids, torch.Tensor([2, 2]).int()), 0)\n",
    "    \n",
    "    table = processor.token2ann( input_ids, 1)\n",
    "    table_aux  = table.copy()\n",
    "    \n",
    "    \n",
    "    pred_html = \"<html><body><table>\"+processor.table2html(table['tables'][0])+\"</table></body></html>\"\n",
    "    \n",
    "    pred_html = pred_html\n",
    "    gt_html = gt_html.replace(\" </td>\", \"</td>\").replace(\"<td> \", \"<td>\")\n",
    "    \n",
    "    pred_list.append(pred_html)\n",
    "    gt_list.append(gt_html)\n",
    "    \n",
    "    ratio = teds.evaluate(str(pred_html), str(gt_html))\n",
    "    print(ratio)\n",
    "    if(ratio < .5):\n",
    "        print(processor.decode(input_ids[1]))\n",
    "        #print(target_sequence)\n",
    "        #print(table['tables'][0])\n",
    "        print(pred_html)\n",
    "        print()\n",
    "        print(gt_html)\n",
    "        print(ratio)\n",
    "    if i% 10 == 0:   \n",
    "        print(str(i)+'->', soma_ratios/max(1, i))\n",
    "    \n",
    "    soma_ratios += ratio\n",
    "print(soma_ratios/len(json_list))"
   ]
  },
  {
   "cell_type": "code",
   "execution_count": null,
   "id": "4915c1ea",
   "metadata": {},
   "outputs": [],
   "source": [
    "input_ids"
   ]
  },
  {
   "cell_type": "code",
   "execution_count": null,
   "id": "7c9d0515",
   "metadata": {},
   "outputs": [],
   "source": [
    "json.dump(pred_list, open(\"teste-pred.json\", 'w'))\n",
    "json.dump(gt_list, open(\"teste-gt.json\", 'w'))"
   ]
  },
  {
   "cell_type": "code",
   "execution_count": null,
   "id": "010e1b44",
   "metadata": {},
   "outputs": [],
   "source": [
    "a = '<thead><tr><td rowspan=\"2\"><b>Cutoff (IRS)</b></td><td rowspan=\"2\"><b>Number</b></td><td colspan=\"2\"><b>Overall survival prognosis</b></td></tr><tr><td><b>Log-rank <i>P</i></b></td><td><b>Corrected <i>P</i><sup><i>∗</i></sup></b></td></tr></thead><tbody><tr><td>≥1</td><td>99/94</td><td>5.56</td><td>0.0184</td></tr><tr><td>≥2</td><td>129/64</td><td>4.37</td><td>0.0377</td></tr><tr><td>≥3</td><td>150/43</td><td>8.37</td><td>0.0038</td></tr><tr><td>≥4</td><td>161/32</td><td>6.35</td><td>0.0117</td></tr><tr><td>≥5 </td><td>177/16</td><td>4.50</td><td>0.0338</td></tr></tbody>'\n",
    "\n",
    "for tag in [\"<i>\", \"</i>\",\"<b>\",\"</b>\"]:\n",
    "    a = a.replace(tag, \"\")\n",
    "    \n",
    "a"
   ]
  },
  {
   "cell_type": "code",
   "execution_count": null,
   "id": "c0bacfb6",
   "metadata": {},
   "outputs": [],
   "source": [
    "target_sequence = \"Capítulo Primeiro Do título Uma noite destas, vindo da cidade para o Engenho Novo, encontrei no[ 1 ] trem da Central um rapaz aqui do bairro, que eu conheço de vista e de cha- péu. Comprimentou-me, sentou-se ao pé de mim, falou da lua e dos mi- nistros, e acabou recitando-me versos. A viagem era curta, e os versos pode ser que não fossem inteiramente maus. Succedeu, porém, que, como eu es- tava cansado, fechei os olhos três ou quatro vezes; tanto bastou para que ele interrompesse a leitura e metesse os versos no bolso. — Continue, disse eu acordando.[ 2 ] — Já acabei, murmurou ele.[ 3 ] — São muito bonitos.[ 4 ] Vi-lhe fazer um gesto para tirá-los outra vez do bolso, mas não passou[ 5 ] do gesto; estava amuado. No dia seguinte entrou a dizer de mim nomes feios, e acabou alcunhando-me Dom Casmurro.\"\n",
    "\n",
    "input_ids = processor.tokenizer(\n",
    "        target_sequence,\n",
    "        add_special_tokens=True,\n",
    "        max_length= 1536,\n",
    "        padding=\"max_length\",\n",
    "        truncation=True,\n",
    "        return_tensors=\"pt\",\n",
    "    )[\"input_ids\"].squeeze(0)"
   ]
  },
  {
   "cell_type": "code",
   "execution_count": null,
   "id": "887f9e13",
   "metadata": {},
   "outputs": [],
   "source": [
    "input_ids"
   ]
  },
  {
   "cell_type": "code",
   "execution_count": null,
   "id": "c137a679",
   "metadata": {},
   "outputs": [],
   "source": [
    "for token in input_ids:\n",
    "    print(processor.decode(token))"
   ]
  },
  {
   "cell_type": "code",
   "execution_count": null,
   "id": "f85c762a",
   "metadata": {},
   "outputs": [],
   "source": [
    "processor.decode(input_ids)"
   ]
  },
  {
   "cell_type": "code",
   "execution_count": null,
   "id": "8eb2fc17",
   "metadata": {},
   "outputs": [],
   "source": []
  }
 ],
 "metadata": {
  "kernelspec": {
   "display_name": "Python 3 (ipykernel)",
   "language": "python",
   "name": "python3"
  },
  "language_info": {
   "codemirror_mode": {
    "name": "ipython",
    "version": 3
   },
   "file_extension": ".py",
   "mimetype": "text/x-python",
   "name": "python",
   "nbconvert_exporter": "python",
   "pygments_lexer": "ipython3",
   "version": "3.10.12"
  }
 },
 "nbformat": 4,
 "nbformat_minor": 5
}
