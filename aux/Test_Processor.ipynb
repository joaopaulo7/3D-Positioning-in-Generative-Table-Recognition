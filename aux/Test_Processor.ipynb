{
 "cells": [
  {
   "cell_type": "code",
   "execution_count": 1,
   "id": "86fac0e3",
   "metadata": {},
   "outputs": [
    {
     "name": "stderr",
     "output_type": "stream",
     "text": [
      "/home/jao/Documents/UFLA/Mestrado/venv_mestrado/lib/python3.12/site-packages/tqdm/auto.py:21: TqdmWarning: IProgress not found. Please update jupyter and ipywidgets. See https://ipywidgets.readthedocs.io/en/stable/user_install.html\n",
      "  from .autonotebook import tqdm as notebook_tqdm\n",
      "Using a slow image processor as `use_fast` is unset and a slow processor was saved with this model. `use_fast=True` will be the default behavior in v4.50, even if the model was saved with a slow processor. This will result in minor differences in outputs. You'll still be able to use a slow processor with `use_fast=False`.\n"
     ]
    }
   ],
   "source": [
    "from transformers import DonutProcessor\n",
    "import sys\n",
    "sys.path.insert(1, 'PubTabNet/src/')\n",
    "sys.path.insert(1, '../proj/src/')\n",
    "\n",
    "from metric import TEDS\n",
    "from processing_tabeleiro import TabeleiroProcessor\n",
    "import json\n",
    "import os\n",
    "\n",
    "\n",
    "SPLIT = \"val/\"\n",
    "\n",
    "PUBTABNET = 'data/anns/'\n",
    "\n",
    "ANN_PATH = PUBTABNET\n",
    "\n",
    "json_list = os.listdir(ANN_PATH + SPLIT)\n",
    "\n",
    "aux_list = []\n",
    "html_list = []\n",
    "\n",
    "for f in json_list:\n",
    "    if(f[-6:-5] == \"L\"):\n",
    "        html_list.append(f)\n",
    "    else:\n",
    "        aux_list.append(f)\n",
    "json_list = aux_list\n",
    "processor = TabeleiroProcessor.from_pretrained(\"processors/Donut_PubTables_TML_Processor8k\", crop_right=False)"
   ]
  },
  {
   "cell_type": "code",
   "execution_count": 2,
   "id": "f9f10dd9",
   "metadata": {},
   "outputs": [
    {
     "data": {
      "text/plain": [
       "['PMC5771025_005_00.json',\n",
       " 'PMC4077014_004_00.json',\n",
       " 'PMC4042280_008_01.json',\n",
       " 'PMC5629611_006_00.json',\n",
       " 'PMC4824228_005_00.json',\n",
       " 'PMC6060525_003_00.json',\n",
       " 'PMC2265025_002_00.json',\n",
       " 'PMC4846708_004_00.json',\n",
       " 'PMC4100296_012_00.json',\n",
       " 'PMC3112163_003_00.json']"
      ]
     },
     "execution_count": 2,
     "metadata": {},
     "output_type": "execute_result"
    }
   ],
   "source": [
    "json_list[:10]"
   ]
  },
  {
   "cell_type": "code",
   "execution_count": 3,
   "id": "8211d955",
   "metadata": {},
   "outputs": [],
   "source": [
    "gt_list = []\n",
    "pred_list = []\n",
    "\n",
    "teds = TEDS(n_jobs=4, structure_only = False)"
   ]
  },
  {
   "cell_type": "code",
   "execution_count": 4,
   "id": "33db82ff",
   "metadata": {},
   "outputs": [
    {
     "data": {
      "text/plain": [
       "{'input_ids': [0, 2, 2], 'attention_mask': [1, 1, 1]}"
      ]
     },
     "execution_count": 4,
     "metadata": {},
     "output_type": "execute_result"
    }
   ],
   "source": [
    "processor.tokenizer(\"</s>\")"
   ]
  },
  {
   "cell_type": "code",
   "execution_count": null,
   "id": "9dd681d6-8a23-476f-9e29-25a198ad935e",
   "metadata": {},
   "outputs": [],
   "source": []
  },
  {
   "cell_type": "code",
   "execution_count": null,
   "id": "83d386ad",
   "metadata": {
    "scrolled": true
   },
   "outputs": [
    {
     "name": "stderr",
     "output_type": "stream",
     "text": [
      "  0%|                                          | 1/9116 [00:00<54:57,  2.76it/s]"
     ]
    },
    {
     "name": "stdout",
     "output_type": "stream",
     "text": [
      "0-> 0.0\n"
     ]
    },
    {
     "name": "stderr",
     "output_type": "stream",
     "text": [
      "  0%|▏                                      | 38/9116 [00:58<7:34:48,  3.01s/it]"
     ]
    },
    {
     "name": "stdout",
     "output_type": "stream",
     "text": [
      "<table>\n",
      "<html><body><table><thead><tr><td><b>Exposure</b></td><td><b>1st Trimester</b></td><td><b>2nd Trimester</b></td><td><b>3rd Trimester</b></td></tr></thead><tbody><tr><td><b>Spatiotemporally resolved PM<sub>2.5</sub></b></td><td></td><td></td><td></td></tr><tr><td><b><i>n</i></b></td><td>765</td><td>845</td><td>970</td></tr><tr><td><b>IQR (μg/m<sup>3</sup>)</b></td><td>2.29</td><td>1.97</td><td>2.24</td></tr><tr><td><b>β (95% CI)</b></td><td>–0.3 (–1.3, 0.7)</td><td>0.4 (–0.4, 1.2)</td><td>0.3 (–0.6, 1.2)</td></tr><tr><td><b>Temporally resolved PM<sub>2.5</sub></b></td><td></td><td></td><td></td></tr><tr><td><b><i>n</i></b></td><td>1,032</td><td>1,031</td><td>1,030</td></tr><tr><td><b>IQR (μg/m<sup>3</sup>)</b></td><td>2.35</td><td>1.77</td><td>2.05</td></tr><tr><td><b>β (95% CI)</b></td><td>0.1 (–0.9, 1.2)</td><td>0.1 (–0.7, 1.0)</td><td>0.5 (–0.4, 1.5)</td></tr><tr><td><b>Spatiotemporally resolved BC</b></td><td></td><td></td><td></td></tr><tr><td><b><i>n</i></b></td><td>1,099</td><td>1,099</td><td>1,102</td></tr><tr><td><b>IQR (μg/m<sup>3</sup>)</b></td><td>0.36</td><td>0.33</td><td>0.33</td></tr><tr><td><b>β (95% CI)</b></td><td>0.00 (–0.8, 0.8)</td><td>0.3 (–0.5, 1.0)</td><td>1.0 (0.2, 1.8)</td></tr><tr><td><b>Temporally resolved BC</b></td><td></td><td></td><td></td></tr><tr><td><b><i>n</i></b></td><td>1,032</td><td>1,031</td><td>1,030</td></tr><tr><td><b>IQR (μg/m<sup>3</sup>)</b></td><td>0.15</td><td>0.16</td><td>0.18</td></tr><tr><td><b>β (95% CI)</b></td><td>–0.9 (–1.7, 0.0)</td><td>0.3 (–1.1, 1.6)</td><td>1.4 (0.3, 2.5)</td></tr><tr><td><b>NO<sub>2</sub></b></td><td></td><td></td><td></td></tr><tr><td><b><i>n</i></b></td><td>1,032</td><td>1,031</td><td>1,030</td></tr><tr><td><b>IQR (ppm)</b></td><td>2.63</td><td>2.96</td><td>3.16</td></tr><tr><td><b>β (95% CI)</b></td><td>0.3 (–0.8, 1.5)</td><td>–0.5 (–1.9, 0.8)</td><td>–0.5 (–1.8, 0.7)</td></tr><tr><td><b>NO<sub>x</sub></b></td><td></td><td></td><td></td></tr><tr><td><b><i>n</i></b></td><td>1,032</td><td>1,031</td><td>1,030</td></tr><tr><td><b>IQR (ppm)</b></td><td>16.7</td><td>17.8</td><td>18.2</td></tr><tr><td><b>β (95% CI)</b></td><td>0.3 (–0.8, 1.4)</td><td>–1.6 (–2.9, –0.2)</td><td>0.6 (–1.2, 2.5)</td></tr><tr><td><b>O<sub>3</sub></b></td><td></td><td></td><td></td></tr><tr><td><b><i>n</i></b></td><td>1,032</td><td>1,031</td><td>1,030</td></tr><tr><td><b>IQR (ppm)</b></td><td>13.0</td><td>12.8</td><td>13.6</td></tr><tr><td><b>β (95% CI)</b></td><td>1.2 (–1.0, 3.5)</td><td>1.7 (0.3, 3.0)</td><td>–2.5 (–4.5, –0.4)</td></tr><tr><td><b>CO</b></td><td></td><td></td><td></td></tr><tr><td><b><i>n</i></b></td><td>1,032</td><td>1,031</td><td>1,030</td></tr><tr><td><b>IQR (ppb)</b></td><td>295.3</td><td>269.4</td><td>218.1</td></tr><tr><td><b>β (95% CI)</b></td><td>1.9 (–0.1, 3.9)</td><td>–2.4 (–3.8, –1.0)</td><td>0.1 (–1.5, 1.7)</td></tr><tr><td colspan=\"4\">Estimates are adjusted for neighborhood median income; mother’s age, third-trimester BP, educational level, and race/ethnicity; child birth weight; infant’s age at BP measurement, BP measurement conditions; and time trend.</td></tr></tbody></table></body></html>\n",
      "\n",
      "<html><body><table><thead><tr><td><b>Exposure</b></td><td><b>1st Trimester</b></td><td><b>2nd Trimester</b></td><td><b>3rd Trimester</b></td></tr></thead><tbody><tr><td><b>Spatiotemporally resolved PM<sub>2.5</sub></b></td></tr><tr><td><b><i>n</i></b></td><td>765</td><td>845</td><td>970</td></tr><tr><td><b>IQR (μg/m<sup>3</sup>)</b></td><td>2.29</td><td>1.97</td><td>2.24</td></tr><tr><td><b>β (95% CI)</b></td><td>–0.3 (–1.3, 0.7)</td><td>0.4 (–0.4, 1.2)</td><td>0.3 (–0.6, 1.2)</td></tr><tr><td><b>Temporally resolved PM<sub>2.5</sub></b></td></tr><tr><td><b><i>n</i></b></td><td>1,032</td><td>1,031</td><td>1,030</td></tr><tr><td><b>IQR (μg/m<sup>3</sup>)</b></td><td>2.35</td><td>1.77</td><td>2.05</td></tr><tr><td><b>β (95% CI)</b></td><td>0.1 (–0.9, 1.2)</td><td>0.1 (–0.7, 1.0)</td><td>0.5 (–0.4, 1.5)</td></tr><tr><td><b>Spatiotemporally resolved BC</b></td></tr><tr><td><b><i>n</i></b></td><td>1,099</td><td>1,099</td><td>1,102</td></tr><tr><td><b>IQR (μg/m<sup>3</sup>)</b></td><td>0.36</td><td>0.33</td><td>0.33</td></tr><tr><td><b>β (95% CI)</b></td><td>0.00 (–0.8, 0.8)</td><td>0.3 (–0.5, 1.0)</td><td>1.0 (0.2, 1.8)</td></tr><tr><td><b>Temporally resolved BC</b></td></tr><tr><td><b><i>n</i></b></td><td>1,032</td><td>1,031</td><td>1,030</td></tr><tr><td><b>IQR (μg/m<sup>3</sup>)</b></td><td>0.15</td><td>0.16</td><td>0.18</td></tr><tr><td><b>β (95% CI)</b></td><td>–0.9 (–1.7, 0.0)</td><td>0.3 (–1.1, 1.6)</td><td>1.4 (0.3, 2.5)</td></tr><tr><td><b>NO<sub>2</sub></b></td></tr><tr><td><b><i>n</i></b></td><td>1,032</td><td>1,031</td><td>1,030</td></tr><tr><td><b>IQR (ppm)</b></td><td>2.63</td><td>2.96</td><td>3.16</td></tr><tr><td><b>β (95% CI)</b></td><td>0.3 (–0.8, 1.5)</td><td>–0.5 (–1.9, 0.8)</td><td>–0.5 (–1.8, 0.7)</td></tr><tr><td><b>NO<sub>x</sub></b></td></tr><tr><td><b><i>n</i></b></td><td>1,032</td><td>1,031</td><td>1,030</td></tr><tr><td><b>IQR (ppm)</b></td><td>16.7</td><td>17.8</td><td>18.2</td></tr><tr><td><b>β (95% CI)</b></td><td>0.3 (–0.8, 1.4)</td><td>–1.6 (–2.9, –0.2)</td><td>0.6 (–1.2, 2.5)</td></tr><tr><td><b>O<sub>3</sub></b></td></tr><tr><td><b><i>n</i></b></td><td>1,032</td><td>1,031</td><td>1,030</td></tr><tr><td><b>IQR (ppm)</b></td><td>13.0</td><td>12.8</td><td>13.6</td></tr><tr><td><b>β (95% CI)</b></td><td>1.2 (–1.0, 3.5)</td><td>1.7 (0.3, 3.0)</td><td>–2.5 (–4.5, –0.4)</td></tr><tr><td><b>CO</b></td></tr><tr><td><b><i>n</i></b></td><td>1,032</td><td>1,031</td><td>1,030</td></tr><tr><td><b>IQR (ppb)</b></td><td>295.3</td><td>269.4</td><td>218.1</td></tr><tr><td><b>β (95% CI)</b></td><td>1.9 (–0.1, 3.9)</td><td>–2.4 (–3.8, –1.0)</td><td>0.1 (–1.5, 1.7)</td></tr><tr><td colspan=\"4\">Estimates are adjusted for neighborhood median income; mother’s age, third-trimester BP, educational level, and race/ethnicity; child birth weight; infant’s age at BP measurement, BP measurement conditions; and time trend.</td></tr></tbody></table></body></html>\n",
      "0.8918918918918919\n"
     ]
    },
    {
     "name": "stderr",
     "output_type": "stream",
     "text": [
      "  0%|▏                                      | 40/9116 [00:59<4:35:27,  1.82s/it]"
     ]
    }
   ],
   "source": [
    "import random\n",
    "import torch\n",
    "from difflib import SequenceMatcher\n",
    "from tqdm.auto import tqdm\n",
    "\n",
    "removed_tags = []\n",
    "soma_ratios = 0\n",
    "\n",
    "for i, file_name in enumerate(tqdm(json_list)):\n",
    "\n",
    "    with open(ANN_PATH + SPLIT + file_name) as f:\n",
    "        annotation = json.load(f)\n",
    "    with open(ANN_PATH + SPLIT + file_name[:-5]+\"-HTML.json\", encoding=\"utf-8\") as f:\n",
    "        gt_html = \"<html><body><table>\"+str(json.load(f))+\"</table></body></html>\"\n",
    "    \n",
    "    for tag in removed_tags:\n",
    "        gt_html = gt_html.replace(tag, \"\")\n",
    "    \n",
    "    target_sequence = \"<s>\"+processor.json2token(annotation)+\"</s>\"\n",
    "    input_ids = processor.tokenizer(\n",
    "        target_sequence,\n",
    "        add_special_tokens=False,\n",
    "        max_length= 2048,\n",
    "        padding=\"max_length\",\n",
    "        truncation=True,\n",
    "        return_tensors=\"pt\",\n",
    "    )[\"input_ids\"].squeeze(0)\n",
    "    \n",
    "    \n",
    "    input_ids = torch.cat((input_ids, torch.Tensor([2, 2]).int()), 0)\n",
    "    \n",
    "    table = processor.token2ann( input_ids, 1)\n",
    "    table_aux  = table.copy()\n",
    "    \n",
    "    \n",
    "    pred_html = \"<html><body><table>\"+processor.table2html(table['tables'][0])+\"</table></body></html>\"\n",
    "    \n",
    "    pred_html = pred_html\n",
    "    gt_html = gt_html.replace(\" </td>\", \"</td>\").replace(\"<td> \", \"<td>\").replace('\"> ', '\">')\n",
    "    pred_list.append(pred_html)\n",
    "    gt_list.append(gt_html)\n",
    "    \n",
    "    ratio = teds.evaluate(str(pred_html), str(gt_html))\n",
    "    \n",
    "    if(ratio < .9):\n",
    "        print(processor.decode(input_ids[1]))\n",
    "        #print(target_sequence)\n",
    "        #print(table['tables'][0])\n",
    "        print(pred_html)\n",
    "        print()\n",
    "        print(gt_html)\n",
    "        print(ratio)\n",
    "    if i% 100 == 0:   \n",
    "        print(str(i)+'->', soma_ratios/max(1, i))\n",
    "    \n",
    "    soma_ratios += ratio\n",
    "print(soma_ratios/len(json_list))"
   ]
  },
  {
   "cell_type": "code",
   "execution_count": null,
   "id": "7c9d0515",
   "metadata": {},
   "outputs": [],
   "source": [
    "json.dump(pred_list, open(\"teste-pred.json\", 'w'))\n",
    "json.dump(gt_list, open(\"teste-gt.json\", 'w'))"
   ]
  },
  {
   "cell_type": "code",
   "execution_count": null,
   "id": "010e1b44",
   "metadata": {},
   "outputs": [],
   "source": [
    "a = '<thead><tr><td rowspan=\"2\"><b>Cutoff (IRS)</b></td><td rowspan=\"2\"><b>Number</b></td><td colspan=\"2\"><b>Overall survival prognosis</b></td></tr><tr><td><b>Log-rank <i>P</i></b></td><td><b>Corrected <i>P</i><sup><i>∗</i></sup></b></td></tr></thead><tbody><tr><td>≥1</td><td>99/94</td><td>5.56</td><td>0.0184</td></tr><tr><td>≥2</td><td>129/64</td><td>4.37</td><td>0.0377</td></tr><tr><td>≥3</td><td>150/43</td><td>8.37</td><td>0.0038</td></tr><tr><td>≥4</td><td>161/32</td><td>6.35</td><td>0.0117</td></tr><tr><td>≥5 </td><td>177/16</td><td>4.50</td><td>0.0338</td></tr></tbody>'\n",
    "\n",
    "for tag in [\"<i>\", \"</i>\",\"<b>\",\"</b>\"]:\n",
    "    a = a.replace(tag, \"\")\n",
    "    \n",
    "a"
   ]
  },
  {
   "cell_type": "code",
   "execution_count": null,
   "id": "c0bacfb6",
   "metadata": {},
   "outputs": [],
   "source": [
    "target_sequence = \"Capítulo Primeiro Do título Uma noite destas, vindo da cidade para o Engenho Novo, encontrei no[ 1 ] trem da Central um rapaz aqui do bairro, que eu conheço de vista e de cha- péu. Comprimentou-me, sentou-se ao pé de mim, falou da lua e dos mi- nistros, e acabou recitando-me versos. A viagem era curta, e os versos pode ser que não fossem inteiramente maus. Succedeu, porém, que, como eu es- tava cansado, fechei os olhos três ou quatro vezes; tanto bastou para que ele interrompesse a leitura e metesse os versos no bolso. — Continue, disse eu acordando.[ 2 ] — Já acabei, murmurou ele.[ 3 ] — São muito bonitos.[ 4 ] Vi-lhe fazer um gesto para tirá-los outra vez do bolso, mas não passou[ 5 ] do gesto; estava amuado. No dia seguinte entrou a dizer de mim nomes feios, e acabou alcunhando-me Dom Casmurro.\"\n",
    "\n",
    "input_ids = processor.tokenizer(\n",
    "        target_sequence,\n",
    "        add_special_tokens=True,\n",
    "        max_length= 1536,\n",
    "        padding=\"max_length\",\n",
    "        truncation=True,\n",
    "        return_tensors=\"pt\",\n",
    "    )[\"input_ids\"].squeeze(0)"
   ]
  },
  {
   "cell_type": "code",
   "execution_count": null,
   "id": "887f9e13",
   "metadata": {},
   "outputs": [],
   "source": [
    "input_ids"
   ]
  },
  {
   "cell_type": "code",
   "execution_count": null,
   "id": "c137a679",
   "metadata": {},
   "outputs": [],
   "source": [
    "for token in input_ids:\n",
    "    print(processor.decode(token))"
   ]
  },
  {
   "cell_type": "code",
   "execution_count": null,
   "id": "f85c762a",
   "metadata": {},
   "outputs": [],
   "source": [
    "processor.decode(input_ids)"
   ]
  },
  {
   "cell_type": "code",
   "execution_count": null,
   "id": "8eb2fc17",
   "metadata": {},
   "outputs": [],
   "source": []
  }
 ],
 "metadata": {
  "kernelspec": {
   "display_name": "venv_mestrado",
   "language": "python",
   "name": "venv_mestrado"
  },
  "language_info": {
   "codemirror_mode": {
    "name": "ipython",
    "version": 3
   },
   "file_extension": ".py",
   "mimetype": "text/x-python",
   "name": "python",
   "nbconvert_exporter": "python",
   "pygments_lexer": "ipython3",
   "version": "3.12.3"
  }
 },
 "nbformat": 4,
 "nbformat_minor": 5
}
