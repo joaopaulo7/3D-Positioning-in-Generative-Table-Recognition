{
 "cells": [
  {
   "cell_type": "code",
   "execution_count": 1,
   "id": "86fac0e3",
   "metadata": {},
   "outputs": [
    {
     "name": "stderr",
     "output_type": "stream",
     "text": [
      "/home/jao/.local/lib/python3.10/site-packages/tqdm/auto.py:21: TqdmWarning: IProgress not found. Please update jupyter and ipywidgets. See https://ipywidgets.readthedocs.io/en/stable/user_install.html\n",
      "  from .autonotebook import tqdm as notebook_tqdm\n"
     ]
    }
   ],
   "source": [
    "from transformers import DonutProcessor\n",
    "import sys\n",
    "sys.path.insert(1, 'PubTabNet/src/')\n",
    "sys.path.insert(1, '../proj/src/')\n",
    "\n",
    "from metric import TEDS\n",
    "from processing_tabeleiro import TabeleiroProcessor\n",
    "import json\n",
    "import os\n",
    "\n",
    "\n",
    "SPLIT = \"val/\"\n",
    "\n",
    "PUBTABNET = 'data/anns/'\n",
    "\n",
    "ANN_PATH = PUBTABNET\n",
    "\n",
    "json_list = os.listdir(ANN_PATH + SPLIT)\n",
    "\n",
    "aux_list = []\n",
    "html_list = []\n",
    "\n",
    "for f in json_list:\n",
    "    if(f[-6:-5] == \"L\"):\n",
    "        html_list.append(f)\n",
    "    else:\n",
    "        aux_list.append(f)\n",
    "json_list = aux_list\n",
    "processor = TabeleiroProcessor.from_pretrained(\"processors/Donut_PubTables_TML_Processor8k\")"
   ]
  },
  {
   "cell_type": "code",
   "execution_count": 2,
   "id": "f9f10dd9",
   "metadata": {},
   "outputs": [
    {
     "data": {
      "text/plain": [
       "['PMC5771025_005_00.json',\n",
       " 'PMC4077014_004_00.json',\n",
       " 'PMC4042280_008_01.json',\n",
       " 'PMC5629611_006_00.json',\n",
       " 'PMC4824228_005_00.json',\n",
       " 'PMC6060525_003_00.json',\n",
       " 'PMC2265025_002_00.json',\n",
       " 'PMC4846708_004_00.json',\n",
       " 'PMC4100296_012_00.json',\n",
       " 'PMC3112163_003_00.json']"
      ]
     },
     "execution_count": 2,
     "metadata": {},
     "output_type": "execute_result"
    }
   ],
   "source": [
    "json_list[:10]"
   ]
  },
  {
   "cell_type": "code",
   "execution_count": 3,
   "id": "8211d955",
   "metadata": {},
   "outputs": [],
   "source": [
    "gt_list = []\n",
    "pred_list = []\n",
    "\n",
    "teds = TEDS(n_jobs=4, structure_only = False)"
   ]
  },
  {
   "cell_type": "code",
   "execution_count": 4,
   "id": "33db82ff",
   "metadata": {},
   "outputs": [
    {
     "data": {
      "text/plain": [
       "{'input_ids': [0, 2, 2], 'attention_mask': [1, 1, 1]}"
      ]
     },
     "execution_count": 4,
     "metadata": {},
     "output_type": "execute_result"
    }
   ],
   "source": [
    "processor.tokenizer(\"</s>\")"
   ]
  },
  {
   "cell_type": "code",
   "execution_count": 5,
   "id": "83d386ad",
   "metadata": {
    "scrolled": true
   },
   "outputs": [
    {
     "name": "stderr",
     "output_type": "stream",
     "text": [
      "  0%|                                          | 1/9115 [00:00<53:01,  2.87it/s]"
     ]
    },
    {
     "name": "stdout",
     "output_type": "stream",
     "text": [
      "0.8865979381443299\n",
      "0-> 0.0\n"
     ]
    },
    {
     "name": "stderr",
     "output_type": "stream",
     "text": [
      "  0%|                                        | 2/9115 [00:00<1:03:10,  2.40it/s]"
     ]
    },
    {
     "name": "stdout",
     "output_type": "stream",
     "text": [
      "0.7611940298507462\n",
      "1.0\n"
     ]
    },
    {
     "name": "stderr",
     "output_type": "stream",
     "text": [
      "  0%|                                          | 4/9115 [00:01<51:53,  2.93it/s]"
     ]
    },
    {
     "name": "stdout",
     "output_type": "stream",
     "text": [
      "0.75\n"
     ]
    },
    {
     "name": "stderr",
     "output_type": "stream",
     "text": [
      "  0%|                                          | 5/9115 [00:01<47:08,  3.22it/s]"
     ]
    },
    {
     "name": "stdout",
     "output_type": "stream",
     "text": [
      "0.9949494949494949\n",
      "1.0\n"
     ]
    },
    {
     "name": "stderr",
     "output_type": "stream",
     "text": [
      "  0%|                                          | 7/9115 [00:02<56:49,  2.67it/s]"
     ]
    },
    {
     "name": "stdout",
     "output_type": "stream",
     "text": [
      "0.51\n"
     ]
    },
    {
     "name": "stderr",
     "output_type": "stream",
     "text": [
      "  0%|                                        | 9/9115 [00:04<1:20:45,  1.88it/s]"
     ]
    },
    {
     "name": "stdout",
     "output_type": "stream",
     "text": [
      "0.640625\n",
      "1.0\n"
     ]
    },
    {
     "name": "stderr",
     "output_type": "stream",
     "text": [
      "  0%|                                       | 10/9115 [00:04<1:06:14,  2.29it/s]"
     ]
    },
    {
     "name": "stdout",
     "output_type": "stream",
     "text": [
      "1.0\n"
     ]
    },
    {
     "name": "stderr",
     "output_type": "stream",
     "text": [
      "  0%|                                         | 11/9115 [00:04<58:59,  2.57it/s]"
     ]
    },
    {
     "name": "stdout",
     "output_type": "stream",
     "text": [
      "0.9804878048780488\n",
      "10-> 0.854336646294457\n"
     ]
    },
    {
     "name": "stderr",
     "output_type": "stream",
     "text": [
      "  0%|                                         | 12/9115 [00:04<54:42,  2.77it/s]"
     ]
    },
    {
     "name": "stdout",
     "output_type": "stream",
     "text": [
      "0.6711711711711712\n"
     ]
    },
    {
     "name": "stderr",
     "output_type": "stream",
     "text": [
      "  0%|                                       | 13/9115 [00:07<2:17:33,  1.10it/s]"
     ]
    },
    {
     "name": "stdout",
     "output_type": "stream",
     "text": [
      "0.2741747855169405\n",
      "<table>\n",
      "<html><body><table><thead><tr><td><b>Age (year)</b></td><td><b>Gender</b></td><td><b>Diagnosis</b></td><td><b><i>β</i>2-microglobulin (<i>μ</i>g/L)</b></td><td><b>KIM score</b></td><td><b>Serum creatinine (mg/dL)</b></td><td><b>Urine analysis</b></td></tr></thead><tbody><tr><td>53</td><td>F</td><td>IgA nephropathy</td><td><0.21</td><td>0.5</td><td>0.9</td><td>Hematuria</td></tr><tr><td>72</td><td>M</td><td>Membranous nephropathy</td><td><0.21</td><td>1.5</td><td>2.4</td><td>↑ Tubular cells, hematuria</td></tr><tr><td>59</td><td>F</td><td>Diabetic nephropathy</td><td><0.21</td><td>1.0</td><td>1.51</td><td>↑ Tubular cells</td></tr><tr><td>51</td><td>F</td><td>Focal, segmental glomerulosclerosis</td><td><0.21</td><td>1.0</td><td>1.1</td><td>Hematuria</td></tr><tr><td>46</td><td>M</td><td>Diabetic nephropathy, IgA nephropathy</td><td><0.21</td><td>2.0</td><td>2.5</td><td>↑ Tubular cells, hematuria</td></tr><tr><td>37</td><td>M</td><td>Lupus nephritis</td><td><0.21</td><td>1.5</td><td>3.2</td><td>↑ Tubular cells, hematuria</td></tr><tr><td>72</td><td>F</td><td>Acute interstitial nephritis, IgA nephropathy </td><td><0.21</td><td>2.0</td><td>2.3</td><td>Hematuria</td></tr><tr><td>69</td><td>M</td><td>Membranous nephropathy</td><td>0.28</td><td>1.0</td><td>0.99</td><td></td></tr></tbody></table></body></html>\n",
      "\n",
      "<html><body><table><thead><tr><td><b>Age (year)</b></td><td><b>Gender</b></td><td><b>Diagnosis</b></td><td><b><i>β</i>2-microglobulin (<i>μ</i>g/L)</b></td><td><b>KIM score</b></td><td><b>Serum creatinine (mg/dL)</b></td><td><b>Urine analysis</b></td></tr></thead><tbody><tr><td>53</td><td>F</td><td>IgA nephropathy</td><td><0.21</td><td>0.5</td><td>0.9</td><td>Hematuria</td></tr><tr><td>72</td><td>M</td><td>Membranous nephropathy</td><td><0.21</td><td>1.5</td><td>2.4</td><td>↑ Tubular cells, hematuria</td></tr><tr><td>59</td><td>F</td><td>Diabetic nephropathy</td><td><0.21</td><td>1.0</td><td>1.51</td><td>↑ Tubular cells</td></tr><tr><td>51</td><td>F</td><td>Focal, segmental glomerulosclerosis</td><td><0.21</td><td>1.0</td><td>1.1</td><td>Hematuria</td></tr><tr><td>46</td><td>M</td><td>Diabetic nephropathy, IgA nephropathy</td><td><0.21</td><td>2.0</td><td>2.5</td><td>↑ Tubular cells, hematuria</td></tr><tr><td>37</td><td>M</td><td>Lupus nephritis</td><td><0.21</td><td>1.5</td><td>3.2</td><td>↑ Tubular cells, hematuria</td></tr><tr><td>72</td><td>F</td><td>Acute interstitial nephritis, IgA nephropathy</td><td><0.21</td><td>2.0</td><td>2.3</td><td>Hematuria</td></tr><tr><td>69</td><td>M</td><td>Membranous nephropathy</td><td>0.28</td><td>1.0</td><td>0.99</td><td>↑ Tubular cells</td></tr><tr><td>87</td><td>M</td><td>IgA nephropathy, acute interstitial nephritis</td><td>0.29</td><td>2.0</td><td>3.2</td><td>↑ Tubular cells</td></tr><tr><td>50</td><td>M</td><td>Lupus nephritis, tubular injury (toxic)</td><td>0.31</td><td>3.0</td><td>0.64</td><td></td></tr><tr><td>83</td><td>M</td><td>Diabetic nephropathy, tubular injury</td><td>0.33</td><td>1.0</td><td>1.00</td><td></td></tr><tr><td>53</td><td>F</td><td>Focal, segmental glomerulosclerosis</td><td>0.47</td><td>1.0</td><td>2.40</td><td>↑ Tubular cells</td></tr><tr><td>60</td><td>M</td><td>IgA nephropathy, tubular injury</td><td>0.49</td><td>2.0</td><td>5.00</td><td>↑ Tubular cells, hematuria</td></tr><tr><td>29</td><td>M</td><td>Renal transplantation, tubular injury</td><td>0.53</td><td>2.0</td><td>4.50</td><td>↑ Tubular cells, hematuria</td></tr><tr><td>35</td><td>M</td><td>IgA nephropathy</td><td>0.54</td><td>2.0</td><td>2.90</td><td>↑ Tubular cells, hematuria</td></tr><tr><td>49</td><td>M</td><td>Lupus nephritis</td><td>0.63</td><td>3.0</td><td>1.03</td><td>↑ Tubular cells</td></tr><tr><td>68</td><td>M</td><td>Focal, segmental glomerulosclerosis</td><td>0.69</td><td>1.0</td><td>1.15</td><td>Hematuria</td></tr><tr><td>44</td><td>F</td><td>Focal, segmental glomerulosclerosis</td><td>1.15</td><td>1.0</td><td>1.10</td><td>↑ Tubular cells, hematuria</td></tr><tr><td>16</td><td>F</td><td>Focal, segmental glomerulosclerosis</td><td>1.60</td><td>3.0</td><td>2.00</td><td>↑ Tubular cells, hematuria</td></tr><tr><td>52</td><td>F</td><td>Granuloma</td><td>1.89</td><td>2.0</td><td>0.70</td><td>↑ Tubular cells</td></tr><tr><td>50</td><td>M</td><td>IgA nephropathy</td><td>1.89</td><td>2.0</td><td>0.83</td><td></td></tr><tr><td>20</td><td>M</td><td>Normal</td><td>4.52</td><td>1.0</td><td>3.26</td><td>↑ Tubular cells</td></tr><tr><td>47</td><td>M</td><td>Focal, segmental glomerulosclerosis</td><td>5.36</td><td>2.0</td><td>1.18</td><td>↑ Tubular cells, hematuria</td></tr><tr><td>47</td><td>M</td><td>Renal transplantation</td><td>5.44</td><td>2.0</td><td>1.19</td><td>Hematuria</td></tr><tr><td>74</td><td>M</td><td>Focal, segmental glomerulosclerosis</td><td>6.23</td><td>3.0</td><td>1.50</td><td>Granular casts</td></tr><tr><td>63</td><td>F</td><td>Focal, segmental glomerulosclerosis</td><td>7.19</td><td>1.0</td><td>4.50</td><td>↑ Tubular cells, hematuria</td></tr><tr><td>38</td><td>M</td><td>Diabetic nephropathy</td><td>7.87</td><td>2.0</td><td>3.00</td><td>Granular casts</td></tr><tr><td>77</td><td>F</td><td>ANCA-associated glomerulonephritis</td><td>9.23</td><td>3.0</td><td>2.90</td><td></td></tr><tr><td>73</td><td>M</td><td>ANCA-associated glomerulonephritis</td><td>12.9</td><td>1.5</td><td>2.30</td><td></td></tr><tr><td>63</td><td>M</td><td>Diabetic nephropathy, tubular injury (toxic)</td><td>16.1</td><td>1.0</td><td>6.00</td><td>↑ Tubular cells</td></tr><tr><td>42</td><td>M</td><td>Focal, segmental glomerulosclerosis</td><td>29.8</td><td>1.0</td><td>1.70</td><td>Neutrophils</td></tr><tr><td>62</td><td>F</td><td>Focal, segmental glomerulosclerosis</td><td>35.9</td><td>3.0</td><td>7.10</td><td>↑ Tubular cells</td></tr><tr><td>68</td><td>F</td><td>Focal, segmental glomerulosclerosis</td><td>46.3</td><td>2.0</td><td>2.50</td><td>↑ Tubular cells</td></tr><tr><td>53</td><td>F</td><td>Acute interstitial nephritis</td><td>47.2</td><td>1.0</td><td>5.60</td><td>↑ Tubular cells</td></tr><tr><td>60</td><td>M</td><td>Acute interstitial nephritis</td><td>79.8</td><td>2.0</td><td>4.50</td><td>↑ Tubular cells</td></tr></tbody></table></body></html>\n",
      "0.2741747855169405\n"
     ]
    },
    {
     "name": "stderr",
     "output_type": "stream",
     "text": [
      "  0%|                                       | 14/9115 [00:07<1:46:58,  1.42it/s]"
     ]
    },
    {
     "name": "stdout",
     "output_type": "stream",
     "text": [
      "0.9186046511627907\n"
     ]
    },
    {
     "name": "stderr",
     "output_type": "stream",
     "text": [
      "  0%|                                       | 15/9115 [00:07<1:29:32,  1.69it/s]"
     ]
    },
    {
     "name": "stdout",
     "output_type": "stream",
     "text": [
      "0.8085480093676816\n",
      "1.0\n"
     ]
    },
    {
     "name": "stderr",
     "output_type": "stream",
     "text": [
      "  0%|                                       | 17/9115 [00:08<1:17:12,  1.96it/s]"
     ]
    },
    {
     "name": "stdout",
     "output_type": "stream",
     "text": [
      "0.7467447916666667\n"
     ]
    },
    {
     "name": "stderr",
     "output_type": "stream",
     "text": [
      "  0%|                                       | 18/9115 [00:09<1:48:11,  1.40it/s]"
     ]
    },
    {
     "name": "stdout",
     "output_type": "stream",
     "text": [
      "0.4339368258859785\n",
      "<table>\n",
      "<html><body><table><thead><tr><td><b>GO process</b></td><td><b>Target genes</b></td><td><b><i>P</i>-value</b></td></tr></thead><tbody><tr><td colspan=\"3\">miR-1</td></tr><tr><td>GO:0003723: RNA binding</td><td>DDX5 SFRS9 HNRNPU TRA2B CPEB1 SFRS1 HNRNPA3 HNRNPK SFRS3</td><td>6.57E-05</td></tr><tr><td>GO:0006397: mRNA processing</td><td>ISY1 DDX5 SFRS9 DHX15 HNRNPU CPEB1 SFRS1 HNRNPA3 HNRNPK SFRS3</td><td>5.69E-03</td></tr><tr><td colspan=\"3\">miR-26a-5p</td></tr><tr><td>GO:0007179: transforming growth factor beta receptor signaling pathway</td><td>TGFBR2 MAP3K1 NLK</td><td>5.41E-04</td></tr><tr><td>GO:0051301: cell division</td><td>CCNE2 CCNE1 CDK6 CCND2</td><td>7.90E-03</td></tr><tr><td colspan=\"3\">miR-466</td></tr><tr><td>GO:0003700: transcription factor activity</td><td>ARNT2 GLI3 SMAD2 RUNX1T1 TCF7L2 MECOM</td><td>4.56E-04</td></tr><tr><td>GO:0005515: protein binding</td><td>CCDC6 KIT C</td></tr></tbody></table></body></html>\n",
      "\n",
      "<html><body><table><thead><tr><td><b>GO process</b></td><td><b>Target genes</b></td><td><b><i>P</i>-value</b></td></tr></thead><tbody><tr><td colspan=\"3\">miR-1</td></tr><tr><td>GO:0003723: RNA binding</td><td>DDX5 SFRS9 HNRNPU TRA2B CPEB1 SFRS1 HNRNPA3 HNRNPK SFRS3</td><td>6.57E-05</td></tr><tr><td>GO:0006397: mRNA processing</td><td>ISY1 DDX5 SFRS9 DHX15 HNRNPU CPEB1 SFRS1 HNRNPA3 HNRNPK SFRS3</td><td>5.69E-03</td></tr><tr><td colspan=\"3\">miR-26a-5p</td></tr><tr><td>GO:0007179: transforming growth factor beta receptor signaling pathway</td><td>TGFBR2 MAP3K1 NLK</td><td>5.41E-04</td></tr><tr><td>GO:0051301: cell division</td><td>CCNE2 CCNE1 CDK6 CCND2</td><td>7.90E-03</td></tr><tr><td colspan=\"3\">miR-466</td></tr><tr><td>GO:0003700: transcription factor activity</td><td>ARNT2 GLI3 SMAD2 RUNX1T1 TCF7L2 MECOM</td><td>4.56E-04</td></tr><tr><td>GO:0005515: protein binding</td><td>CCDC6 KIT CYCS EIF4E COL4A1 PTGS2 RUNX1T1 ULK2 MECOM RICTOR</td><td>6.19E-04</td></tr><tr><td>GO:0006468: protein amino acid phosphorylation</td><td>PRKAA2 RPS6KA3 SMAD2 ULK2 DAPK1</td><td>9.15E-04</td></tr><tr><td>GO:0046872: metal ion binding</td><td>CYCS GLI3 PTGS2 RUNX1T1 MECOM</td><td>6.58E-03</td></tr><tr><td colspan=\"3\">miR-574-3p</td></tr><tr><td>GO:0031625: ubiquitin protein ligase binding</td><td>CUL2 ACVR1B</td><td>1.46E-03</td></tr><tr><td>GO:0051384: response to glucocorticoid stimulus</td><td>EP300 RXRA</td><td>3.87E-03</td></tr><tr><td colspan=\"3\">miR-3613-3p</td></tr><tr><td>GO:0003700: transcription factor activity</td><td>NFATC3 NFAT5 EP300 RARA CREBBP RUNX1T1 RUNX1 ETS1 TCF7L2 NKX3-1 HDAC2 STAT3 CTNNB1 SMAD4</td><td>5.59E-13</td></tr><tr><td>GO:0004842: ubiquitin-protein ligase activity</td><td>UBE2J1 UBE2H UBE2Z BIRC6 MAP3K1 UBE2N UBE2D3 UBE2B NEDD4L LMO7 UBE2R2 HUWE1 UBE2E2 UBE2G1</td><td>5.61E-06</td></tr><tr><td>GO:0006355: regulation of transcription, DNA dependent</td><td>NFAT5 EP300 RARA CREBBP ABL1 RUNX1T1 RUNX1 NKX3-1 CREB1</td><td>1.65E-03</td></tr><tr><td>GO:0008134: transcription factor binding</td><td>PPARGC1A ETS1 TCF7L2 NKX3-1 HDAC2 PIM1 STAT3 CTNNB1</td><td>6.19E-06</td></tr><tr><td>GO:0008284: positive regulation of cell proliferation</td><td>FGFR2 FGFR1 ADAM17 INSR KIT BIRC6 HDAC2 IGF1R CCND1 KRAS</td><td>8.74E-04</td></tr><tr><td>GO:0046872: metal ion binding</td><td>PRKCI EP300 ACACB RARA CREBBP RUNX1T1 MID1 ADAM17 INSR PPP1CB PIM1 XIAP EGLN1 IGF1R LMO7 TRAF3</td><td>4.16E-04</td></tr><tr><td>GO:0051246: regulation of protein metabolic process</td><td>UBE2J1 UBE2H UBE2Z BIRC6 UBE2N UBE2D3 UBE2B UBE2R2 UBE2E2 UBE2G1</td><td>5.24E-05</td></tr></tbody></table></body></html>\n",
      "0.4339368258859785\n",
      "1.0\n"
     ]
    },
    {
     "name": "stderr",
     "output_type": "stream",
     "text": [
      "  0%|                                       | 20/9115 [00:10<1:35:08,  1.59it/s]"
     ]
    },
    {
     "name": "stdout",
     "output_type": "stream",
     "text": [
      "0.7601279317697228\n",
      "1.0\n",
      "20-> 0.8068581217181785\n"
     ]
    },
    {
     "name": "stderr",
     "output_type": "stream",
     "text": [
      "  0%|                                         | 23/9115 [00:11<59:10,  2.56it/s]"
     ]
    },
    {
     "name": "stdout",
     "output_type": "stream",
     "text": [
      "0.8588235294117648\n",
      "1.0\n"
     ]
    },
    {
     "name": "stderr",
     "output_type": "stream",
     "text": [
      "  0%|                                         | 24/9115 [00:11<53:00,  2.86it/s]"
     ]
    },
    {
     "name": "stdout",
     "output_type": "stream",
     "text": [
      "1.0\n"
     ]
    },
    {
     "name": "stderr",
     "output_type": "stream",
     "text": [
      "  0%|                                       | 25/9115 [00:12<1:17:04,  1.97it/s]"
     ]
    },
    {
     "name": "stdout",
     "output_type": "stream",
     "text": [
      "0.46840148698884754\n",
      "<table>\n",
      "<html><body><table><thead><tr><td><b>Factor</b></td><td><b>Division</b></td><td colspan=\"2\"><b>Whole set (313 patients)</b></td><td colspan=\"2\"><b>Subset (227 patients)</b></td></tr><tr><td></td><td></td><td><b><i>n</i></b></td><td><b>Percentage</b></td><td><b><i>n</i></b></td><td><b>Percentage</b></td></tr></thead><tbody><tr><td>Age</td><td>≤40</td><td>34</td><td>10.9</td><td>25</td><td>11.0</td></tr><tr><td></td><td>>40</td><td>279</td><td>89.1</td><td>202</td><td>89.0</td></tr><tr><td>Menopausal status</td><td>Pre</td><td>104</td><td>33.2</td><td>76</td><td>33.5</td></tr><tr><td></td><td>Post</td><td>203</td><td>64.9</td><td>147</td><td>64.8</td></tr><tr><td></td><td>Unknown</td><td>6</td><td>1.9</td><td>4</td><td>1.8</td></tr><tr><td>Tumor grade</td><td>1</td><td>5</td><td>1.6</td><td>4</td><td>1.8</td></tr><tr><td></td><td>2</td><td>101</td><td>32.3</td><td>71</td><td>31.3</td></tr><tr><td></td><td>3</td><td>191</td><td>61.0</td><td>144</td><td>63.4</td></tr><tr><td></td><td>Unknown</td><td>16</td><td>5.1</td><td>8</td><td>3.5</td></tr><tr><td>Tumor size, cm</td><td>0–2</td><td>100</td><td>31.9</td><td>71</td><td>31.3</td></tr><tr><td></td><td>> 2–5</td><td>173</td><td>55.3</td><td>131</td><td>57.7</td></tr><tr><td></td><td>> 5</td><td>35</td><td>11.2</td><td>22</td><td>9.7</td></tr><tr><td></td><td>Unknown</td><td>5</td><td>1.6</td><td>3</td><td>1.3</td></tr><tr><td>Pathological ER status</td><td>Negative</td><td>72</td><td>23.0</td><td>54</td><td>23.8</td></tr><tr><td></td><td>Positive</td><td>234</td></tr></tbody></table></body></html>\n",
      "\n",
      "<html><body><table><thead><tr><td><b>Factor</b></td><td><b>Division</b></td><td colspan=\"2\"><b>Whole set (313 patients)</b></td><td colspan=\"2\"><b>Subset (227 patients)</b></td></tr><tr><td></td><td></td><td><b><i>n</i></b></td><td><b>Percentage</b></td><td><b><i>n</i></b></td><td><b>Percentage</b></td></tr></thead><tbody><tr><td>Age</td><td>≤40</td><td>34</td><td>10.9</td><td>25</td><td>11.0</td></tr><tr><td></td><td>>40</td><td>279</td><td>89.1</td><td>202</td><td>89.0</td></tr><tr><td>Menopausal status</td><td>Pre</td><td>104</td><td>33.2</td><td>76</td><td>33.5</td></tr><tr><td></td><td>Post</td><td>203</td><td>64.9</td><td>147</td><td>64.8</td></tr><tr><td></td><td>Unknown</td><td>6</td><td>1.9</td><td>4</td><td>1.8</td></tr><tr><td>Tumor grade</td><td>1</td><td>5</td><td>1.6</td><td>4</td><td>1.8</td></tr><tr><td></td><td>2</td><td>101</td><td>32.3</td><td>71</td><td>31.3</td></tr><tr><td></td><td>3</td><td>191</td><td>61.0</td><td>144</td><td>63.4</td></tr><tr><td></td><td>Unknown</td><td>16</td><td>5.1</td><td>8</td><td>3.5</td></tr><tr><td>Tumor size, cm</td><td>0–2</td><td>100</td><td>31.9</td><td>71</td><td>31.3</td></tr><tr><td></td><td>> 2–5</td><td>173</td><td>55.3</td><td>131</td><td>57.7</td></tr><tr><td></td><td>> 5</td><td>35</td><td>11.2</td><td>22</td><td>9.7</td></tr><tr><td></td><td>Unknown</td><td>5</td><td>1.6</td><td>3</td><td>1.3</td></tr><tr><td>Pathological ER status</td><td>Negative</td><td>72</td><td>23.0</td><td>54</td><td>23.8</td></tr><tr><td></td><td>Positive</td><td>234</td><td>74.8</td><td>169</td><td>74.4</td></tr><tr><td></td><td>Unknown</td><td>7</td><td>2.2</td><td>4</td><td>1.8</td></tr><tr><td>Lymphovascular invasion</td><td>Negative</td><td>49</td><td>15.7</td><td>33</td><td>14.5</td></tr><tr><td></td><td>Positive</td><td>244</td><td>78.0</td><td>184</td><td>81.1</td></tr><tr><td></td><td>Unknown</td><td>20</td><td>6.4</td><td>10</td><td>4.4</td></tr><tr><td>Percentage of positive nodes</td><td>0–50</td><td>121</td><td>38.7</td><td>89</td><td>39.2</td></tr><tr><td></td><td>>50–99.9</td><td>142</td><td>45.4</td><td>95</td><td>41.9</td></tr><tr><td></td><td>100</td><td>50</td><td>16.0</td><td>43</td><td>18.9</td></tr><tr><td>Number of positive nodes</td><td>4–9</td><td>235</td><td>75.1</td><td>175</td><td>77.1</td></tr><tr><td></td><td>≥10</td><td>78</td><td>24.9</td><td>52</td><td>22.9</td></tr><tr><td>Histology</td><td>Ductal</td><td>279</td><td>89.1</td><td>210</td><td>92.5</td></tr><tr><td></td><td>Lobular</td><td>34</td><td>10.9</td><td>17</td><td>7.5</td></tr><tr><td>Adjuvant chemotherapy</td><td>No</td><td>155</td><td>49.5</td><td>107</td><td>47.1</td></tr><tr><td></td><td>Yes</td><td>158</td><td>50.5</td><td>120</td><td>52.9</td></tr><tr><td>Adjuvant hormonal therapy</td><td>No</td><td>104</td><td>33.2</td><td>78</td><td>34.4</td></tr><tr><td></td><td>Yes</td><td>209</td><td>66.8</td><td>149</td><td>65.6</td></tr><tr><td>Adjuvant radiotherapy</td><td>No</td><td>70</td><td>22.4</td><td>50</td><td>22.0</td></tr><tr><td></td><td>Yes</td><td>243</td><td>77.6</td><td>177</td><td>78.0</td></tr><tr><td>Mastectomy</td><td>No</td><td>2</td><td>0.6</td><td>1</td><td>0.4</td></tr><tr><td></td><td>Complete</td><td>217</td><td>69.3</td><td>154</td><td>67.8</td></tr><tr><td></td><td>Partial</td><td>94</td><td>30.0</td><td>72</td><td>31.7</td></tr></tbody></table></body></html>\n",
      "0.46840148698884754\n",
      "1.0\n"
     ]
    },
    {
     "name": "stderr",
     "output_type": "stream",
     "text": [
      "  0%|                                       | 27/9115 [00:14<1:54:15,  1.33it/s]"
     ]
    },
    {
     "name": "stdout",
     "output_type": "stream",
     "text": [
      "0.31144067796610164\n",
      "<table>\n",
      "<html><body><table><thead><tr><td><b>Category</b></td><td><b>Term</b></td><td><b>Count</b></td><td><b><i>P</i>-value</b></td><td><b>Benjamini</b></td></tr></thead><tbody><tr><td>GOTERM_CC_FAT</td><td>Intrinsic to membrane</td><td>25</td><td>1.20E-02</td><td>1.60E-01</td></tr><tr><td>GOTERM_CC_FAT</td><td>Integral to membrane</td><td>24</td><td>1.60E-02</td><td>1.60E-01</td></tr><tr><td>KEGG_PATHWAY</td><td>Endocytosis</td><td>20</td><td>7.80E-03</td><td>1.10E-01</td></tr><tr><td>SP_PIR_KEYWORDS</td><td>Transmembrane</td><td>20</td><td>8.70E-02</td><td>8.70E-01</td></tr><tr><td>GOTERM_BP_FAT</td><td>Immune Response</td><td>19</td><td>2.10E-04</td><td>2.00E-02</td></tr><tr><td>KEGG_PATHWAY</td><td>Cell adhesion molecules (CAMs)</td><td>19</td><td>1.00E-03</td><td>2.00E-02</td></tr><tr><td>KEGG_PATHWAY</td><td>Cytokine-cytokine receptor interaction</td><td>18</td><td>6.30E-02</td><td>4.20E-01</td></tr><tr><td>INTERPRO</td><td>Immunoglobulin-like fold</td><td>17</td><td>2.10E-06</td><td>2.40E-04</td></tr><tr><td>KEGG_PATHWAY</td><td>Lysosome</td><td>17</td><td>1.00E-04</td><td>5.40E-03</td></tr><tr><td>KEGG_PATHWAY</td><td>Natural killer cell mediated cytotoxicity</td><td>17</td><td>5.30E-04</td><td>1.20</td></tr></tbody></table></body></html>\n",
      "\n",
      "<html><body><table><thead><tr><td><b>Category</b></td><td><b>Term</b></td><td><b>Count</b></td><td><b><i>P</i>-value</b></td><td><b>Benjamini</b></td></tr></thead><tbody><tr><td>GOTERM_CC_FAT</td><td>Intrinsic to membrane</td><td>25</td><td>1.20E-02</td><td>1.60E-01</td></tr><tr><td>GOTERM_CC_FAT</td><td>Integral to membrane</td><td>24</td><td>1.60E-02</td><td>1.60E-01</td></tr><tr><td>KEGG_PATHWAY</td><td>Endocytosis</td><td>20</td><td>7.80E-03</td><td>1.10E-01</td></tr><tr><td>SP_PIR_KEYWORDS</td><td>Transmembrane</td><td>20</td><td>8.70E-02</td><td>8.70E-01</td></tr><tr><td>GOTERM_BP_FAT</td><td>Immune Response</td><td>19</td><td>2.10E-04</td><td>2.00E-02</td></tr><tr><td>KEGG_PATHWAY</td><td>Cell adhesion molecules (CAMs)</td><td>19</td><td>1.00E-03</td><td>2.00E-02</td></tr><tr><td>KEGG_PATHWAY</td><td>Cytokine-cytokine receptor interaction</td><td>18</td><td>6.30E-02</td><td>4.20E-01</td></tr><tr><td>INTERPRO</td><td>Immunoglobulin-like fold</td><td>17</td><td>2.10E-06</td><td>2.40E-04</td></tr><tr><td>KEGG_PATHWAY</td><td>Lysosome</td><td>17</td><td>1.00E-04</td><td>5.40E-03</td></tr><tr><td>KEGG_PATHWAY</td><td>Natural killer cell mediated cytotoxicity</td><td>17</td><td>5.30E-04</td><td>1.20E-02</td></tr><tr><td>KEGG_PATHWAY</td><td>Antigen processing and presentation</td><td>16</td><td>1.10E-04</td><td>3.50E-03</td></tr><tr><td>GOTERM_CC_FAT</td><td>Plasma MEMBRANE</td><td>16</td><td>2.50E-02</td><td>1.70E-01</td></tr><tr><td>KEGG_PATHWAY</td><td>Viral myocarditis</td><td>15</td><td>1.70E-03</td><td>3.00E-02</td></tr><tr><td>KEGG_PATHWAY</td><td>Allograft rejection</td><td>14</td><td>3.20E-05</td><td>2.60E-03</td></tr><tr><td>KEGG_PATHWAY</td><td>Autoimmune thyroid disease</td><td>14</td><td>2.40E-04</td><td>6.40E-03</td></tr><tr><td>KEGG_PATHWAY</td><td>Graft-versus-host disease</td><td>13</td><td>2.60E-05</td><td>4.20E-03</td></tr><tr><td>KEGG_PATHWAY</td><td>Type I diabetes mellitus</td><td>13</td><td>1.00E-04</td><td>4.20E-03</td></tr><tr><td>GOTERM_BP_FAT</td><td>Antigen processing and presentation</td><td>10</td><td>5.20E-05</td><td>1.40E-02</td></tr><tr><td>GOTERM_CC_FAT</td><td>MHC protein complex</td><td>10</td><td>5.80E-05</td><td>2.50E-03</td></tr><tr><td>GOTERM_CC_FAT</td><td>Plasma Membrane Part</td><td>10</td><td>2.20E-02</td><td>1.80E-01</td></tr><tr><td>KEGG_PATHWAY</td><td>Colorectal cancer</td><td>10</td><td>5.80E-02</td><td>4.20E-01</td></tr><tr><td>KEGG_PATHWAY</td><td>Cytosolic DNA-sensing pathway</td><td>9</td><td>5.30E-03</td><td>8.20E-02</td></tr><tr><td>KEGG_PATHWAY</td><td>Fc gamma R-mediated phagocytosis</td><td>9</td><td>9.80E-02</td><td>5.50E-01</td></tr><tr><td>KEGG_PATHWAY</td><td>Acute myeloid leukemia</td><td>8</td><td>2.50E-02</td><td>2.70E-01</td></tr><tr><td>KEGG_PATHWAY</td><td>Amyotrophic lateral sclerosis (ALS)</td><td>8</td><td>4.80E-02</td><td>3.90E-01</td></tr><tr><td>KEGG_PATHWAY</td><td>Intestinal immune network for IgA production</td><td>8</td><td>4.80E-02</td><td>3.90E-01</td></tr><tr><td>GOTERM_CC_FAT</td><td>MHC class I protein complex</td><td>7</td><td>5.80E-04</td><td>1.20E-02</td></tr><tr><td>SP_PIR_KEYWORDS</td><td>Immune response</td><td>7</td><td>1.40E-03</td><td>6.20E-02</td></tr><tr><td>INTERPRO</td><td>Immunoglobulin subtype</td><td>7</td><td>1.00E-02</td><td>1.40E-01</td></tr><tr><td>KEGG_PATHWAY</td><td>Amino sugar and nucleotide sugar metabolism</td><td>7</td><td>2.40E-02</td><td>2.80E-01</td></tr><tr><td>GOTERM_BP_FAT</td><td>Antigen processing and presentation of peptide antigen via mhc class i</td><td>6</td><td>7.00E-05</td><td>9.80E-03</td></tr><tr><td>INTERPRO</td><td>MHC class I-like antigen recognition</td><td>6</td><td>7.90E-03</td><td>1.20E-01</td></tr><tr><td>KEGG_PATHWAY</td><td>Primary immunodeficiency</td><td>6</td><td>3.90E-02</td><td>3.70E-01</td></tr><tr><td>KEGG_PATHWAY</td><td>Sphingolipid metabolism</td><td>6</td><td>5.50E-02</td><td>4.20E-01</td></tr><tr><td>GOTERM_BP_FAT</td><td>Cell death</td><td>5</td><td>2.60E-02</td><td>8.40E-01</td></tr><tr><td>KEGG_PATHWAY</td><td>RNA polymerase</td><td>5</td><td>4.50E-02</td><td>3.90E-01</td></tr><tr><td>GOTERM_BP_FAT</td><td>Apoptosis</td><td>4</td><td>9.50E-02</td><td>9.90E-01</td></tr></tbody></table></body></html>\n",
      "0.31144067796610164\n",
      "1.0\n"
     ]
    },
    {
     "name": "stderr",
     "output_type": "stream",
     "text": [
      "  0%|▏                                      | 30/9115 [00:15<1:12:54,  2.08it/s]"
     ]
    },
    {
     "name": "stdout",
     "output_type": "stream",
     "text": [
      "0.6241935483870968\n",
      "1.0\n"
     ]
    },
    {
     "name": "stderr",
     "output_type": "stream",
     "text": [
      "  0%|▏                                      | 31/9115 [00:15<1:10:40,  2.14it/s]"
     ]
    },
    {
     "name": "stdout",
     "output_type": "stream",
     "text": [
      "1.0\n",
      "30-> 0.8133340559039127\n"
     ]
    },
    {
     "name": "stderr",
     "output_type": "stream",
     "text": [
      "  0%|▏                                      | 32/9115 [00:16<1:26:28,  1.75it/s]"
     ]
    },
    {
     "name": "stdout",
     "output_type": "stream",
     "text": [
      "0.4202952029520295\n",
      "<table>\n",
      "<html><body><table><thead><tr><td rowspan=\"2\"></td><td colspan=\"2\"><b>V1</b></td><td colspan=\"2\"><b>V2</b></td><td colspan=\"2\"><b>V3</b></td><td></td></tr><tr><td><b>Median</b></td><td><b>IQR</b></td><td><b>Median</b></td><td><b>IQR</b></td><td><b>Median</b></td><td><b>IQR</b></td><td><b><i>P</i><sup><i>#</i></sup></b></td></tr></thead><tbody><tr><td colspan=\"8\">TNF-α</td></tr><tr><td>Control</td><td><b>3.43</b><sup><b>a</b></sup></td><td><b>2.56–4.97</b></td><td><b>3.83</b><sup><b>ab</b></sup></td><td><b>2.98–4.76</b></td><td><b>4.03</b><sup><b>b</b></sup></td><td><b>2.80–4.98</b></td><td><b>0.019</b></td></tr><tr><td>PRO2</td><td>4.20</td><td>3.38–5.41</td><td>4.63</td><td>3.66–5.79</td><td>4.07</td><td>3.22–6.28</td><td>NS</td></tr><tr><td>PRO1</td><td>4.23</td><td>3.77–5.43</td><td>4.35</td><td>3.34–5.79</td><td>4.60</td><td>3.08–6.28</td><td>NS</td></tr><tr><td colspan=\"8\">IFN-γ</td></tr><tr><td>Control</td><td><b>6.26</b><sup><b>a</b></sup></td><td><b>2.96–10.75</b></td><td><b>6.11</b><sup><b>b</b></sup></td><td><b>3.24–12.02</b></td><td><b>5.97</b><sup><b>ab</b></sup></td><td><b>3.31–12.75</b></td><td><b>0.049</b></td></tr><tr><td>PRO2</td><td>9.47</td><td>2.91–17.46</td><td>9.28</td><td>4.68–15.9</td></tr></tbody></table></body></html>\n",
      "\n",
      "<html><body><table><thead><tr><td rowspan=\"2\"></td><td colspan=\"2\"><b>V1</b></td><td colspan=\"2\"><b>V2</b></td><td colspan=\"2\"><b>V3</b></td><td></td></tr><tr><td><b>Median</b></td><td><b>IQR</b></td><td><b>Median</b></td><td><b>IQR</b></td><td><b>Median</b></td><td><b>IQR</b></td><td><b><i>P</i><sup><i>#</i></sup></b></td></tr></thead><tbody><tr><td colspan=\"8\">TNF-α</td></tr><tr><td>Control</td><td><b>3.43</b><sup><b>a</b></sup></td><td><b>2.56–4.97</b></td><td><b>3.83</b><sup><b>ab</b></sup></td><td><b>2.98–4.76</b></td><td><b>4.03</b><sup><b>b</b></sup></td><td><b>2.80–4.98</b></td><td><b>0.019</b></td></tr><tr><td>PRO2</td><td>4.20</td><td>3.38–5.41</td><td>4.63</td><td>3.66–5.79</td><td>4.07</td><td>3.22–6.28</td><td>NS</td></tr><tr><td>PRO1</td><td>4.23</td><td>3.77–5.43</td><td>4.35</td><td>3.34–5.79</td><td>4.60</td><td>3.08–6.28</td><td>NS</td></tr><tr><td colspan=\"8\">IFN-γ</td></tr><tr><td>Control</td><td><b>6.26</b><sup><b>a</b></sup></td><td><b>2.96–10.75</b></td><td><b>6.11</b><sup><b>b</b></sup></td><td><b>3.24–12.02</b></td><td><b>5.97</b><sup><b>ab</b></sup></td><td><b>3.31–12.75</b></td><td><b>0.049</b></td></tr><tr><td>PRO2</td><td>9.47</td><td>2.91–17.46</td><td>9.28</td><td>4.68–15.94</td><td>8.51</td><td>5.05–13.77</td><td>NS</td></tr><tr><td>PRO1</td><td>7.55</td><td>3.73–16.36</td><td>7.75</td><td>4.10–21.40</td><td>9.15</td><td>4.95–15.72</td><td>NS</td></tr><tr><td colspan=\"8\">IL-4</td></tr><tr><td>Control</td><td>6.65</td><td>3.03–25.23</td><td>9.04</td><td>2.04–24.57</td><td>9.12</td><td>2.34–22.38</td><td>NS</td></tr><tr><td>PRO2</td><td>2.95</td><td>0.21–14.60</td><td>4.93</td><td>0.61–22.78</td><td>3.75</td><td>1.46–22.42</td><td>NS</td></tr><tr><td>PRO1</td><td>6.96</td><td>1.08–21.74</td><td>6.11</td><td>1.29–29.09</td><td>10.22</td><td>2.16–15.38</td><td>NS</td></tr><tr><td colspan=\"8\">IL-13</td></tr><tr><td>Control</td><td>3.47</td><td>0.39–8.46</td><td>2.57</td><td>0.52–9.57</td><td>2.73</td><td>1.28–6.18</td><td>NS</td></tr><tr><td>PRO2</td><td>2.73</td><td>0.19–5.44</td><td>2.50</td><td>0.70–8.77</td><td>3.24</td><td>0.33–8.55</td><td>NS</td></tr><tr><td>PRO1</td><td>2.79</td><td>0.93–8.50</td><td>2.33</td><td>0.96–7.21</td><td>1.22</td><td>0.10–4.73</td><td>NS</td></tr><tr><td colspan=\"8\">IL12p70</td></tr><tr><td>Control</td><td>3.66</td><td>1.22–5.07</td><td>4.35</td><td>1.85–7.04</td><td>4.41</td><td>2.41–7.91</td><td>NS</td></tr><tr><td>PRO2</td><td>5.09</td><td>1.40–10.07</td><td>5.33</td><td>2.72–8.17</td><td>4.46</td><td>3.03–9.37</td><td>NS</td></tr><tr><td>PRO1</td><td>5.00</td><td>2.67–9.88</td><td>4.96</td><td>2.17–13.51</td><td>5.41</td><td>2.79–12.86</td><td>NS</td></tr><tr><td colspan=\"8\">IL-10</td></tr><tr><td>Control</td><td><b>21.85</b><sup><b>a</b></sup></td><td><b>11.87–32.52</b></td><td><b>24.77</b><sup><b>ab</b></sup></td><td><b>16.26–35.42</b></td><td><b>25.23</b><sup><b>b</b></sup></td><td><b>16.74–42.47</b></td><td><b>0.030</b></td></tr><tr><td>PRO2</td><td>27.07</td><td>13.44–44.61</td><td>29.29</td><td>19.16–53.47</td><td>30.37</td><td>19.37–40.75</td><td>NS</td></tr><tr><td>PRO1</td><td>31.53</td><td>20.13–48.29</td><td>33.90</td><td>16.39–49.96</td><td>34.23</td><td>16.97–57.00</td><td>NS</td></tr><tr><td colspan=\"8\"> IL-6</td></tr><tr><td>Control</td><td>1.10</td><td>0.46–1.81</td><td>1.15</td><td>0.57–2.70</td><td>1.17</td><td>0.56–2.10</td><td>NS</td></tr><tr><td>PRO2</td><td>2.11</td><td>0.76–3.30</td><td>2.66</td><td>0.63–3.72</td><td>1.87</td><td>0.68–3.86</td><td>NS</td></tr><tr><td>PRO1</td><td>1.70</td><td>0.79–3.46</td><td>1.31</td><td>0.79–3.46</td><td>1.82</td><td>0.97–2.97</td><td>NS</td></tr></tbody></table></body></html>\n",
      "0.4202952029520295\n"
     ]
    },
    {
     "name": "stderr",
     "output_type": "stream",
     "text": [
      "  0%|▏                                      | 33/9115 [00:17<1:19:06,  1.91it/s]"
     ]
    },
    {
     "name": "stdout",
     "output_type": "stream",
     "text": [
      "0.8643776168748422\n"
     ]
    },
    {
     "name": "stderr",
     "output_type": "stream",
     "text": [
      "  0%|▏                                      | 34/9115 [00:17<1:29:49,  1.68it/s]"
     ]
    },
    {
     "name": "stdout",
     "output_type": "stream",
     "text": [
      "0.8434782608695652\n"
     ]
    },
    {
     "name": "stderr",
     "output_type": "stream",
     "text": [
      "  0%|▏                                      | 35/9115 [00:21<3:22:36,  1.34s/it]"
     ]
    },
    {
     "name": "stdout",
     "output_type": "stream",
     "text": [
      "0.36404413743608144\n",
      "<table>\n",
      "<html><body><table><thead><tr><td><b>Reference</b></td><td><b>Study</b></td><td><b># Cases</b></td><td><b># Controls</b></td><td><b>Outcomes</b></td><td><b>Comment</b></td></tr></thead><tbody><tr><td>[195]</td><td>Case / control USA</td><td>35</td><td>64</td><td>Folate supplementation = 62% lower incidence of neoplasia</td><td>result not SS</td></tr><tr><td>[196]</td><td>Case / control NY state</td><td>800</td><td>Matched neighbor-hood controls</td><td>↑Folate = ↓rectal cancer, OR = 0.5 men, OR = 0.31, women Folate no effect for colon cancer</td><td>SS</td></tr><tr><td>[197]</td><td>Case / control Majorca, Spain</td><td>286</td><td>498</td><td>Colon cancer related to total calories, cholesterol, animal protein, low fiber, low folic acid</td><td>.</td></tr><tr><td>[198]</td><td>Case / Control Wash. state</td><td>424</td><td>414</td><td>↑Alcohol = ↑cancer risk; ↑fiber = ↓risk; no relation to folate intake</td><td>2.5X risk for 30 g/day alcohol</td></tr><tr><td>[199]</td><td>Nurses' Health Study & Health Professionals Follow-up Study</td><td>564 women, 331 men</td><td></td><td>↑folate = ↓</td></tr></tbody></table></body></html>\n",
      "\n",
      "<html><body><table><thead><tr><td><b>Reference</b></td><td><b>Study</b></td><td><b># Cases</b></td><td><b># Controls</b></td><td><b>Outcomes</b></td><td><b>Comment</b></td></tr></thead><tbody><tr><td>[195]</td><td>Case / control USA</td><td>35</td><td>64</td><td>Folate supplementation = 62% lower incidence of neoplasia</td><td>result not SS</td></tr><tr><td>[196]</td><td>Case / control NY state</td><td>800</td><td>Matched neighbor-hood controls</td><td>↑Folate = ↓rectal cancer, OR = 0.5 men, OR = 0.31, women Folate no effect for colon cancer</td><td>SS</td></tr><tr><td>[197]</td><td>Case / control Majorca, Spain</td><td>286</td><td>498</td><td>Colon cancer related to total calories, cholesterol, animal protein, low fiber, low folic acid</td><td>.</td></tr><tr><td>[198]</td><td>Case / Control Wash. state</td><td>424</td><td>414</td><td>↑Alcohol = ↑cancer risk; ↑fiber = ↓risk; no relation to folate intake</td><td>2.5X risk for 30 g/day alcohol</td></tr><tr><td>[199]</td><td>Nurses' Health Study & Health Professionals Follow-up Study</td><td>564 women, 331 men</td><td></td><td>↑folate = ↓risk of colorectal adenoma: OR<sub>women </sub>= 0.66, OR<sub>men </sub>= 0.63</td><td></td></tr><tr><td>[200]</td><td>Case / Control, Italy</td><td>1,326</td><td>2,024 hospital controls</td><td>Protective trends for β-carotene, ascorbic acid, vit E, and folate (OR = 0.32, 0.40, 0.60, 0.52, respectively)</td><td>Similar for colon and rectal cancer</td></tr><tr><td>[201]</td><td>US male health professional cohort</td><td>205</td><td></td><td>↑Alcohol = ↑colon cancer (OR = 2.07 for ≥ 2 drinks/day; folate weakly protective; ↑Alcohol + ↓folate = ↑colon cancer risk (OR = 3.30)</td><td></td></tr><tr><td>[202]</td><td>α-tocopherol, β-carotene study cohort of smokers</td><td>144</td><td>276</td><td>↑dietary folate = ↓colon cancer (OR = 1.0, 0.40, 0.34, 0.51, P-trend = 0.15);</td><td>alcohol intake increased risk</td></tr><tr><td>[203]</td><td>Case control, population based</td><td></td><td></td><td>Composite dietary profile (alcohol intake, methionine, folate, vit B<sub>12</sub>, B<sub>6</sub>) trend of increasing risk for high risk group</td><td>Marginal SS</td></tr><tr><td>[204]</td><td>Nurses' Health Study</td><td>442</td><td></td><td>↑folate intake = ↓colon cancer (OR = 0.69); long-term use of multi-vitamins beneficial</td><td>Folate intake includes multi-vitamins</td></tr><tr><td>[205]</td><td>NYU Women's Health Study</td><td>105</td><td>523</td><td>↑folate = ↓colorectal cancer risk (OR = 0.52, P-trend = 0.04</td><td>Alcohol increased risk</td></tr><tr><td>[206]</td><td>NHANES I Epidemiologic Follow-up Study</td><td></td><td></td><td>↑folate = ↓colon cancer (OR<sub>men </sub>= 0.40, P-trend = 0.03; ↑alcohol, ↓folate = ↑colon cancer (OR<sub>men </sub>= 2.67</td><td>Results not stat. signif in women</td></tr><tr><td>[207]</td><td>Nurses' Health Study</td><td>535</td><td></td><td>↑folate intake = ↓colon cancer in women with family history (OR = 0.48)</td><td>Folate effect greater in women with family history</td></tr><tr><td>[208]</td><td>Canadian National Breast Screening Study</td><td>295</td><td>5,334</td><td>↑folate = ↓colorectal cancer (OR = 0.6, P-trend = 0.25</td><td>Results not SS</td></tr><tr><td>[209]</td><td>Prospective cohort in The Netherlands</td><td>1,171</td><td></td><td>Rectal: OR, men 0.66, women no trend</td><td>Trends SS only in men</td></tr><tr><td>[210]</td><td>Case / Control Italy</td><td>1,953</td><td>4,154</td><td>↑folate = ↓colorectal cancer (OR = 0.72)</td><td>Population drinks alcohol regularly</td></tr><tr><td>[211]</td><td>Iowa Women's health Study</td><td>721</td><td></td><td>↑folate + (↑B<sub>12 </sub>or ↑B<sub>6</sub>) = ↓colon cancer (OR = 0.59, 0.65, respectively</td><td>Nutrients not independent, alcohol increases risk</td></tr><tr><td>[212]</td><td>Case / Control NC state</td><td>613</td><td>996</td><td>↑β-carotene, vit C, calcium = 40–60 % ↓risk colon cancer in whites; in African Americans ↑ vit C and E = 50–70% ↓risk colon cancer; no relation to folate to cancer risk</td><td>Colon cancer rates higher in Aftrican Americans in NC; due to less UV light absorption with dark skin?</td></tr><tr><td>[213]</td><td>Wheat Bran Fiber trial, test for recurrence of adenoma polyps</td><td>1,014 men and women</td><td></td><td>↑homocysteine = ↑risk (OR = 0.69); ↑plasma folate = ↓risk (OR = 0.66) ↑folate or B<sub>6 </sub>intake (diet + supplements) = ↓risk (OR = 0.61</td><td>SS; cut-off for highest quartile is 664 μg/day (way above RDA)</td></tr></tbody></table></body></html>\n",
      "0.36404413743608144\n"
     ]
    },
    {
     "name": "stderr",
     "output_type": "stream",
     "text": [
      "  0%|▏                                      | 36/9115 [00:22<3:12:22,  1.27s/it]"
     ]
    },
    {
     "name": "stdout",
     "output_type": "stream",
     "text": [
      "0.2964169381107492\n",
      "<table>\n",
      "<html><body><table><thead><tr><td></td><td></td><td></td><td colspan=\"2\"><b>Women</b></td><td colspan=\"2\"><b>Men</b></td><td colspan=\"2\"><b>Total</b></td></tr></thead><tbody><tr><td></td><td colspan=\"2\">Cause*</td><td>Deaths</td><td>DALYs</td><td>Deaths</td><td>DALYs</td><td>Deaths</td><td>DALYs</td></tr><tr><td colspan=\"3\">Russia-specific alcohol RRs</td><td></td><td></td><td></td><td></td><td></td><td></td></tr><tr><td></td><td colspan=\"2\">Communicable, maternal, neonatal and nutritional disorders</td><td></td><td></td><td></td><td></td><td></td><td></td></tr><tr><td></td><td></td><td>Lower respiratory infection</td><td>1,960</td><td>86,700</td><td>4,550</td><td>173,000</td><td>6,510</td><td>259,700</td></tr><tr><td></td><td colspan=\"2\">Non-communicable diseases</td><td></td><td></td><td></td><td></td><td></td><td></td></tr><tr><td></td><td></td><td>Ischemic heart disease</td><td>25,520</td><td>1,009,600</td><td>38,870</td><td>1,507,000</td><td>64,390</td><td>2,516,600</td></tr><tr><td></td><td></td><td>Ischemic stroke</td><td>2,430</td><td>86,500</td><td>3,260</td><td>116,000</td><td>5,690</td><td>202,500</td></tr><tr><td></td><td></td><td>Hemorrhagic and other non-ischemic strokes</td><td>3,400</td><td>129,600</td><td>3,520</td><td>137,000</td><td>6,920</td><td>266,600</td></tr><tr><td></td><td></td><td>Cirrhosis of the liver</td><td></td></tr></tbody></table></body></html>\n",
      "\n",
      "<html><body><table><thead><tr><td></td><td></td><td></td><td colspan=\"2\"><b>Women</b></td><td colspan=\"2\"><b>Men</b></td><td colspan=\"2\"><b>Total</b></td></tr></thead><tbody><tr><td></td><td colspan=\"2\">Cause*</td><td>Deaths</td><td>DALYs</td><td>Deaths</td><td>DALYs</td><td>Deaths</td><td>DALYs</td></tr><tr><td colspan=\"3\">Russia-specific alcohol RRs</td><td></td><td></td><td></td><td></td><td></td><td></td></tr><tr><td></td><td colspan=\"2\">Communicable, maternal, neonatal and nutritional disorders</td><td></td><td></td><td></td><td></td><td></td><td></td></tr><tr><td></td><td></td><td>Lower respiratory infection</td><td>1,960</td><td>86,700</td><td>4,550</td><td>173,000</td><td>6,510</td><td>259,700</td></tr><tr><td></td><td colspan=\"2\">Non-communicable diseases</td><td></td><td></td><td></td><td></td><td></td><td></td></tr><tr><td></td><td></td><td>Ischemic heart disease</td><td>25,520</td><td>1,009,600</td><td>38,870</td><td>1,507,000</td><td>64,390</td><td>2,516,600</td></tr><tr><td></td><td></td><td>Ischemic stroke</td><td>2,430</td><td>86,500</td><td>3,260</td><td>116,000</td><td>5,690</td><td>202,500</td></tr><tr><td></td><td></td><td>Hemorrhagic and other non-ischemic strokes</td><td>3,400</td><td>129,600</td><td>3,520</td><td>137,000</td><td>6,920</td><td>266,600</td></tr><tr><td></td><td></td><td>Cirrhosis of the liver</td><td>11,750</td><td>494,900</td><td>11,750</td><td>510,000</td><td>23,500</td><td>1,004,900</td></tr><tr><td></td><td></td><td>Acute and chronic pancreatitis</td><td>970</td><td>43,600</td><td>3,210</td><td>153,000</td><td>4,180</td><td>196,600</td></tr><tr><td></td><td colspan=\"2\">Injuries</td><td></td><td></td><td></td><td></td><td></td><td></td></tr><tr><td></td><td></td><td>Transport injuries</td><td>2,120</td><td>157,100</td><td>8,230</td><td>552,000</td><td>10,350</td><td>709,100</td></tr><tr><td></td><td></td><td>Unintentional injuries (other than transport injuries)**</td><td>8,990</td><td>555,700</td><td>35,380</td><td>1,891,000</td><td>44,370</td><td>2,446,700</td></tr><tr><td></td><td></td><td>Self-harm and personal violence***</td><td>4,400</td><td>233,200</td><td>20,000</td><td>1,074,000</td><td>24,400</td><td>1,307,200</td></tr><tr><td></td><td colspan=\"2\">Total</td><td>70,800</td><td>3,670,000</td><td>161,100</td><td>9,625,000</td><td>231,900</td><td>13,295,000</td></tr><tr><td></td><td colspan=\"2\">Total (per 100,000 people)</td><td>118</td><td>6,091</td><td>251</td><td>15,023</td><td>187</td><td>10,694</td></tr><tr><td colspan=\"3\">Non-Russia-specific alcohol RRs</td><td></td><td></td><td></td><td></td><td></td><td></td></tr><tr><td></td><td colspan=\"2\">Communicable, maternal, neonatal and nutritional disorders</td><td></td><td></td><td></td><td></td><td></td><td></td></tr><tr><td></td><td></td><td>Lower respiratory infection</td><td>410</td><td>18,500</td><td>1,940</td><td>74,200</td><td>2,350</td><td>92,700</td></tr><tr><td></td><td colspan=\"2\">Non-communicable diseases</td><td></td><td></td><td></td><td></td><td></td><td></td></tr><tr><td></td><td></td><td>Ischemic heart disease</td><td>130</td><td>−21,900</td><td>−5,570</td><td>−227,600</td><td>−5,440</td><td>−249,500</td></tr><tr><td></td><td></td><td>Ischemic stroke</td><td>−300</td><td>−10,300</td><td>1,500</td><td>52,900</td><td>1,200</td><td>42,600</td></tr><tr><td></td><td></td><td>Hemorrhagic and other non-ischemic strokes</td><td>3,880</td><td>146,300</td><td>5,900</td><td>230,600</td><td>9,780</td><td>376,900</td></tr><tr><td></td><td></td><td>Cirrhosis of the liver</td><td>10,070</td><td>425,800</td><td>18,680</td><td>811,900</td><td>28,750</td><td>1,237,700</td></tr><tr><td></td><td></td><td>Acute and chronic pancreatitis</td><td>360</td><td>16,200</td><td>2,920</td><td>139,600</td><td>3,280</td><td>155,800</td></tr><tr><td></td><td colspan=\"2\">Injuries</td><td></td><td></td><td></td><td></td><td></td><td></td></tr><tr><td></td><td></td><td>Transport injuries</td><td>1,440</td><td>96,900</td><td>15,110</td><td>961,200</td><td>16,550</td><td>1,058,100</td></tr><tr><td></td><td></td><td>Unintentional injuries (other than transport injuries)**</td><td>2,960</td><td>161,500</td><td>40,930</td><td>2,085,700</td><td>43,890</td><td>2,247,200</td></tr><tr><td></td><td></td><td>Self-harm and personal violence***</td><td>1,420</td><td>76,800</td><td>22,160</td><td>1,199,100</td><td>23,580</td><td>1,275,900</td></tr><tr><td></td><td colspan=\"2\">Total</td><td>29,700</td><td>1,783,000</td><td>135,900</td><td>8,840,000</td><td>165,600</td><td>10,623,000</td></tr><tr><td></td><td colspan=\"2\">Total (per 100,000 people)</td><td>49</td><td>2,959</td><td>212</td><td>13,798</td><td>133</td><td>8,545</td></tr></tbody></table></body></html>\n",
      "0.2964169381107492\n",
      "1.0\n"
     ]
    },
    {
     "name": "stderr",
     "output_type": "stream",
     "text": [
      "  0%|▏                                      | 38/9115 [00:23<2:21:11,  1.07it/s]"
     ]
    },
    {
     "name": "stdout",
     "output_type": "stream",
     "text": [
      "0.5309343434343434\n"
     ]
    },
    {
     "name": "stderr",
     "output_type": "stream",
     "text": [
      "  0%|▏                                      | 39/9115 [00:23<2:00:01,  1.26it/s]"
     ]
    },
    {
     "name": "stdout",
     "output_type": "stream",
     "text": [
      "1.0\n"
     ]
    },
    {
     "name": "stderr",
     "output_type": "stream",
     "text": [
      "  0%|▏                                      | 40/9115 [00:24<1:41:41,  1.49it/s]"
     ]
    },
    {
     "name": "stdout",
     "output_type": "stream",
     "text": [
      "1.0\n"
     ]
    },
    {
     "name": "stderr",
     "output_type": "stream",
     "text": [
      "  0%|▏                                      | 41/9115 [00:25<2:14:06,  1.13it/s]"
     ]
    },
    {
     "name": "stdout",
     "output_type": "stream",
     "text": [
      "0.35532994923857864\n",
      "<table>\n",
      "<html><body><table><thead><tr><td><b>Year 1 Category</b></td><td colspan=\"3\"><b>Year 1 IE (n=1289)</b></td><td colspan=\"3\"><b>Year 1 FE (n=543)</b></td></tr><tr><td><b>Year 2 Category</b></td><td><b>Stayed as IE (n=1068)</b></td><td><b>Change to FE (n=221)</b></td><td><b>p-value</b></td><td><b>Stayed as FE (n=333)</b></td><td><b>Change to IE (n=210)</b></td><td><b>p-value</b></td></tr><tr><td colspan=\"7\"><b>Change in patient measures (year 1 assessment – baseline)</b></td></tr></thead><tbody><tr><td>BMI (kg/m2)</td><td>0.0 (1.4)</td><td>0.0 (1.1)</td><td>0.750</td><td>-0.1 (1.4)</td><td>-0.1 (1.6)</td><td>0.589</td></tr><tr><td>FEV1 (mL)</td><td>14 (233)</td><td>-46 (184)</td><td><0.001</td><td>-32 (180)</td><td>-22 (217)</td><td>0.543</td></tr><tr><td>FEV1 % predicted</td><td>0.4 (7.7)</td><td>-1.6 (6.9)</td><td><0.001</td><td>-1.1 (6.4)</td><td>-0.9 (7.8)</td><td>0.690</td></tr><tr><td>FEV1/FVC %</td><td>-0.1 (5.8)</td><td>-0.4 (5.2)</td><td>0.534</td><td>-0.3 (6.0)</td><td>-0.9 (6.0)</td><td>0.250</td></tr><tr><td>*Changed smoking status</td><td>6%</td><td>9%</td><td>0.053</td><td>6%</td><td>9%</td><td>0.153</td></tr><tr><td>*Re-Started smoking (%)</td><td>5%</td></tr></tbody></table></body></html>\n",
      "\n",
      "<html><body><table><thead><tr><td><b>Year 1 Category</b></td><td colspan=\"3\"><b>Year 1 IE (n=1289)</b></td><td colspan=\"3\"><b>Year 1 FE (n=543)</b></td></tr><tr><td><b>Year 2 Category</b></td><td><b>Stayed as IE (n=1068)</b></td><td><b>Change to FE (n=221)</b></td><td><b>p-value</b></td><td><b>Stayed as FE (n=333)</b></td><td><b>Change to IE (n=210)</b></td><td><b>p-value</b></td></tr><tr><td colspan=\"7\"><b>Change in patient measures (year 1 assessment – baseline)</b></td></tr></thead><tbody><tr><td>BMI (kg/m2)</td><td>0.0 (1.4)</td><td>0.0 (1.1)</td><td>0.750</td><td>-0.1 (1.4)</td><td>-0.1 (1.6)</td><td>0.589</td></tr><tr><td>FEV1 (mL)</td><td>14 (233)</td><td>-46 (184)</td><td><0.001</td><td>-32 (180)</td><td>-22 (217)</td><td>0.543</td></tr><tr><td>FEV1 % predicted</td><td>0.4 (7.7)</td><td>-1.6 (6.9)</td><td><0.001</td><td>-1.1 (6.4)</td><td>-0.9 (7.8)</td><td>0.690</td></tr><tr><td>FEV1/FVC %</td><td>-0.1 (5.8)</td><td>-0.4 (5.2)</td><td>0.534</td><td>-0.3 (6.0)</td><td>-0.9 (6.0)</td><td>0.250</td></tr><tr><td>*Changed smoking status</td><td>6%</td><td>9%</td><td>0.053</td><td>6%</td><td>9%</td><td>0.153</td></tr><tr><td>*Re-Started smoking (%)</td><td>5%</td><td>9%</td><td>0.051</td><td>4%</td><td>4%</td><td>0.726</td></tr><tr><td>*Stopped smoking (%)</td><td>7%</td><td>10%</td><td>0.448</td><td>9%</td><td>17%</td><td>0.125</td></tr><tr><td>6-min walk distance (m)</td><td>10 (90)</td><td>-5 (85)</td><td>0.036</td><td>-6 (94)</td><td>-1 (84)</td><td>0.568</td></tr><tr><td>Blood oxygen saturation (%)</td><td>0.0 (2.9)</td><td>-0.1 (3.0)</td><td>0.478</td><td>-0.3 (3.3)</td><td>-0.2 (2.8)</td><td>0.713</td></tr><tr><td>mMRC Dyspnoea Score</td><td>0.0 (0.9)</td><td>0.0 (1.0)</td><td>0.682</td><td>0.1 (1.0)</td><td>0.0 (1.0)</td><td>0.691</td></tr><tr><td>SGRQ Total Score</td><td>--2.0 (10.6)</td><td>--1.9 (12.1)</td><td>0.879</td><td>-0.1 (9.9)</td><td>-0.1 (10.2)</td><td>0.986</td></tr><tr><td>BODE Index</td><td>0.0 (1.2)</td><td>0.1 (1.3)</td><td>0.138</td><td>0.2 (1.5)</td><td>0.1 (1.3)</td><td>0.424</td></tr><tr><td>White blood cells (10^9/L)</td><td>-0.3 (1.6)</td><td>-0.2 (1.9)</td><td>0.606</td><td>0.0 (2.3)</td><td>-0.2 (2.1)</td><td>0.289</td></tr><tr><td>Neutrophils (10^9/L)</td><td>-0.2 (1.5)</td><td>-0.2 (1.9)</td><td>0.894</td><td>0.2 (2.3)</td><td>-0.1 (2.0)</td><td>0.232</td></tr><tr><td>Platelets (10^9/L)</td><td>-7 (47)</td><td>-11 (41)</td><td>0.238</td><td>-5 (51)</td><td>-16 (49)</td><td>0.014</td></tr><tr><td>Fibrinogen (mg/dL)</td><td>-6 [-51, 36]</td><td>0 [-38, 41]</td><td>0.151</td><td>5 [-41,58]</td><td>-3 [-52, 38]</td><td>0.109</td></tr><tr><td>CRP (mg/dL)</td><td>0.1 [-1.3, 1.5]</td><td>0.0 [-1.8, 2.1]</td><td>0.999</td><td>0.3 [-1.4,3.0]</td><td>-0.2 [-2.4, 1.9]</td><td>0.083</td></tr><tr><td>SP-D (ng/mL)</td><td>0 [-18, 20]</td><td>0 [-23, 26]</td><td>0.654</td><td>-1 [-24, 24]</td><td>0 [-21, 21]</td><td>0.806</td></tr><tr><td>PARC/CCL-18 (ng/mL)</td><td>6 [-6, 21]</td><td>6 [-9, 23]</td><td>0.628</td><td>9 [-6, 27]</td><td>6 [-7, 21]</td><td>0.114</td></tr><tr><td colspan=\"7\">Change between the number of events in year 1 and in year 2</td></tr><tr><td>PPPY COPD Hosp. Year 2</td><td>0.07</td><td>0.57</td><td><0.001</td><td>0.68</td><td>0.14</td><td><0.001</td></tr><tr><td>PPPY OCS only exbs Y2</td><td>0.04</td><td>0.25</td><td><0.001</td><td>0.37</td><td>0.06</td><td><0.001</td></tr></tbody></table></body></html>\n",
      "0.35532994923857864\n",
      "40-> 0.7929892044198749\n"
     ]
    },
    {
     "name": "stderr",
     "output_type": "stream",
     "text": [
      "  0%|▏                                      | 42/9115 [00:26<1:34:29,  1.60it/s]"
     ]
    },
    {
     "name": "stdout",
     "output_type": "stream",
     "text": [
      "0.7001953125\n"
     ]
    },
    {
     "name": "stderr",
     "output_type": "stream",
     "text": [
      "\n"
     ]
    },
    {
     "ename": "KeyboardInterrupt",
     "evalue": "",
     "output_type": "error",
     "traceback": [
      "\u001b[0;31m---------------------------------------------------------------------------\u001b[0m",
      "\u001b[0;31mKeyboardInterrupt\u001b[0m                         Traceback (most recent call last)",
      "Cell \u001b[0;32mIn[5], line 44\u001b[0m\n\u001b[1;32m     41\u001b[0m pred_list\u001b[38;5;241m.\u001b[39mappend(pred_html)\n\u001b[1;32m     42\u001b[0m gt_list\u001b[38;5;241m.\u001b[39mappend(gt_html)\n\u001b[0;32m---> 44\u001b[0m ratio \u001b[38;5;241m=\u001b[39m \u001b[43mteds\u001b[49m\u001b[38;5;241;43m.\u001b[39;49m\u001b[43mevaluate\u001b[49m\u001b[43m(\u001b[49m\u001b[38;5;28;43mstr\u001b[39;49m\u001b[43m(\u001b[49m\u001b[43mpred_html\u001b[49m\u001b[43m)\u001b[49m\u001b[43m,\u001b[49m\u001b[43m \u001b[49m\u001b[38;5;28;43mstr\u001b[39;49m\u001b[43m(\u001b[49m\u001b[43mgt_html\u001b[49m\u001b[43m)\u001b[49m\u001b[43m)\u001b[49m\n\u001b[1;32m     45\u001b[0m \u001b[38;5;28mprint\u001b[39m(ratio)\n\u001b[1;32m     46\u001b[0m \u001b[38;5;28;01mif\u001b[39;00m(ratio \u001b[38;5;241m<\u001b[39m \u001b[38;5;241m.5\u001b[39m):\n",
      "File \u001b[0;32m~/Documents/UFLA/projeto_IC/table_extraction/aux/PubTabNet/src/metric.py:130\u001b[0m, in \u001b[0;36mTEDS.evaluate\u001b[0;34m(self, pred, true)\u001b[0m\n\u001b[1;32m    128\u001b[0m     tree_pred \u001b[38;5;241m=\u001b[39m \u001b[38;5;28mself\u001b[39m\u001b[38;5;241m.\u001b[39mload_html_tree(pred)\n\u001b[1;32m    129\u001b[0m     tree_true \u001b[38;5;241m=\u001b[39m \u001b[38;5;28mself\u001b[39m\u001b[38;5;241m.\u001b[39mload_html_tree(true)\n\u001b[0;32m--> 130\u001b[0m     distance \u001b[38;5;241m=\u001b[39m \u001b[43mAPTED\u001b[49m\u001b[43m(\u001b[49m\u001b[43mtree_pred\u001b[49m\u001b[43m,\u001b[49m\u001b[43m \u001b[49m\u001b[43mtree_true\u001b[49m\u001b[43m,\u001b[49m\u001b[43m \u001b[49m\u001b[43mCustomConfig\u001b[49m\u001b[43m(\u001b[49m\u001b[43m)\u001b[49m\u001b[43m)\u001b[49m\u001b[38;5;241;43m.\u001b[39;49m\u001b[43mcompute_edit_distance\u001b[49m\u001b[43m(\u001b[49m\u001b[43m)\u001b[49m\n\u001b[1;32m    131\u001b[0m     \u001b[38;5;28;01mreturn\u001b[39;00m \u001b[38;5;241m1.0\u001b[39m \u001b[38;5;241m-\u001b[39m (\u001b[38;5;28mfloat\u001b[39m(distance) \u001b[38;5;241m/\u001b[39m n_nodes)\n\u001b[1;32m    132\u001b[0m \u001b[38;5;28;01melse\u001b[39;00m:\n",
      "File \u001b[0;32m~/.local/lib/python3.10/site-packages/apted/apted.py:106\u001b[0m, in \u001b[0;36mAPTED.compute_edit_distance\u001b[0;34m(self)\u001b[0m\n\u001b[1;32m    103\u001b[0m         \u001b[38;5;28mself\u001b[39m\u001b[38;5;241m.\u001b[39mdelta \u001b[38;5;241m=\u001b[39m \u001b[38;5;28mself\u001b[39m\u001b[38;5;241m.\u001b[39mcompute_opt_strategy_post_r()\n\u001b[1;32m    105\u001b[0m     \u001b[38;5;28mself\u001b[39m\u001b[38;5;241m.\u001b[39mted_init()\n\u001b[0;32m--> 106\u001b[0m     \u001b[38;5;28mself\u001b[39m\u001b[38;5;241m.\u001b[39mresult \u001b[38;5;241m=\u001b[39m \u001b[38;5;28;43mself\u001b[39;49m\u001b[38;5;241;43m.\u001b[39;49m\u001b[43mgted\u001b[49m\u001b[43m(\u001b[49m\u001b[43m)\u001b[49m\n\u001b[1;32m    107\u001b[0m \u001b[38;5;28;01mreturn\u001b[39;00m \u001b[38;5;28mself\u001b[39m\u001b[38;5;241m.\u001b[39mresult\n",
      "File \u001b[0;32m~/.local/lib/python3.10/site-packages/apted/apted.py:381\u001b[0m, in \u001b[0;36mAPTED.gted\u001b[0;34m(self, data)\u001b[0m\n\u001b[1;32m    379\u001b[0m \u001b[38;5;66;03m# Apply on subtree 2\u001b[39;00m\n\u001b[1;32m    380\u001b[0m node_id \u001b[38;5;241m-\u001b[39m\u001b[38;5;241m=\u001b[39m it1\u001b[38;5;241m.\u001b[39mtree_size\n\u001b[0;32m--> 381\u001b[0m \u001b[38;5;28;01mreturn\u001b[39;00m \u001b[38;5;28;43mself\u001b[39;49m\u001b[38;5;241;43m.\u001b[39;49m\u001b[43msub_gted\u001b[49m\u001b[43m(\u001b[49m\u001b[43mdata\u001b[49m\u001b[43m,\u001b[49m\u001b[43m \u001b[49m\u001b[43mit2\u001b[49m\u001b[43m,\u001b[49m\u001b[43m \u001b[49m\u001b[43mit1\u001b[49m\u001b[43m,\u001b[49m\u001b[43m \u001b[49m\u001b[43mtree2\u001b[49m\u001b[43m,\u001b[49m\u001b[43m \u001b[49m\u001b[43mpath_id\u001b[49m\u001b[43m,\u001b[49m\u001b[43m \u001b[49m\u001b[43mnode_id\u001b[49m\u001b[43m,\u001b[49m\u001b[43m \u001b[49m\u001b[38;5;28;43;01mTrue\u001b[39;49;00m\u001b[43m)\u001b[49m\n",
      "File \u001b[0;32m~/.local/lib/python3.10/site-packages/apted/apted.py:395\u001b[0m, in \u001b[0;36mAPTED.sub_gted\u001b[0;34m(self, data, it_f, it_s, tree_f, path_id, node_id, reverse)\u001b[0m\n\u001b[1;32m    393\u001b[0m         \u001b[38;5;28;01mif\u001b[39;00m child \u001b[38;5;129;01mis\u001b[39;00m \u001b[38;5;129;01mnot\u001b[39;00m last:\n\u001b[1;32m    394\u001b[0m             data[it_f\u001b[38;5;241m.\u001b[39mnum] \u001b[38;5;241m=\u001b[39m child\n\u001b[0;32m--> 395\u001b[0m             \u001b[38;5;28;43mself\u001b[39;49m\u001b[38;5;241;43m.\u001b[39;49m\u001b[43mgted\u001b[49m\u001b[43m(\u001b[49m\u001b[43mdata\u001b[49m\u001b[43m)\u001b[49m\n\u001b[1;32m    398\u001b[0m data[it_f\u001b[38;5;241m.\u001b[39mnum] \u001b[38;5;241m=\u001b[39m tree_f\n\u001b[1;32m    399\u001b[0m \u001b[38;5;66;03m# Pass to spfs a boolean that says says if the order of input\u001b[39;00m\n\u001b[1;32m    400\u001b[0m \u001b[38;5;66;03m# subtrees has been swapped compared to the order of the initial\u001b[39;00m\n\u001b[1;32m    401\u001b[0m \u001b[38;5;66;03m# input trees. Used for accessing delta array and deciding on the\u001b[39;00m\n\u001b[1;32m    402\u001b[0m \u001b[38;5;66;03m# edit operation. See [1, Section 3.4].\u001b[39;00m\n",
      "File \u001b[0;32m~/.local/lib/python3.10/site-packages/apted/apted.py:381\u001b[0m, in \u001b[0;36mAPTED.gted\u001b[0;34m(self, data)\u001b[0m\n\u001b[1;32m    379\u001b[0m \u001b[38;5;66;03m# Apply on subtree 2\u001b[39;00m\n\u001b[1;32m    380\u001b[0m node_id \u001b[38;5;241m-\u001b[39m\u001b[38;5;241m=\u001b[39m it1\u001b[38;5;241m.\u001b[39mtree_size\n\u001b[0;32m--> 381\u001b[0m \u001b[38;5;28;01mreturn\u001b[39;00m \u001b[38;5;28;43mself\u001b[39;49m\u001b[38;5;241;43m.\u001b[39;49m\u001b[43msub_gted\u001b[49m\u001b[43m(\u001b[49m\u001b[43mdata\u001b[49m\u001b[43m,\u001b[49m\u001b[43m \u001b[49m\u001b[43mit2\u001b[49m\u001b[43m,\u001b[49m\u001b[43m \u001b[49m\u001b[43mit1\u001b[49m\u001b[43m,\u001b[49m\u001b[43m \u001b[49m\u001b[43mtree2\u001b[49m\u001b[43m,\u001b[49m\u001b[43m \u001b[49m\u001b[43mpath_id\u001b[49m\u001b[43m,\u001b[49m\u001b[43m \u001b[49m\u001b[43mnode_id\u001b[49m\u001b[43m,\u001b[49m\u001b[43m \u001b[49m\u001b[38;5;28;43;01mTrue\u001b[39;49;00m\u001b[43m)\u001b[49m\n",
      "File \u001b[0;32m~/.local/lib/python3.10/site-packages/apted/apted.py:404\u001b[0m, in \u001b[0;36mAPTED.sub_gted\u001b[0;34m(self, data, it_f, it_s, tree_f, path_id, node_id, reverse)\u001b[0m\n\u001b[1;32m    398\u001b[0m data[it_f\u001b[38;5;241m.\u001b[39mnum] \u001b[38;5;241m=\u001b[39m tree_f\n\u001b[1;32m    399\u001b[0m \u001b[38;5;66;03m# Pass to spfs a boolean that says says if the order of input\u001b[39;00m\n\u001b[1;32m    400\u001b[0m \u001b[38;5;66;03m# subtrees has been swapped compared to the order of the initial\u001b[39;00m\n\u001b[1;32m    401\u001b[0m \u001b[38;5;66;03m# input trees. Used for accessing delta array and deciding on the\u001b[39;00m\n\u001b[1;32m    402\u001b[0m \u001b[38;5;66;03m# edit operation. See [1, Section 3.4].\u001b[39;00m\n\u001b[0;32m--> 404\u001b[0m \u001b[38;5;28;01mreturn\u001b[39;00m \u001b[38;5;28;43mself\u001b[39;49m\u001b[38;5;241;43m.\u001b[39;49m\u001b[43mspf\u001b[49m\u001b[43m(\u001b[49m\n\u001b[1;32m    405\u001b[0m \u001b[43m    \u001b[49m\u001b[43mit_f\u001b[49m\u001b[43m,\u001b[49m\u001b[43m \u001b[49m\u001b[43mit_s\u001b[49m\u001b[43m,\u001b[49m\n\u001b[1;32m    406\u001b[0m \u001b[43m    \u001b[49m\u001b[43mdata\u001b[49m\u001b[43m[\u001b[49m\u001b[43mit_f\u001b[49m\u001b[38;5;241;43m.\u001b[39;49m\u001b[43mnum\u001b[49m\u001b[43m]\u001b[49m\u001b[43m,\u001b[49m\u001b[43m \u001b[49m\u001b[43mdata\u001b[49m\u001b[43m[\u001b[49m\u001b[43mit_s\u001b[49m\u001b[38;5;241;43m.\u001b[39;49m\u001b[43mnum\u001b[49m\u001b[43m]\u001b[49m\u001b[43m,\u001b[49m\n\u001b[1;32m    407\u001b[0m \u001b[43m    \u001b[49m\u001b[38;5;28;43mself\u001b[39;49m\u001b[43m,\u001b[49m\u001b[43m \u001b[49m\u001b[43mnode_id\u001b[49m\u001b[43m,\u001b[49m\u001b[43m \u001b[49m\u001b[43mstrategy\u001b[49m\u001b[43m,\u001b[49m\u001b[43m \u001b[49m\u001b[43mreverse\u001b[49m\n\u001b[1;32m    408\u001b[0m \u001b[43m\u001b[49m\u001b[43m)\u001b[49m\u001b[43m(\u001b[49m\u001b[43m)\u001b[49m\n",
      "File \u001b[0;32m~/.local/lib/python3.10/site-packages/apted/single_path_functions.py:669\u001b[0m, in \u001b[0;36mSinglePathFunction.__call__\u001b[0;34m(self)\u001b[0m\n\u001b[1;32m    668\u001b[0m \u001b[38;5;28;01mdef\u001b[39;00m \u001b[38;5;21m__call__\u001b[39m(\u001b[38;5;28mself\u001b[39m):\n\u001b[0;32m--> 669\u001b[0m     result \u001b[38;5;241m=\u001b[39m \u001b[43m{\u001b[49m\n\u001b[1;32m    670\u001b[0m \u001b[43m        \u001b[49m\u001b[43mLEFT\u001b[49m\u001b[43m:\u001b[49m\u001b[43m \u001b[49m\u001b[38;5;28;43mself\u001b[39;49m\u001b[38;5;241;43m.\u001b[39;49m\u001b[43mspf_l\u001b[49m\u001b[43m,\u001b[49m\n\u001b[1;32m    671\u001b[0m \u001b[43m        \u001b[49m\u001b[43mRIGHT\u001b[49m\u001b[43m:\u001b[49m\u001b[43m \u001b[49m\u001b[38;5;28;43mself\u001b[39;49m\u001b[38;5;241;43m.\u001b[39;49m\u001b[43mspf_r\u001b[49m\u001b[43m,\u001b[49m\n\u001b[1;32m    672\u001b[0m \u001b[43m        \u001b[49m\u001b[43mINNER\u001b[49m\u001b[43m:\u001b[49m\u001b[43m \u001b[49m\u001b[38;5;28;43mself\u001b[39;49m\u001b[38;5;241;43m.\u001b[39;49m\u001b[43mspf_a\u001b[49m\u001b[43m,\u001b[49m\n\u001b[1;32m    673\u001b[0m \u001b[43m    \u001b[49m\u001b[43m}\u001b[49m\u001b[43m[\u001b[49m\u001b[38;5;28;43mself\u001b[39;49m\u001b[38;5;241;43m.\u001b[39;49m\u001b[43mpath_type\u001b[49m\u001b[43m]\u001b[49m\u001b[43m(\u001b[49m\u001b[43m)\u001b[49m\n\u001b[1;32m    674\u001b[0m     \u001b[38;5;28mself\u001b[39m\u001b[38;5;241m.\u001b[39mapted\u001b[38;5;241m.\u001b[39mcounter \u001b[38;5;241m=\u001b[39m \u001b[38;5;28mself\u001b[39m\u001b[38;5;241m.\u001b[39mcounter\n\u001b[1;32m    675\u001b[0m     \u001b[38;5;28;01mreturn\u001b[39;00m result\n",
      "File \u001b[0;32m~/.local/lib/python3.10/site-packages/apted/single_path_functions.py:229\u001b[0m, in \u001b[0;36mSinglePathFunction.spf_r\u001b[0;34m(self)\u001b[0m\n\u001b[1;32m    227\u001b[0m \u001b[38;5;28mself\u001b[39m\u001b[38;5;241m.\u001b[39matb_2 \u001b[38;5;241m=\u001b[39m \u001b[38;5;28mself\u001b[39m\u001b[38;5;241m.\u001b[39mit2\u001b[38;5;241m.\u001b[39mpost_rtl_info\n\u001b[1;32m    228\u001b[0m \u001b[38;5;28mself\u001b[39m\u001b[38;5;241m.\u001b[39mleft_right \u001b[38;5;241m=\u001b[39m \u001b[38;5;28mself\u001b[39m\u001b[38;5;241m.\u001b[39mswap\n\u001b[0;32m--> 229\u001b[0m \u001b[38;5;28;01mreturn\u001b[39;00m \u001b[38;5;28;43mself\u001b[39;49m\u001b[38;5;241;43m.\u001b[39;49m\u001b[43mspf_generic_side\u001b[49m\u001b[43m(\u001b[49m\u001b[43m)\u001b[49m\n",
      "File \u001b[0;32m~/.local/lib/python3.10/site-packages/apted/single_path_functions.py:262\u001b[0m, in \u001b[0;36mSinglePathFunction.spf_generic_side\u001b[0;34m(self)\u001b[0m\n\u001b[1;32m    257\u001b[0m \u001b[38;5;66;03m# Compute the distances between pairs of keyroot nodes. In the left-hand\u001b[39;00m\n\u001b[1;32m    258\u001b[0m \u001b[38;5;66;03m# input subtree only the root is the keyroot. Thus, we compute the distance\u001b[39;00m\n\u001b[1;32m    259\u001b[0m \u001b[38;5;66;03m# between the left-hand input subtree and all keyroot nodes in the\u001b[39;00m\n\u001b[1;32m    260\u001b[0m \u001b[38;5;66;03m# right-hand input subtree.\u001b[39;00m\n\u001b[1;32m    261\u001b[0m \u001b[38;5;28;01mfor\u001b[39;00m i \u001b[38;5;129;01min\u001b[39;00m \u001b[38;5;28mrange\u001b[39m(first_keyroot \u001b[38;5;241m-\u001b[39m \u001b[38;5;241m1\u001b[39m, \u001b[38;5;241m-\u001b[39m\u001b[38;5;241m1\u001b[39m, \u001b[38;5;241m-\u001b[39m\u001b[38;5;241m1\u001b[39m):\n\u001b[0;32m--> 262\u001b[0m     \u001b[43mtree_edit_dist\u001b[49m\u001b[43m(\u001b[49m\u001b[43mcurrent1\u001b[49m\u001b[43m,\u001b[49m\u001b[43m \u001b[49m\u001b[43mkeyroots\u001b[49m\u001b[43m[\u001b[49m\u001b[43mi\u001b[49m\u001b[43m]\u001b[49m\u001b[43m,\u001b[49m\u001b[43m \u001b[49m\u001b[43mforestdist\u001b[49m\u001b[43m)\u001b[49m\n\u001b[1;32m    264\u001b[0m \u001b[38;5;28;01mreturn\u001b[39;00m forestdist[size1][size2]\n",
      "File \u001b[0;32m~/.local/lib/python3.10/site-packages/apted/single_path_functions.py:331\u001b[0m, in \u001b[0;36mSinglePathFunction.tree_edit_dist\u001b[0;34m(self, subtree1, subtree2, forestdist)\u001b[0m\n\u001b[1;32m    329\u001b[0m \u001b[38;5;28mself\u001b[39m\u001b[38;5;241m.\u001b[39mcounter \u001b[38;5;241m+\u001b[39m\u001b[38;5;241m=\u001b[39m \u001b[38;5;241m1\u001b[39m\n\u001b[1;32m    330\u001b[0m \u001b[38;5;66;03m# Calculate partial distance values for this subproblem.\u001b[39;00m\n\u001b[0;32m--> 331\u001b[0m u \u001b[38;5;241m=\u001b[39m \u001b[43mrename\u001b[49m\u001b[43m(\u001b[49m\u001b[43minfo1_node\u001b[49m\u001b[43m,\u001b[49m\u001b[43m \u001b[49m\u001b[43minfo2_node\u001b[49m\u001b[43m)\u001b[49m\n\u001b[1;32m    332\u001b[0m da \u001b[38;5;241m=\u001b[39m forestdist[i1 \u001b[38;5;241m-\u001b[39m \u001b[38;5;241m1\u001b[39m][j1] \u001b[38;5;241m+\u001b[39m delete(info1_node)\n\u001b[1;32m    333\u001b[0m db \u001b[38;5;241m=\u001b[39m forestdist[i1][j1 \u001b[38;5;241m-\u001b[39m \u001b[38;5;241m1\u001b[39m] \u001b[38;5;241m+\u001b[39m insert(info2_node)\n",
      "File \u001b[0;32m~/.local/lib/python3.10/site-packages/apted/single_path_functions.py:133\u001b[0m, in \u001b[0;36mSinglePathFunction.__init__.<locals>.<lambda>\u001b[0;34m(x, y)\u001b[0m\n\u001b[1;32m    131\u001b[0m     \u001b[38;5;28mself\u001b[39m\u001b[38;5;241m.\u001b[39mdelete \u001b[38;5;241m=\u001b[39m apted\u001b[38;5;241m.\u001b[39mconfig\u001b[38;5;241m.\u001b[39minsert\n\u001b[1;32m    132\u001b[0m     \u001b[38;5;28mself\u001b[39m\u001b[38;5;241m.\u001b[39minsert \u001b[38;5;241m=\u001b[39m apted\u001b[38;5;241m.\u001b[39mconfig\u001b[38;5;241m.\u001b[39mdelete\n\u001b[0;32m--> 133\u001b[0m     \u001b[38;5;28mself\u001b[39m\u001b[38;5;241m.\u001b[39mrename \u001b[38;5;241m=\u001b[39m \u001b[38;5;28;01mlambda\u001b[39;00m x, y: \u001b[43mapted\u001b[49m\u001b[38;5;241;43m.\u001b[39;49m\u001b[43mconfig\u001b[49m\u001b[38;5;241;43m.\u001b[39;49m\u001b[43mrename\u001b[49m\u001b[43m(\u001b[49m\u001b[43my\u001b[49m\u001b[43m,\u001b[49m\u001b[43m \u001b[49m\u001b[43mx\u001b[49m\u001b[43m)\u001b[49m\n\u001b[1;32m    134\u001b[0m \u001b[38;5;28;01melse\u001b[39;00m:\n\u001b[1;32m    135\u001b[0m     \u001b[38;5;28mself\u001b[39m\u001b[38;5;241m.\u001b[39mswap \u001b[38;5;241m=\u001b[39m \u001b[38;5;28;01mlambda\u001b[39;00m a, b: (a, b)\n",
      "File \u001b[0;32m~/Documents/UFLA/projeto_IC/table_extraction/aux/PubTabNet/src/metric.py:58\u001b[0m, in \u001b[0;36mCustomConfig.rename\u001b[0;34m(self, node1, node2)\u001b[0m\n\u001b[1;32m     56\u001b[0m \u001b[38;5;28;01mif\u001b[39;00m node1\u001b[38;5;241m.\u001b[39mtag \u001b[38;5;241m==\u001b[39m \u001b[38;5;124m'\u001b[39m\u001b[38;5;124mtd\u001b[39m\u001b[38;5;124m'\u001b[39m:\n\u001b[1;32m     57\u001b[0m     \u001b[38;5;28;01mif\u001b[39;00m node1\u001b[38;5;241m.\u001b[39mcontent \u001b[38;5;129;01mor\u001b[39;00m node2\u001b[38;5;241m.\u001b[39mcontent:\n\u001b[0;32m---> 58\u001b[0m         \u001b[38;5;28;01mreturn\u001b[39;00m \u001b[38;5;28;43mself\u001b[39;49m\u001b[38;5;241;43m.\u001b[39;49m\u001b[43mnormalized_distance\u001b[49m\u001b[43m(\u001b[49m\u001b[43mnode1\u001b[49m\u001b[38;5;241;43m.\u001b[39;49m\u001b[43mcontent\u001b[49m\u001b[43m,\u001b[49m\u001b[43m \u001b[49m\u001b[43mnode2\u001b[49m\u001b[38;5;241;43m.\u001b[39;49m\u001b[43mcontent\u001b[49m\u001b[43m)\u001b[49m\n\u001b[1;32m     59\u001b[0m \u001b[38;5;28;01mreturn\u001b[39;00m \u001b[38;5;241m0.\u001b[39m\n",
      "File \u001b[0;32m~/Documents/UFLA/projeto_IC/table_extraction/aux/PubTabNet/src/metric.py:50\u001b[0m, in \u001b[0;36mCustomConfig.normalized_distance\u001b[0;34m(self, *sequences)\u001b[0m\n\u001b[1;32m     47\u001b[0m \u001b[38;5;28;01mdef\u001b[39;00m \u001b[38;5;21mnormalized_distance\u001b[39m(\u001b[38;5;28mself\u001b[39m, \u001b[38;5;241m*\u001b[39msequences):\n\u001b[1;32m     48\u001b[0m \u001b[38;5;250m    \u001b[39m\u001b[38;5;124;03m\"\"\"Get distance from 0 to 1\u001b[39;00m\n\u001b[1;32m     49\u001b[0m \u001b[38;5;124;03m    \"\"\"\u001b[39;00m\n\u001b[0;32m---> 50\u001b[0m     \u001b[38;5;28;01mreturn\u001b[39;00m \u001b[38;5;28mfloat\u001b[39m(distance\u001b[38;5;241m.\u001b[39mlevenshtein(\u001b[38;5;241m*\u001b[39msequences)) \u001b[38;5;241m/\u001b[39m \u001b[38;5;28;43mself\u001b[39;49m\u001b[38;5;241;43m.\u001b[39;49m\u001b[43mmaximum\u001b[49m\u001b[43m(\u001b[49m\u001b[38;5;241;43m*\u001b[39;49m\u001b[43msequences\u001b[49m\u001b[43m)\u001b[49m\n",
      "File \u001b[0;32m~/Documents/UFLA/projeto_IC/table_extraction/aux/PubTabNet/src/metric.py:45\u001b[0m, in \u001b[0;36mCustomConfig.maximum\u001b[0;34m(*sequences)\u001b[0m\n\u001b[1;32m     41\u001b[0m \u001b[38;5;129m@staticmethod\u001b[39m\n\u001b[1;32m     42\u001b[0m \u001b[38;5;28;01mdef\u001b[39;00m \u001b[38;5;21mmaximum\u001b[39m(\u001b[38;5;241m*\u001b[39msequences):\n\u001b[1;32m     43\u001b[0m \u001b[38;5;250m    \u001b[39m\u001b[38;5;124;03m\"\"\"Get maximum possible value\u001b[39;00m\n\u001b[1;32m     44\u001b[0m \u001b[38;5;124;03m    \"\"\"\u001b[39;00m\n\u001b[0;32m---> 45\u001b[0m     \u001b[38;5;28;01mreturn\u001b[39;00m \u001b[38;5;28;43mmax\u001b[39;49m\u001b[43m(\u001b[49m\u001b[38;5;28;43mmap\u001b[39;49m\u001b[43m(\u001b[49m\u001b[38;5;28;43mlen\u001b[39;49m\u001b[43m,\u001b[49m\u001b[43m \u001b[49m\u001b[43msequences\u001b[49m\u001b[43m)\u001b[49m\u001b[43m)\u001b[49m\n",
      "\u001b[0;31mKeyboardInterrupt\u001b[0m: "
     ]
    }
   ],
   "source": [
    "import random\n",
    "import torch\n",
    "from difflib import SequenceMatcher\n",
    "from tqdm.auto import tqdm\n",
    "\n",
    "removed_tags = []\n",
    "soma_ratios = 0\n",
    "\n",
    "for i, file_name in enumerate(tqdm(json_list)):\n",
    "\n",
    "    with open(ANN_PATH + SPLIT + file_name, encoding=\"utf-8\") as f:\n",
    "        annotation = json.load(f)\n",
    "    with open(ANN_PATH + SPLIT + file_name[:-5]+\"-HTML.json\", encoding=\"utf-8\") as f:\n",
    "        gt_html = \"<html><body><table>\"+str(json.load(f))+\"</table></body></html>\"\n",
    "    \n",
    "    for tag in removed_tags:\n",
    "        gt_html = \"<html><body><table>\"+gt_html.replace(tag, \"\")+\"</table></body></html>\"\n",
    "    \n",
    "    target_sequence = \"<s>\"+processor.json2token(annotation)+\"</s>\"\n",
    "    input_ids = processor.tokenizer(\n",
    "        target_sequence,\n",
    "        add_special_tokens=False,\n",
    "        max_length= 256,\n",
    "        padding=\"max_length\",\n",
    "        truncation=True,\n",
    "        return_tensors=\"pt\",\n",
    "    )[\"input_ids\"].squeeze(0)\n",
    "    \n",
    "    \n",
    "    input_ids = torch.cat((input_ids, torch.Tensor([2, 2]).int()), 0)\n",
    "    \n",
    "    table = processor.token2ann( input_ids, 1)\n",
    "    table_aux  = table.copy()\n",
    "    \n",
    "    \n",
    "    pred_html = \"<html><body><table>\"+processor.table2html(table['tables'][0])+\"</table></body></html>\"\n",
    "    \n",
    "    pred_html = pred_html\n",
    "    gt_html = gt_html.replace(\" </td>\", \"</td>\").replace(\"<td> \", \"<td>\")\n",
    "    \n",
    "    pred_list.append(pred_html)\n",
    "    gt_list.append(gt_html)\n",
    "    \n",
    "    ratio = teds.evaluate(str(pred_html), str(gt_html))\n",
    "    print(ratio)\n",
    "    if(ratio < .5):\n",
    "        print(processor.decode(input_ids[1]))\n",
    "        #print(target_sequence)\n",
    "        #print(table['tables'][0])\n",
    "        print(pred_html)\n",
    "        print()\n",
    "        print(gt_html)\n",
    "        print(ratio)\n",
    "    if i% 10 == 0:   \n",
    "        print(str(i)+'->', soma_ratios/max(1, i))\n",
    "    \n",
    "    soma_ratios += ratio\n",
    "print(soma_ratios/len(json_list))"
   ]
  },
  {
   "cell_type": "code",
   "execution_count": null,
   "id": "4915c1ea",
   "metadata": {},
   "outputs": [],
   "source": [
    "input_ids"
   ]
  },
  {
   "cell_type": "code",
   "execution_count": null,
   "id": "7c9d0515",
   "metadata": {},
   "outputs": [],
   "source": [
    "json.dump(pred_list, open(\"teste-pred.json\", 'w'))\n",
    "json.dump(gt_list, open(\"teste-gt.json\", 'w'))"
   ]
  },
  {
   "cell_type": "code",
   "execution_count": null,
   "id": "010e1b44",
   "metadata": {},
   "outputs": [],
   "source": [
    "a = '<thead><tr><td rowspan=\"2\"><b>Cutoff (IRS)</b></td><td rowspan=\"2\"><b>Number</b></td><td colspan=\"2\"><b>Overall survival prognosis</b></td></tr><tr><td><b>Log-rank <i>P</i></b></td><td><b>Corrected <i>P</i><sup><i>∗</i></sup></b></td></tr></thead><tbody><tr><td>≥1</td><td>99/94</td><td>5.56</td><td>0.0184</td></tr><tr><td>≥2</td><td>129/64</td><td>4.37</td><td>0.0377</td></tr><tr><td>≥3</td><td>150/43</td><td>8.37</td><td>0.0038</td></tr><tr><td>≥4</td><td>161/32</td><td>6.35</td><td>0.0117</td></tr><tr><td>≥5 </td><td>177/16</td><td>4.50</td><td>0.0338</td></tr></tbody>'\n",
    "\n",
    "for tag in [\"<i>\", \"</i>\",\"<b>\",\"</b>\"]:\n",
    "    a = a.replace(tag, \"\")\n",
    "    \n",
    "a"
   ]
  },
  {
   "cell_type": "code",
   "execution_count": null,
   "id": "c0bacfb6",
   "metadata": {},
   "outputs": [],
   "source": [
    "target_sequence = \"Capítulo Primeiro Do título Uma noite destas, vindo da cidade para o Engenho Novo, encontrei no[ 1 ] trem da Central um rapaz aqui do bairro, que eu conheço de vista e de cha- péu. Comprimentou-me, sentou-se ao pé de mim, falou da lua e dos mi- nistros, e acabou recitando-me versos. A viagem era curta, e os versos pode ser que não fossem inteiramente maus. Succedeu, porém, que, como eu es- tava cansado, fechei os olhos três ou quatro vezes; tanto bastou para que ele interrompesse a leitura e metesse os versos no bolso. — Continue, disse eu acordando.[ 2 ] — Já acabei, murmurou ele.[ 3 ] — São muito bonitos.[ 4 ] Vi-lhe fazer um gesto para tirá-los outra vez do bolso, mas não passou[ 5 ] do gesto; estava amuado. No dia seguinte entrou a dizer de mim nomes feios, e acabou alcunhando-me Dom Casmurro.\"\n",
    "\n",
    "input_ids = processor.tokenizer(\n",
    "        target_sequence,\n",
    "        add_special_tokens=True,\n",
    "        max_length= 1536,\n",
    "        padding=\"max_length\",\n",
    "        truncation=True,\n",
    "        return_tensors=\"pt\",\n",
    "    )[\"input_ids\"].squeeze(0)"
   ]
  },
  {
   "cell_type": "code",
   "execution_count": null,
   "id": "887f9e13",
   "metadata": {},
   "outputs": [],
   "source": [
    "input_ids"
   ]
  },
  {
   "cell_type": "code",
   "execution_count": null,
   "id": "c137a679",
   "metadata": {},
   "outputs": [],
   "source": [
    "for token in input_ids:\n",
    "    print(processor.decode(token))"
   ]
  },
  {
   "cell_type": "code",
   "execution_count": null,
   "id": "f85c762a",
   "metadata": {},
   "outputs": [],
   "source": [
    "processor.decode(input_ids)"
   ]
  },
  {
   "cell_type": "code",
   "execution_count": null,
   "id": "8eb2fc17",
   "metadata": {},
   "outputs": [],
   "source": []
  }
 ],
 "metadata": {
  "kernelspec": {
   "display_name": "Python 3 (ipykernel)",
   "language": "python",
   "name": "python3"
  },
  "language_info": {
   "codemirror_mode": {
    "name": "ipython",
    "version": 3
   },
   "file_extension": ".py",
   "mimetype": "text/x-python",
   "name": "python",
   "nbconvert_exporter": "python",
   "pygments_lexer": "ipython3",
   "version": "3.10.12"
  }
 },
 "nbformat": 4,
 "nbformat_minor": 5
}
