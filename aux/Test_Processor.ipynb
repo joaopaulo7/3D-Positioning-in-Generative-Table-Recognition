{
 "cells": [
  {
   "cell_type": "code",
   "execution_count": 6,
   "id": "86fac0e3",
   "metadata": {},
   "outputs": [],
   "source": [
    "from transformers import DonutProcessor\n",
    "import sys\n",
    "sys.path.insert(1, 'PubTabNet/src/')\n",
    "sys.path.insert(1, '../proj/src/')\n",
    "\n",
    "from metric import TEDS\n",
    "from processing_tabeleiro import TabeleiroProcessor\n",
    "import json\n",
    "import os\n",
    "\n",
    "\n",
    "SPLIT = \"val/\"\n",
    "\n",
    "PUBTABNET = 'data/anns/'\n",
    "\n",
    "ANN_PATH = PUBTABNET\n",
    "\n",
    "json_list = os.listdir(ANN_PATH + SPLIT)\n",
    "\n",
    "aux_list = []\n",
    "html_list = []\n",
    "\n",
    "for f in json_list:\n",
    "    if(f[-6:-5] == \"L\"):\n",
    "        html_list.append(f)\n",
    "    else:\n",
    "        aux_list.append(f)\n",
    "json_list = aux_list\n",
    "processor = TabeleiroProcessor.from_pretrained(\"processors/Donut_PubTables_TML_Processor8k\", crop_right=False)"
   ]
  },
  {
   "cell_type": "code",
   "execution_count": 7,
   "id": "1ea2e43d-a4af-48f3-88d2-b8c4ef6f39fd",
   "metadata": {},
   "outputs": [],
   "source": [
    "with open(\"data/anns/test/final_eval.json\") as f:\n",
    "    final_eval = json.load(f)"
   ]
  },
  {
   "cell_type": "code",
   "execution_count": 34,
   "id": "229cfc74-39bb-4cae-9f73-b02577a2f08e",
   "metadata": {},
   "outputs": [
    {
     "name": "stdout",
     "output_type": "stream",
     "text": [
      "<html><body><table><thead><tr><td><b>Parameters</b></td><td><b>School A</b></td><td><b>School B</b></td></tr></thead><tbody><tr><td><b><i>q</i><sub><i>c</i></sub>, mean [ 95 <i>%</i> CI]</b></td><td><b>1.39×10<sup>−2</sup> [ 8.10×10<sup>−3</sup>−2.03×10<sup>−2</sup>]</b></td><td><b>1.96×10<sup>−2</sup> [ 1.11×10<sup>−2</sup>−2.89×10<sup>−2</sup>]</b></td></tr><tr><td><b><i>q</i><sub><i>g</i></sub>, mean [ 95 <i>%</i> CI]</b></td><td><b>4.36×10<sup>−3</sup> [ 9.61×10<sup>−4</sup>−8.34×10<sup>−3</sup>]</b></td><td><b>4.61×10<sup>−3</sup> [ 2.98×10<sup>−4</sup>−1.15×10<sup>−2</sup>]</b></td></tr><tr><td><b><i>q</i><sub><i>s</i></sub>, mean [ 95 <i>%</i> CI]</b></td><td><b>9.52×10<sup>−4</sup> [ 2.87×10<sup>−4</sup>−1.82×10<sup>−3</sup>]</b></td><td><b>2.96×10<sup>−3</sup> [ 1.64×10<sup>−3</sup>−4.45×10<sup>−3</sup>]</b></td></tr><tr><td><b><i>ε</i>, mean [ 95 <i>%</i> CI]</b></td><td><b>3.70×10<sup>−3</sup> [ 1.95×10<sup>−3</sup>−5.69×10<sup>−3</sup>]</b></td><td><b>2.65×10<sup>−3</sup> [ 1.37×10<sup>−3</sup>−4.20×10<sup>−3</sup>]</b></td></tr></tbody></table></body></html>\n",
      "0\n"
     ]
    }
   ],
   "source": [
    "count = 0\n",
    "\n",
    "for i, f_name_n_table in enumerate(final_eval.items()):\n",
    "    f_name, table = f_name_n_table\n",
    "    try:\n",
    "        table['html'].index('<b>')\n",
    "        print(table['html'])\n",
    "        break\n",
    "        count += 1\n",
    "    except ValueError:\n",
    "        pass\n",
    "print(count)"
   ]
  },
  {
   "cell_type": "code",
   "execution_count": 2,
   "id": "f9f10dd9",
   "metadata": {},
   "outputs": [
    {
     "data": {
      "text/plain": [
       "['PMC5771025_005_00.json',\n",
       " 'PMC4077014_004_00.json',\n",
       " 'PMC4042280_008_01.json',\n",
       " 'PMC5629611_006_00.json',\n",
       " 'PMC4824228_005_00.json',\n",
       " 'PMC6060525_003_00.json',\n",
       " 'PMC2265025_002_00.json',\n",
       " 'PMC4846708_004_00.json',\n",
       " 'PMC4100296_012_00.json',\n",
       " 'PMC3112163_003_00.json']"
      ]
     },
     "execution_count": 2,
     "metadata": {},
     "output_type": "execute_result"
    }
   ],
   "source": [
    "json_list[:10]"
   ]
  },
  {
   "cell_type": "code",
   "execution_count": 31,
   "id": "8211d955",
   "metadata": {},
   "outputs": [],
   "source": [
    "gt_list = []\n",
    "pred_list = []\n",
    "\n",
    "teds = TEDS(n_jobs=4, structure_only = False, ignore_nodes='b')"
   ]
  },
  {
   "cell_type": "code",
   "execution_count": 32,
   "id": "33db82ff",
   "metadata": {},
   "outputs": [
    {
     "data": {
      "text/plain": [
       "{'input_ids': [0, 2, 2], 'attention_mask': [1, 1, 1]}"
      ]
     },
     "execution_count": 32,
     "metadata": {},
     "output_type": "execute_result"
    }
   ],
   "source": [
    "processor.tokenizer(\"</s>\")"
   ]
  },
  {
   "cell_type": "code",
   "execution_count": null,
   "id": "9dd681d6-8a23-476f-9e29-25a198ad935e",
   "metadata": {},
   "outputs": [],
   "source": []
  },
  {
   "cell_type": "code",
   "execution_count": 42,
   "id": "83d386ad",
   "metadata": {
    "scrolled": true
   },
   "outputs": [
    {
     "name": "stderr",
     "output_type": "stream",
     "text": [
      "  0%|                                          | 1/9116 [00:00<55:12,  2.75it/s]"
     ]
    },
    {
     "name": "stdout",
     "output_type": "stream",
     "text": [
      "0-> 0.0\n"
     ]
    },
    {
     "name": "stderr",
     "output_type": "stream",
     "text": [
      "  0%|▏                                      | 38/9116 [01:01<7:46:32,  3.08s/it]"
     ]
    },
    {
     "name": "stdout",
     "output_type": "stream",
     "text": [
      "<table>\n",
      "<html><body><table><thead><tr><td><b>Exposure</b></td><td><b>1st Trimester</b></td><td><b>2nd Trimester</b></td><td><b>3rd Trimester</b></td></tr></thead><tbody><tr><td><b>Spatiotemporally resolved PM<sub>2.5</sub></b></td><td></td><td></td><td></td></tr><tr><td><b><i>n</i></b></td><td>765</td><td>845</td><td>970</td></tr><tr><td><b>IQR (μg/m<sup>3</sup>)</b></td><td>2.29</td><td>1.97</td><td>2.24</td></tr><tr><td><b>β (95% CI)</b></td><td>–0.3 (–1.3, 0.7)</td><td>0.4 (–0.4, 1.2)</td><td>0.3 (–0.6, 1.2)</td></tr><tr><td><b>Temporally resolved PM<sub>2.5</sub></b></td><td></td><td></td><td></td></tr><tr><td><b><i>n</i></b></td><td>1,032</td><td>1,031</td><td>1,030</td></tr><tr><td><b>IQR (μg/m<sup>3</sup>)</b></td><td>2.35</td><td>1.77</td><td>2.05</td></tr><tr><td><b>β (95% CI)</b></td><td>0.1 (–0.9, 1.2)</td><td>0.1 (–0.7, 1.0)</td><td>0.5 (–0.4, 1.5)</td></tr><tr><td><b>Spatiotemporally resolved BC</b></td><td></td><td></td><td></td></tr><tr><td><b><i>n</i></b></td><td>1,099</td><td>1,099</td><td>1,102</td></tr><tr><td><b>IQR (μg/m<sup>3</sup>)</b></td><td>0.36</td><td>0.33</td><td>0.33</td></tr><tr><td><b>β (95% CI)</b></td><td>0.00 (–0.8, 0.8)</td><td>0.3 (–0.5, 1.0)</td><td>1.0 (0.2, 1.8)</td></tr><tr><td><b>Temporally resolved BC</b></td><td></td><td></td><td></td></tr><tr><td><b><i>n</i></b></td><td>1,032</td><td>1,031</td><td>1,030</td></tr><tr><td><b>IQR (μg/m<sup>3</sup>)</b></td><td>0.15</td><td>0.16</td><td>0.18</td></tr><tr><td><b>β (95% CI)</b></td><td>–0.9 (–1.7, 0.0)</td><td>0.3 (–1.1, 1.6)</td><td>1.4 (0.3, 2.5)</td></tr><tr><td><b>NO<sub>2</sub></b></td><td></td><td></td><td></td></tr><tr><td><b><i>n</i></b></td><td>1,032</td><td>1,031</td><td>1,030</td></tr><tr><td><b>IQR (ppm)</b></td><td>2.63</td><td>2.96</td><td>3.16</td></tr><tr><td><b>β (95% CI)</b></td><td>0.3 (–0.8, 1.5)</td><td>–0.5 (–1.9, 0.8)</td><td>–0.5 (–1.8, 0.7)</td></tr><tr><td><b>NO<sub>x</sub></b></td><td></td><td></td><td></td></tr><tr><td><b><i>n</i></b></td><td>1,032</td><td>1,031</td><td>1,030</td></tr><tr><td><b>IQR (ppm)</b></td><td>16.7</td><td>17.8</td><td>18.2</td></tr><tr><td><b>β (95% CI)</b></td><td>0.3 (–0.8, 1.4)</td><td>–1.6 (–2.9, –0.2)</td><td>0.6 (–1.2, 2.5)</td></tr><tr><td><b>O<sub>3</sub></b></td><td></td><td></td><td></td></tr><tr><td><b><i>n</i></b></td><td>1,032</td><td>1,031</td><td>1,030</td></tr><tr><td><b>IQR (ppm)</b></td><td>13.0</td><td>12.8</td><td>13.6</td></tr><tr><td><b>β (95% CI)</b></td><td>1.2 (–1.0, 3.5)</td><td>1.7 (0.3, 3.0)</td><td>–2.5 (–4.5, –0.4)</td></tr><tr><td><b>CO</b></td><td></td><td></td><td></td></tr><tr><td><b><i>n</i></b></td><td>1,032</td><td>1,031</td><td>1,030</td></tr><tr><td><b>IQR (ppb)</b></td><td>295.3</td><td>269.4</td><td>218.1</td></tr><tr><td><b>β (95% CI)</b></td><td>1.9 (–0.1, 3.9)</td><td>–2.4 (–3.8, –1.0)</td><td>0.1 (–1.5, 1.7)</td></tr><tr><td colspan=\"4\">Estimates are adjusted for neighborhood median income; mother’s age, third-trimester BP, educational level, and race/ethnicity; child birth weight; infant’s age at BP measurement, BP measurement conditions; and time trend.</td></tr></tbody></table></body></html>\n",
      "\n",
      "<html><body><table><thead><tr><td><b>Exposure</b></td><td><b>1st Trimester</b></td><td><b>2nd Trimester</b></td><td><b>3rd Trimester</b></td></tr></thead><tbody><tr><td><b>Spatiotemporally resolved PM<sub>2.5</sub></b></td></tr><tr><td><b><i>n</i></b></td><td>765</td><td>845</td><td>970</td></tr><tr><td><b>IQR (μg/m<sup>3</sup>)</b></td><td>2.29</td><td>1.97</td><td>2.24</td></tr><tr><td><b>β (95% CI)</b></td><td>–0.3 (–1.3, 0.7)</td><td>0.4 (–0.4, 1.2)</td><td>0.3 (–0.6, 1.2)</td></tr><tr><td><b>Temporally resolved PM<sub>2.5</sub></b></td></tr><tr><td><b><i>n</i></b></td><td>1,032</td><td>1,031</td><td>1,030</td></tr><tr><td><b>IQR (μg/m<sup>3</sup>)</b></td><td>2.35</td><td>1.77</td><td>2.05</td></tr><tr><td><b>β (95% CI)</b></td><td>0.1 (–0.9, 1.2)</td><td>0.1 (–0.7, 1.0)</td><td>0.5 (–0.4, 1.5)</td></tr><tr><td><b>Spatiotemporally resolved BC</b></td></tr><tr><td><b><i>n</i></b></td><td>1,099</td><td>1,099</td><td>1,102</td></tr><tr><td><b>IQR (μg/m<sup>3</sup>)</b></td><td>0.36</td><td>0.33</td><td>0.33</td></tr><tr><td><b>β (95% CI)</b></td><td>0.00 (–0.8, 0.8)</td><td>0.3 (–0.5, 1.0)</td><td>1.0 (0.2, 1.8)</td></tr><tr><td><b>Temporally resolved BC</b></td></tr><tr><td><b><i>n</i></b></td><td>1,032</td><td>1,031</td><td>1,030</td></tr><tr><td><b>IQR (μg/m<sup>3</sup>)</b></td><td>0.15</td><td>0.16</td><td>0.18</td></tr><tr><td><b>β (95% CI)</b></td><td>–0.9 (–1.7, 0.0)</td><td>0.3 (–1.1, 1.6)</td><td>1.4 (0.3, 2.5)</td></tr><tr><td><b>NO<sub>2</sub></b></td></tr><tr><td><b><i>n</i></b></td><td>1,032</td><td>1,031</td><td>1,030</td></tr><tr><td><b>IQR (ppm)</b></td><td>2.63</td><td>2.96</td><td>3.16</td></tr><tr><td><b>β (95% CI)</b></td><td>0.3 (–0.8, 1.5)</td><td>–0.5 (–1.9, 0.8)</td><td>–0.5 (–1.8, 0.7)</td></tr><tr><td><b>NO<sub>x</sub></b></td></tr><tr><td><b><i>n</i></b></td><td>1,032</td><td>1,031</td><td>1,030</td></tr><tr><td><b>IQR (ppm)</b></td><td>16.7</td><td>17.8</td><td>18.2</td></tr><tr><td><b>β (95% CI)</b></td><td>0.3 (–0.8, 1.4)</td><td>–1.6 (–2.9, –0.2)</td><td>0.6 (–1.2, 2.5)</td></tr><tr><td><b>O<sub>3</sub></b></td></tr><tr><td><b><i>n</i></b></td><td>1,032</td><td>1,031</td><td>1,030</td></tr><tr><td><b>IQR (ppm)</b></td><td>13.0</td><td>12.8</td><td>13.6</td></tr><tr><td><b>β (95% CI)</b></td><td>1.2 (–1.0, 3.5)</td><td>1.7 (0.3, 3.0)</td><td>–2.5 (–4.5, –0.4)</td></tr><tr><td><b>CO</b></td></tr><tr><td><b><i>n</i></b></td><td>1,032</td><td>1,031</td><td>1,030</td></tr><tr><td><b>IQR (ppb)</b></td><td>295.3</td><td>269.4</td><td>218.1</td></tr><tr><td><b>β (95% CI)</b></td><td>1.9 (–0.1, 3.9)</td><td>–2.4 (–3.8, –1.0)</td><td>0.1 (–1.5, 1.7)</td></tr><tr><td colspan=\"4\">Estimates are adjusted for neighborhood median income; mother’s age, third-trimester BP, educational level, and race/ethnicity; child birth weight; infant’s age at BP measurement, BP measurement conditions; and time trend.</td></tr></tbody></table></body></html>\n",
      "0.8709677419354839\n"
     ]
    },
    {
     "name": "stderr",
     "output_type": "stream",
     "text": [
      "  1%|▍                                      | 97/9116 [02:23<1:57:55,  1.27it/s]"
     ]
    },
    {
     "name": "stdout",
     "output_type": "stream",
     "text": [
      "<table>\n",
      "<html><body><table><thead><tr><td><b></b></td><td colspan=\"2\"><b>MVP</b></td><td><b></b></td></tr><tr><td><b></b></td><td><b>Low expression</b></td><td><b>Over expression</b></td><td><b>Total</b></td></tr></thead><tbody><tr><td>IGF-1R Low expression</td><td>42</td><td>29</td><td>71</td></tr><tr><td>Over expression</td><td>22</td><td>38</td><td>60</td></tr><tr><td>Total</td><td>64</td><td>67</td><td>131</td></tr></tbody></table></body></html>\n",
      "\n",
      "<html><body><table><thead><tr><td><b> </b></td><td colspan=\"2\"><b>MVP</b></td><td><b> </b></td></tr><tr><td><b> </b></td><td><b>Low expression</b></td><td><b>Over expression</b></td><td><b>Total</b></td></tr></thead><tbody><tr><td>IGF-1R Low expression</td><td>42</td><td>29</td><td>71</td></tr><tr><td>Over expression</td><td>22</td><td>38</td><td>60</td></tr><tr><td>Total</td><td>64</td><td>67</td><td>131</td></tr></tbody></table></body></html>\n",
      "0.8846153846153846\n"
     ]
    },
    {
     "name": "stderr",
     "output_type": "stream",
     "text": [
      "  1%|▍                                     | 101/9116 [02:33<4:13:42,  1.69s/it]"
     ]
    },
    {
     "name": "stdout",
     "output_type": "stream",
     "text": [
      "100-> 0.9952445311521508\n"
     ]
    },
    {
     "name": "stderr",
     "output_type": "stream",
     "text": [
      "  1%|▍                                     | 115/9116 [02:45<1:11:52,  2.09it/s]"
     ]
    },
    {
     "name": "stdout",
     "output_type": "stream",
     "text": [
      "<table>\n",
      "<html><body><table><thead><tr><td rowspan=\"3\"><b>Antimicrobial agent</b></td><td colspan=\"2\"><b>CLSI MIC breakpoint (μg/ml)</b></td><td rowspan=\"3\"><b><i>C. difficile</i>% susceptibility</b></td><td></td><td></td></tr><tr><td><b>Susceptible</b></td><td><b>Intermediate</b></td><td></td><td></td></tr></thead><tbody><tr><td>Ampicillin</td><td>0.5</td><td>1</td><td>26%</td></tr><tr><td>Amoxicillin-clavulanate</td><td>4/2</td><td>8/4</td><td>100%</td><td></td><td></td></tr><tr><td>Pipercillin-tazobactam</td><td>32/4</td><td>64/4</td><td>100%</td><td></td><td></td></tr><tr><td>Ticarcillin</td><td>32</td><td>64</td><td>100%</td><td></td><td></td></tr><tr><td>Clindamycin</td><td>2</td><td>4</td><td>56%</td><td></td><td></td></tr><tr><td>Vancomycin</td><td>8</td><td>16</td><td>100%</td><td></td><td></td></tr><tr><td>Imipenem</td><td>4</td><td>8</td><td>94%</td><td></td><td></td></tr><tr><td>Linezolid</td><td>2</td><td>4</td><td>91%</td><td></td><td></td></tr><tr><td>Metronidazole</td><td>8</td><td>16</td><td>100%</td><td></td><td></td></tr><tr><td>Trimethoprim-sulfamethoxazole</td><td>32</td><td>64</td><td>26%</td><td></td><td></td></tr><tr><td>Trovfloxacin</td><td>2</td><td>4</td><td>86%</td><td></td><td></td></tr></tbody></table></body></html>\n",
      "\n",
      "<html><body><table><thead><tr><td rowspan=\"3\"><b>Antimicrobial agent</b></td><td colspan=\"2\"><b>CLSI MIC breakpoint (μg/ml)</b></td><td rowspan=\"3\"><b><i>C. difficile</i> % susceptibility</b></td></tr><tr><td><b>Susceptible</b></td><td><b>Intermediate</b></td></tr></thead><tbody><tr><td>Ampicillin</td><td>0.5</td><td>1</td><td>26%</td></tr><tr><td>Amoxicillin-clavulanate</td><td>4/2</td><td>8/4</td><td>100%</td></tr><tr><td>Pipercillin-tazobactam</td><td>32/4</td><td>64/4</td><td>100%</td></tr><tr><td>Ticarcillin</td><td>32</td><td>64</td><td>100%</td></tr><tr><td>Clindamycin</td><td>2</td><td>4</td><td>56%</td></tr><tr><td>Vancomycin</td><td>8</td><td>16</td><td>100%</td></tr><tr><td>Imipenem</td><td>4</td><td>8</td><td>94%</td></tr><tr><td>Linezolid</td><td>2</td><td>4</td><td>91%</td></tr><tr><td>Metronidazole</td><td>8</td><td>16</td><td>100%</td></tr><tr><td>Trimethoprim-sulfamethoxazole</td><td>32</td><td>64</td><td>26%</td></tr><tr><td>Trovfloxacin</td><td>2</td><td>4</td><td>86%</td></tr></tbody></table></body></html>\n",
      "0.7299746284885829\n"
     ]
    },
    {
     "name": "stderr",
     "output_type": "stream",
     "text": [
      "  2%|▊                                    | 197/9116 [05:03<15:53:42,  6.42s/it]"
     ]
    },
    {
     "name": "stdout",
     "output_type": "stream",
     "text": [
      "<table>\n",
      "<html><body><table><thead><tr><td><b>Strain</b></td><td><b>Relevant features</b></td><td><b>Reference</b></td></tr></thead><tbody><tr><td colspan=\"3\"><b><i>Escherichia coli</i>strains</b></td></tr><tr><td>XL1 Blue</td><td>Cloning strain, TetR – ANG127</td><td>Stratagene</td></tr><tr><td>DH5α</td><td>Cloning strain – ANG397</td><td>Hanahan (1983)</td></tr><tr><td>Rosetta</td><td>Strain used for protein expression – ANG574</td><td>Novagen</td></tr><tr><td>ANG201</td><td>pCN34 in <i>E. coli</i>; source for Kan (<i>aphA</i>-3) marker; KanR and AmpR</td><td>Charpentier <i>et al</i>. (2004)</td></tr><tr><td>ANG203</td><td>pCN49 in <i>E. coli</i>; source for Erm (<i>ermC</i>) marker; AmpR</td><td>Charpentier <i>et al</i>. (2004)</td></tr><tr><td>ANG204</td><td>pCN55 in <i>E. coli</i>; source for Spec (<i>add9</i>) marker; AmpR</td><td>Charpentier <i>et al</i>. (2004)</td></tr><tr><td>ANG243</td><td>pCL55 in XL1 Blue; <i>S. aureus</i>single-site integration vector; AmpR</td><td>Lee <i>et al</i>. (1991)</td></tr><tr><td>ANG284</td><td>p<i>itet</i>in XL1 Blue; <i>E. coli</i>/ <i>S. aureus</i>shuttle vector with tetracycline inducible promoter; AmpR</td><td>Gründling and Schneewind (2007b)</td></tr><tr><td>ANG503</td><td>pCL55-<i>ltaS</i>in XL1 Blue; AmpR</td><td>This study</td></tr><tr><td>ANG506</td><td>pCL55-<i>yqgS</i>in XL1 Blue; AmpR</td><td>This study</td></tr><tr><td>ANG508</td><td>p<i>itet</i>-<i>ltaS</i>in XL1 Blue; <i>ltaS</i>under tetracycline inducible promoter; AmpR</td><td>Gründling and Schneewind (2007a)</td></tr><tr><td>ANG509</td><td>p<i>itet</i>-<i>yfnI</i>in XL1 Blue; <i>yfnI</i>under tetracycline inducible promoter; AmpR</td><td>Gründling and Schneewind (2007a)</td></tr><tr><td>ANG510</td><td>p<i>itet</i>-<i>yflE</i>in XL1 Blue; <i>yflE</i>under tetracycline inducible promoter; AmpR</td><td>Gründling and Schneewind (2007a)</td></tr><tr><td>ANG512</td><td>p<i>itet</i>-<i>yvgJ</i>in XL1 Blue; <i>yvgJ</i>under tetracycline inducible promoter; AmpR</td><td>Gründling and Schneewind (2007a)</td></tr><tr><td>ANG1444</td><td>pProEX-eYflE in DH5α; plasmid for overexpression of eYflE (eLtaS<sub>BS</sub>) domain; N-terminal His-tag; AmpR</td><td>This study</td></tr><tr><td>ANG1445</td><td>pProEX-eYfnI in DH5α; plasmid for overexpression of eYflnI domain; N-terminal His-tag; AmpR</td><td>This study</td></tr><tr><td>ANG1446</td><td>pProEX-eYvgJ in DH5α; plasmid for overexpression of eYvgJ domain; N-terminal His-tag; AmpR</td><td>This study</td></tr><tr><td>ANG1447</td><td>pProEX-eYqgS in DH5α; plasmid for overexpression of eYqgS domain; N-terminal His-tag; AmpR</td><td>This study</td></tr><tr><td>ANG1474</td><td>pProEX-eYflE in Rosetta strain; strain use for overexpression of eYflE (eLtaS<sub>BS</sub>) protein with N-terminal His tag; AmpR</td><td>This study</td></tr><tr><td>ANG1475</td><td>pProEX-eYfnI in Rosetta strain; strain use for overexpression of eYfnI protein with N-terminal His tag; AmpR</td><td>This study</td></tr><tr><td>ANG1476</td><td>pProEX-eYvgJ in Rosetta strain; strain use for overexpression of eYvgJ protein with N-terminal His tag; AmpR</td><td>This study</td></tr><tr><td>ANG1477</td><td>pProEX-eYqgS in Rosetta strain; strain use for overexpression of eYqgS protein with N-terminal His tag; AmpR</td><td>This study</td></tr><tr><td>ANG1512</td><td>pCN34<i>itet-ltaS</i>in XL1 Blue; <i>ltaS</i>under tetracycline inducible promoter; KanR, AmpR</td><td>This study</td></tr><tr><td>ANG1514</td><td>pCN34<i>itet-yfnI</i>in XL1 Blue; <i>yfnI</i>under tetracycline inducible promoter; KanR, AmpR</td><td>This study</td></tr><tr><td>ANG1615</td><td>p<i>itet</i>-RB<i>ltaS-yqgS</i>in XL1 Blue; <i>yqgS</i>with <i>ltaS</i>ribosomal binding site under tetracycline inducible promoter; AmpR</td><td>This study</td></tr><tr><td>ANG1652</td><td>pCN34<i>itet-yqgS</i>in XL1 Blue; <i>yqgS</i>under tetracycline inducible promoter; KanR, AmpR</td><td>This study</td></tr><tr><td>ANG1656</td><td>pCN34<i>itet-yvgJ</i>in XL1 Blue; <i>yvgJ</i>under tetracycline inducible promoter; KanR, AmpR</td><td>This study</td></tr><tr><td>ANG1660</td><td>pCN34<i>itet-yflE</i>in XL1 Blue; <i>yflE (ltaS<sub>BS</sub>)</i>under tetracycline inducible promoter; KanR, AmpR</td><td>This study</td></tr><tr><td>ANG1676</td><td>pCN38 in <i>E. coli</i>; source for Gram-positive Cam (<i>cat194</i>) marker; AmpR</td><td>Charpentier <i>et al</i>. (2004)</td></tr><tr><td colspan=\"3\"><b><i>Staphylococcus aureus</i>strains</b></td></tr><tr><td>RN4220</td><td>Transformable laboratory strain</td><td>Kreiswirth <i>et al</i>. (1983)</td></tr><tr><td>ANG499</td><td>RN4220 with IPTG-inducible <i>ltaS</i>expression; ErmR, IPTG</td><td>Gründling and Schneewind (2007a)</td></tr><tr><td>ANG514</td><td>p<i>itet</i>-<i>ltaS</i>integrated in strain ANG499; ErmR, CamR, IPTG</td><td>Gründling and Schneewind (2007a)</td></tr><tr><td>ANG1130</td><td>ANG499 with pCN34; ErmR, KanR, IPTG</td><td>This study</td></tr><tr><td>ANG1571</td><td>ANG499 with pCN34<i>itet-ltaS</i>; ErmR, KanR, IPTG</td><td>This study</td></tr><tr><td>ANG1573</td><td>ANG499 with pCN34<i>itet-yfnI</i>; ErmR, KanR, IPTG</td><td>This study</td></tr><tr><td>ANG1654</td><td>ANG499 with pCN34<i>itet-yqgS</i>; ErmR, KanR, IPTG</td><td>This study</td></tr><tr><td>ANG1658</td><td>ANG499 with pCN34<i>itet-yvgJ</i>; ErmR, KanR, IPTG</td><td>This study</td></tr><tr><td>ANG1662</td><td>ANG499 with pCN34<i>itet-yflE</i>; ErmR, KanR, IPTG</td><td>This study</td></tr><tr><td colspan=\"3\"><b><i>Bacillus subtilis</i>strains</b></td></tr><tr><td><i>B. subtilis</i></td><td><i>Bacillus subtilis</i>168 – Transformable lab strain, trpC2 – ANG1691</td><td>Burkholder and Giles (1947)</td></tr><tr><td>ANG1692</td><td><i>Bacillus subtilis</i>168 <i>yfnI::Cam</i>(Δ<i>yfnI</i>)</td><td>This study</td></tr><tr><td>ANG1693</td><td><i>Bacillus subtilis</i>168 <i>yflE::Kan</i>(Δ<i>ltaS<sub>BS</sub></i>)</td><td>This study</td></tr><tr><td>ANG1694</td><td><i>Bacillus subtilis</i>168 <i>yqgS::Spec</i>(Δ<i>yqgS</i>)</td><td>This study</td></tr><tr><td>ANG1695</td><td><i>Bacillus subtilis</i>168 <i>yvgJ::Erm</i>(Δ<i>yvgJ</i>)</td><td>This study</td></tr><tr><td>ANG1696</td><td><i>Bacillus subtilis</i>168 <i>yflE::Kan, yqgS::Spec, yvgJ::Erm</i>(<i>yfnI only</i>)</td><td>This study</td></tr><tr></tr></tbody></table></body></html>\n",
      "\n",
      "<html><body><table><thead><tr><td><b>Strain</b></td><td><b>Relevant features</b></td><td><b>Reference</b></td></tr></thead><tbody><tr><td colspan=\"3\"><b><i>Escherichia coli</i> strains</b></td></tr><tr><td>XL1 Blue</td><td>Cloning strain, TetR – ANG127</td><td>Stratagene</td></tr><tr><td>DH5α</td><td>Cloning strain – ANG397</td><td>Hanahan (1983)</td></tr><tr><td>Rosetta</td><td>Strain used for protein expression – ANG574</td><td>Novagen</td></tr><tr><td>ANG201</td><td>pCN34 in <i>E. coli</i>; source for Kan (<i>aphA</i>-3) marker; KanR and AmpR</td><td>Charpentier <i>et al</i>. (2004)</td></tr><tr><td>ANG203</td><td>pCN49 in <i>E. coli</i>; source for Erm (<i>ermC</i>) marker; AmpR</td><td>Charpentier <i>et al</i>. (2004)</td></tr><tr><td>ANG204</td><td>pCN55 in <i>E. coli</i>; source for Spec (<i>add9</i>) marker; AmpR</td><td>Charpentier <i>et al</i>. (2004)</td></tr><tr><td>ANG243</td><td>pCL55 in XL1 Blue; <i>S. aureus</i> single-site integration vector; AmpR</td><td>Lee <i>et al</i>. (1991)</td></tr><tr><td>ANG284</td><td>p<i>itet</i> in XL1 Blue; <i>E. coli</i> / <i>S. aureus</i> shuttle vector with tetracycline inducible promoter; AmpR</td><td>Gründling and Schneewind (2007b)</td></tr><tr><td>ANG503</td><td>pCL55-<i>ltaS</i> in XL1 Blue; AmpR</td><td>This study</td></tr><tr><td>ANG506</td><td>pCL55-<i>yqgS</i> in XL1 Blue; AmpR</td><td>This study</td></tr><tr><td>ANG508</td><td>p<i>itet</i>-<i>ltaS</i> in XL1 Blue; <i>ltaS</i> under tetracycline inducible promoter; AmpR</td><td>Gründling and Schneewind (2007a)</td></tr><tr><td>ANG509</td><td>p<i>itet</i>-<i>yfnI</i> in XL1 Blue; <i>yfnI</i> under tetracycline inducible promoter; AmpR</td><td>Gründling and Schneewind (2007a)</td></tr><tr><td>ANG510</td><td>p<i>itet</i>-<i>yflE</i> in XL1 Blue; <i>yflE</i> under tetracycline inducible promoter; AmpR</td><td>Gründling and Schneewind (2007a)</td></tr><tr><td>ANG512</td><td>p<i>itet</i>-<i>yvgJ</i> in XL1 Blue; <i>yvgJ</i> under tetracycline inducible promoter; AmpR</td><td>Gründling and Schneewind (2007a)</td></tr><tr><td>ANG1444</td><td>pProEX-eYflE in DH5α; plasmid for overexpression of eYflE (eLtaS<sub>BS</sub>) domain; N-terminal His-tag; AmpR</td><td>This study</td></tr><tr><td>ANG1445</td><td>pProEX-eYfnI in DH5α; plasmid for overexpression of eYflnI domain; N-terminal His-tag; AmpR</td><td>This study</td></tr><tr><td>ANG1446</td><td>pProEX-eYvgJ in DH5α; plasmid for overexpression of eYvgJ domain; N-terminal His-tag; AmpR</td><td>This study</td></tr><tr><td>ANG1447</td><td>pProEX-eYqgS in DH5α; plasmid for overexpression of eYqgS domain; N-terminal His-tag; AmpR</td><td>This study</td></tr><tr><td>ANG1474</td><td>pProEX-eYflE in Rosetta strain; strain use for overexpression of eYflE (eLtaS<sub>BS</sub>) protein with N-terminal His tag; AmpR</td><td>This study</td></tr><tr><td>ANG1475</td><td>pProEX-eYfnI in Rosetta strain; strain use for overexpression of eYfnI protein with N-terminal His tag; AmpR</td><td>This study</td></tr><tr><td>ANG1476</td><td>pProEX-eYvgJ in Rosetta strain; strain use for overexpression of eYvgJ protein with N-terminal His tag; AmpR</td><td>This study</td></tr><tr><td>ANG1477</td><td>pProEX-eYqgS in Rosetta strain; strain use for overexpression of eYqgS protein with N-terminal His tag; AmpR</td><td>This study</td></tr><tr><td>ANG1512</td><td>pCN34<i>itet-ltaS</i> in XL1 Blue; <i>ltaS</i> under tetracycline inducible promoter; KanR, AmpR</td><td>This study</td></tr><tr><td>ANG1514</td><td>pCN34<i>itet-yfnI</i> in XL1 Blue; <i>yfnI</i> under tetracycline inducible promoter; KanR, AmpR</td><td>This study</td></tr><tr><td>ANG1615</td><td>p<i>itet</i>-RB<i>ltaS-yqgS</i> in XL1 Blue; <i>yqgS</i> with <i>ltaS</i> ribosomal binding site under tetracycline inducible promoter; AmpR</td><td>This study</td></tr><tr><td>ANG1652</td><td>pCN34<i>itet-yqgS</i> in XL1 Blue; <i>yqgS</i> under tetracycline inducible promoter; KanR, AmpR</td><td>This study</td></tr><tr><td>ANG1656</td><td>pCN34<i>itet-yvgJ</i> in XL1 Blue; <i>yvgJ</i> under tetracycline inducible promoter; KanR, AmpR</td><td>This study</td></tr><tr><td>ANG1660</td><td>pCN34<i>itet-yflE</i> in XL1 Blue; <i>yflE (ltaS<sub>BS</sub>)</i> under tetracycline inducible promoter; KanR, AmpR</td><td>This study</td></tr><tr><td>ANG1676</td><td>pCN38 in <i>E. coli</i>; source for Gram-positive Cam (<i>cat194</i>) marker; AmpR</td><td>Charpentier <i>et al</i>. (2004)</td></tr><tr><td colspan=\"3\"><b><i>Staphylococcus aureus</i> strains</b></td></tr><tr><td>RN4220</td><td>Transformable laboratory strain</td><td>Kreiswirth <i>et al</i>. (1983)</td></tr><tr><td>ANG499</td><td>RN4220 with IPTG-inducible <i>ltaS</i> expression; ErmR, IPTG</td><td>Gründling and Schneewind (2007a)</td></tr><tr><td>ANG514</td><td>p<i>itet</i>-<i>ltaS</i> integrated in strain ANG499; ErmR, CamR, IPTG</td><td>Gründling and Schneewind (2007a)</td></tr><tr><td>ANG1130</td><td>ANG499 with pCN34; ErmR, KanR, IPTG</td><td>This study</td></tr><tr><td>ANG1571</td><td>ANG499 with pCN34<i>itet-ltaS</i>; ErmR, KanR, IPTG</td><td>This study</td></tr><tr><td>ANG1573</td><td>ANG499 with pCN34<i>itet-yfnI</i>; ErmR, KanR, IPTG</td><td>This study</td></tr><tr><td>ANG1654</td><td>ANG499 with pCN34<i>itet-yqgS</i>; ErmR, KanR, IPTG</td><td>This study</td></tr><tr><td>ANG1658</td><td>ANG499 with pCN34<i>itet-yvgJ</i>; ErmR, KanR, IPTG</td><td>This study</td></tr><tr><td>ANG1662</td><td>ANG499 with pCN34<i>itet-yflE</i>; ErmR, KanR, IPTG</td><td>This study</td></tr><tr><td colspan=\"3\"><b><i>Bacillus subtilis</i> strains</b></td></tr><tr><td><i>B. subtilis</i></td><td><i>Bacillus subtilis</i> 168 – Transformable lab strain, trpC2 – ANG1691</td><td>Burkholder and Giles (1947)</td></tr><tr><td>ANG1692</td><td><i>Bacillus subtilis</i> 168 <i>yfnI::Cam</i> (Δ<i>yfnI</i>)</td><td>This study</td></tr><tr><td>ANG1693</td><td><i>Bacillus subtilis</i> 168 <i>yflE::Kan</i> (Δ<i>ltaS<sub>BS</sub></i>)</td><td>This study</td></tr><tr><td>ANG1694</td><td><i>Bacillus subtilis</i> 168 <i>yqgS::Spec</i> (Δ<i>yqgS</i>)</td><td>This study</td></tr><tr><td>ANG1695</td><td><i>Bacillus subtilis</i> 168 <i>yvgJ::Erm</i> (Δ<i>yvgJ</i>)</td><td>This study</td></tr><tr><td>ANG1696</td><td><i>Bacillus subtilis</i> 168 <i>yflE::Kan, yqgS::Spec, yvgJ::Erm</i> (<i>yfnI only</i>)</td><td>This study</td></tr><tr><td>ANG1697</td><td><i>Bacillus subtilis</i> 168 <i>yfnI::Cam, yqgS::Spec, yvgJ::Erm</i> (<i>ltaS<sub>BS</sub> only</i>)</td><td>This study</td></tr><tr><td>ANG1698</td><td><i>Bacillus subtilis</i> 168 <i>yfnI::Cam, yflE::Kan, yvgJ::Erm</i> (<i>yqgS only</i>)</td><td>This study</td></tr><tr><td>ANG1699</td><td><i>Bacillus subtilis</i> 168 <i>yfnI::Cam, yflE::Kan, yqgS::Spec</i> (<i>yvgJ only</i>)</td><td>This study</td></tr><tr><td>ANG1701</td><td><i>Bacillus subtilis</i> 168 <i>yfnI::Cam, yflE::Kan, yqgS::Spec, yvgJ::Erm</i> (4xΔ)</td><td>This study</td></tr><tr><td>ANG1702</td><td><i>Bacillus subtilis</i> 168 <i>yflE::Kan, yfnI::Cam (</i>express-<i>yvgJ/yqgS)</i></td><td>This study</td></tr><tr><td>ANG1703</td><td><i>Bacillus subtilis</i> 168 <i>yflE::Kan, yqgS::Spec (</i>express-<i>yvgJ/yfnI)</i></td><td>This study</td></tr><tr><td>ANG1704</td><td><i>Bacillus subtilis</i> 168 <i>yfnI::Cam, yqgS::Spec (</i>express-<i>yvgJ/yflE)</i></td><td>This study</td></tr><tr><td>L5703</td><td><i>Bacillus subtilis</i> with ribitol-Pi wall teichoic acid (ribitol-Pi WTA)</td><td>Karamata <i>et al</i>. (1987)</td></tr></tbody></table></body></html>\n",
      "0.8998921519608472\n"
     ]
    },
    {
     "name": "stderr",
     "output_type": "stream",
     "text": [
      "  2%|▊                                     | 200/9116 [05:03<9:08:21,  3.69s/it]"
     ]
    },
    {
     "name": "stdout",
     "output_type": "stream",
     "text": [
      "200-> 0.994568598603071\n"
     ]
    },
    {
     "name": "stderr",
     "output_type": "stream",
     "text": [
      "  3%|█▎                                    | 301/9116 [07:15<4:19:17,  1.76s/it]"
     ]
    },
    {
     "name": "stdout",
     "output_type": "stream",
     "text": [
      "300-> 0.9957122397476833\n"
     ]
    },
    {
     "name": "stderr",
     "output_type": "stream",
     "text": [
      "  3%|█▎                                    | 310/9116 [07:27<2:45:12,  1.13s/it]"
     ]
    },
    {
     "name": "stdout",
     "output_type": "stream",
     "text": [
      "<table>\n",
      "<html><body><table><thead><tr><td><b></b></td><td><b>All malignant pleural effusions</b></td><td><b>Sensitivity (%)</b></td><td><b>Sensitivity (%)</b></td><td><b>Malignant pleural mesothelioma only</b></td><td><b>Sensitivity (%)</b></td><td><b>Sensitivity (%)</b></td></tr><tr><td><b></b></td><td><b>Area under curve (95% CI)</b></td><td><b></b></td><td><b></b></td><td><b>Area under curve (95% CI)</b></td><td><b></b></td><td><b></b></td></tr></thead><tbody><tr><td>Cytology</td><td></td><td>51</td><td>100</td><td></td><td>31</td><td>100</td></tr><tr><td>DNA Integrity index cut-off: 1.02</td><td>0.766 (0.646 - 0.866)</td><td>57</td><td>90</td><td>0.823 (0.676-0.970)</td><td>75</td><td>90</td></tr><tr><td>Pleural fluid mesothelin cut-off: 12.72 nM</td><td>0.620 (0.480-0.759)</td><td>37</td><td>90</td><td>0.885 (0.774-0.997)</td><td>75</td><td>90</td></tr><tr><td>Serum mesothelin Cut-off: 1.34 nM</td><td>0.674 (0.546-0.802)</td><td>44</td><td>90</td><td>0.941 (0.869-1.00)</td><td>75</td><td>90</td></tr></tbody></table></body></html>\n",
      "\n",
      "<html><body><table><thead><tr><td><b> </b></td><td><b>All malignant pleural effusions</b></td><td><b>Sensitivity (%)</b></td><td><b>Sensitivity (%)</b></td><td><b>Malignant pleural mesothelioma only</b></td><td><b>Sensitivity (%)</b></td><td><b>Sensitivity (%)</b></td></tr><tr><td><b> </b></td><td><b>Area under curve (95% CI)</b></td><td><b> </b></td><td><b> </b></td><td><b>Area under curve (95% CI)</b></td><td><b> </b></td><td><b> </b></td></tr></thead><tbody><tr><td>Cytology</td><td></td><td>51</td><td>100</td><td></td><td>31</td><td>100</td></tr><tr><td>DNA Integrity index cut-off: 1.02</td><td>0.766 (0.646 - 0.866)</td><td>57</td><td>90</td><td>0.823 (0.676-0.970)</td><td>75</td><td>90</td></tr><tr><td>Pleural fluid mesothelin cut-off: 12.72 nM</td><td>0.620 (0.480-0.759)</td><td>37</td><td>90</td><td>0.885 (0.774-0.997)</td><td>75</td><td>90</td></tr><tr><td>Serum mesothelin Cut-off: 1.34 nM</td><td>0.674 (0.546-0.802)</td><td>44</td><td>90</td><td>0.941 (0.869-1.00)</td><td>75</td><td>90</td></tr></tbody></table></body></html>\n",
      "0.88\n"
     ]
    },
    {
     "name": "stderr",
     "output_type": "stream",
     "text": [
      "  4%|█▌                                    | 371/9116 [08:42<3:25:17,  1.41s/it]\n"
     ]
    },
    {
     "ename": "KeyboardInterrupt",
     "evalue": "",
     "output_type": "error",
     "traceback": [
      "\u001b[31m---------------------------------------------------------------------------\u001b[39m",
      "\u001b[31mKeyboardInterrupt\u001b[39m                         Traceback (most recent call last)",
      "\u001b[36mCell\u001b[39m\u001b[36m \u001b[39m\u001b[32mIn[42]\u001b[39m\u001b[32m, line 43\u001b[39m\n\u001b[32m     40\u001b[39m pred_list.append(pred_html)\n\u001b[32m     41\u001b[39m gt_list.append(gt_html)\n\u001b[32m---> \u001b[39m\u001b[32m43\u001b[39m ratio = \u001b[43mteds\u001b[49m\u001b[43m.\u001b[49m\u001b[43mevaluate\u001b[49m\u001b[43m(\u001b[49m\u001b[38;5;28;43mstr\u001b[39;49m\u001b[43m(\u001b[49m\u001b[43mpred_html\u001b[49m\u001b[43m)\u001b[49m\u001b[43m,\u001b[49m\u001b[43m \u001b[49m\u001b[38;5;28;43mstr\u001b[39;49m\u001b[43m(\u001b[49m\u001b[43mgt_html\u001b[49m\u001b[43m)\u001b[49m\u001b[43m)\u001b[49m\n\u001b[32m     45\u001b[39m \u001b[38;5;28;01mif\u001b[39;00m(ratio < \u001b[32m.9\u001b[39m):\n\u001b[32m     46\u001b[39m     \u001b[38;5;28mprint\u001b[39m(processor.decode(input_ids[\u001b[32m1\u001b[39m]))\n",
      "\u001b[36mFile \u001b[39m\u001b[32m~/Documents/UFLA/projeto_IC/table_extraction/aux/PubTabNet/src/metric.py:130\u001b[39m, in \u001b[36mTEDS.evaluate\u001b[39m\u001b[34m(self, pred, true)\u001b[39m\n\u001b[32m    128\u001b[39m     tree_pred = \u001b[38;5;28mself\u001b[39m.load_html_tree(pred)\n\u001b[32m    129\u001b[39m     tree_true = \u001b[38;5;28mself\u001b[39m.load_html_tree(true)\n\u001b[32m--> \u001b[39m\u001b[32m130\u001b[39m     distance = \u001b[43mAPTED\u001b[49m\u001b[43m(\u001b[49m\u001b[43mtree_pred\u001b[49m\u001b[43m,\u001b[49m\u001b[43m \u001b[49m\u001b[43mtree_true\u001b[49m\u001b[43m,\u001b[49m\u001b[43m \u001b[49m\u001b[43mCustomConfig\u001b[49m\u001b[43m(\u001b[49m\u001b[43m)\u001b[49m\u001b[43m)\u001b[49m\u001b[43m.\u001b[49m\u001b[43mcompute_edit_distance\u001b[49m\u001b[43m(\u001b[49m\u001b[43m)\u001b[49m\n\u001b[32m    131\u001b[39m     \u001b[38;5;28;01mreturn\u001b[39;00m \u001b[32m1.0\u001b[39m - (\u001b[38;5;28mfloat\u001b[39m(distance) / n_nodes)\n\u001b[32m    132\u001b[39m \u001b[38;5;28;01melse\u001b[39;00m:\n",
      "\u001b[36mFile \u001b[39m\u001b[32m~/Documents/UFLA/Mestrado/venv_mestrado/lib/python3.12/site-packages/apted/apted.py:106\u001b[39m, in \u001b[36mAPTED.compute_edit_distance\u001b[39m\u001b[34m(self)\u001b[39m\n\u001b[32m    103\u001b[39m         \u001b[38;5;28mself\u001b[39m.delta = \u001b[38;5;28mself\u001b[39m.compute_opt_strategy_post_r()\n\u001b[32m    105\u001b[39m     \u001b[38;5;28mself\u001b[39m.ted_init()\n\u001b[32m--> \u001b[39m\u001b[32m106\u001b[39m     \u001b[38;5;28mself\u001b[39m.result = \u001b[38;5;28;43mself\u001b[39;49m\u001b[43m.\u001b[49m\u001b[43mgted\u001b[49m\u001b[43m(\u001b[49m\u001b[43m)\u001b[49m\n\u001b[32m    107\u001b[39m \u001b[38;5;28;01mreturn\u001b[39;00m \u001b[38;5;28mself\u001b[39m.result\n",
      "\u001b[36mFile \u001b[39m\u001b[32m~/Documents/UFLA/Mestrado/venv_mestrado/lib/python3.12/site-packages/apted/apted.py:377\u001b[39m, in \u001b[36mAPTED.gted\u001b[39m\u001b[34m(self, data)\u001b[39m\n\u001b[32m    374\u001b[39m node_id = \u001b[38;5;28mabs\u001b[39m(path_id) - \u001b[32m1\u001b[39m\n\u001b[32m    376\u001b[39m \u001b[38;5;28;01mif\u001b[39;00m node_id < it1.tree_size:  \u001b[38;5;66;03m# Apply on subtree 1\u001b[39;00m\n\u001b[32m--> \u001b[39m\u001b[32m377\u001b[39m     \u001b[38;5;28;01mreturn\u001b[39;00m \u001b[38;5;28;43mself\u001b[39;49m\u001b[43m.\u001b[49m\u001b[43msub_gted\u001b[49m\u001b[43m(\u001b[49m\u001b[43mdata\u001b[49m\u001b[43m,\u001b[49m\u001b[43m \u001b[49m\u001b[43mit1\u001b[49m\u001b[43m,\u001b[49m\u001b[43m \u001b[49m\u001b[43mit2\u001b[49m\u001b[43m,\u001b[49m\u001b[43m \u001b[49m\u001b[43mtree1\u001b[49m\u001b[43m,\u001b[49m\u001b[43m \u001b[49m\u001b[43mpath_id\u001b[49m\u001b[43m,\u001b[49m\u001b[43m \u001b[49m\u001b[43mnode_id\u001b[49m\u001b[43m,\u001b[49m\u001b[43m \u001b[49m\u001b[38;5;28;43;01mFalse\u001b[39;49;00m\u001b[43m)\u001b[49m\n\u001b[32m    379\u001b[39m \u001b[38;5;66;03m# Apply on subtree 2\u001b[39;00m\n\u001b[32m    380\u001b[39m node_id -= it1.tree_size\n",
      "\u001b[36mFile \u001b[39m\u001b[32m~/Documents/UFLA/Mestrado/venv_mestrado/lib/python3.12/site-packages/apted/apted.py:395\u001b[39m, in \u001b[36mAPTED.sub_gted\u001b[39m\u001b[34m(self, data, it_f, it_s, tree_f, path_id, node_id, reverse)\u001b[39m\n\u001b[32m    393\u001b[39m         \u001b[38;5;28;01mif\u001b[39;00m child \u001b[38;5;129;01mis\u001b[39;00m \u001b[38;5;129;01mnot\u001b[39;00m last:\n\u001b[32m    394\u001b[39m             data[it_f.num] = child\n\u001b[32m--> \u001b[39m\u001b[32m395\u001b[39m             \u001b[38;5;28;43mself\u001b[39;49m\u001b[43m.\u001b[49m\u001b[43mgted\u001b[49m\u001b[43m(\u001b[49m\u001b[43mdata\u001b[49m\u001b[43m)\u001b[49m\n\u001b[32m    398\u001b[39m data[it_f.num] = tree_f\n\u001b[32m    399\u001b[39m \u001b[38;5;66;03m# Pass to spfs a boolean that says says if the order of input\u001b[39;00m\n\u001b[32m    400\u001b[39m \u001b[38;5;66;03m# subtrees has been swapped compared to the order of the initial\u001b[39;00m\n\u001b[32m    401\u001b[39m \u001b[38;5;66;03m# input trees. Used for accessing delta array and deciding on the\u001b[39;00m\n\u001b[32m    402\u001b[39m \u001b[38;5;66;03m# edit operation. See [1, Section 3.4].\u001b[39;00m\n",
      "\u001b[36mFile \u001b[39m\u001b[32m~/Documents/UFLA/Mestrado/venv_mestrado/lib/python3.12/site-packages/apted/apted.py:377\u001b[39m, in \u001b[36mAPTED.gted\u001b[39m\u001b[34m(self, data)\u001b[39m\n\u001b[32m    374\u001b[39m node_id = \u001b[38;5;28mabs\u001b[39m(path_id) - \u001b[32m1\u001b[39m\n\u001b[32m    376\u001b[39m \u001b[38;5;28;01mif\u001b[39;00m node_id < it1.tree_size:  \u001b[38;5;66;03m# Apply on subtree 1\u001b[39;00m\n\u001b[32m--> \u001b[39m\u001b[32m377\u001b[39m     \u001b[38;5;28;01mreturn\u001b[39;00m \u001b[38;5;28;43mself\u001b[39;49m\u001b[43m.\u001b[49m\u001b[43msub_gted\u001b[49m\u001b[43m(\u001b[49m\u001b[43mdata\u001b[49m\u001b[43m,\u001b[49m\u001b[43m \u001b[49m\u001b[43mit1\u001b[49m\u001b[43m,\u001b[49m\u001b[43m \u001b[49m\u001b[43mit2\u001b[49m\u001b[43m,\u001b[49m\u001b[43m \u001b[49m\u001b[43mtree1\u001b[49m\u001b[43m,\u001b[49m\u001b[43m \u001b[49m\u001b[43mpath_id\u001b[49m\u001b[43m,\u001b[49m\u001b[43m \u001b[49m\u001b[43mnode_id\u001b[49m\u001b[43m,\u001b[49m\u001b[43m \u001b[49m\u001b[38;5;28;43;01mFalse\u001b[39;49;00m\u001b[43m)\u001b[49m\n\u001b[32m    379\u001b[39m \u001b[38;5;66;03m# Apply on subtree 2\u001b[39;00m\n\u001b[32m    380\u001b[39m node_id -= it1.tree_size\n",
      "\u001b[36mFile \u001b[39m\u001b[32m~/Documents/UFLA/Mestrado/venv_mestrado/lib/python3.12/site-packages/apted/apted.py:404\u001b[39m, in \u001b[36mAPTED.sub_gted\u001b[39m\u001b[34m(self, data, it_f, it_s, tree_f, path_id, node_id, reverse)\u001b[39m\n\u001b[32m    398\u001b[39m data[it_f.num] = tree_f\n\u001b[32m    399\u001b[39m \u001b[38;5;66;03m# Pass to spfs a boolean that says says if the order of input\u001b[39;00m\n\u001b[32m    400\u001b[39m \u001b[38;5;66;03m# subtrees has been swapped compared to the order of the initial\u001b[39;00m\n\u001b[32m    401\u001b[39m \u001b[38;5;66;03m# input trees. Used for accessing delta array and deciding on the\u001b[39;00m\n\u001b[32m    402\u001b[39m \u001b[38;5;66;03m# edit operation. See [1, Section 3.4].\u001b[39;00m\n\u001b[32m--> \u001b[39m\u001b[32m404\u001b[39m \u001b[38;5;28;01mreturn\u001b[39;00m \u001b[38;5;28;43mself\u001b[39;49m\u001b[43m.\u001b[49m\u001b[43mspf\u001b[49m\u001b[43m(\u001b[49m\n\u001b[32m    405\u001b[39m \u001b[43m    \u001b[49m\u001b[43mit_f\u001b[49m\u001b[43m,\u001b[49m\u001b[43m \u001b[49m\u001b[43mit_s\u001b[49m\u001b[43m,\u001b[49m\n\u001b[32m    406\u001b[39m \u001b[43m    \u001b[49m\u001b[43mdata\u001b[49m\u001b[43m[\u001b[49m\u001b[43mit_f\u001b[49m\u001b[43m.\u001b[49m\u001b[43mnum\u001b[49m\u001b[43m]\u001b[49m\u001b[43m,\u001b[49m\u001b[43m \u001b[49m\u001b[43mdata\u001b[49m\u001b[43m[\u001b[49m\u001b[43mit_s\u001b[49m\u001b[43m.\u001b[49m\u001b[43mnum\u001b[49m\u001b[43m]\u001b[49m\u001b[43m,\u001b[49m\n\u001b[32m    407\u001b[39m \u001b[43m    \u001b[49m\u001b[38;5;28;43mself\u001b[39;49m\u001b[43m,\u001b[49m\u001b[43m \u001b[49m\u001b[43mnode_id\u001b[49m\u001b[43m,\u001b[49m\u001b[43m \u001b[49m\u001b[43mstrategy\u001b[49m\u001b[43m,\u001b[49m\u001b[43m \u001b[49m\u001b[43mreverse\u001b[49m\n\u001b[32m    408\u001b[39m \u001b[43m\u001b[49m\u001b[43m)\u001b[49m\u001b[43m(\u001b[49m\u001b[43m)\u001b[49m\n",
      "\u001b[36mFile \u001b[39m\u001b[32m~/Documents/UFLA/Mestrado/venv_mestrado/lib/python3.12/site-packages/apted/single_path_functions.py:669\u001b[39m, in \u001b[36mSinglePathFunction.__call__\u001b[39m\u001b[34m(self)\u001b[39m\n\u001b[32m    668\u001b[39m \u001b[38;5;28;01mdef\u001b[39;00m\u001b[38;5;250m \u001b[39m\u001b[34m__call__\u001b[39m(\u001b[38;5;28mself\u001b[39m):\n\u001b[32m--> \u001b[39m\u001b[32m669\u001b[39m     result = \u001b[43m{\u001b[49m\n\u001b[32m    670\u001b[39m \u001b[43m        \u001b[49m\u001b[43mLEFT\u001b[49m\u001b[43m:\u001b[49m\u001b[43m \u001b[49m\u001b[38;5;28;43mself\u001b[39;49m\u001b[43m.\u001b[49m\u001b[43mspf_l\u001b[49m\u001b[43m,\u001b[49m\n\u001b[32m    671\u001b[39m \u001b[43m        \u001b[49m\u001b[43mRIGHT\u001b[49m\u001b[43m:\u001b[49m\u001b[43m \u001b[49m\u001b[38;5;28;43mself\u001b[39;49m\u001b[43m.\u001b[49m\u001b[43mspf_r\u001b[49m\u001b[43m,\u001b[49m\n\u001b[32m    672\u001b[39m \u001b[43m        \u001b[49m\u001b[43mINNER\u001b[49m\u001b[43m:\u001b[49m\u001b[43m \u001b[49m\u001b[38;5;28;43mself\u001b[39;49m\u001b[43m.\u001b[49m\u001b[43mspf_a\u001b[49m\u001b[43m,\u001b[49m\n\u001b[32m    673\u001b[39m \u001b[43m    \u001b[49m\u001b[43m}\u001b[49m\u001b[43m[\u001b[49m\u001b[38;5;28;43mself\u001b[39;49m\u001b[43m.\u001b[49m\u001b[43mpath_type\u001b[49m\u001b[43m]\u001b[49m\u001b[43m(\u001b[49m\u001b[43m)\u001b[49m\n\u001b[32m    674\u001b[39m     \u001b[38;5;28mself\u001b[39m.apted.counter = \u001b[38;5;28mself\u001b[39m.counter\n\u001b[32m    675\u001b[39m     \u001b[38;5;28;01mreturn\u001b[39;00m result\n",
      "\u001b[36mFile \u001b[39m\u001b[32m~/Documents/UFLA/Mestrado/venv_mestrado/lib/python3.12/site-packages/apted/single_path_functions.py:229\u001b[39m, in \u001b[36mSinglePathFunction.spf_r\u001b[39m\u001b[34m(self)\u001b[39m\n\u001b[32m    227\u001b[39m \u001b[38;5;28mself\u001b[39m.atb_2 = \u001b[38;5;28mself\u001b[39m.it2.post_rtl_info\n\u001b[32m    228\u001b[39m \u001b[38;5;28mself\u001b[39m.left_right = \u001b[38;5;28mself\u001b[39m.swap\n\u001b[32m--> \u001b[39m\u001b[32m229\u001b[39m \u001b[38;5;28;01mreturn\u001b[39;00m \u001b[38;5;28;43mself\u001b[39;49m\u001b[43m.\u001b[49m\u001b[43mspf_generic_side\u001b[49m\u001b[43m(\u001b[49m\u001b[43m)\u001b[49m\n",
      "\u001b[36mFile \u001b[39m\u001b[32m~/Documents/UFLA/Mestrado/venv_mestrado/lib/python3.12/site-packages/apted/single_path_functions.py:262\u001b[39m, in \u001b[36mSinglePathFunction.spf_generic_side\u001b[39m\u001b[34m(self)\u001b[39m\n\u001b[32m    257\u001b[39m \u001b[38;5;66;03m# Compute the distances between pairs of keyroot nodes. In the left-hand\u001b[39;00m\n\u001b[32m    258\u001b[39m \u001b[38;5;66;03m# input subtree only the root is the keyroot. Thus, we compute the distance\u001b[39;00m\n\u001b[32m    259\u001b[39m \u001b[38;5;66;03m# between the left-hand input subtree and all keyroot nodes in the\u001b[39;00m\n\u001b[32m    260\u001b[39m \u001b[38;5;66;03m# right-hand input subtree.\u001b[39;00m\n\u001b[32m    261\u001b[39m \u001b[38;5;28;01mfor\u001b[39;00m i \u001b[38;5;129;01min\u001b[39;00m \u001b[38;5;28mrange\u001b[39m(first_keyroot - \u001b[32m1\u001b[39m, -\u001b[32m1\u001b[39m, -\u001b[32m1\u001b[39m):\n\u001b[32m--> \u001b[39m\u001b[32m262\u001b[39m     \u001b[43mtree_edit_dist\u001b[49m\u001b[43m(\u001b[49m\u001b[43mcurrent1\u001b[49m\u001b[43m,\u001b[49m\u001b[43m \u001b[49m\u001b[43mkeyroots\u001b[49m\u001b[43m[\u001b[49m\u001b[43mi\u001b[49m\u001b[43m]\u001b[49m\u001b[43m,\u001b[49m\u001b[43m \u001b[49m\u001b[43mforestdist\u001b[49m\u001b[43m)\u001b[49m\n\u001b[32m    264\u001b[39m \u001b[38;5;28;01mreturn\u001b[39;00m forestdist[size1][size2]\n",
      "\u001b[36mFile \u001b[39m\u001b[32m~/Documents/UFLA/Mestrado/venv_mestrado/lib/python3.12/site-packages/apted/single_path_functions.py:331\u001b[39m, in \u001b[36mSinglePathFunction.tree_edit_dist\u001b[39m\u001b[34m(self, subtree1, subtree2, forestdist)\u001b[39m\n\u001b[32m    329\u001b[39m \u001b[38;5;28mself\u001b[39m.counter += \u001b[32m1\u001b[39m\n\u001b[32m    330\u001b[39m \u001b[38;5;66;03m# Calculate partial distance values for this subproblem.\u001b[39;00m\n\u001b[32m--> \u001b[39m\u001b[32m331\u001b[39m u = \u001b[43mrename\u001b[49m\u001b[43m(\u001b[49m\u001b[43minfo1_node\u001b[49m\u001b[43m,\u001b[49m\u001b[43m \u001b[49m\u001b[43minfo2_node\u001b[49m\u001b[43m)\u001b[49m\n\u001b[32m    332\u001b[39m da = forestdist[i1 - \u001b[32m1\u001b[39m][j1] + delete(info1_node)\n\u001b[32m    333\u001b[39m db = forestdist[i1][j1 - \u001b[32m1\u001b[39m] + insert(info2_node)\n",
      "\u001b[36mFile \u001b[39m\u001b[32m~/Documents/UFLA/projeto_IC/table_extraction/aux/PubTabNet/src/metric.py:58\u001b[39m, in \u001b[36mCustomConfig.rename\u001b[39m\u001b[34m(self, node1, node2)\u001b[39m\n\u001b[32m     56\u001b[39m \u001b[38;5;28;01mif\u001b[39;00m node1.tag == \u001b[33m'\u001b[39m\u001b[33mtd\u001b[39m\u001b[33m'\u001b[39m:\n\u001b[32m     57\u001b[39m     \u001b[38;5;28;01mif\u001b[39;00m node1.content \u001b[38;5;129;01mor\u001b[39;00m node2.content:\n\u001b[32m---> \u001b[39m\u001b[32m58\u001b[39m         \u001b[38;5;28;01mreturn\u001b[39;00m \u001b[38;5;28;43mself\u001b[39;49m\u001b[43m.\u001b[49m\u001b[43mnormalized_distance\u001b[49m\u001b[43m(\u001b[49m\u001b[43mnode1\u001b[49m\u001b[43m.\u001b[49m\u001b[43mcontent\u001b[49m\u001b[43m,\u001b[49m\u001b[43m \u001b[49m\u001b[43mnode2\u001b[49m\u001b[43m.\u001b[49m\u001b[43mcontent\u001b[49m\u001b[43m)\u001b[49m\n\u001b[32m     59\u001b[39m \u001b[38;5;28;01mreturn\u001b[39;00m \u001b[32m0.\u001b[39m\n",
      "\u001b[36mFile \u001b[39m\u001b[32m~/Documents/UFLA/projeto_IC/table_extraction/aux/PubTabNet/src/metric.py:50\u001b[39m, in \u001b[36mCustomConfig.normalized_distance\u001b[39m\u001b[34m(self, *sequences)\u001b[39m\n\u001b[32m     47\u001b[39m \u001b[38;5;28;01mdef\u001b[39;00m\u001b[38;5;250m \u001b[39m\u001b[34mnormalized_distance\u001b[39m(\u001b[38;5;28mself\u001b[39m, *sequences):\n\u001b[32m     48\u001b[39m \u001b[38;5;250m    \u001b[39m\u001b[33;03m\"\"\"Get distance from 0 to 1\u001b[39;00m\n\u001b[32m     49\u001b[39m \u001b[33;03m    \"\"\"\u001b[39;00m\n\u001b[32m---> \u001b[39m\u001b[32m50\u001b[39m     \u001b[38;5;28;01mreturn\u001b[39;00m \u001b[38;5;28mfloat\u001b[39m(\u001b[43mdistance\u001b[49m\u001b[43m.\u001b[49m\u001b[43mlevenshtein\u001b[49m\u001b[43m(\u001b[49m\u001b[43m*\u001b[49m\u001b[43msequences\u001b[49m\u001b[43m)\u001b[49m) / \u001b[38;5;28mself\u001b[39m.maximum(*sequences)\n",
      "\u001b[36mFile \u001b[39m\u001b[32m~/Documents/UFLA/Mestrado/venv_mestrado/lib/python3.12/site-packages/distance/_levenshtein.py:61\u001b[39m, in \u001b[36mlevenshtein\u001b[39m\u001b[34m(seq1, seq2, max_dist, normalized)\u001b[39m\n\u001b[32m     59\u001b[39m \told = column[y]\n\u001b[32m     60\u001b[39m \tcost = \u001b[38;5;28mint\u001b[39m(seq1[x - \u001b[32m1\u001b[39m] != seq2[y - \u001b[32m1\u001b[39m])\n\u001b[32m---> \u001b[39m\u001b[32m61\u001b[39m \tcolumn[y] = \u001b[38;5;28;43mmin\u001b[39;49m\u001b[43m(\u001b[49m\u001b[43mcolumn\u001b[49m\u001b[43m[\u001b[49m\u001b[43my\u001b[49m\u001b[43m]\u001b[49m\u001b[43m \u001b[49m\u001b[43m+\u001b[49m\u001b[43m \u001b[49m\u001b[32;43m1\u001b[39;49m\u001b[43m,\u001b[49m\u001b[43m \u001b[49m\u001b[43mcolumn\u001b[49m\u001b[43m[\u001b[49m\u001b[43my\u001b[49m\u001b[43m \u001b[49m\u001b[43m-\u001b[49m\u001b[43m \u001b[49m\u001b[32;43m1\u001b[39;49m\u001b[43m]\u001b[49m\u001b[43m \u001b[49m\u001b[43m+\u001b[49m\u001b[43m \u001b[49m\u001b[32;43m1\u001b[39;49m\u001b[43m,\u001b[49m\u001b[43m \u001b[49m\u001b[43mlast\u001b[49m\u001b[43m \u001b[49m\u001b[43m+\u001b[49m\u001b[43m \u001b[49m\u001b[43mcost\u001b[49m\u001b[43m)\u001b[49m\n\u001b[32m     62\u001b[39m \tlast = old\n\u001b[32m     63\u001b[39m \u001b[38;5;28;01mif\u001b[39;00m max_dist >= \u001b[32m0\u001b[39m \u001b[38;5;129;01mand\u001b[39;00m \u001b[38;5;28mmin\u001b[39m(column) > max_dist:\n",
      "\u001b[31mKeyboardInterrupt\u001b[39m: "
     ]
    }
   ],
   "source": [
    "import random\n",
    "import torch\n",
    "from difflib import SequenceMatcher\n",
    "from tqdm.auto import tqdm\n",
    "\n",
    "removed_tags = []\n",
    "soma_ratios = 0\n",
    "\n",
    "for i, file_name in enumerate(tqdm(json_list)):\n",
    "\n",
    "    with open(ANN_PATH + SPLIT + file_name) as f:\n",
    "        annotation = json.load(f)\n",
    "    with open(ANN_PATH + SPLIT + file_name[:-5]+\"-HTML.json\", encoding=\"utf-8\") as f:\n",
    "        gt_html = \"<html><body><table>\"+str(json.load(f))+\"</table></body></html>\"\n",
    "    \n",
    "    for tag in removed_tags:\n",
    "        gt_html = gt_html.replace(tag, \"\")\n",
    "    \n",
    "    target_sequence = \"<s>\"+processor.json2token(annotation)+\"</s>\"\n",
    "    input_ids = processor.tokenizer(\n",
    "        target_sequence,\n",
    "        add_special_tokens=False,\n",
    "        max_length= 2048,\n",
    "        padding=\"max_length\",\n",
    "        truncation=True,\n",
    "        return_tensors=\"pt\",\n",
    "    )[\"input_ids\"].squeeze(0)\n",
    "    \n",
    "    \n",
    "    input_ids = torch.cat((input_ids, torch.Tensor([2, 2]).int()), 0)\n",
    "    \n",
    "    table = processor.token2ann( input_ids, 1)\n",
    "    table_aux  = table.copy()\n",
    "    \n",
    "    \n",
    "    pred_html = \"<html><body><table>\"+processor.table2html(table['tables'][0])+\"</table></body></html>\"\n",
    "    \n",
    "    pred_html = pred_html.replace('> ', '>')\n",
    "    gt_html = gt_html.replace(\" </td>\", \"</td>\").replace(\"<td> \", \"<td>\").replace('\"> ', '\">')\n",
    "    pred_list.append(pred_html)\n",
    "    gt_list.append(gt_html)\n",
    "    \n",
    "    ratio = teds.evaluate(str(pred_html), str(gt_html))\n",
    "    \n",
    "    if(ratio < .9):\n",
    "        print(processor.decode(input_ids[1]))\n",
    "        #print(target_sequence)\n",
    "        #print(table['tables'][0])\n",
    "        print(pred_html)\n",
    "        print()\n",
    "        print(gt_html)\n",
    "        print(ratio)\n",
    "    if i% 100 == 0:   \n",
    "        print(str(i)+'->', soma_ratios/max(1, i))\n",
    "    \n",
    "    soma_ratios += ratio\n",
    "print(soma_ratios/len(json_list))"
   ]
  },
  {
   "cell_type": "code",
   "execution_count": null,
   "id": "7c9d0515",
   "metadata": {},
   "outputs": [],
   "source": [
    "json.dump(pred_list, open(\"teste-pred.json\", 'w'))\n",
    "json.dump(gt_list, open(\"teste-gt.json\", 'w'))"
   ]
  },
  {
   "cell_type": "code",
   "execution_count": null,
   "id": "010e1b44",
   "metadata": {},
   "outputs": [],
   "source": [
    "a = '<thead><tr><td rowspan=\"2\"><b>Cutoff (IRS)</b></td><td rowspan=\"2\"><b>Number</b></td><td colspan=\"2\"><b>Overall survival prognosis</b></td></tr><tr><td><b>Log-rank <i>P</i></b></td><td><b>Corrected <i>P</i><sup><i>∗</i></sup></b></td></tr></thead><tbody><tr><td>≥1</td><td>99/94</td><td>5.56</td><td>0.0184</td></tr><tr><td>≥2</td><td>129/64</td><td>4.37</td><td>0.0377</td></tr><tr><td>≥3</td><td>150/43</td><td>8.37</td><td>0.0038</td></tr><tr><td>≥4</td><td>161/32</td><td>6.35</td><td>0.0117</td></tr><tr><td>≥5 </td><td>177/16</td><td>4.50</td><td>0.0338</td></tr></tbody>'\n",
    "\n",
    "for tag in [\"<i>\", \"</i>\",\"<b>\",\"</b>\"]:\n",
    "    a = a.replace(tag, \"\")\n",
    "    \n",
    "a"
   ]
  },
  {
   "cell_type": "code",
   "execution_count": null,
   "id": "c0bacfb6",
   "metadata": {},
   "outputs": [],
   "source": [
    "target_sequence = \"Capítulo Primeiro Do título Uma noite destas, vindo da cidade para o Engenho Novo, encontrei no[ 1 ] trem da Central um rapaz aqui do bairro, que eu conheço de vista e de cha- péu. Comprimentou-me, sentou-se ao pé de mim, falou da lua e dos mi- nistros, e acabou recitando-me versos. A viagem era curta, e os versos pode ser que não fossem inteiramente maus. Succedeu, porém, que, como eu es- tava cansado, fechei os olhos três ou quatro vezes; tanto bastou para que ele interrompesse a leitura e metesse os versos no bolso. — Continue, disse eu acordando.[ 2 ] — Já acabei, murmurou ele.[ 3 ] — São muito bonitos.[ 4 ] Vi-lhe fazer um gesto para tirá-los outra vez do bolso, mas não passou[ 5 ] do gesto; estava amuado. No dia seguinte entrou a dizer de mim nomes feios, e acabou alcunhando-me Dom Casmurro.\"\n",
    "\n",
    "input_ids = processor.tokenizer(\n",
    "        target_sequence,\n",
    "        add_special_tokens=True,\n",
    "        max_length= 1536,\n",
    "        padding=\"max_length\",\n",
    "        truncation=True,\n",
    "        return_tensors=\"pt\",\n",
    "    )[\"input_ids\"].squeeze(0)"
   ]
  },
  {
   "cell_type": "code",
   "execution_count": null,
   "id": "887f9e13",
   "metadata": {},
   "outputs": [],
   "source": [
    "input_ids"
   ]
  },
  {
   "cell_type": "code",
   "execution_count": null,
   "id": "c137a679",
   "metadata": {},
   "outputs": [],
   "source": [
    "for token in input_ids:\n",
    "    print(processor.decode(token))"
   ]
  },
  {
   "cell_type": "code",
   "execution_count": null,
   "id": "f85c762a",
   "metadata": {},
   "outputs": [],
   "source": [
    "processor.decode(input_ids)"
   ]
  },
  {
   "cell_type": "code",
   "execution_count": null,
   "id": "8eb2fc17",
   "metadata": {},
   "outputs": [],
   "source": []
  }
 ],
 "metadata": {
  "kernelspec": {
   "display_name": "venv_mestrado",
   "language": "python",
   "name": "venv_mestrado"
  },
  "language_info": {
   "codemirror_mode": {
    "name": "ipython",
    "version": 3
   },
   "file_extension": ".py",
   "mimetype": "text/x-python",
   "name": "python",
   "nbconvert_exporter": "python",
   "pygments_lexer": "ipython3",
   "version": "3.12.3"
  }
 },
 "nbformat": 4,
 "nbformat_minor": 5
}
