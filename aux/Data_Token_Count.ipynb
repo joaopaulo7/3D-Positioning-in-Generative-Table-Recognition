{
 "cells": [
  {
   "cell_type": "code",
   "execution_count": 4,
   "id": "2977ba19",
   "metadata": {},
   "outputs": [
    {
     "name": "stderr",
     "output_type": "stream",
     "text": [
      "/home/jao/Documents/UFLA/Mestrado/venv_mestrado/lib/python3.12/site-packages/tqdm/auto.py:21: TqdmWarning: IProgress not found. Please update jupyter and ipywidgets. See https://ipywidgets.readthedocs.io/en/stable/user_install.html\n",
      "  from .autonotebook import tqdm as notebook_tqdm\n"
     ]
    }
   ],
   "source": [
    "from transformers import DonutProcessor\n",
    "import sys\n",
    "import json\n",
    "import os\n",
    "sys.path.insert(1, 'PubTabNet/src/')\n",
    "sys.path.insert(1, '../proj/src/')\n",
    "\n",
    "from metric import TEDS\n",
    "from processing_tabeleiro import TabeleiroProcessor\n",
    "\n",
    "SPLIT = \"val/\"\n",
    "\n",
    "ANN_PATH = \"data/anns/\"\n",
    "\n",
    "json_list = os.listdir(ANN_PATH + SPLIT)"
   ]
  },
  {
   "cell_type": "code",
   "execution_count": 5,
   "id": "4ec09de8",
   "metadata": {},
   "outputs": [],
   "source": [
    "aux_list = []\n",
    "html_list = []\n",
    "\n",
    "for f in json_list:\n",
    "    if(f[-6:-5] == \"L\"):\n",
    "        html_list.append(f)\n",
    "    else:\n",
    "        aux_list.append(f)\n",
    "json_list = aux_list"
   ]
  },
  {
   "cell_type": "code",
   "execution_count": 23,
   "id": "67c72267",
   "metadata": {},
   "outputs": [],
   "source": [
    "tml_anns_list = []\n",
    "for file in json_list:\n",
    "    with open(ANN_PATH + SPLIT+file) as f:\n",
    "        tml_anns_list.append(json.load(f))"
   ]
  },
  {
   "cell_type": "code",
   "execution_count": 24,
   "id": "e6ae6ca6",
   "metadata": {},
   "outputs": [],
   "source": [
    "from transformers import DonutProcessor\n",
    "\n",
    "tml_processor = TabeleiroProcessor.from_pretrained(\"processors/Donut_PubTables_TML_Processor8k\", crop_right=False)"
   ]
  },
  {
   "cell_type": "code",
   "execution_count": 25,
   "id": "9a1682b4-800e-46ee-b0eb-6c25c8e21ee5",
   "metadata": {},
   "outputs": [
    {
     "data": {
      "text/plain": [
       "'<table><row><col_header><b>Factor</b><col_header><b>Total</b><col_header><b>ARI</b><col_header><b>Odds ratios</b><col_header><b>95% CI</b><col_header><b><i>P</i>-value</b><row><span_type=1000><span_type=1001><span_type=1001><span_type=1001><span_type=1001><span_type=0001><content>Exposure to wood smoke<row><cell> Not exposed<cell>203<cell>82(40.39%)<cell>1<cell><cell><row><cell> Exposed<cell>309<cell>198(64.08%)<cell>2.63<cell>1.83–3.79<cell>< 0.001<row><span_type=1000><span_type=1001><span_type=1001><span_type=1001><span_type=1001><span_type=0001><content>Cigarette smoke<row><cell> Non passive smoker<cell>474<cell>249(52.53%)<cell>1<cell><cell><row><cell> Passive smoker<cell>37<cell>31(83.78%)<cell>4.67<cell>1.91–11.40<cell>< 0.001<row><span_type=1000><span_type=1001><span_type=1001><span_type=1001><span_type=1001><span_type=0001><content>History of contact<sup>a</sup><row><cell> No contact<cell>313<cell>134(42.81%)<cell>1<cell><cell><row><cell> Had contact<cell>199<cell>147(73.87%)<cell>3.78<cell>2.56–5.56<cell>< 0.001<row><span_type=1000><span_type=1001><span_type=1001><span_type=1001><span_type=1001><span_type=0001><content>School attendance<row><cell> Do not go to school<cell>391<cell>210(53.71)<cell>1<cell><cell><row><cell> Go to school<cell>121<cell>70(57.85%)<cell>1.18<cell>0.78–1.79<cell>0.42<row><span_type=1000><span_type=1001><span_type=1001><span_type=1001><span_type=1001><span_type=0001><content>Overcrowding<row><cell> Not overcrowded<cell>303<cell>167(55.12%)<cell>1<cell><cell><row><cell> Overcrowded<cell>209<cell>114(54.55%)<cell>0.97<cell>0.69–1.39<cell>0.90'"
      ]
     },
     "execution_count": 25,
     "metadata": {},
     "output_type": "execute_result"
    }
   ],
   "source": [
    "tml_code_list = [processor.json2token(ann) for ann in anns_list]\n",
    "tml_code_list[0]"
   ]
  },
  {
   "cell_type": "code",
   "execution_count": 29,
   "id": "e5fd3b4e-63db-4cae-a7b3-2d34c33eb837",
   "metadata": {},
   "outputs": [],
   "source": [
    "tml_token_lens = []\n",
    "n = 10\n",
    "for code_chunk in [tml_code_list[i:i + len(tml_code_list)//n] for i in range(0, len(tml_code_list), len(tml_code_list)//n)]:\n",
    "    input_ids_list = tml_processor.tokenizer(\n",
    "            code_chunk,\n",
    "            add_special_tokens=False,\n",
    "            max_length= 10000,\n",
    "            padding=\"max_length\",\n",
    "            truncation=True,\n",
    "            return_tensors=\"pt\",\n",
    "        )[\"input_ids\"]\n",
    "    for input_ids in input_ids_list:\n",
    "        tml_token_lens.append(int((input_ids == 1).nonzero(as_tuple=True)[0][0]))"
   ]
  },
  {
   "cell_type": "code",
   "execution_count": 38,
   "id": "1441b959-cd54-4df3-9add-58ed655ab5ba",
   "metadata": {},
   "outputs": [
    {
     "name": "stdout",
     "output_type": "stream",
     "text": [
      "2782\n",
      "346.3012286090391\n",
      "1473.100000000013\n"
     ]
    }
   ],
   "source": [
    "import numpy as np\n",
    "\n",
    "print(np.max(tml_token_lens))\n",
    "print(np.mean(tml_token_lens))\n",
    "print(np.percentile(tml_token_lens, 99.4))"
   ]
  },
  {
   "cell_type": "code",
   "execution_count": 31,
   "id": "461fa8ec",
   "metadata": {},
   "outputs": [],
   "source": [
    "html_anns_list = []\n",
    "for file in html_list:\n",
    "    with open(ANN_PATH + SPLIT+file) as f:\n",
    "        html_anns_list.append(json.load(f))"
   ]
  },
  {
   "cell_type": "code",
   "execution_count": 32,
   "id": "0be05691-02e4-4780-9337-3b13f99d32dc",
   "metadata": {},
   "outputs": [],
   "source": [
    "html_processor = DonutProcessor.from_pretrained(\"processors/Donut_PubTables_HTML_Processor8k\")"
   ]
  },
  {
   "cell_type": "code",
   "execution_count": 39,
   "id": "9c760d6e-d25e-4539-a1f0-567b26527f05",
   "metadata": {},
   "outputs": [],
   "source": [
    "html_token_lens = []\n",
    "n = 10\n",
    "for code_chunk in [html_anns_list[i:i + len(html_anns_list)//n] for i in range(0, len(html_anns_list), len(html_anns_list)//n)]:\n",
    "    input_ids_list = html_processor.tokenizer(\n",
    "            code_chunk,\n",
    "            add_special_tokens=False,\n",
    "            max_length= 10000,\n",
    "            padding=\"max_length\",\n",
    "            truncation=True,\n",
    "            return_tensors=\"pt\",\n",
    "        )[\"input_ids\"]\n",
    "    for input_ids in input_ids_list:\n",
    "        html_token_lens.append(int((input_ids == 1).nonzero(as_tuple=True)[0][0]))"
   ]
  },
  {
   "cell_type": "code",
   "execution_count": 47,
   "id": "f400da4c-208a-489b-b264-da6882bb334e",
   "metadata": {},
   "outputs": [
    {
     "name": "stdout",
     "output_type": "stream",
     "text": [
      "6083\n",
      "517.3418540866703\n",
      "1533.036\n"
     ]
    }
   ],
   "source": [
    "print(np.max(html_token_lens))\n",
    "print(np.mean(html_token_lens))\n",
    "print(np.percentile(html_token_lens, 97.4))"
   ]
  },
  {
   "cell_type": "code",
   "execution_count": null,
   "id": "c67a60e2-1286-4909-b9db-3d49410b58d0",
   "metadata": {},
   "outputs": [],
   "source": []
  }
 ],
 "metadata": {
  "kernelspec": {
   "display_name": "venv_mestrado",
   "language": "python",
   "name": "venv_mestrado"
  },
  "language_info": {
   "codemirror_mode": {
    "name": "ipython",
    "version": 3
   },
   "file_extension": ".py",
   "mimetype": "text/x-python",
   "name": "python",
   "nbconvert_exporter": "python",
   "pygments_lexer": "ipython3",
   "version": "3.12.3"
  }
 },
 "nbformat": 4,
 "nbformat_minor": 5
}
