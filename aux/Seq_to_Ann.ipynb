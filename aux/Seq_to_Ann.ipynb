{
 "cells": [
  {
   "cell_type": "code",
   "execution_count": 1,
   "id": "86fac0e3",
   "metadata": {},
   "outputs": [
    {
     "name": "stderr",
     "output_type": "stream",
     "text": [
      "/home/jao/.local/lib/python3.10/site-packages/tqdm/auto.py:21: TqdmWarning: IProgress not found. Please update jupyter and ipywidgets. See https://ipywidgets.readthedocs.io/en/stable/user_install.html\n",
      "  from .autonotebook import tqdm as notebook_tqdm\n"
     ]
    }
   ],
   "source": [
    "from transformers import DonutProcessor\n",
    "import sys\n",
    "sys.path.insert(1, 'PubTabNet/src/')\n",
    "\n",
    "from metric import TEDS\n",
    "import json\n",
    "import os\n",
    "\n",
    "\n",
    "SPLIT = \"train/\"\n",
    "\n",
    "PUBTABNET = 'data/anns/'\n",
    "\n",
    "ANN_PATH = PUBTABNET\n",
    "\n",
    "json_list = os.listdir(ANN_PATH + SPLIT)\n",
    "\n",
    "aux_list = []\n",
    "html_list = []\n",
    "\n",
    "for f in json_list:\n",
    "    if(f[-6:-5] == \"L\"):\n",
    "        html_list.append(f)\n",
    "    else:\n",
    "        aux_list.append(f)\n",
    "json_list = aux_list\n",
    "old_processor = DonutProcessor.from_pretrained(\"naver-clova-ix/donut-base\")"
   ]
  },
  {
   "cell_type": "code",
   "execution_count": 2,
   "id": "0db3c8f8",
   "metadata": {},
   "outputs": [
    {
     "data": {
      "text/plain": [
       "27"
      ]
     },
     "execution_count": 2,
     "metadata": {},
     "output_type": "execute_result"
    }
   ],
   "source": [
    "from transformers import AddedToken\n",
    "\n",
    "new_tokens = [\"<table_extraction>\", \"<table>\", \"<row>\", \"<cell>\", \"<row_and_col_header>\", \"<row_header>\", \"<col_header>\"]\n",
    "new_tokens += [\"<content_row_and_col_header>\", \"<content_row_header>\", \"<content_col_header>\", \"<content>\"]\n",
    "\n",
    "for i in range(2):\n",
    "    for j in range(2):\n",
    "        for k in range(2):\n",
    "            new_tokens.append(\"<span_type=0\" + str(i) + str(j) + str(k) + \">\")\n",
    "            new_tokens.append(\"<span_type=1\" + str(i) + str(j) + str(k) + \">\")\n",
    "\n",
    "old_processor.tokenizer.add_tokens(new_tokens, special_tokens = False)"
   ]
  },
  {
   "cell_type": "raw",
   "id": "e659778e-683d-4316-b2fc-3f90cbc69363",
   "metadata": {},
   "source": [
    "from tqdm.auto import tqdm\n",
    "\n",
    "content_list = []\n",
    "\n",
    "for i, file_name in enumerate(tqdm(json_list)):\n",
    "    with open(ANN_PATH + SPLIT + file_name, encoding=\"utf-8\") as f:\n",
    "            annotation = json.load(f)\n",
    "    for row in annotation['tables'][0]:\n",
    "        for cell in row:\n",
    "            content_list.append(cell['content'])"
   ]
  },
  {
   "cell_type": "raw",
   "id": "69dcc295-e837-4bb8-a435-0951a89277eb",
   "metadata": {},
   "source": [
    "len(processor.tokenizer)"
   ]
  },
  {
   "cell_type": "raw",
   "id": "a22333cd-580b-421a-9f4c-1b4d9f594964",
   "metadata": {},
   "source": [
    "from transformers import AddedToken\n",
    "\n",
    "new_tokenizer = processor.tokenizer.train_new_from_iterator(\n",
    "    content_list,\n",
    "    length = len(content_list),\n",
    "    vocab_size = 8000,\n",
    "    show_progress = True)\n",
    "\n",
    "processor.tokenizer = new_tokenizer"
   ]
  },
  {
   "cell_type": "raw",
   "id": "6f05794c-6702-43f5-969e-32eee46448f9",
   "metadata": {},
   "source": [
    "new_tokenizer"
   ]
  },
  {
   "cell_type": "raw",
   "id": "11e5976e-e31e-4850-bc8f-e1c74ecd648b",
   "metadata": {},
   "source": [
    "processor.save_pretrained(\"Donut_PubTables_TML_Processor8k\")"
   ]
  },
  {
   "cell_type": "code",
   "execution_count": 3,
   "id": "f9f10dd9",
   "metadata": {},
   "outputs": [
    {
     "data": {
      "text/plain": [
       "['PMC3549936_002_00.json',\n",
       " 'PMC3112512_009_00.json',\n",
       " 'PMC3772909_007_00.json',\n",
       " 'PMC5294720_004_00.json',\n",
       " 'PMC3446317_008_00.json',\n",
       " 'PMC5071235_005_00.json',\n",
       " 'PMC1421390_001_00.json',\n",
       " 'PMC5251219_004_01.json',\n",
       " 'PMC3973966_003_00.json',\n",
       " 'PMC4147206_002_00.json']"
      ]
     },
     "execution_count": 3,
     "metadata": {},
     "output_type": "execute_result"
    }
   ],
   "source": [
    "json_list[:10]"
   ]
  },
  {
   "cell_type": "code",
   "execution_count": 17,
   "id": "9a0c7510",
   "metadata": {},
   "outputs": [],
   "source": [
    "def cel2token(cell):\n",
    "    if cell['span_type'][10:] != '0000':\n",
    "        sequence = \"<\" + cell['span_type'] + \">\"\n",
    "        if cell['content_holder']:\n",
    "            if cell['row_header'] and cell['col_header']:\n",
    "                sequence += \"<content_row_and_col_header>\"\n",
    "            elif cell['col_header']:\n",
    "                sequence += \"<content_col_header>\"\n",
    "            elif cell['row_header']:\n",
    "                sequence += \"<content_row_header>\"\n",
    "            else:\n",
    "                sequence += \"<content>\"\n",
    "            sequence += cell['content']\n",
    "    else:\n",
    "        sequence = \"\"\n",
    "        if cell['content_holder']:\n",
    "            if cell['row_header'] and cell['col_header']:\n",
    "                sequence += \"<row_and_col_header>\"\n",
    "            elif cell['col_header']:\n",
    "                sequence += \"<col_header>\"\n",
    "            elif cell['row_header']:\n",
    "                sequence += \"<row_header>\"\n",
    "            else:\n",
    "                sequence += \"<cell>\"\n",
    "            sequence += cell['content']\n",
    "        \n",
    "    return sequence\n",
    "\n",
    "def row2token(row):\n",
    "    sequence = \"<row>\"\n",
    "    for cell in row:\n",
    "        sequence += cel2token(cell)\n",
    "    \n",
    "    return sequence\n",
    "\n",
    "\n",
    "def table2token(table):\n",
    "    sequence = \"<table>\"\n",
    "    for row in table:\n",
    "        sequence += row2token(row)\n",
    "    \n",
    "    return sequence\n",
    "\n",
    "\n",
    "def json2token(json):\n",
    "    sequence = \"\"\n",
    "    if('tables' in json):\n",
    "        for table in json['tables']:\n",
    "            sequence += table2token(table)\n",
    "\n",
    "    return sequence"
   ]
  },
  {
   "cell_type": "code",
   "execution_count": 38,
   "id": "d6c1c78a",
   "metadata": {},
   "outputs": [],
   "source": [
    "cell_types = [\"<cell>\", \"<col_header>\", \"<row_header>\", \"<row_and_col_header>\"]\n",
    "content_types = [\"<content_row_and_col_header>\", \"<content_row_header>\", \"<content_col_header>\", \"<content>\"]\n",
    "\n",
    "\n",
    "added_content = [\"<b>\", \"<i>\", \"<sup>\", \"<sub>\",\"</b>\", \"</i>\", \"</sup>\", \"</sub>\"]\n",
    "\n",
    "for i in range(2):\n",
    "    for j in range(2):\n",
    "        for k in range(2):\n",
    "            cell_types.append(\"<span_type=0\" + str(i) + str(j) + str(k) + \">\")\n",
    "            cell_types.append(\"<span_type=1\" + str(i) + str(j) + str(k) + \">\")\n",
    "\n",
    "\n",
    "def token2cell(processor, seq, i, cell_coord, cell_type):\n",
    "    if cell_type[:5] == \"<span\": \n",
    "        span_type = cell_type[1:-1]\n",
    "        cell_type = processor.decode(seq[i])\n",
    "        if cell_type[:5] == \"<cont\":\n",
    "            i += 1\n",
    "            if cell_type != \"<content>\":\n",
    "                cell_type = \"<\"+cell_type[9:]\n",
    "            else:\n",
    "                cell_type = \"<cell>\"\n",
    "    else:\n",
    "        span_type = \"span_type=0000\"\n",
    "    \n",
    "    x, y = cell_coord\n",
    "    aux_cell = {\n",
    "        \"row\": x,\n",
    "        \"col\": y,\n",
    "        \"col_header\": cell_type in [\"<col_header>\", \"<row_and_col_header>\"],\n",
    "        \"row_header\": cell_type in [\"<row_header>\", \"<row_and_col_header>\"],\n",
    "        \"colspan\": -1 if span_type != \"span_type=0000\"  else 1,\n",
    "        \"rowspan\": -1 if span_type != \"span_type=0000\"  else 1,\n",
    "        \"span_type\": span_type,\n",
    "        \"content\": \"\"\n",
    "    }\n",
    "    start_cont = i\n",
    "    while processor.decode(seq[i]) not in [\"<row>\", \"</s>\", \"<table>\"] + cell_types:\n",
    "        i += 1\n",
    "        \n",
    "    aux_cell['content'] += processor.decode(seq[start_cont: i])\n",
    "    \n",
    "    return aux_cell, i\n",
    "\n",
    "def token2row(processor, seq, i, row_id):\n",
    "    cells = []\n",
    "    while processor.decode(seq[i]) not in [\"<row>\", \"</s>\", \"<table>\"]:\n",
    "        if processor.decode(seq[i]) in cell_types:\n",
    "            aux_cell, i = token2cell(processor, seq, i+1, (row_id, len(cells)), processor.decode(seq[i]))\n",
    "            cells.append(aux_cell)\n",
    "        else:\n",
    "            i += 1\n",
    "    return cells, i\n",
    "\n",
    "\n",
    "def token2table(processor, seq, i):\n",
    "    rows = []\n",
    "    while processor.decode(seq[i]) not in [\"</s>\", \"<table>\"]:\n",
    "        if processor.decode(seq[i]) == \"<row>\":\n",
    "            aux_row, i = token2row(processor, seq, i+1, len(rows))\n",
    "            rows.append(aux_row)\n",
    "        else:\n",
    "            i += 1\n",
    "            \n",
    "    return rows, i\n",
    "\n",
    "\n",
    "def crop_empty_left(table):\n",
    "    for row in table:\n",
    "        empty_left = []\n",
    "        for cell in row:\n",
    "            if(cell['content'] == \"\" and cell['colspan'] == 1):\n",
    "                empty_left.append(cell)\n",
    "            else:\n",
    "                empty_left.clear()\n",
    "        \n",
    "        for cell in empty_left:\n",
    "            cell['colspan'] = 0\n",
    "            cell['rowspan'] = 0\n",
    "\n",
    "def token2ann(processor, seq, i):\n",
    "    tables = []\n",
    "    while processor.decode(seq[i]) != \"</s>\":\n",
    "        if processor.decode(seq[i] == \"<table>\"):\n",
    "            aux_table, i = token2table(processor, seq, i+1)\n",
    "            crop_empty_left(aux_table)\n",
    "            tables.append(aux_table)\n",
    "        else:\n",
    "            i += 1\n",
    "        \n",
    "    return {'tables': tables}"
   ]
  },
  {
   "cell_type": "code",
   "execution_count": 39,
   "id": "83b54042",
   "metadata": {},
   "outputs": [],
   "source": [
    "def update_vals(cell, content, col_header, row_header):\n",
    "    cell['colspan'] = 0\n",
    "    cell['rowspan'] = 0\n",
    "    \n",
    "    if cell['content'] != \"\":\n",
    "        content = cell['content']\n",
    "    \n",
    "    col_header = col_header or cell['col_header']\n",
    "    row_header = row_header or cell['row_header']\n",
    "    \n",
    "    return content, col_header, row_header\n",
    "\n",
    "\n",
    "def define_by_path(cell, table):\n",
    "    col_header, row_header = False, False\n",
    "    i, j = cell['row'], cell['col']\n",
    "    first_j = j\n",
    "\n",
    "    content = ''\n",
    "    \n",
    "    while True:\n",
    "        while True:\n",
    "            content, col_header, row_header = update_vals(cell, content, col_header, row_header)\n",
    "            \n",
    "            if(cell['span_type'][-4:-3] != '1'):\n",
    "                break\n",
    "            j += 1\n",
    "            cell = table[i][j]\n",
    "            \n",
    "        if(cell['span_type'][-3:-2] != '1'):\n",
    "            break\n",
    "        i += 1\n",
    "        j = first_j\n",
    "        cell = table[i][j]\n",
    "    \n",
    "    return (i, j), content, col_header, row_header\n",
    "\n",
    "    \n",
    "def define_spannings(table):\n",
    "    for row in table:\n",
    "        for cell in row:\n",
    "            if(cell['colspan'] == -1):\n",
    "                end_coord = (cell['row'], cell['col'])\n",
    "                content = cell['content']\n",
    "             \n",
    "                end_coord, content, col_header, row_header = define_by_path(cell, table)\n",
    "                \n",
    "                \n",
    "                cell['rowspan'] = end_coord[0] - cell['row'] + 1\n",
    "                cell['colspan'] = end_coord[1] - cell['col'] + 1\n",
    "                cell['col_header'] = col_header\n",
    "                cell['row_header'] = row_header\n",
    "                cell['content'] = content\n",
    "                "
   ]
  },
  {
   "cell_type": "code",
   "execution_count": 40,
   "id": "d0916200",
   "metadata": {},
   "outputs": [],
   "source": [
    "def cell2html(cell):\n",
    "    seq = \"<td\"\n",
    "    if(cell['rowspan'] > 1):\n",
    "        seq += ' rowspan=\"' + str(cell['rowspan']) +'\"'\n",
    "    if(cell['colspan'] > 1):\n",
    "        seq += ' colspan=\"' + str(cell['colspan']) +'\"'\n",
    "    seq += \">\" + cell[\"content\"] + \"</td>\"\n",
    "    \n",
    "    return seq\n",
    "\n",
    "def table2html(table):\n",
    "    seq = \"\"\n",
    "    head = False\n",
    "    body = False\n",
    "    for row in table:\n",
    "        row_seq = \"\"\n",
    "        count_header = 0\n",
    "        row_len = len(row)\n",
    "        for cell in row:\n",
    "            if(cell['colspan'] > 0):\n",
    "                count_header += cell['col_header']\n",
    "                row_seq += cell2html(cell)\n",
    "            else:\n",
    "                row_len -= 1\n",
    "            \n",
    "        if(count_header  > row_len/2):\n",
    "            if body:\n",
    "                seq += \"</tbody>\"\n",
    "                body = False\n",
    "                \n",
    "            if not head:\n",
    "                seq += \"<thead>\"\n",
    "                head = True\n",
    "            seq +=  \"<tr>\" + row_seq + \"</tr>\" \n",
    "        else:\n",
    "            if head:\n",
    "                seq += \"</thead>\"\n",
    "                head = False\n",
    "                \n",
    "            if not body:\n",
    "                seq += \"<tbody>\"\n",
    "                body = True\n",
    "                \n",
    "            seq +=  \"<tr>\" + row_seq + \"</tr>\"\n",
    "    \n",
    "    if head:\n",
    "        seq += \"</thead>\"\n",
    "        \n",
    "    if body:\n",
    "        seq += \"</tbody>\"\n",
    "    \n",
    "    return seq"
   ]
  },
  {
   "cell_type": "code",
   "execution_count": 41,
   "id": "8211d955",
   "metadata": {},
   "outputs": [],
   "source": [
    "gt_list = []\n",
    "pred_list = []\n",
    "\n",
    "teds = TEDS(n_jobs=4, structure_only = False)"
   ]
  },
  {
   "cell_type": "code",
   "execution_count": 42,
   "id": "33db82ff",
   "metadata": {},
   "outputs": [
    {
     "data": {
      "text/plain": [
       "{'input_ids': [0, 2, 2], 'attention_mask': [1, 1, 1]}"
      ]
     },
     "execution_count": 42,
     "metadata": {},
     "output_type": "execute_result"
    }
   ],
   "source": [
    "processor.tokenizer(\"</s>\")"
   ]
  },
  {
   "cell_type": "code",
   "execution_count": 43,
   "id": "83d386ad",
   "metadata": {},
   "outputs": [
    {
     "name": "stderr",
     "output_type": "stream",
     "text": [
      "  0%|                                    | 1/500777 [00:03<457:13:19,  3.29s/it]"
     ]
    },
    {
     "name": "stdout",
     "output_type": "stream",
     "text": [
      "<table>\n",
      "<html><body><table><thead><tr><td colspan=\"2\"><b> </b></td><td><b>Your Score</b></td><td colspan=\"3\"><b> </b></td><td><b>Your Score</b></td></tr></thead><tbody><tr><td colspan=\"2\"><b><unk>. Your age group?</b></td><td></td><td colspan=\"3\"><b>6. Are you currently taking medication for high blood pressure?</b></td></tr><tr><td>Under 35 years</td><td>0 points</td><td></td><td colspan=\"2\">No</td><td>0 points</td></tr><tr><td>35 – 44 years</td><td>2 points</td><td></td><td colspan=\"2\">Yes</td><td>2 points</td><td>___</td></tr><tr><td>45 – 54 years</td><td>4 points</td><td></td><td colspan=\"2\"></td></tr><tr><td>55 – 64 years</td><td>6 points</td><td></td><td colspan=\"2\"></td></tr><tr><td>65 years or over</td><td>8 points</td><td>___</td><td colspan=\"2\"></td></tr><tr><td colspan=\"3\"><b>2. Your gender?</b></td><td colspan=\"3\"><b>7. Do you currently smoke cigarettes or any other tobacco products on a daily basis?</b></td></tr><tr><td>Female</td><td>0 points</td><td></td><td colspan=\"2\">No</td><td>0 points</td></tr><tr><td>Male</td><td>3 points</td><td>___</td><td colspan=\"2\">Yes</td><td>2 points</td><td>___</td></tr><tr><td><b>3. Ethnicity/Country of birth:</b></td><td></td><td></td><td colspan=\"3\"><b>8. How often do you eat vegetables or fruit?</b></td></tr><tr><td>3a. Are you of Aboriginal, Torres Strait Islander, Pacific Islander or Maori descent?</td><td></td><td></td><td colspan=\"2\">Everyday</td><td>0 points</td></tr><tr><td>No</td><td>0 points</td><td></td><td colspan=\"2\">Not everyday</td><td>1 point</td><td>___</td></tr><tr><td>Yes</td><td>2 points</td><td>___</td><td colspan=\"3\"><b>9. On average, would you say you do at least 2.5 hours of physical activity per week (for example, 30 minutes a day on 5 or more days a week)?</b></td></tr><tr><td>3b. Where were you born?</td><td></td><td></td><td colspan=\"2\">Yes</td><td>0 points</td></tr><tr><td>Asia (including the Indian sub-continent), Middle East, North Africa, Southern Europe</td><td>2 points</td><td></td><td colspan=\"2\">No</td><td>2 points</td><td>___</td></tr><tr><td>Other</td><td>0 points</td><td>___</td><td colspan=\"2\"></td></tr><tr><td><b>4. Have either of your parents, or any of your brothers or sisters been diagnosed with diabetes (type 1 or type 2)?</b></td><td></td><td></td><td colspan=\"3\"><b>10. Your waist measurement taken below the ribs (usually at the level of the navel)?</b></td></tr><tr><td>No</td><td>0 points</td><td></td><td colspan=\"3\"><b>For those of Asian or Aboriginal or Torres Strait Islander descent:</b></td></tr><tr><td>Yes</td><td>3 points</td><td>___</td><td>Men</td><td>Women</td></tr><tr><td><b>5. Have you ever been found to have high blood glucose (sugar) (for example, in a health examination, during an illness, during pregnancy)?</b></td><td></td><td></td><td>Less than 90 cm</td><td>Less than 80 cm</td><td>0 points</td></tr><tr><td>No</td><td>0 points</td><td></td><td>90 – 100 cm</td><td>80 – 90 cm</td><td>4 points</td></tr><tr><td>Yes</td><td>6 points</td><td>___</td><td>More than 100 cm</td><td>More than 90 cm</td><td>7 points</td></tr><tr><td></td><td></td><td></td><td><b>For all others:</b></td></tr><tr><td></td><td></td><td></td><td>Men</td><td>Women</td></tr><tr><td></td><td></td><td></td><td>Less than 102 cm</td><td>Less than 88 cm</td><td>0 points</td></tr><tr><td></td><td></td><td></td><td>102 – 110 cm</td><td>88 – 100 cm</td><td>4 points</td></tr><tr><td></td><td></td><td></td><td>More than 110 cm</td><td>More than 100 cm</td><td>7 points</td><td>___</td></tr><tr><td></td><td><b>Subtotal</b></td><td></td><td colspan=\"3\"><b>Subtotal</b></td></tr><tr><td colspan=\"3\"><b>Your risk of developing Type II diabetes within 5 years *:</b></td><td colspan=\"3\"><b>Total Risk Score</b></td></tr><tr><td colspan=\"3\">6 - 11: Increased risk</td><td colspan=\"4\">Increased risk of developing type 2 diabetes</td></tr><tr><td colspan=\"3\">12 or more: High risk</td><td colspan=\"4\">May have undiagnosised type 2 diabetes or be at high risk of developing type 2 diabetes</td></tr></tbody></table></body></html>\n",
      "\n",
      "<html><body><table><thead><tr><td colspan=\"2\"><b> </b></td><td><b>Your Score</b></td><td colspan=\"3\"><b> </b></td><td><b>Your Score</b></td></tr></thead><tbody><tr><td colspan=\"2\"><b>1. Your age group?</b></td><td> </td><td colspan=\"3\"><b>6. Are you currently taking medication for high blood pressure?</b></td><td> </td></tr><tr><td> Under 35 years</td><td>0 points</td><td> </td><td colspan=\"2\"> No</td><td>0 points</td><td> </td></tr><tr><td> 35 – 44 years</td><td>2 points</td><td> </td><td colspan=\"2\"> Yes</td><td>2 points</td><td>___</td></tr><tr><td> 45 – 54 years</td><td>4 points</td><td> </td><td colspan=\"2\"> </td><td> </td><td> </td></tr><tr><td> 55 – 64 years</td><td>6 points</td><td> </td><td colspan=\"2\"> </td><td> </td><td> </td></tr><tr><td> 65 years or over</td><td>8 points</td><td>___</td><td colspan=\"2\"> </td><td> </td><td> </td></tr><tr><td colspan=\"3\"><b>2. Your gender?</b></td><td colspan=\"3\"><b>7. Do you currently smoke cigarettes or any other tobacco products on a daily basis?</b></td><td> </td></tr><tr><td> Female</td><td>0 points</td><td> </td><td colspan=\"2\"> No</td><td>0 points</td><td> </td></tr><tr><td> Male</td><td>3 points</td><td>___</td><td colspan=\"2\"> Yes</td><td>2 points</td><td>___</td></tr><tr><td><b>3. Ethnicity/Country of birth:</b></td><td> </td><td> </td><td colspan=\"3\"><b>8. How often do you eat vegetables or fruit?</b></td><td> </td></tr><tr><td>3a. Are you of Aboriginal, Torres Strait Islander, Pacific Islander or Maori descent?</td><td> </td><td> </td><td colspan=\"2\"> Everyday</td><td>0 points</td><td> </td></tr><tr><td> No</td><td>0 points</td><td> </td><td colspan=\"2\"> Not everyday</td><td>1 point</td><td>___</td></tr><tr><td> Yes</td><td>2 points</td><td>___</td><td colspan=\"3\"><b>9. On average, would you say you do at least 2.5 hours of physical activity per week (for example, 30 minutes a day on 5 or more days a week)?</b></td><td> </td></tr><tr><td>3b. Where were you born?</td><td> </td><td> </td><td colspan=\"2\"> Yes</td><td>0 points</td><td> </td></tr><tr><td> Asia (including the Indian sub-continent), Middle East, North Africa, Southern Europe</td><td>2 points</td><td> </td><td colspan=\"2\"> No</td><td>2 points</td><td>___</td></tr><tr><td> Other</td><td>0 points</td><td>___</td><td colspan=\"2\"> </td><td> </td><td> </td></tr><tr><td><b>4. Have either of your parents, or any of your brothers or sisters been diagnosed with diabetes (type 1 or type 2)?</b></td><td> </td><td> </td><td colspan=\"3\"><b>10. Your waist measurement taken below the ribs (usually at the level of the navel)?</b></td><td> </td></tr><tr><td> No</td><td>0 points</td><td> </td><td colspan=\"3\"> <b>For those of Asian or Aboriginal or Torres Strait Islander descent:</b></td><td> </td></tr><tr><td> Yes</td><td>3 points</td><td>___</td><td> Men</td><td>Women</td><td> </td><td> </td></tr><tr><td><b>5. Have you ever been found to have high blood glucose (sugar) (for example, in a health examination, during an illness, during pregnancy)?</b></td><td> </td><td> </td><td> Less than 90 cm</td><td>Less than 80 cm</td><td>0 points</td><td> </td></tr><tr><td> No</td><td>0 points</td><td> </td><td> 90 – 100 cm</td><td>80 – 90 cm</td><td>4 points</td><td> </td></tr><tr><td> Yes</td><td>6 points</td><td>___</td><td> More than 100 cm</td><td>More than 90 cm</td><td>7 points</td><td> </td></tr><tr><td> </td><td> </td><td> </td><td> <b>For all others:</b></td><td> </td><td> </td><td> </td></tr><tr><td> </td><td> </td><td> </td><td> Men</td><td>Women</td><td> </td><td> </td></tr><tr><td> </td><td> </td><td> </td><td> Less than 102 cm</td><td>Less than 88 cm</td><td>0 points</td><td> </td></tr><tr><td> </td><td> </td><td> </td><td> 102 – 110 cm</td><td>88 – 100 cm</td><td>4 points</td><td> </td></tr><tr><td> </td><td> </td><td> </td><td> More than 110 cm</td><td>More than 100 cm</td><td>7 points</td><td>___</td></tr><tr><td> </td><td><b>Subtotal</b></td><td> </td><td colspan=\"3\"><b>Subtotal</b></td><td> </td></tr><tr><td colspan=\"3\"><b>Your risk of developing Type II diabetes within 5 years *:</b></td><td colspan=\"3\"><b>Total Risk Score</b></td><td> </td></tr><tr><td colspan=\"3\">6 - 11: Increased risk</td><td colspan=\"4\">Increased risk of developing type 2 diabetes</td></tr><tr><td colspan=\"3\">12 or more: High risk</td><td colspan=\"4\">May have undiagnosised type 2 diabetes or be at high risk of developing type 2 diabetes</td></tr></tbody></table></body></html>\n",
      "0.661344697917104\n",
      "0-> 0.0\n"
     ]
    },
    {
     "name": "stderr",
     "output_type": "stream",
     "text": [
      "  0%|                                    | 2/500777 [00:05<367:46:38,  2.64s/it]\n"
     ]
    },
    {
     "ename": "KeyboardInterrupt",
     "evalue": "",
     "output_type": "error",
     "traceback": [
      "\u001b[0;31m---------------------------------------------------------------------------\u001b[0m",
      "\u001b[0;31mKeyboardInterrupt\u001b[0m                         Traceback (most recent call last)",
      "Cell \u001b[0;32mIn[43], line 46\u001b[0m\n\u001b[1;32m     43\u001b[0m pred_list\u001b[38;5;241m.\u001b[39mappend(pred_html)\n\u001b[1;32m     44\u001b[0m gt_list\u001b[38;5;241m.\u001b[39mappend(gt_html)\n\u001b[0;32m---> 46\u001b[0m ratio \u001b[38;5;241m=\u001b[39m \u001b[43mteds\u001b[49m\u001b[38;5;241;43m.\u001b[39;49m\u001b[43mevaluate\u001b[49m\u001b[43m(\u001b[49m\u001b[38;5;28;43mstr\u001b[39;49m\u001b[43m(\u001b[49m\u001b[43mpred_html\u001b[49m\u001b[43m)\u001b[49m\u001b[43m,\u001b[49m\u001b[43m \u001b[49m\u001b[38;5;28;43mstr\u001b[39;49m\u001b[43m(\u001b[49m\u001b[43mgt_html\u001b[49m\u001b[43m)\u001b[49m\u001b[43m)\u001b[49m\n\u001b[1;32m     47\u001b[0m \u001b[38;5;28;01mif\u001b[39;00m(ratio \u001b[38;5;241m<\u001b[39m \u001b[38;5;241m.9\u001b[39m):\n\u001b[1;32m     48\u001b[0m     \u001b[38;5;28mprint\u001b[39m(processor\u001b[38;5;241m.\u001b[39mdecode(input_ids[\u001b[38;5;241m1\u001b[39m]))\n",
      "File \u001b[0;32m~/Documents/UFLA/projeto_IC/table_extraction/aux/PubTabNet/src/metric.py:130\u001b[0m, in \u001b[0;36mTEDS.evaluate\u001b[0;34m(self, pred, true)\u001b[0m\n\u001b[1;32m    128\u001b[0m     tree_pred \u001b[38;5;241m=\u001b[39m \u001b[38;5;28mself\u001b[39m\u001b[38;5;241m.\u001b[39mload_html_tree(pred)\n\u001b[1;32m    129\u001b[0m     tree_true \u001b[38;5;241m=\u001b[39m \u001b[38;5;28mself\u001b[39m\u001b[38;5;241m.\u001b[39mload_html_tree(true)\n\u001b[0;32m--> 130\u001b[0m     distance \u001b[38;5;241m=\u001b[39m \u001b[43mAPTED\u001b[49m\u001b[43m(\u001b[49m\u001b[43mtree_pred\u001b[49m\u001b[43m,\u001b[49m\u001b[43m \u001b[49m\u001b[43mtree_true\u001b[49m\u001b[43m,\u001b[49m\u001b[43m \u001b[49m\u001b[43mCustomConfig\u001b[49m\u001b[43m(\u001b[49m\u001b[43m)\u001b[49m\u001b[43m)\u001b[49m\u001b[38;5;241;43m.\u001b[39;49m\u001b[43mcompute_edit_distance\u001b[49m\u001b[43m(\u001b[49m\u001b[43m)\u001b[49m\n\u001b[1;32m    131\u001b[0m     \u001b[38;5;28;01mreturn\u001b[39;00m \u001b[38;5;241m1.0\u001b[39m \u001b[38;5;241m-\u001b[39m (\u001b[38;5;28mfloat\u001b[39m(distance) \u001b[38;5;241m/\u001b[39m n_nodes)\n\u001b[1;32m    132\u001b[0m \u001b[38;5;28;01melse\u001b[39;00m:\n",
      "File \u001b[0;32m~/.local/lib/python3.10/site-packages/apted/apted.py:106\u001b[0m, in \u001b[0;36mAPTED.compute_edit_distance\u001b[0;34m(self)\u001b[0m\n\u001b[1;32m    103\u001b[0m         \u001b[38;5;28mself\u001b[39m\u001b[38;5;241m.\u001b[39mdelta \u001b[38;5;241m=\u001b[39m \u001b[38;5;28mself\u001b[39m\u001b[38;5;241m.\u001b[39mcompute_opt_strategy_post_r()\n\u001b[1;32m    105\u001b[0m     \u001b[38;5;28mself\u001b[39m\u001b[38;5;241m.\u001b[39mted_init()\n\u001b[0;32m--> 106\u001b[0m     \u001b[38;5;28mself\u001b[39m\u001b[38;5;241m.\u001b[39mresult \u001b[38;5;241m=\u001b[39m \u001b[38;5;28;43mself\u001b[39;49m\u001b[38;5;241;43m.\u001b[39;49m\u001b[43mgted\u001b[49m\u001b[43m(\u001b[49m\u001b[43m)\u001b[49m\n\u001b[1;32m    107\u001b[0m \u001b[38;5;28;01mreturn\u001b[39;00m \u001b[38;5;28mself\u001b[39m\u001b[38;5;241m.\u001b[39mresult\n",
      "File \u001b[0;32m~/.local/lib/python3.10/site-packages/apted/apted.py:381\u001b[0m, in \u001b[0;36mAPTED.gted\u001b[0;34m(self, data)\u001b[0m\n\u001b[1;32m    379\u001b[0m \u001b[38;5;66;03m# Apply on subtree 2\u001b[39;00m\n\u001b[1;32m    380\u001b[0m node_id \u001b[38;5;241m-\u001b[39m\u001b[38;5;241m=\u001b[39m it1\u001b[38;5;241m.\u001b[39mtree_size\n\u001b[0;32m--> 381\u001b[0m \u001b[38;5;28;01mreturn\u001b[39;00m \u001b[38;5;28;43mself\u001b[39;49m\u001b[38;5;241;43m.\u001b[39;49m\u001b[43msub_gted\u001b[49m\u001b[43m(\u001b[49m\u001b[43mdata\u001b[49m\u001b[43m,\u001b[49m\u001b[43m \u001b[49m\u001b[43mit2\u001b[49m\u001b[43m,\u001b[49m\u001b[43m \u001b[49m\u001b[43mit1\u001b[49m\u001b[43m,\u001b[49m\u001b[43m \u001b[49m\u001b[43mtree2\u001b[49m\u001b[43m,\u001b[49m\u001b[43m \u001b[49m\u001b[43mpath_id\u001b[49m\u001b[43m,\u001b[49m\u001b[43m \u001b[49m\u001b[43mnode_id\u001b[49m\u001b[43m,\u001b[49m\u001b[43m \u001b[49m\u001b[38;5;28;43;01mTrue\u001b[39;49;00m\u001b[43m)\u001b[49m\n",
      "File \u001b[0;32m~/.local/lib/python3.10/site-packages/apted/apted.py:395\u001b[0m, in \u001b[0;36mAPTED.sub_gted\u001b[0;34m(self, data, it_f, it_s, tree_f, path_id, node_id, reverse)\u001b[0m\n\u001b[1;32m    393\u001b[0m         \u001b[38;5;28;01mif\u001b[39;00m child \u001b[38;5;129;01mis\u001b[39;00m \u001b[38;5;129;01mnot\u001b[39;00m last:\n\u001b[1;32m    394\u001b[0m             data[it_f\u001b[38;5;241m.\u001b[39mnum] \u001b[38;5;241m=\u001b[39m child\n\u001b[0;32m--> 395\u001b[0m             \u001b[38;5;28;43mself\u001b[39;49m\u001b[38;5;241;43m.\u001b[39;49m\u001b[43mgted\u001b[49m\u001b[43m(\u001b[49m\u001b[43mdata\u001b[49m\u001b[43m)\u001b[49m\n\u001b[1;32m    398\u001b[0m data[it_f\u001b[38;5;241m.\u001b[39mnum] \u001b[38;5;241m=\u001b[39m tree_f\n\u001b[1;32m    399\u001b[0m \u001b[38;5;66;03m# Pass to spfs a boolean that says says if the order of input\u001b[39;00m\n\u001b[1;32m    400\u001b[0m \u001b[38;5;66;03m# subtrees has been swapped compared to the order of the initial\u001b[39;00m\n\u001b[1;32m    401\u001b[0m \u001b[38;5;66;03m# input trees. Used for accessing delta array and deciding on the\u001b[39;00m\n\u001b[1;32m    402\u001b[0m \u001b[38;5;66;03m# edit operation. See [1, Section 3.4].\u001b[39;00m\n",
      "File \u001b[0;32m~/.local/lib/python3.10/site-packages/apted/apted.py:381\u001b[0m, in \u001b[0;36mAPTED.gted\u001b[0;34m(self, data)\u001b[0m\n\u001b[1;32m    379\u001b[0m \u001b[38;5;66;03m# Apply on subtree 2\u001b[39;00m\n\u001b[1;32m    380\u001b[0m node_id \u001b[38;5;241m-\u001b[39m\u001b[38;5;241m=\u001b[39m it1\u001b[38;5;241m.\u001b[39mtree_size\n\u001b[0;32m--> 381\u001b[0m \u001b[38;5;28;01mreturn\u001b[39;00m \u001b[38;5;28;43mself\u001b[39;49m\u001b[38;5;241;43m.\u001b[39;49m\u001b[43msub_gted\u001b[49m\u001b[43m(\u001b[49m\u001b[43mdata\u001b[49m\u001b[43m,\u001b[49m\u001b[43m \u001b[49m\u001b[43mit2\u001b[49m\u001b[43m,\u001b[49m\u001b[43m \u001b[49m\u001b[43mit1\u001b[49m\u001b[43m,\u001b[49m\u001b[43m \u001b[49m\u001b[43mtree2\u001b[49m\u001b[43m,\u001b[49m\u001b[43m \u001b[49m\u001b[43mpath_id\u001b[49m\u001b[43m,\u001b[49m\u001b[43m \u001b[49m\u001b[43mnode_id\u001b[49m\u001b[43m,\u001b[49m\u001b[43m \u001b[49m\u001b[38;5;28;43;01mTrue\u001b[39;49;00m\u001b[43m)\u001b[49m\n",
      "File \u001b[0;32m~/.local/lib/python3.10/site-packages/apted/apted.py:404\u001b[0m, in \u001b[0;36mAPTED.sub_gted\u001b[0;34m(self, data, it_f, it_s, tree_f, path_id, node_id, reverse)\u001b[0m\n\u001b[1;32m    398\u001b[0m data[it_f\u001b[38;5;241m.\u001b[39mnum] \u001b[38;5;241m=\u001b[39m tree_f\n\u001b[1;32m    399\u001b[0m \u001b[38;5;66;03m# Pass to spfs a boolean that says says if the order of input\u001b[39;00m\n\u001b[1;32m    400\u001b[0m \u001b[38;5;66;03m# subtrees has been swapped compared to the order of the initial\u001b[39;00m\n\u001b[1;32m    401\u001b[0m \u001b[38;5;66;03m# input trees. Used for accessing delta array and deciding on the\u001b[39;00m\n\u001b[1;32m    402\u001b[0m \u001b[38;5;66;03m# edit operation. See [1, Section 3.4].\u001b[39;00m\n\u001b[0;32m--> 404\u001b[0m \u001b[38;5;28;01mreturn\u001b[39;00m \u001b[38;5;28;43mself\u001b[39;49m\u001b[38;5;241;43m.\u001b[39;49m\u001b[43mspf\u001b[49m\u001b[43m(\u001b[49m\n\u001b[1;32m    405\u001b[0m \u001b[43m    \u001b[49m\u001b[43mit_f\u001b[49m\u001b[43m,\u001b[49m\u001b[43m \u001b[49m\u001b[43mit_s\u001b[49m\u001b[43m,\u001b[49m\n\u001b[1;32m    406\u001b[0m \u001b[43m    \u001b[49m\u001b[43mdata\u001b[49m\u001b[43m[\u001b[49m\u001b[43mit_f\u001b[49m\u001b[38;5;241;43m.\u001b[39;49m\u001b[43mnum\u001b[49m\u001b[43m]\u001b[49m\u001b[43m,\u001b[49m\u001b[43m \u001b[49m\u001b[43mdata\u001b[49m\u001b[43m[\u001b[49m\u001b[43mit_s\u001b[49m\u001b[38;5;241;43m.\u001b[39;49m\u001b[43mnum\u001b[49m\u001b[43m]\u001b[49m\u001b[43m,\u001b[49m\n\u001b[1;32m    407\u001b[0m \u001b[43m    \u001b[49m\u001b[38;5;28;43mself\u001b[39;49m\u001b[43m,\u001b[49m\u001b[43m \u001b[49m\u001b[43mnode_id\u001b[49m\u001b[43m,\u001b[49m\u001b[43m \u001b[49m\u001b[43mstrategy\u001b[49m\u001b[43m,\u001b[49m\u001b[43m \u001b[49m\u001b[43mreverse\u001b[49m\n\u001b[1;32m    408\u001b[0m \u001b[43m\u001b[49m\u001b[43m)\u001b[49m\u001b[43m(\u001b[49m\u001b[43m)\u001b[49m\n",
      "File \u001b[0;32m~/.local/lib/python3.10/site-packages/apted/single_path_functions.py:669\u001b[0m, in \u001b[0;36mSinglePathFunction.__call__\u001b[0;34m(self)\u001b[0m\n\u001b[1;32m    668\u001b[0m \u001b[38;5;28;01mdef\u001b[39;00m \u001b[38;5;21m__call__\u001b[39m(\u001b[38;5;28mself\u001b[39m):\n\u001b[0;32m--> 669\u001b[0m     result \u001b[38;5;241m=\u001b[39m \u001b[43m{\u001b[49m\n\u001b[1;32m    670\u001b[0m \u001b[43m        \u001b[49m\u001b[43mLEFT\u001b[49m\u001b[43m:\u001b[49m\u001b[43m \u001b[49m\u001b[38;5;28;43mself\u001b[39;49m\u001b[38;5;241;43m.\u001b[39;49m\u001b[43mspf_l\u001b[49m\u001b[43m,\u001b[49m\n\u001b[1;32m    671\u001b[0m \u001b[43m        \u001b[49m\u001b[43mRIGHT\u001b[49m\u001b[43m:\u001b[49m\u001b[43m \u001b[49m\u001b[38;5;28;43mself\u001b[39;49m\u001b[38;5;241;43m.\u001b[39;49m\u001b[43mspf_r\u001b[49m\u001b[43m,\u001b[49m\n\u001b[1;32m    672\u001b[0m \u001b[43m        \u001b[49m\u001b[43mINNER\u001b[49m\u001b[43m:\u001b[49m\u001b[43m \u001b[49m\u001b[38;5;28;43mself\u001b[39;49m\u001b[38;5;241;43m.\u001b[39;49m\u001b[43mspf_a\u001b[49m\u001b[43m,\u001b[49m\n\u001b[1;32m    673\u001b[0m \u001b[43m    \u001b[49m\u001b[43m}\u001b[49m\u001b[43m[\u001b[49m\u001b[38;5;28;43mself\u001b[39;49m\u001b[38;5;241;43m.\u001b[39;49m\u001b[43mpath_type\u001b[49m\u001b[43m]\u001b[49m\u001b[43m(\u001b[49m\u001b[43m)\u001b[49m\n\u001b[1;32m    674\u001b[0m     \u001b[38;5;28mself\u001b[39m\u001b[38;5;241m.\u001b[39mapted\u001b[38;5;241m.\u001b[39mcounter \u001b[38;5;241m=\u001b[39m \u001b[38;5;28mself\u001b[39m\u001b[38;5;241m.\u001b[39mcounter\n\u001b[1;32m    675\u001b[0m     \u001b[38;5;28;01mreturn\u001b[39;00m result\n",
      "File \u001b[0;32m~/.local/lib/python3.10/site-packages/apted/single_path_functions.py:229\u001b[0m, in \u001b[0;36mSinglePathFunction.spf_r\u001b[0;34m(self)\u001b[0m\n\u001b[1;32m    227\u001b[0m \u001b[38;5;28mself\u001b[39m\u001b[38;5;241m.\u001b[39matb_2 \u001b[38;5;241m=\u001b[39m \u001b[38;5;28mself\u001b[39m\u001b[38;5;241m.\u001b[39mit2\u001b[38;5;241m.\u001b[39mpost_rtl_info\n\u001b[1;32m    228\u001b[0m \u001b[38;5;28mself\u001b[39m\u001b[38;5;241m.\u001b[39mleft_right \u001b[38;5;241m=\u001b[39m \u001b[38;5;28mself\u001b[39m\u001b[38;5;241m.\u001b[39mswap\n\u001b[0;32m--> 229\u001b[0m \u001b[38;5;28;01mreturn\u001b[39;00m \u001b[38;5;28;43mself\u001b[39;49m\u001b[38;5;241;43m.\u001b[39;49m\u001b[43mspf_generic_side\u001b[49m\u001b[43m(\u001b[49m\u001b[43m)\u001b[49m\n",
      "File \u001b[0;32m~/.local/lib/python3.10/site-packages/apted/single_path_functions.py:262\u001b[0m, in \u001b[0;36mSinglePathFunction.spf_generic_side\u001b[0;34m(self)\u001b[0m\n\u001b[1;32m    257\u001b[0m \u001b[38;5;66;03m# Compute the distances between pairs of keyroot nodes. In the left-hand\u001b[39;00m\n\u001b[1;32m    258\u001b[0m \u001b[38;5;66;03m# input subtree only the root is the keyroot. Thus, we compute the distance\u001b[39;00m\n\u001b[1;32m    259\u001b[0m \u001b[38;5;66;03m# between the left-hand input subtree and all keyroot nodes in the\u001b[39;00m\n\u001b[1;32m    260\u001b[0m \u001b[38;5;66;03m# right-hand input subtree.\u001b[39;00m\n\u001b[1;32m    261\u001b[0m \u001b[38;5;28;01mfor\u001b[39;00m i \u001b[38;5;129;01min\u001b[39;00m \u001b[38;5;28mrange\u001b[39m(first_keyroot \u001b[38;5;241m-\u001b[39m \u001b[38;5;241m1\u001b[39m, \u001b[38;5;241m-\u001b[39m\u001b[38;5;241m1\u001b[39m, \u001b[38;5;241m-\u001b[39m\u001b[38;5;241m1\u001b[39m):\n\u001b[0;32m--> 262\u001b[0m     \u001b[43mtree_edit_dist\u001b[49m\u001b[43m(\u001b[49m\u001b[43mcurrent1\u001b[49m\u001b[43m,\u001b[49m\u001b[43m \u001b[49m\u001b[43mkeyroots\u001b[49m\u001b[43m[\u001b[49m\u001b[43mi\u001b[49m\u001b[43m]\u001b[49m\u001b[43m,\u001b[49m\u001b[43m \u001b[49m\u001b[43mforestdist\u001b[49m\u001b[43m)\u001b[49m\n\u001b[1;32m    264\u001b[0m \u001b[38;5;28;01mreturn\u001b[39;00m forestdist[size1][size2]\n",
      "File \u001b[0;32m~/.local/lib/python3.10/site-packages/apted/single_path_functions.py:331\u001b[0m, in \u001b[0;36mSinglePathFunction.tree_edit_dist\u001b[0;34m(self, subtree1, subtree2, forestdist)\u001b[0m\n\u001b[1;32m    329\u001b[0m \u001b[38;5;28mself\u001b[39m\u001b[38;5;241m.\u001b[39mcounter \u001b[38;5;241m+\u001b[39m\u001b[38;5;241m=\u001b[39m \u001b[38;5;241m1\u001b[39m\n\u001b[1;32m    330\u001b[0m \u001b[38;5;66;03m# Calculate partial distance values for this subproblem.\u001b[39;00m\n\u001b[0;32m--> 331\u001b[0m u \u001b[38;5;241m=\u001b[39m \u001b[43mrename\u001b[49m\u001b[43m(\u001b[49m\u001b[43minfo1_node\u001b[49m\u001b[43m,\u001b[49m\u001b[43m \u001b[49m\u001b[43minfo2_node\u001b[49m\u001b[43m)\u001b[49m\n\u001b[1;32m    332\u001b[0m da \u001b[38;5;241m=\u001b[39m forestdist[i1 \u001b[38;5;241m-\u001b[39m \u001b[38;5;241m1\u001b[39m][j1] \u001b[38;5;241m+\u001b[39m delete(info1_node)\n\u001b[1;32m    333\u001b[0m db \u001b[38;5;241m=\u001b[39m forestdist[i1][j1 \u001b[38;5;241m-\u001b[39m \u001b[38;5;241m1\u001b[39m] \u001b[38;5;241m+\u001b[39m insert(info2_node)\n",
      "File \u001b[0;32m~/.local/lib/python3.10/site-packages/apted/single_path_functions.py:133\u001b[0m, in \u001b[0;36mSinglePathFunction.__init__.<locals>.<lambda>\u001b[0;34m(x, y)\u001b[0m\n\u001b[1;32m    131\u001b[0m     \u001b[38;5;28mself\u001b[39m\u001b[38;5;241m.\u001b[39mdelete \u001b[38;5;241m=\u001b[39m apted\u001b[38;5;241m.\u001b[39mconfig\u001b[38;5;241m.\u001b[39minsert\n\u001b[1;32m    132\u001b[0m     \u001b[38;5;28mself\u001b[39m\u001b[38;5;241m.\u001b[39minsert \u001b[38;5;241m=\u001b[39m apted\u001b[38;5;241m.\u001b[39mconfig\u001b[38;5;241m.\u001b[39mdelete\n\u001b[0;32m--> 133\u001b[0m     \u001b[38;5;28mself\u001b[39m\u001b[38;5;241m.\u001b[39mrename \u001b[38;5;241m=\u001b[39m \u001b[38;5;28;01mlambda\u001b[39;00m x, y: \u001b[43mapted\u001b[49m\u001b[38;5;241;43m.\u001b[39;49m\u001b[43mconfig\u001b[49m\u001b[38;5;241;43m.\u001b[39;49m\u001b[43mrename\u001b[49m\u001b[43m(\u001b[49m\u001b[43my\u001b[49m\u001b[43m,\u001b[49m\u001b[43m \u001b[49m\u001b[43mx\u001b[49m\u001b[43m)\u001b[49m\n\u001b[1;32m    134\u001b[0m \u001b[38;5;28;01melse\u001b[39;00m:\n\u001b[1;32m    135\u001b[0m     \u001b[38;5;28mself\u001b[39m\u001b[38;5;241m.\u001b[39mswap \u001b[38;5;241m=\u001b[39m \u001b[38;5;28;01mlambda\u001b[39;00m a, b: (a, b)\n",
      "File \u001b[0;32m~/Documents/UFLA/projeto_IC/table_extraction/aux/PubTabNet/src/metric.py:58\u001b[0m, in \u001b[0;36mCustomConfig.rename\u001b[0;34m(self, node1, node2)\u001b[0m\n\u001b[1;32m     56\u001b[0m \u001b[38;5;28;01mif\u001b[39;00m node1\u001b[38;5;241m.\u001b[39mtag \u001b[38;5;241m==\u001b[39m \u001b[38;5;124m'\u001b[39m\u001b[38;5;124mtd\u001b[39m\u001b[38;5;124m'\u001b[39m:\n\u001b[1;32m     57\u001b[0m     \u001b[38;5;28;01mif\u001b[39;00m node1\u001b[38;5;241m.\u001b[39mcontent \u001b[38;5;129;01mor\u001b[39;00m node2\u001b[38;5;241m.\u001b[39mcontent:\n\u001b[0;32m---> 58\u001b[0m         \u001b[38;5;28;01mreturn\u001b[39;00m \u001b[38;5;28;43mself\u001b[39;49m\u001b[38;5;241;43m.\u001b[39;49m\u001b[43mnormalized_distance\u001b[49m\u001b[43m(\u001b[49m\u001b[43mnode1\u001b[49m\u001b[38;5;241;43m.\u001b[39;49m\u001b[43mcontent\u001b[49m\u001b[43m,\u001b[49m\u001b[43m \u001b[49m\u001b[43mnode2\u001b[49m\u001b[38;5;241;43m.\u001b[39;49m\u001b[43mcontent\u001b[49m\u001b[43m)\u001b[49m\n\u001b[1;32m     59\u001b[0m \u001b[38;5;28;01mreturn\u001b[39;00m \u001b[38;5;241m0.\u001b[39m\n",
      "File \u001b[0;32m~/Documents/UFLA/projeto_IC/table_extraction/aux/PubTabNet/src/metric.py:50\u001b[0m, in \u001b[0;36mCustomConfig.normalized_distance\u001b[0;34m(self, *sequences)\u001b[0m\n\u001b[1;32m     47\u001b[0m \u001b[38;5;28;01mdef\u001b[39;00m \u001b[38;5;21mnormalized_distance\u001b[39m(\u001b[38;5;28mself\u001b[39m, \u001b[38;5;241m*\u001b[39msequences):\n\u001b[1;32m     48\u001b[0m \u001b[38;5;250m    \u001b[39m\u001b[38;5;124;03m\"\"\"Get distance from 0 to 1\u001b[39;00m\n\u001b[1;32m     49\u001b[0m \u001b[38;5;124;03m    \"\"\"\u001b[39;00m\n\u001b[0;32m---> 50\u001b[0m     \u001b[38;5;28;01mreturn\u001b[39;00m \u001b[38;5;28mfloat\u001b[39m(\u001b[43mdistance\u001b[49m\u001b[38;5;241;43m.\u001b[39;49m\u001b[43mlevenshtein\u001b[49m\u001b[43m(\u001b[49m\u001b[38;5;241;43m*\u001b[39;49m\u001b[43msequences\u001b[49m\u001b[43m)\u001b[49m) \u001b[38;5;241m/\u001b[39m \u001b[38;5;28mself\u001b[39m\u001b[38;5;241m.\u001b[39mmaximum(\u001b[38;5;241m*\u001b[39msequences)\n",
      "File \u001b[0;32m~/.local/lib/python3.10/site-packages/distance/_levenshtein.py:61\u001b[0m, in \u001b[0;36mlevenshtein\u001b[0;34m(seq1, seq2, max_dist, normalized)\u001b[0m\n\u001b[1;32m     59\u001b[0m \told \u001b[38;5;241m=\u001b[39m column[y]\n\u001b[1;32m     60\u001b[0m \tcost \u001b[38;5;241m=\u001b[39m \u001b[38;5;28mint\u001b[39m(seq1[x \u001b[38;5;241m-\u001b[39m \u001b[38;5;241m1\u001b[39m] \u001b[38;5;241m!=\u001b[39m seq2[y \u001b[38;5;241m-\u001b[39m \u001b[38;5;241m1\u001b[39m])\n\u001b[0;32m---> 61\u001b[0m \tcolumn[y] \u001b[38;5;241m=\u001b[39m \u001b[38;5;28;43mmin\u001b[39;49m\u001b[43m(\u001b[49m\u001b[43mcolumn\u001b[49m\u001b[43m[\u001b[49m\u001b[43my\u001b[49m\u001b[43m]\u001b[49m\u001b[43m \u001b[49m\u001b[38;5;241;43m+\u001b[39;49m\u001b[43m \u001b[49m\u001b[38;5;241;43m1\u001b[39;49m\u001b[43m,\u001b[49m\u001b[43m \u001b[49m\u001b[43mcolumn\u001b[49m\u001b[43m[\u001b[49m\u001b[43my\u001b[49m\u001b[43m \u001b[49m\u001b[38;5;241;43m-\u001b[39;49m\u001b[43m \u001b[49m\u001b[38;5;241;43m1\u001b[39;49m\u001b[43m]\u001b[49m\u001b[43m \u001b[49m\u001b[38;5;241;43m+\u001b[39;49m\u001b[43m \u001b[49m\u001b[38;5;241;43m1\u001b[39;49m\u001b[43m,\u001b[49m\u001b[43m \u001b[49m\u001b[43mlast\u001b[49m\u001b[43m \u001b[49m\u001b[38;5;241;43m+\u001b[39;49m\u001b[43m \u001b[49m\u001b[43mcost\u001b[49m\u001b[43m)\u001b[49m\n\u001b[1;32m     62\u001b[0m \tlast \u001b[38;5;241m=\u001b[39m old\n\u001b[1;32m     63\u001b[0m \u001b[38;5;28;01mif\u001b[39;00m max_dist \u001b[38;5;241m>\u001b[39m\u001b[38;5;241m=\u001b[39m \u001b[38;5;241m0\u001b[39m \u001b[38;5;129;01mand\u001b[39;00m \u001b[38;5;28mmin\u001b[39m(column) \u001b[38;5;241m>\u001b[39m max_dist:\n",
      "\u001b[0;31mKeyboardInterrupt\u001b[0m: "
     ]
    }
   ],
   "source": [
    "import random\n",
    "import torch\n",
    "from difflib import SequenceMatcher\n",
    "from tqdm.auto import tqdm\n",
    "\n",
    "removed_tags = []\n",
    "soma_ratios = 0\n",
    "\n",
    "for i, file_name in enumerate(tqdm(json_list)):\n",
    "\n",
    "    with open(ANN_PATH + SPLIT + file_name, encoding=\"utf-8\") as f:\n",
    "        annotation = json.load(f)\n",
    "    with open(ANN_PATH + SPLIT + file_name[:-5]+\"-HTML.json\", encoding=\"utf-8\") as f:\n",
    "        gt_html = \"<html><body><table>\"+str(json.load(f))+\"</table></body></html>\"\n",
    "    \n",
    "    for tag in removed_tags:\n",
    "        gt_html = \"<html><body><table>\"+gt_html.replace(tag, \"\")+\"</table></body></html>\"\n",
    "    \n",
    "    target_sequence = \"<s>\"+json2token(annotation)+\"</s>\"\n",
    "    input_ids = processor.tokenizer(\n",
    "        target_sequence,\n",
    "        add_special_tokens=False,\n",
    "        max_length= 4096,\n",
    "        padding=\"max_length\",\n",
    "        truncation=True,\n",
    "        return_tensors=\"pt\",\n",
    "    )[\"input_ids\"].squeeze(0)\n",
    "    \n",
    "    \n",
    "    input_ids = torch.cat((input_ids, torch.Tensor([2, 2]).int()), 0)\n",
    "    \n",
    "    table = token2ann(processor, input_ids, 1)\n",
    "    table_aux  = table.copy()\n",
    "    \n",
    "    \n",
    "    \n",
    "    define_spannings(table['tables'][0])\n",
    "    pred_html = \"<html><body><table>\"+table2html(table['tables'][0])+\"</table></body></html>\"\n",
    "    \n",
    "    pred_html = pred_html\n",
    "    gt_html = gt_html\n",
    "    \n",
    "    pred_list.append(pred_html)\n",
    "    gt_list.append(gt_html)\n",
    "    \n",
    "    ratio = teds.evaluate(str(pred_html), str(gt_html))\n",
    "    if(ratio < .9):\n",
    "        print(processor.decode(input_ids[1]))\n",
    "        #print(target_sequence)\n",
    "        #print(table['tables'][0])\n",
    "        print(pred_html)\n",
    "        print()\n",
    "        print(gt_html)\n",
    "        print(ratio)\n",
    "    if i% 10 == 0:   \n",
    "        print(str(i)+'->', soma_ratios/max(1, i))\n",
    "    \n",
    "    soma_ratios += ratio\n",
    "print(soma_ratios/len(json_list))"
   ]
  },
  {
   "cell_type": "code",
   "execution_count": null,
   "id": "4915c1ea",
   "metadata": {},
   "outputs": [],
   "source": [
    "input_ids"
   ]
  },
  {
   "cell_type": "code",
   "execution_count": null,
   "id": "7c9d0515",
   "metadata": {},
   "outputs": [],
   "source": [
    "json.dump(pred_list, open(\"teste-pred.json\", 'w'))\n",
    "json.dump(gt_list, open(\"teste-gt.json\", 'w'))"
   ]
  },
  {
   "cell_type": "code",
   "execution_count": null,
   "id": "010e1b44",
   "metadata": {},
   "outputs": [],
   "source": [
    "a = '<thead><tr><td rowspan=\"2\"><b>Cutoff (IRS)</b></td><td rowspan=\"2\"><b>Number</b></td><td colspan=\"2\"><b>Overall survival prognosis</b></td></tr><tr><td><b>Log-rank <i>P</i></b></td><td><b>Corrected <i>P</i><sup><i>∗</i></sup></b></td></tr></thead><tbody><tr><td>≥1</td><td>99/94</td><td>5.56</td><td>0.0184</td></tr><tr><td>≥2</td><td>129/64</td><td>4.37</td><td>0.0377</td></tr><tr><td>≥3</td><td>150/43</td><td>8.37</td><td>0.0038</td></tr><tr><td>≥4</td><td>161/32</td><td>6.35</td><td>0.0117</td></tr><tr><td>≥5 </td><td>177/16</td><td>4.50</td><td>0.0338</td></tr></tbody>'\n",
    "\n",
    "for tag in [\"<i>\", \"</i>\",\"<b>\",\"</b>\"]:\n",
    "    a = a.replace(tag, \"\")\n",
    "    \n",
    "a"
   ]
  },
  {
   "cell_type": "code",
   "execution_count": null,
   "id": "c0bacfb6",
   "metadata": {},
   "outputs": [],
   "source": [
    "target_sequence = \"Capítulo Primeiro Do título Uma noite destas, vindo da cidade para o Engenho Novo, encontrei no[ 1 ] trem da Central um rapaz aqui do bairro, que eu conheço de vista e de cha- péu. Comprimentou-me, sentou-se ao pé de mim, falou da lua e dos mi- nistros, e acabou recitando-me versos. A viagem era curta, e os versos pode ser que não fossem inteiramente maus. Succedeu, porém, que, como eu es- tava cansado, fechei os olhos três ou quatro vezes; tanto bastou para que ele interrompesse a leitura e metesse os versos no bolso. — Continue, disse eu acordando.[ 2 ] — Já acabei, murmurou ele.[ 3 ] — São muito bonitos.[ 4 ] Vi-lhe fazer um gesto para tirá-los outra vez do bolso, mas não passou[ 5 ] do gesto; estava amuado. No dia seguinte entrou a dizer de mim nomes feios, e acabou alcunhando-me Dom Casmurro.\"\n",
    "\n",
    "input_ids = processor.tokenizer(\n",
    "        target_sequence,\n",
    "        add_special_tokens=True,\n",
    "        max_length= 1536,\n",
    "        padding=\"max_length\",\n",
    "        truncation=True,\n",
    "        return_tensors=\"pt\",\n",
    "    )[\"input_ids\"].squeeze(0)"
   ]
  },
  {
   "cell_type": "code",
   "execution_count": null,
   "id": "887f9e13",
   "metadata": {},
   "outputs": [],
   "source": [
    "input_ids"
   ]
  },
  {
   "cell_type": "code",
   "execution_count": null,
   "id": "c137a679",
   "metadata": {},
   "outputs": [],
   "source": [
    "for token in input_ids:\n",
    "    print(processor.decode(token))"
   ]
  },
  {
   "cell_type": "code",
   "execution_count": null,
   "id": "f85c762a",
   "metadata": {},
   "outputs": [],
   "source": [
    "processor.decode(input_ids)"
   ]
  },
  {
   "cell_type": "code",
   "execution_count": null,
   "id": "8eb2fc17",
   "metadata": {},
   "outputs": [],
   "source": []
  }
 ],
 "metadata": {
  "kernelspec": {
   "display_name": "Python 3 (ipykernel)",
   "language": "python",
   "name": "python3"
  },
  "language_info": {
   "codemirror_mode": {
    "name": "ipython",
    "version": 3
   },
   "file_extension": ".py",
   "mimetype": "text/x-python",
   "name": "python",
   "nbconvert_exporter": "python",
   "pygments_lexer": "ipython3",
   "version": "3.10.12"
  }
 },
 "nbformat": 4,
 "nbformat_minor": 5
}
