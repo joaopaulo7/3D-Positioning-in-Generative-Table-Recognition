{
 "cells": [
  {
   "cell_type": "code",
   "execution_count": 12,
   "id": "b96f898e-8dae-4138-a8a8-5d63b946cbb0",
   "metadata": {},
   "outputs": [],
   "source": [
    "from PIL import Image\n",
    "import os\n",
    "import numpy as np"
   ]
  },
  {
   "cell_type": "code",
   "execution_count": 7,
   "id": "c66e2dc2-bed2-495d-a596-a91b92e8151c",
   "metadata": {},
   "outputs": [],
   "source": [
    "img_list = os.listdir(\"data/imgs/test\")"
   ]
  },
  {
   "cell_type": "code",
   "execution_count": 10,
   "id": "4f976ccf-ebd5-421f-ae1e-69d516dd7083",
   "metadata": {},
   "outputs": [],
   "source": [
    "size_list = []\n",
    "\n",
    "for img_file in img_list:\n",
    "    img = Image.open(\"data/imgs/test/\"+img_file)\n",
    "    size_list.append(img.size)"
   ]
  },
  {
   "cell_type": "code",
   "execution_count": 13,
   "id": "df3c3951-6564-462a-a957-e6e88e11db2f",
   "metadata": {},
   "outputs": [],
   "source": [
    "size_list = np.array(size_list)"
   ]
  },
  {
   "cell_type": "code",
   "execution_count": 18,
   "id": "b5ce2795-6014-4c59-995f-b1f1ef11ea47",
   "metadata": {},
   "outputs": [
    {
     "data": {
      "text/plain": [
       "array([406.12956883, 212.99507551])"
      ]
     },
     "execution_count": 18,
     "metadata": {},
     "output_type": "execute_result"
    }
   ],
   "source": [
    "np.mean(size_list, axis = 0)"
   ]
  },
  {
   "cell_type": "code",
   "execution_count": 29,
   "id": "a131e7b5-1e3c-49d3-b6d8-288d190cb272",
   "metadata": {},
   "outputs": [
    {
     "data": {
      "text/plain": [
       "array([721.0863, 667.2589])"
      ]
     },
     "execution_count": 29,
     "metadata": {},
     "output_type": "execute_result"
    }
   ],
   "source": [
    "np.percentile(size_list, axis = 0, q = 99.99)"
   ]
  },
  {
   "cell_type": "code",
   "execution_count": null,
   "id": "91cc7b78-d0b1-48bd-bb21-52bbc3565710",
   "metadata": {},
   "outputs": [],
   "source": []
  }
 ],
 "metadata": {
  "kernelspec": {
   "display_name": "Python 3 (ipykernel)",
   "language": "python",
   "name": "python3"
  },
  "language_info": {
   "codemirror_mode": {
    "name": "ipython",
    "version": 3
   },
   "file_extension": ".py",
   "mimetype": "text/x-python",
   "name": "python",
   "nbconvert_exporter": "python",
   "pygments_lexer": "ipython3",
   "version": "3.12.3"
  }
 },
 "nbformat": 4,
 "nbformat_minor": 5
}
