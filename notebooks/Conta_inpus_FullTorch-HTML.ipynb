{
 "cells": [
  {
   "cell_type": "code",
   "execution_count": 1,
   "id": "2977ba19",
   "metadata": {},
   "outputs": [],
   "source": [
    "import json\n",
    "import os\n",
    "\n",
    "SPLIT = \"val/\"\n",
    "\n",
    "PUBTABNET = '../../pubtabnet/anns/'\n",
    "\n",
    "ANN_PATH = PUBTABNET\n",
    "\n",
    "json_list = os.listdir(ANN_PATH + SPLIT)"
   ]
  },
  {
   "cell_type": "code",
   "execution_count": 2,
   "id": "4ec09de8",
   "metadata": {},
   "outputs": [],
   "source": [
    "aux_list = []\n",
    "html_list = []\n",
    "\n",
    "for f in json_list:\n",
    "    if(f[-6:-5] == \"L\"):\n",
    "        html_list.append(f)\n",
    "    else:\n",
    "        aux_list.append(f)\n",
    "json_list = aux_list"
   ]
  },
  {
   "cell_type": "code",
   "execution_count": 3,
   "id": "67c72267",
   "metadata": {},
   "outputs": [
    {
     "data": {
      "text/plain": [
       "['PMC3752962_006_00.json',\n",
       " 'PMC5285298_009_01.json',\n",
       " 'PMC4721713_013_01.json',\n",
       " 'PMC3189161_006_00.json',\n",
       " 'PMC5921262_006_00.json',\n",
       " 'PMC3940998_002_00.json',\n",
       " 'PMC4211402_009_00.json',\n",
       " 'PMC2796464_003_00.json',\n",
       " 'PMC4714473_005_00.json',\n",
       " 'PMC4900244_009_01.json']"
      ]
     },
     "execution_count": 3,
     "metadata": {},
     "output_type": "execute_result"
    }
   ],
   "source": [
    "json_list[:10]"
   ]
  },
  {
   "cell_type": "code",
   "execution_count": 4,
   "id": "e6ae6ca6",
   "metadata": {},
   "outputs": [
    {
     "name": "stderr",
     "output_type": "stream",
     "text": [
      "Could not find image processor class in the image processor config or the model config. Loading based on pattern matching with the model's feature extractor configuration.\n"
     ]
    }
   ],
   "source": [
    "from transformers import DonutProcessor\n",
    "\n",
    "processor = DonutProcessor.from_pretrained(\"naver-clova-ix/donut-base\")"
   ]
  },
  {
   "cell_type": "code",
   "execution_count": 5,
   "id": "74f69b29",
   "metadata": {},
   "outputs": [],
   "source": [
    "new_tokens  = [\"<table_extraction>\"]\n",
    "new_tokens += [\"<thead>\", \"</thead>\", \"<tbody>\", \"</tbody>\"]\n",
    "new_tokens += [\"<tr>\", \"</tr>\", \"<td>\", \"</td>\"]\n",
    "\n",
    "new_tokens += [\"<td \", \">\"]\n",
    "for i in range(10):\n",
    "    new_tokens +=[' colspan=\"'+str(i)+'\"']\n",
    "    new_tokens +=[' rowspan=\"'+str(i)+'\"']\n",
    "\n",
    "new_tokens += [\"<i>\", \"</i>\", \"<b>\", \"</b>\", \"<sup>\", \"</sup>\", \"<sub>\", \"</sub>\"]\n",
    "newly_added_num = processor.tokenizer.add_tokens(new_tokens)"
   ]
  },
  {
   "cell_type": "code",
   "execution_count": 6,
   "id": "549d9b02",
   "metadata": {},
   "outputs": [
    {
     "name": "stdout",
     "output_type": "stream",
     "text": [
      "['<table_extraction>', '<thead>', '</thead>', '<tbody>', '</tbody>', '<tr>', '</tr>', '<td>', '</td>', '<td ', '>', ' colspan=\"0\"', ' rowspan=\"0\"', ' colspan=\"1\"', ' rowspan=\"1\"', ' colspan=\"2\"', ' rowspan=\"2\"', ' colspan=\"3\"', ' rowspan=\"3\"', ' colspan=\"4\"', ' rowspan=\"4\"', ' colspan=\"5\"', ' rowspan=\"5\"', ' colspan=\"6\"', ' rowspan=\"6\"', ' colspan=\"7\"', ' rowspan=\"7\"', ' colspan=\"8\"', ' rowspan=\"8\"', ' colspan=\"9\"', ' rowspan=\"9\"', '<i>', '</i>', '<b>', '</b>', '<sup>', '</sup>', '<sub>', '</sub>']\n"
     ]
    }
   ],
   "source": [
    "print(new_tokens)"
   ]
  },
  {
   "cell_type": "code",
   "execution_count": 7,
   "id": "c74cf64b",
   "metadata": {},
   "outputs": [],
   "source": [
    "def write_msg(msg):\n",
    "    with open(\"msg.json\", 'w') as out:\n",
    "        json.dump({'msg': msg}, out, ensure_ascii=False, indent=4)"
   ]
  },
  {
   "cell_type": "code",
   "execution_count": 8,
   "id": "20d32c8f",
   "metadata": {},
   "outputs": [],
   "source": [
    "import os\n",
    "import torch\n",
    "from torch.utils.data import Dataset\n",
    "from PIL import Image\n",
    "from torchvision import transforms\n",
    "\n",
    "class DonutTableDataset(Dataset):\n",
    "    def __init__(\n",
    "        self,\n",
    "        annotations,\n",
    "        shuffle = True,\n",
    "        split = \"train\",\n",
    "        ignore_id = -100,\n",
    "        prompt_end_token = None,\n",
    "    ):            \n",
    "        self.annotations = annotations\n",
    "        \n",
    "        self.split = split\n",
    "        self.ignore_id = ignore_id\n",
    "        \n",
    "        \n",
    "    def __len__(self):\n",
    "        return len(self.annotations)\n",
    "    \n",
    "    \n",
    "    def __getitem__(self, idx):\n",
    "        \n",
    "        file_name = self.annotations[idx]\n",
    "        \n",
    "        with open(ANN_PATH + SPLIT + file_name, encoding=\"utf-8\") as f:\n",
    "            annotation = json.load(f)\n",
    "            \n",
    "        target_sequence = annotation\n",
    "        \n",
    "        input_ids = processor.tokenizer(\n",
    "            target_sequence,\n",
    "            add_special_tokens=True,\n",
    "            max_length= 15000,\n",
    "            padding=\"max_length\",\n",
    "            truncation=True,\n",
    "            return_tensors=\"pt\",\n",
    "        )[\"input_ids\"].squeeze(0)\n",
    "\n",
    "        labels = input_ids.clone()\n",
    "        labels[labels == processor.tokenizer.pad_token_id] = self.ignore_id  \n",
    "        \n",
    "        encoding = dict(labels=labels,\n",
    "                        file_name = file_name)\n",
    "        \n",
    "        return encoding"
   ]
  },
  {
   "cell_type": "code",
   "execution_count": 9,
   "id": "a5c2595e",
   "metadata": {},
   "outputs": [],
   "source": [
    "train_dataset = DonutTableDataset(html_list)"
   ]
  },
  {
   "cell_type": "code",
   "execution_count": 10,
   "id": "c5c6d668",
   "metadata": {},
   "outputs": [],
   "source": [
    "from torch.utils.data import DataLoader\n",
    "\n",
    "train_dataloader = DataLoader(train_dataset, batch_size=1, shuffle=True)"
   ]
  },
  {
   "cell_type": "code",
   "execution_count": 11,
   "id": "2dee3e01",
   "metadata": {},
   "outputs": [],
   "source": [
    "len_dics = []\n",
    "\n",
    "def add_lens(file_name, tokens):\n",
    "    for i in range(len(tokens)):\n",
    "        j = 0\n",
    "        for token in tokens[i]:\n",
    "            j += 1\n",
    "            if(token == -100):\n",
    "                break\n",
    "\n",
    "        len_dics.append({'file': file_name[i], 'len': j})"
   ]
  },
  {
   "cell_type": "code",
   "execution_count": 12,
   "id": "b5cb981e",
   "metadata": {
    "scrolled": false
   },
   "outputs": [
    {
     "data": {
      "application/vnd.jupyter.widget-view+json": {
       "model_id": "ff4f5d8734b34066a00293ba6f07e529",
       "version_major": 2,
       "version_minor": 0
      },
      "text/plain": [
       "  0%|          | 0/9115 [00:00<?, ?it/s]"
      ]
     },
     "metadata": {},
     "output_type": "display_data"
    }
   ],
   "source": [
    "import torch\n",
    "from tqdm.auto import tqdm\n",
    "\n",
    "\n",
    "for i, batch in enumerate(tqdm(train_dataloader)):\n",
    "    batch = {k: v for k, v in batch.items()}\n",
    "    labels = batch[\"labels\"]\n",
    "    filename = batch[\"file_name\"]\n",
    "    add_lens(filename, labels)"
   ]
  },
  {
   "cell_type": "code",
   "execution_count": 13,
   "id": "0cdd3241",
   "metadata": {},
   "outputs": [],
   "source": [
    "import json\n",
    "with open(ANN_PATH + SPLIT[:-1] + \"-HTML_lens.json\", 'w') as out:\n",
    "    json.dump(len_dics, out, ensure_ascii=False, indent=4)"
   ]
  },
  {
   "cell_type": "code",
   "execution_count": 14,
   "id": "d3b0ebbb",
   "metadata": {},
   "outputs": [
    {
     "data": {
      "text/plain": [
       "['PMC5738406_001_00-HTML.json',\n",
       " 'PMC4665520_010_00-HTML.json',\n",
       " 'PMC5098491_002_00-HTML.json',\n",
       " 'PMC5602781_004_00-HTML.json',\n",
       " 'PMC3117319_004_00-HTML.json',\n",
       " 'PMC6020543_009_00-HTML.json',\n",
       " 'PMC3913489_002_00-HTML.json',\n",
       " 'PMC2745417_006_00-HTML.json',\n",
       " 'PMC5452179_007_00-HTML.json',\n",
       " 'PMC5551221_006_00-HTML.json']"
      ]
     },
     "execution_count": 14,
     "metadata": {},
     "output_type": "execute_result"
    }
   ],
   "source": [
    "html_list[:10]"
   ]
  },
  {
   "cell_type": "code",
   "execution_count": null,
   "id": "7c033712",
   "metadata": {},
   "outputs": [],
   "source": []
  }
 ],
 "metadata": {
  "kernelspec": {
   "display_name": "Python 3 (ipykernel)",
   "language": "python",
   "name": "python3"
  },
  "language_info": {
   "codemirror_mode": {
    "name": "ipython",
    "version": 3
   },
   "file_extension": ".py",
   "mimetype": "text/x-python",
   "name": "python",
   "nbconvert_exporter": "python",
   "pygments_lexer": "ipython3",
   "version": "3.10.12"
  }
 },
 "nbformat": 4,
 "nbformat_minor": 5
}
