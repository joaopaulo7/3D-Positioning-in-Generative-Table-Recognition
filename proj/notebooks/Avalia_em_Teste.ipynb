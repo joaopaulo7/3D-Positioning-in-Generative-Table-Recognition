{
 "cells": [
  {
   "cell_type": "code",
   "execution_count": 2,
   "id": "8b30e5ec",
   "metadata": {},
   "outputs": [
    {
     "name": "stderr",
     "output_type": "stream",
     "text": [
      "/home/jao/.local/lib/python3.10/site-packages/tqdm/auto.py:21: TqdmWarning: IProgress not found. Please update jupyter and ipywidgets. See https://ipywidgets.readthedocs.io/en/stable/user_install.html\n",
      "  from .autonotebook import tqdm as notebook_tqdm\n"
     ]
    }
   ],
   "source": [
    "import torch\n",
    "import os\n",
    "import sys\n",
    "sys.path.insert(0, '../src')\n",
    "\n",
    "from transformers import DonutProcessor\n",
    "from modeling_tabeleiro import TabeleiroModel\n",
    "from processing_tabeleiro import TabeleiroProcessor\n",
    "from PIL import Image\n",
    "\n",
    "\n",
    "IMG_PATH = \"../../aux/data/imgs/final_eval/\"\n",
    "\n",
    "filelist = os.listdir(IMG_PATH)"
   ]
  },
  {
   "cell_type": "code",
   "execution_count": 3,
   "id": "0fe91e4b-2fd9-42cc-bf3d-516cf4295b24",
   "metadata": {},
   "outputs": [
    {
     "data": {
      "text/plain": [
       "['8621fa63b29c02efea427bdb210e3d896a8ba07299052095ee6eb94d2218aca5.png',\n",
       " 'cb8ce80fc6149d3c9af03f52f0bb3075778b8a28e18324e6bfee084838b8cb02.png',\n",
       " 'f3b0b3c68db9f71dbc32f53f26a79d839410bb1260a75a685d843d45e45e1781.png',\n",
       " '63eff125664ac9e982bbda705cde8c6ce1cdbd9a799e5fca97fe917be81d84dd.png',\n",
       " '69b44706b64364cca8e5045717597e1f68c23e1fc283c89bec879bfa2acec7c2.png',\n",
       " '11cd20efc60a947c217c9916e28dd05102c2ba05cf78b545e49b1bf117b347c6.png',\n",
       " 'ef4c7af62ccd6d6834e04a4ac6395f19340e146e6c97a834dc00de0bb0e8aec7.png',\n",
       " 'cb375b39cfa1fa47466a5396acfb0f4fa02fe136b0059c820cb7ce9ef0a1263a.png',\n",
       " 'a1e8f4e48b1d6f7fa511e41f06e210a0de145bc2771dd4da243f9f3af2138794.png',\n",
       " '4cf7fe0232d3be583721f6bf38b3ef4b1db3479a431c367cfa4a1b10b5511c83.png']"
      ]
     },
     "execution_count": 3,
     "metadata": {},
     "output_type": "execute_result"
    }
   ],
   "source": [
    "filelist[:10]"
   ]
  },
  {
   "cell_type": "code",
   "execution_count": 4,
   "id": "702163df-f3f8-49cf-877f-900d321fece8",
   "metadata": {},
   "outputs": [],
   "source": [
    "image = Image.open(IMG_PATH + filelist[0])"
   ]
  },
  {
   "cell_type": "code",
   "execution_count": 5,
   "id": "73627428-c51d-4132-86da-cb7ab2e4ec29",
   "metadata": {},
   "outputs": [
    {
     "data": {
      "image/png": "[encoded data removed]",
      "text/plain": [
       "<PIL.PngImagePlugin.PngImageFile image mode=RGB size=486x113 at 0x7229A04240A0>"
      ]
     },
     "execution_count": 5,
     "metadata": {},
     "output_type": "execute_result"
    }
   ],
   "source": [
    "image"
   ]
  },
  {
   "cell_type": "code",
   "execution_count": 6,
   "id": "091dc69b",
   "metadata": {},
   "outputs": [
    {
     "name": "stderr",
     "output_type": "stream",
     "text": [
      "You are using a model of type dimbart to instantiate a model of type mbart. This is not supported for all configurations of models and can yield errors.\n"
     ]
    }
   ],
   "source": [
    "model = TabeleiroModel.from_pretrained(\"../../aux/models/model_3D-STEP_60000\")"
   ]
  },
  {
   "cell_type": "code",
   "execution_count": 23,
   "id": "f3de26f5",
   "metadata": {},
   "outputs": [
    {
     "name": "stderr",
     "output_type": "stream",
     "text": [
      "Special tokens have been added in the vocabulary, make sure the associated word embeddings are fine-tuned or trained.\n"
     ]
    }
   ],
   "source": [
    "processor = TabeleiroProcessor.from_pretrained(\"../../aux/processors/donut-base\")\n",
    "processor.image_processor.size = model.encoder.config.image_size[::-1] # should be (width, height)\n",
    "processor.image_processor.do_align_long_axis = False"
   ]
  },
  {
   "cell_type": "code",
   "execution_count": 24,
   "id": "9cbd67aa-733f-435d-b835-bfb0b6f3890d",
   "metadata": {},
   "outputs": [
    {
     "data": {
      "text/plain": [
       "TabeleiroProcessor:\n",
       "- image_processor: DonutImageProcessor {\n",
       "  \"_valid_processor_keys\": [\n",
       "    \"images\",\n",
       "    \"do_resize\",\n",
       "    \"size\",\n",
       "    \"resample\",\n",
       "    \"do_thumbnail\",\n",
       "    \"do_align_long_axis\",\n",
       "    \"do_pad\",\n",
       "    \"random_padding\",\n",
       "    \"do_rescale\",\n",
       "    \"rescale_factor\",\n",
       "    \"do_normalize\",\n",
       "    \"image_mean\",\n",
       "    \"image_std\",\n",
       "    \"return_tensors\",\n",
       "    \"data_format\",\n",
       "    \"input_data_format\"\n",
       "  ],\n",
       "  \"do_align_long_axis\": false,\n",
       "  \"do_normalize\": true,\n",
       "  \"do_pad\": true,\n",
       "  \"do_rescale\": true,\n",
       "  \"do_resize\": true,\n",
       "  \"do_thumbnail\": true,\n",
       "  \"image_mean\": [\n",
       "    0.5,\n",
       "    0.5,\n",
       "    0.5\n",
       "  ],\n",
       "  \"image_processor_type\": \"DonutImageProcessor\",\n",
       "  \"image_std\": [\n",
       "    0.5,\n",
       "    0.5,\n",
       "    0.5\n",
       "  ],\n",
       "  \"processor_class\": \"DonutProcessor\",\n",
       "  \"resample\": 2,\n",
       "  \"rescale_factor\": 0.00392156862745098,\n",
       "  \"size\": [\n",
       "    1200,\n",
       "    900\n",
       "  ]\n",
       "}\n",
       "\n",
       "- tokenizer: XLMRobertaTokenizerFast(name_or_path='../../aux/processors/donut-base', vocab_size=57522, model_max_length=1000000000000000019884624838656, is_fast=True, padding_side='right', truncation_side='right', special_tokens={'bos_token': '<s>', 'eos_token': '</s>', 'unk_token': '<unk>', 'sep_token': '</s>', 'pad_token': '<pad>', 'cls_token': '<s>', 'mask_token': '<mask>', 'additional_special_tokens': ['<s_iitcdip>', '<s_synthdog>']}, clean_up_tokenization_spaces=True),  added_tokens_decoder={\n",
       "\t0: AddedToken(\"<s>\", rstrip=False, lstrip=False, single_word=False, normalized=False, special=True),\n",
       "\t1: AddedToken(\"<pad>\", rstrip=False, lstrip=False, single_word=False, normalized=False, special=True),\n",
       "\t2: AddedToken(\"</s>\", rstrip=False, lstrip=False, single_word=False, normalized=False, special=True),\n",
       "\t3: AddedToken(\"<unk>\", rstrip=False, lstrip=False, single_word=False, normalized=False, special=True),\n",
       "\t57521: AddedToken(\"<mask>\", rstrip=False, lstrip=True, single_word=False, normalized=True, special=True),\n",
       "\t57522: AddedToken(\"<sep/>\", rstrip=False, lstrip=False, single_word=False, normalized=True, special=False),\n",
       "\t57523: AddedToken(\"<s_iitcdip>\", rstrip=False, lstrip=False, single_word=False, normalized=False, special=True),\n",
       "\t57524: AddedToken(\"<s_synthdog>\", rstrip=False, lstrip=False, single_word=False, normalized=False, special=True),\n",
       "\t57525: AddedToken(\"<table_extraction>\", rstrip=False, lstrip=False, single_word=False, normalized=True, special=False),\n",
       "\t57526: AddedToken(\"<table>\", rstrip=False, lstrip=False, single_word=False, normalized=True, special=False),\n",
       "\t57527: AddedToken(\"<row>\", rstrip=False, lstrip=False, single_word=False, normalized=True, special=False),\n",
       "\t57528: AddedToken(\"<content_row_and_col_header>\", rstrip=False, lstrip=False, single_word=False, normalized=True, special=False),\n",
       "\t57529: AddedToken(\"<content_row_header>\", rstrip=False, lstrip=False, single_word=False, normalized=True, special=False),\n",
       "\t57530: AddedToken(\"<content_col_header>\", rstrip=False, lstrip=False, single_word=False, normalized=True, special=False),\n",
       "\t57531: AddedToken(\"<content>\", rstrip=False, lstrip=False, single_word=False, normalized=True, special=False),\n",
       "\t57532: AddedToken(\"<cell>\", rstrip=False, lstrip=False, single_word=False, normalized=True, special=False),\n",
       "\t57533: AddedToken(\"<col_header>\", rstrip=False, lstrip=False, single_word=False, normalized=True, special=False),\n",
       "\t57534: AddedToken(\"<row_header>\", rstrip=False, lstrip=False, single_word=False, normalized=True, special=False),\n",
       "\t57535: AddedToken(\"<row_and_col_header>\", rstrip=False, lstrip=False, single_word=False, normalized=True, special=False),\n",
       "\t57536: AddedToken(\"<span_type=0000>\", rstrip=False, lstrip=False, single_word=False, normalized=True, special=False),\n",
       "\t57537: AddedToken(\"<span_type=1000>\", rstrip=False, lstrip=False, single_word=False, normalized=True, special=False),\n",
       "\t57538: AddedToken(\"<span_type=0001>\", rstrip=False, lstrip=False, single_word=False, normalized=True, special=False),\n",
       "\t57539: AddedToken(\"<span_type=1001>\", rstrip=False, lstrip=False, single_word=False, normalized=True, special=False),\n",
       "\t57540: AddedToken(\"<span_type=0010>\", rstrip=False, lstrip=False, single_word=False, normalized=True, special=False),\n",
       "\t57541: AddedToken(\"<span_type=1010>\", rstrip=False, lstrip=False, single_word=False, normalized=True, special=False),\n",
       "\t57542: AddedToken(\"<span_type=0011>\", rstrip=False, lstrip=False, single_word=False, normalized=True, special=False),\n",
       "\t57543: AddedToken(\"<span_type=1011>\", rstrip=False, lstrip=False, single_word=False, normalized=True, special=False),\n",
       "\t57544: AddedToken(\"<span_type=0100>\", rstrip=False, lstrip=False, single_word=False, normalized=True, special=False),\n",
       "\t57545: AddedToken(\"<span_type=1100>\", rstrip=False, lstrip=False, single_word=False, normalized=True, special=False),\n",
       "\t57546: AddedToken(\"<span_type=0101>\", rstrip=False, lstrip=False, single_word=False, normalized=True, special=False),\n",
       "\t57547: AddedToken(\"<span_type=1101>\", rstrip=False, lstrip=False, single_word=False, normalized=True, special=False),\n",
       "\t57548: AddedToken(\"<span_type=0110>\", rstrip=False, lstrip=False, single_word=False, normalized=True, special=False),\n",
       "\t57549: AddedToken(\"<span_type=1110>\", rstrip=False, lstrip=False, single_word=False, normalized=True, special=False),\n",
       "\t57550: AddedToken(\"<span_type=0111>\", rstrip=False, lstrip=False, single_word=False, normalized=True, special=False),\n",
       "\t57551: AddedToken(\"<span_type=1111>\", rstrip=False, lstrip=False, single_word=False, normalized=True, special=False),\n",
       "}\n",
       "\n",
       "{\n",
       "  \"processor_class\": \"TabeleiroProcessor\"\n",
       "}"
      ]
     },
     "execution_count": 24,
     "metadata": {},
     "output_type": "execute_result"
    }
   ],
   "source": [
    "processor"
   ]
  },
  {
   "cell_type": "code",
   "execution_count": 25,
   "id": "542d3e0c",
   "metadata": {},
   "outputs": [
    {
     "data": {
      "text/plain": [
       "VisionEncoderDecoderConfig {\n",
       "  \"decoder\": {\n",
       "    \"_name_or_path\": \"../../aux/models/model_3D-STEP_60000/dimbart_decoder\",\n",
       "    \"activation_dropout\": 0.0,\n",
       "    \"activation_function\": \"gelu\",\n",
       "    \"add_cross_attention\": true,\n",
       "    \"add_final_layer_norm\": true,\n",
       "    \"architectures\": [\n",
       "      \"DiMBartForCausalLM\"\n",
       "    ],\n",
       "    \"attention_dropout\": 0.0,\n",
       "    \"bad_words_ids\": null,\n",
       "    \"begin_suppress_tokens\": null,\n",
       "    \"bos_token_id\": 0,\n",
       "    \"chunk_size_feed_forward\": 0,\n",
       "    \"classifier_dropout\": 0.0,\n",
       "    \"cross_attention_hidden_size\": null,\n",
       "    \"d_model\": 1024,\n",
       "    \"decoder_attention_heads\": 16,\n",
       "    \"decoder_ffn_dim\": 4096,\n",
       "    \"decoder_layerdrop\": 0.0,\n",
       "    \"decoder_layers\": 4,\n",
       "    \"decoder_start_token_id\": null,\n",
       "    \"dim_max_position_embeddings\": [\n",
       "      514,\n",
       "      120,\n",
       "      120\n",
       "    ],\n",
       "    \"diversity_penalty\": 0.0,\n",
       "    \"do_sample\": false,\n",
       "    \"dropout\": 0.1,\n",
       "    \"early_stopping\": false,\n",
       "    \"encoder_attention_heads\": 16,\n",
       "    \"encoder_ffn_dim\": 4096,\n",
       "    \"encoder_layerdrop\": 0.0,\n",
       "    \"encoder_layers\": 12,\n",
       "    \"encoder_no_repeat_ngram_size\": 0,\n",
       "    \"eos_token_id\": 2,\n",
       "    \"exponential_decay_length_penalty\": null,\n",
       "    \"finetuning_task\": null,\n",
       "    \"forced_bos_token_id\": null,\n",
       "    \"forced_eos_token_id\": 2,\n",
       "    \"id2label\": {\n",
       "      \"0\": \"LABEL_0\",\n",
       "      \"1\": \"LABEL_1\"\n",
       "    },\n",
       "    \"init_std\": 0.02,\n",
       "    \"is_decoder\": true,\n",
       "    \"is_encoder_decoder\": false,\n",
       "    \"label2id\": {\n",
       "      \"LABEL_0\": 0,\n",
       "      \"LABEL_1\": 1\n",
       "    },\n",
       "    \"length_penalty\": 1.0,\n",
       "    \"max_length\": 20,\n",
       "    \"max_position_embeddings\": 1536,\n",
       "    \"min_length\": 0,\n",
       "    \"model_type\": \"mbart\",\n",
       "    \"no_repeat_ngram_size\": 0,\n",
       "    \"num_beam_groups\": 1,\n",
       "    \"num_beams\": 1,\n",
       "    \"num_hidden_layers\": 12,\n",
       "    \"num_return_sequences\": 1,\n",
       "    \"output_attentions\": false,\n",
       "    \"output_hidden_states\": false,\n",
       "    \"output_scores\": false,\n",
       "    \"pad_token_id\": 1,\n",
       "    \"pos_counters\": [\n",
       "      [\n",
       "        57532,\n",
       "        57535,\n",
       "        57534,\n",
       "        57533,\n",
       "        57536,\n",
       "        57537,\n",
       "        57538,\n",
       "        57539,\n",
       "        57540,\n",
       "        57541,\n",
       "        57542,\n",
       "        57543,\n",
       "        57544,\n",
       "        57545,\n",
       "        57546,\n",
       "        57547,\n",
       "        57548,\n",
       "        57549,\n",
       "        57550,\n",
       "        57551\n",
       "      ],\n",
       "      [\n",
       "        57527\n",
       "      ]\n",
       "    ],\n",
       "    \"prefix\": null,\n",
       "    \"problem_type\": null,\n",
       "    \"pruned_heads\": {},\n",
       "    \"remove_invalid_values\": false,\n",
       "    \"repetition_penalty\": 1.0,\n",
       "    \"return_dict\": true,\n",
       "    \"return_dict_in_generate\": false,\n",
       "    \"scale_embedding\": true,\n",
       "    \"sep_token_id\": null,\n",
       "    \"suppress_tokens\": null,\n",
       "    \"task_specific_params\": null,\n",
       "    \"temperature\": 1.0,\n",
       "    \"tf_legacy_loss\": false,\n",
       "    \"tie_encoder_decoder\": false,\n",
       "    \"tie_word_embeddings\": true,\n",
       "    \"tokenizer_class\": null,\n",
       "    \"top_k\": 50,\n",
       "    \"top_p\": 1.0,\n",
       "    \"torch_dtype\": \"float32\",\n",
       "    \"torchscript\": false,\n",
       "    \"typical_p\": 1.0,\n",
       "    \"use_bfloat16\": false,\n",
       "    \"use_cache\": true,\n",
       "    \"vocab_size\": 57552\n",
       "  },\n",
       "  \"decoder_start_token_id\": 57525,\n",
       "  \"encoder\": {\n",
       "    \"_name_or_path\": \"../../aux/models/model_3D-STEP_60000/donut_encoder\",\n",
       "    \"add_cross_attention\": false,\n",
       "    \"architectures\": [\n",
       "      \"DonutSwinModel\"\n",
       "    ],\n",
       "    \"attention_probs_dropout_prob\": 0.0,\n",
       "    \"bad_words_ids\": null,\n",
       "    \"begin_suppress_tokens\": null,\n",
       "    \"bos_token_id\": null,\n",
       "    \"chunk_size_feed_forward\": 0,\n",
       "    \"cross_attention_hidden_size\": null,\n",
       "    \"decoder_start_token_id\": null,\n",
       "    \"depths\": [\n",
       "      2,\n",
       "      2,\n",
       "      14,\n",
       "      2\n",
       "    ],\n",
       "    \"diversity_penalty\": 0.0,\n",
       "    \"do_sample\": false,\n",
       "    \"drop_path_rate\": 0.1,\n",
       "    \"early_stopping\": false,\n",
       "    \"embed_dim\": 128,\n",
       "    \"encoder_no_repeat_ngram_size\": 0,\n",
       "    \"eos_token_id\": null,\n",
       "    \"exponential_decay_length_penalty\": null,\n",
       "    \"finetuning_task\": null,\n",
       "    \"forced_bos_token_id\": null,\n",
       "    \"forced_eos_token_id\": null,\n",
       "    \"hidden_act\": \"gelu\",\n",
       "    \"hidden_dropout_prob\": 0.0,\n",
       "    \"hidden_size\": 1024,\n",
       "    \"id2label\": {\n",
       "      \"0\": \"LABEL_0\",\n",
       "      \"1\": \"LABEL_1\"\n",
       "    },\n",
       "    \"image_size\": [\n",
       "      900,\n",
       "      1200\n",
       "    ],\n",
       "    \"initializer_range\": 0.02,\n",
       "    \"is_decoder\": false,\n",
       "    \"is_encoder_decoder\": false,\n",
       "    \"label2id\": {\n",
       "      \"LABEL_0\": 0,\n",
       "      \"LABEL_1\": 1\n",
       "    },\n",
       "    \"layer_norm_eps\": 1e-05,\n",
       "    \"length_penalty\": 1.0,\n",
       "    \"max_length\": 20,\n",
       "    \"min_length\": 0,\n",
       "    \"mlp_ratio\": 4.0,\n",
       "    \"model_type\": \"donut-swin\",\n",
       "    \"no_repeat_ngram_size\": 0,\n",
       "    \"num_beam_groups\": 1,\n",
       "    \"num_beams\": 1,\n",
       "    \"num_channels\": 3,\n",
       "    \"num_heads\": [\n",
       "      4,\n",
       "      8,\n",
       "      16,\n",
       "      32\n",
       "    ],\n",
       "    \"num_layers\": 4,\n",
       "    \"num_return_sequences\": 1,\n",
       "    \"output_attentions\": false,\n",
       "    \"output_hidden_states\": false,\n",
       "    \"output_scores\": false,\n",
       "    \"pad_token_id\": null,\n",
       "    \"patch_size\": 4,\n",
       "    \"path_norm\": true,\n",
       "    \"prefix\": null,\n",
       "    \"problem_type\": null,\n",
       "    \"pruned_heads\": {},\n",
       "    \"qkv_bias\": true,\n",
       "    \"remove_invalid_values\": false,\n",
       "    \"repetition_penalty\": 1.0,\n",
       "    \"return_dict\": true,\n",
       "    \"return_dict_in_generate\": false,\n",
       "    \"sep_token_id\": null,\n",
       "    \"suppress_tokens\": null,\n",
       "    \"task_specific_params\": null,\n",
       "    \"temperature\": 1.0,\n",
       "    \"tf_legacy_loss\": false,\n",
       "    \"tie_encoder_decoder\": false,\n",
       "    \"tie_word_embeddings\": true,\n",
       "    \"tokenizer_class\": null,\n",
       "    \"top_k\": 50,\n",
       "    \"top_p\": 1.0,\n",
       "    \"torch_dtype\": \"float32\",\n",
       "    \"torchscript\": false,\n",
       "    \"typical_p\": 1.0,\n",
       "    \"use_absolute_embeddings\": false,\n",
       "    \"use_bfloat16\": false,\n",
       "    \"window_size\": 10\n",
       "  },\n",
       "  \"is_encoder_decoder\": true,\n",
       "  \"model_type\": \"vision-encoder-decoder\",\n",
       "  \"pad_token_id\": 1,\n",
       "  \"tie_word_embeddings\": false,\n",
       "  \"transformers_version\": \"4.41.0\"\n",
       "}"
      ]
     },
     "execution_count": 25,
     "metadata": {},
     "output_type": "execute_result"
    }
   ],
   "source": [
    "model.config.pad_token_id = processor.tokenizer.pad_token_id\n",
    "model.config.decoder_start_token_id = processor.tokenizer.convert_tokens_to_ids([\"<table_extraction>\"])[0]\n",
    "model.config"
   ]
  },
  {
   "cell_type": "code",
   "execution_count": 26,
   "id": "5c889d88-10bb-45a4-871e-c065e610051c",
   "metadata": {},
   "outputs": [
    {
     "data": {
      "text/plain": [
       "'<row>'"
      ]
     },
     "execution_count": 26,
     "metadata": {},
     "output_type": "execute_result"
    }
   ],
   "source": [
    "processor.decode(57527)"
   ]
  },
  {
   "cell_type": "code",
   "execution_count": 27,
   "id": "1d483ec7",
   "metadata": {},
   "outputs": [],
   "source": [
    "import os\n",
    "import torch\n",
    "from torch.utils.data import Dataset\n",
    "from PIL import Image\n",
    "from torchvision import transforms\n",
    "\n",
    "class DonutTableDataset(Dataset):\n",
    "    def __init__(\n",
    "        self,\n",
    "        annotations,\n",
    "        max_length,\n",
    "        ignore_id = -100,\n",
    "        prompt_end_token = None,\n",
    "    ):            \n",
    "        self.annotations_files = list(annotations.keys())\n",
    "        self.annotations = annotations\n",
    "        \n",
    "        self.max_length = max_length\n",
    "        self.ignore_id = ignore_id        \n",
    "        \n",
    "        \n",
    "    def __len__(self):\n",
    "        return len(self.annotations)\n",
    "    \n",
    "    \n",
    "    def __getitem__(self, idx):\n",
    "        \n",
    "        file_name = self.annotations_files[idx]\n",
    "        \n",
    "        gt = self.annotations[file_name]['html']\n",
    "        \n",
    "        image = Image.open(IMG_PATH + file_name)\n",
    "        \n",
    "        \n",
    "        # inputs\n",
    "        pixel_values = processor(image.convert(\"RGB\"), random_padding=False, return_tensors=\"pt\").pixel_values.squeeze()\n",
    "        pixel_values = pixel_values.squeeze()\n",
    "        \n",
    "        encoding = dict(file_name = file_name,\n",
    "                        pixel_values=pixel_values,\n",
    "                        gt = gt)\n",
    "        \n",
    "        return encoding"
   ]
  },
  {
   "cell_type": "code",
   "execution_count": 28,
   "id": "1b060b3c",
   "metadata": {},
   "outputs": [],
   "source": [
    "import json\n",
    "with open('../../aux/data/anns/test/final_eval.json') as fp:\n",
    "    annotations = json.load(fp)\n",
    "\n",
    "test_set = DonutTableDataset(annotations, 4096)"
   ]
  },
  {
   "cell_type": "code",
   "execution_count": 29,
   "id": "545ac3f0",
   "metadata": {},
   "outputs": [
    {
     "data": {
      "text/plain": [
       "'</s>'"
      ]
     },
     "execution_count": 29,
     "metadata": {},
     "output_type": "execute_result"
    }
   ],
   "source": [
    "processor.decode(processor.tokenizer.eos_token_id)"
   ]
  },
  {
   "cell_type": "code",
   "execution_count": 30,
   "id": "718d2a79",
   "metadata": {},
   "outputs": [],
   "source": [
    "sys.path.insert(1, '../../aux/PubTabNet/src/')\n",
    "from metric import TEDS\n",
    "\n",
    "teds = TEDS(n_jobs=4, structure_only = True, ignore_nodes = [\"b\"])"
   ]
  },
  {
   "cell_type": "code",
   "execution_count": 31,
   "id": "07f281e5",
   "metadata": {},
   "outputs": [],
   "source": [
    "from torch.utils.data import DataLoader\n",
    "\n",
    "train_dataloader = DataLoader(test_set, batch_size=1, shuffle=True)"
   ]
  },
  {
   "cell_type": "code",
   "execution_count": 32,
   "id": "b7339d7e",
   "metadata": {},
   "outputs": [
    {
     "name": "stderr",
     "output_type": "stream",
     "text": [
      "  0%|                                        | 1/9064 [00:00<1:32:43,  1.63it/s]"
     ]
    },
    {
     "name": "stdout",
     "output_type": "stream",
     "text": [
      "e87bba5267499998e22dc7e6b826adea9c0d3ff1a843f8ea24b55db5dea6fd86.png\n",
      "<s><table_extraction><table><row><col_header> <b>Gene</b><col_header> <b>Primer sequence</b><row><cell> Collagen X<cell> Formal primer 5′-GCCCCTTCTGCTAGTGCTAGCTAGCT<row><cell> Reverse primer 5′ Reverse primer 5′</s></s></s>\n",
      "0.0 -- 0.0\n"
     ]
    },
    {
     "name": "stderr",
     "output_type": "stream",
     "text": [
      "  0%|                                       | 2/9064 [00:09<13:23:17,  5.32s/it]"
     ]
    },
    {
     "name": "stdout",
     "output_type": "stream",
     "text": [
      "a52c0f276b273a14ad1a6b8424887106601733310cc62e7d326ad01ecfac1bd2.png\n",
      "<s><table_extraction><table><row><col_header> <b>Studies</b><col_header> <b>Outcomes reported</b><col_header> <b>Types of participants<row><cell> Cavallasca 2008 [16]<cell> Stillbirth<cell> Stillbirth<cell> SLE versus<row><cell> SLE versus<cell> Sle<cell> Sle<cell> Sle<cell> Sle<cell> Sle<cell> Sle<cell> Sle<cell> Sle<cell> Sle<cell> Sle<cell> Sle<cell> Sle<cell> Sle<cell> Sle Sle Sle Sle Sle Sle Sle Sle Sle Sle Sle Sle Sle Sle Sle Sle Sle Sle Sle Sle Sle Sle Sle Sle Sle Sle Sle Sle Sle Sle Sle Sle Sle Sle Sle Sle Sle Sle Sle Sle Sle Sle Sle Sle Sle Sle Sle Sle Sle Sle Sle Sle Sle Sle Sle Sle Sle Sle Sle Sle Sle Sle Sle Sle Sle Sle Sle Sle Sle Sle Sle Sle Sle Sle Sle Sle Sle Sle Sle Sle Sle Sle Sle Sle Sle Sle Sle Sle Sle Sle Sle Sle Sle Sle Sle Sle Sle Sle Sle Sle Sle Sle Sle Sle Sle Sle Sle Sle Sle Sle Sle Sle Sle Sle Sle Sle Sle Sle Sle Sle Sle Sle Sle Sle Sle Sle Sle Sle Sle Sle Sle Sle Sle Sle Sle Sle Sle Sle Sle Sle Sle Sle Sle Sle Sle Sle Sle Sle Sle Sle Sle Sle Sle Sle Sle Sle Sle Sle Sle Sle Sle Sle Sle Sle Sle Sle Sle Sle Sle Sle Sle Sle Sle Sle Sle Sle Sle Sle Sle Sle Sle Sle Sle Sle Sle Sle Sle Sle Sle Sle Sle Sle Sle Sle Sle Sle Sle Sle Sle Sle Sle Sle Sle Sle Sle Sle Sle Sle Sle Sle Sle Sle Sle Sle Sle Sle Sle Sle Sle Sle Sle Sle Sle Sle Sle Sle Sle Sle Sle Sle Sle Sle Sle Sle Sle Sle Sle Sle Sle Sle Sle Sle Sle Sle Sle Sle Sle Sle Sle Sle Sle Sle Sle<cell> Sle Sle Sle Sle Sle Sle Sle Sle Sle Sle Sle Sle Sle Sle Sle Sle<cell> Sle Sle Sle Sle Sle Sle Sle Sle Sle Sle Sle Sle Sle Sle<cell> Sle Sle Sle Sle Sle Sle Sle Sle Sle Sle Sle Sle Sle Sle Sle Sle Sle<cell> Sle Sle Sle Sle Sle Sle Sle Sle Sle Sle Sle Sle Sle Sle Sle Sle Sle Sle Sle Sle Sle Sle Sle Sle Sle Sle Sle Sle Sle Sle Sle Sle Sle Sle Sle Sle Sle Sle Sle Sle Sle Sle Sle Sle Sle Sle Sle Sle Sle Sle Sle Sle Sle Sle Sle Sle Sle Sle Sle Sle Sle Sle Sle Sle Sle Sle Sle Sle Sle Sle Sle Sle Sle Sle Sle Sle Sle Sle Sle Sle Sle Sle Sle Sle Sle Sle Sle Sle Sle Sle Sle Sle Sle Sle Sle Sle Sle Sle Sle Sle Sle Sle Sle Sle Sle Sle Sle Sle Sle Sle Sle Sle Sle Sle Sle Sle Sle Sle Sle Sle Sle Sle Sle Sle Sle Sle Sle Sle Sle Sle Sle Sle Sle Sle Sle Sle Sle Sle Sle Sle Sle Sle Sle Sle Sle Sle Sle Sle Sle Sle Sle Sle Sle Sle Sle Sle Sle Sle Sle Sle Sle Sle Sle Sle Sle Sle Sle Sle Sle Sle Sle Sle Sle Sle Sle Sle Sle Sle Sle Sle Sle Sle Sle Sle Sle Sle Sle Sle Sle Sle Sle Sle Sle Sle Sle Sle Sle Sle Sle Sle Sle Sle Sle Sle Sle Sle Sle Sle Sle Sle Sle Sle Sle Sle Sle Sle Sle Sle Sle Sle Sle Sle Sle Sle Sle Sle Sle Sle Sle Sle Sle Sle Sle Sle Sle Sle Sle Sle Sle Sle Sle Sle Sle Sle Sle Sle Sle Sle Sle Sle Sle Sle Sle Sle Sle Sle Sle Sle Sle Sle Sle Sle Sle Sle Sle Sle Sle Sle Sle Sle Sle Sle Sle Sle Sle Sle Sle Sle Sle Sle Sle Sle Sle Sle Sle Sle Sle Sle Sle Sle Sle Sle Sle Sle Sle Sle Sle Sle Sle Sle Sle Sle Sle Sle Sle Sle Sle Sle Sle Sle Sle Sle Sle Sle Sle Sle Sle Sle Sle Sle Sle Sle Sle Sle Sle Sle Sle Sle Sle Sle Sle Sle Sle Sle Sle Sle Sle Sle Sle Sle Sle Sle Sle Sle Sle Sle Sle Sle Sle Sle Sle Sle Sle Sle Sle Sle Sle Sle Sle Sle Sle Sle Sle Sle Sle Sle Sle Sle Sle Sle Sle Sle Sle Sle Sle Sle Sle Sle Sle Sle Sle Sle Sle Sle Sle Sle Sle Sle Sle Sle Sle Sle Sle Sle Sle Sle Sle Sle Sle Sle Sle Sle Sle Sle Sle Sle Sle Sle Sle Sle Sle Sle Sle Sle Sle Sle Sle Sle Sle Sle Sle Sle Sle Sle Sle Sle Sle Sle Sle Sle Sle Sle Sle Sle Sle Sle Sle Sle Sle Sle Sle Sle Sle Sle Sle Sle S</s></s></s>\n",
      "0.0 -- 0.0\n"
     ]
    },
    {
     "name": "stderr",
     "output_type": "stream",
     "text": [
      "  0%|                                       | 3/9064 [00:18<17:27:51,  6.94s/it]"
     ]
    },
    {
     "name": "stdout",
     "output_type": "stream",
     "text": [
      "f2e33bdb03a47b2dc32664508679f2b2a7b313f5e2d096cbeb2be89614d7ceb6.png\n",
      "<s><table_extraction><table><row><col_header><col_header> <b>Total</b><col_header> <b>Fixed-dose group</b><col_header><col_header> <b>Fixed-dose group</b><row><cell> January**<cell> 22.7<cell> 24.4<cell> 22.7<cell> 22.7<cell> 22.7<cell> 22.7<cell> 22.8<cell> 22.8<cell> 22.8<cell> 22.8<cell> 22.8<cell> 22.8<cell> 22.8<cell> 22.8<cell> 22.8<cell> 22.8<cell> 22.8<cell> 22.8<cell> 22.8<cell> 22.8<cell> 22.8<cell> 22.8<cell> 22.8<cell> 23.8<cell> 23.8<cell> 23.8<cell> 23.8<cell> 23.8<cell> 23.8<cell> 23.8<cell> 23.8<cell> 23.8<cell> 23.8<cell> 23.8<cell> 23.8<cell> 23.8<cell> 23.8<cell> 23.8<cell> 23.8<cell> 23.8<cell> 23.8<cell> 23.8<cell> 23.8<cell> 23.8<cell> 23.8<cell> 23.8<cell> 23.8<cell> 23.8<cell> 23.8<cell> 22.7 ± 2.5<cell> 22.7 ± 1.0<cell> 22.7 ± 1.0<cell> 22.7 ± 1.0<cell> 22.7 ± 1.0<cell> 22.7 ± 1.0<cell> 22.7 ± 1.0<cell> 22.7 ± 1.0<cell> 22.7 ± 1.0<cell> 22.7 ± 1.0<cell> 23.6 ± 1.0<cell> 22.7 ± 1.0<cell> 22.7 ± 1.0<cell> 23.6 ± 1.0<cell> 23.8<cell> 23.6 ± 1.0<cell> 22.9 ± 1.0<cell> 22.9 ± 1.0<cell> 22.9 ± 1.0<cell> 22.9 ± 1.0<cell> 23.8<cell> 23.8<cell> 23.8<cell> 23.8 ± 1.0<cell> ± 1.0<cell> ± 1.0<cell> ± 1.0<cell> ± 1.0<cell> ± 1.0<cell> ± 1.0<cell> ± 1.0<cell> ± 1.0<cell> ± 1.0<cell> ± 1.0<cell> ± 1.0<cell> ± 1.0<cell> ± 1.0<cell> ± 1.0<cell> ± 1.0<cell> ± 1.0<cell> ± 1.0<cell> ± 1.0<cell> ± 1.0<cell> ± 1.0<cell> ± 1.0<cell> ± 1.0<cell> ± 1.0<cell> ± 1.0<cell> ± 1.0<cell> ± 1.0<cell> ± 1.0<cell> ± 1.0<cell> ± 1.0<cell> ± 1.0<cell> ± 1.0<cell> ± 1.0<cell> ± 1.0<cell> ± 1.0<cell> ± 1.0<cell> ± 1.0<cell> 23.4 ± 1.0<cell> ± 1.0<cell> ± 1.0<cell> 23.4 ± 1.0<cell> 23.4 ± 1.0<cell> 23.4 ± 1.0<cell> 23.4 ± 1.0<cell> 23.4 ± 1.0<cell> 23.4 ± 1.0<cell> 23.4 ± 1.0<cell> 23.4 ± 1.0<cell> 23.4 ± 1.0<cell> 23.4 ± 1.0<cell> 23.4 ± 1.0<cell> 23.4 ± 1.0<cell> 23.4 ± 1.0<cell> 23.8 ± 1.0<cell> ± 1.0<cell> ± 1.0<cell> 23.4 ± 1.0<cell> 23.4 ± 1.0<cell> 23.4 ± 1.0<cell> 23.4 ± 1.0<cell> 23.4 ± 1.0<cell> 23.4 ± 1.0<cell> 23.4 ± 1.0<cell> 23.4 ± 1.0<cell> 23.4 ± 1.0<cell> 23.4 ± 1.0<cell> 23.4 ± 1.0<cell> 23.4 ± 1.0<cell> 23.4 ± 1.0<cell> 23.4 ± 1.0<cell> 23.4 ± 1.0<cell> 23.4 ± 1.0<cell> 23.4 ± 1.0<cell> 23.4 ± 1.0<cell> 23.4 ± 1.0<cell> 23.4 ± 1.0<cell> 23.4 ± 1.0<cell> 23.4 ± 1.0<cell> 23.4 ± 1.0<cell> 23.4 ± 1.0<cell> 23.4 ± 1.0<cell> 23.4 ± 1.0<cell> 23.4 ± 1.0<cell> 23.4 ± 1.0<cell> 23.4 ± 1.0<cell> 23.4 ± 1.0<cell> 23.4 ± 1.0<cell> 23.4 ± 1.0<cell> 23.4 ± 1.0<cell> 23.4 ± 1.0<cell> 23.4 ± 1.0<cell> 23.4 ± 1.0<cell> 23.4 ± 1.0<cell> 23.4 ± 1.0<cell> 23.4 ± 1.0<cell> 23.4 ± 1.0<cell> 23.4 ± 1.0<cell> 23.4 ± 1.0<cell> 23.4 ± 1.0<cell> 23.4 ± 1.0<cell> 23.4 ± 1.0<cell> 23.4 ± 1.0<cell> 23.4 ± 1.0<cell> 23.4 ± 1.0<cell> 23.4 ± 1.0<cell> 23.4 ± 1.0<cell> 23.4 ± 1.0<cell> 23.4 ± 1.0<cell> 23.4 ± 1.0<cell> 23.4 ± 1.0<cell> 23.4 ± 1.0<cell> 23.4 ± 1.0<cell> 23.4 ± 1.0<cell> 23.4 ± 1.0<cell> 23.4 ± 1.0<cell> 23.4 ± 1.0<cell> 23.4 ± 1.0<cell> 23.4 ± 1.0<cell> 23.4 ± 1.0<cell> 23.4 ± 1.0<cell> 23.4 ± 1.0<cell> 23.4 ± 1.0<cell> 23.4 ± 1.0<cell> 23.4 ± 1.0<cell> 23.4 ± 1.0<cell> 23.4 ± 1.0<cell> 23.4 ± 1.0<cell> 23.4 ± 1.0<cell> 23.4 ± 1.0<cell> 23.4 ± 1.0<cell> 23.4 ± 1.0<cell> 23.4 ± 1.0<cell> 23.4 ± 1.0<cell> 23.4 ± 1.0<cell> 23.4 ± 1.0<cell> 23.4 ± 1.0<cell> 23.4 ± 1.0<cell> 23.4 ± 1.0<cell> 23.4 ± 1.0<cell> 23.4 ± 1.0<cell> 23.4 ± 1.0<cell> 23.4 ± 1.0<cell> 23.4 ± 1.0<cell> 23.4 ± 1.0<cell> 23.4 ± 1.0<cell> 23.4 ± 1.0<cell> 23.4 ± 1.0<cell> 23.4 ± 1.0<cell> 23.4 ± 1.0<cell> 23.4 ± 1.0<cell> 23.4 ± 1.0<cell> 23.4 ± 1.0<cell> 23.4 ± 1.0<cell> 23.4 ± 1.0<cell> 23.4 ± 1.0<cell> 23.4 ± 1.0<cell> 23.4 ± 1.0<cell> 23.4 ± 1.0<cell> 23.4 ± 1.0<cell> ± 1.0<cell> ± 1.0<cell> 23.4 ± 1.0<cell> 23.4 ± 1.0<cell> 23.4 ± 1.0<cell> 23.4 ± 1.0<cell> 23.4 ± 1.0<cell> 23.4 ± 1.0<cell> 23.4 ± 1.0<cell> 23.4 ± 1.0<cell> 23.4 ± 1.0<cell> ± 1.0<cell> 23.3 ± 1.0<cell> 23.3 ± 1.0<cell> 23.3 ± 1.0<cell> 23.3 ± 1.0<cell> 23.4 ± 1.0<cell> 23.3 ± 1.0<cell> 23.3 ± 1.0<cell> 23.3 ± 1.0<cell> 23.3 ± 1.0<cell> 23.3 ± 1.0<cell> 23.3 ± 1.0<cell> 23.3 ± 1.0<cell> 23.3 ± 1.0<cell> 23.3 ± 1.0<cell> 23.3 ± 1.0<cell> 23.3 ± 1.0<cell> 23.3 ± 1.0<cell> 23.3 ± 1.0<cell> 23.3 ± 1.0<cell> 23.3 ± 1.0<cell> 23.3 ± 1.0<cell> 23.3 ± 1.0<cell> 23.3 ± 1.0<cell> 23.3 ± 1.0<cell> 23.3 ± 1.0<cell> 23.3 ± 1.0<cell> 23.3 ± 1.0<cell> 23.3 ± 1.0<cell> 23.3 ± 1.0<cell> 23.3 ± 1.0<cell> 23.3 ± 1.0<cell> 23.3 ± 1.0<cell> 23.3 ± 1.0<cell> 23.3 ± 1.0<cell> 23.3 ± 1.0<cell> 23.3 ± 1.0<cell> ± 1.0<cell> 23.3 ± 1.0<cell> ± 1.0<cell> 23.3 ± 1.0<cell> 23.3 ± 1.0<cell> 23.3 ± 1.0<cell> 23.3 ± 1.0<cell> 23.3 ± 1.0<cell> 23.3 ± 1.0<cell> 23.3 ± 1.0<cell> 23.3 ± 1.0<cell> 23.3 ± 1.0<cell> 23.3 ± 1.0<cell> 23.3 ± 1.0<cell> 23.3 ± 1.0<cell> 23.3 ± 1.0<cell> 23.3 ± 1.0<cell> 23.3 ± 1.0<cell> 23.3 ± 1.0<cell> 23.3 ± 1.0<cell> 23.3 ± 1.0<cell></s></s></s>\n",
      "0.0 -- 0.0\n"
     ]
    },
    {
     "name": "stderr",
     "output_type": "stream",
     "text": [
      "  0%|                                       | 4/9064 [00:26<19:10:19,  7.62s/it]"
     ]
    },
    {
     "name": "stdout",
     "output_type": "stream",
     "text": [
      "772b165aa6f4730bcf96b4ea4d16d34bef666bf22253825c1c351c25588991b0.png\n",
      "<s><table_extraction><table><row><col_header><col_header> <b>No. herds</b><col_header> <b>End of one year study period</b><col_header> <b>Herd</b><col_header> <b>Herd</b> of year</b><col_header> <sup>Herd</b> of one year</b><row><cell> Herd</b><cell> Herd</b><row><cell><cell><cell><cell><cell><cell><cell><cell><cell><cell><cell><cell><cell> 45<cell> 45<cell> 45<cell> 45<cell> 45<cell> 45<cell> 45<cell> 45<cell> 45<cell> 45<cell> 45<cell> 45<cell> 45<cell> 45<cell> 45<cell> 45<cell> 45<cell> 45<cell> 45<cell> 45<cell> 45<cell> 45<cell> 45<cell> 45<cell> 45d</b><cell> 45d</b><cell> 45d</b><cell> 45d</b>d</b>d</b>d</b>d</b>d</b>d</b>d</b>d</b>d</b>d</b>d</b>d</b>d</b>d</b>d</b>d</b>d</b>d</b>d</b>d</b>d</b>d</b>d</b>d</b>d</b>d</b>d</b>d</b>d</b>d</b>d</b>d</b>d</b>d</b>d</b>d</b>d</b>d</b>d</b>d</b>d</b>d</b>d</b>d</b>d</b>d</b>d</b>d</b>d</b>d</b>d</b>d</b>d</b>d</b>d</b>d</b>d</b>d</b>d</b>d</b>d</b>d</b>d</b>d</b>d</b>d</b>d</b>d</b>d</b>d</b>d</b>d</b>d</b>d</b>d</b>d</b>d</b>d</b>d</b>d</b>d</b>d</b>d</b>d</b>d</b>d</b>d</b>d</b>d</b>d</b>d</b>d</b>d</b>d</b>d</b>d</b>d</b>d</b>d</b>d</b>d</b>d</b>d</b>d</b>d</b>d</b>d</b>d</b>d</b>d</b>d</b>d</b>d</b>d</b>d</b>d</b>d</b>d</b>d</b>d</b>d</b>d</b>d</b>d</b>d</b>d</b>d</b>d</b>d</b>d</b>d</b>d</b>d</b>d</b>d</b>d</b>d</b>d</b>d</b>d</b>d</b>d</b>d</b>d</b>d</b>d</b>d</b>d</b>d</b>d</b>d</b>d</b>d</b>d</b>d</b>d</b>d</b>d</b>d</b>d</b>d</b>d</b>d</b>d</b>d</b>d</b>d</b>d</b>d</b>d</b>d</b>d</b>d</b>d</b>d</b>d</b>d</b>d</b>d</b>d</b>d</b>d</b>d</b>d</b>d</b>d</b>d</b>d</b>d</b>d</b>d</b>d</b>d</b>d</b>d</b>d</b>d</b>d</b>d</b>d</b>d</b>d</b>d</b>d</b>d</b>d</b>d</b>d</b>d</b>d</b>d</b>d</b>d</b>d</b>d</b>d</b>d</b>d</b>d</b>d</b>d</b>d</b>d</b>d</b>d</b>d</b>d</b>d</b>d</b>d</b>d</b>d</b>d</b>d</b>d</b>d</b>d</b>d</b>d</b>d</b>d</b>d</b>d</b>d</b>d</b>d</b>d</b>d</b>d</b>d</b>d</b>d</b>d</b>d</b>d</b>d</b>d</b>d</b>d</b>d</b>d</b>d</b>d</b>d</b>d</b>d</b>d</b>d</b>d</b>d</b>d</b>d</b>d</b>d</b>d</b>d</b>d</b>d</b>d</b>d</b>d</b>d</b>d</b>d</b>d</b>d</b>d</b>d</b>d</b>d</b>d</b>d</b>d</b>d</b>d</b>d</b>d</b>d</b>d</b>d</b>d</b>d</b>d</b>d</b>d</b>d</b>d</b>d</b>d</b>d</b>d</b>d</b>d</b>d</b>d</b>d</b>d</b>d</b>d</b>d</b>d</b>d</b>d</b>d</b>d</b>d</b>d</b>d</b>d</b>d</b>d</b>d</b>d</b>d</b>d</b>d</b>d</b>d</b>d</b>d</b>d</b>d</b>d</b>d</b>d</b>d</b>d</b>d</b>d</b>d</b>d</b>d</b>d</b>d</b>d</b>d</b>d</b>d</b></s></s></s>\n",
      "0.1333333333333333 -- 0.033333333333333326\n"
     ]
    },
    {
     "name": "stderr",
     "output_type": "stream",
     "text": [
      "  0%|                                       | 4/9064 [00:31<19:38:37,  7.81s/it]\n"
     ]
    },
    {
     "ename": "KeyboardInterrupt",
     "evalue": "",
     "output_type": "error",
     "traceback": [
      "\u001b[0;31m---------------------------------------------------------------------------\u001b[0m",
      "\u001b[0;31mKeyboardInterrupt\u001b[0m                         Traceback (most recent call last)",
      "Cell \u001b[0;32mIn[32], line 20\u001b[0m\n\u001b[1;32m     17\u001b[0m gt \u001b[38;5;241m=\u001b[39m batch[\u001b[38;5;124m'\u001b[39m\u001b[38;5;124mgt\u001b[39m\u001b[38;5;124m'\u001b[39m][\u001b[38;5;241m0\u001b[39m]\u001b[38;5;241m.\u001b[39mreplace(\u001b[38;5;124m\"\u001b[39m\u001b[38;5;124m> \u001b[39m\u001b[38;5;124m\"\u001b[39m, \u001b[38;5;124m\"\u001b[39m\u001b[38;5;124m>\u001b[39m\u001b[38;5;124m\"\u001b[39m)\u001b[38;5;241m.\u001b[39mreplace(\u001b[38;5;124m\"\u001b[39m\u001b[38;5;124m <\u001b[39m\u001b[38;5;124m\"\u001b[39m, \u001b[38;5;124m\"\u001b[39m\u001b[38;5;124m<\u001b[39m\u001b[38;5;124m\"\u001b[39m)\n\u001b[1;32m     19\u001b[0m \u001b[38;5;66;03m# autoregressively generate sequence\u001b[39;00m\n\u001b[0;32m---> 20\u001b[0m outputs \u001b[38;5;241m=\u001b[39m \u001b[43mmodel\u001b[49m\u001b[38;5;241;43m.\u001b[39;49m\u001b[43mgenerate\u001b[49m\u001b[43m(\u001b[49m\n\u001b[1;32m     21\u001b[0m \u001b[43m    \u001b[49m\u001b[43mpixel_values\u001b[49m\u001b[43m,\u001b[49m\n\u001b[1;32m     22\u001b[0m \u001b[43m    \u001b[49m\u001b[43mdecoder_input_ids\u001b[49m\u001b[38;5;241;43m=\u001b[39;49m\u001b[43mdecoder_input_ids\u001b[49m\u001b[38;5;241;43m.\u001b[39;49m\u001b[43mto\u001b[49m\u001b[43m(\u001b[49m\u001b[43mdevice\u001b[49m\u001b[43m)\u001b[49m\u001b[43m,\u001b[49m\n\u001b[1;32m     23\u001b[0m \u001b[43m    \u001b[49m\u001b[43mmax_length\u001b[49m\u001b[38;5;241;43m=\u001b[39;49m\u001b[43m \u001b[49m\u001b[38;5;241;43m1600\u001b[39;49m\u001b[43m,\u001b[49m\n\u001b[1;32m     24\u001b[0m \u001b[43m    \u001b[49m\u001b[43mearly_stopping\u001b[49m\u001b[38;5;241;43m=\u001b[39;49m\u001b[38;5;28;43;01mTrue\u001b[39;49;00m\u001b[43m,\u001b[49m\n\u001b[1;32m     25\u001b[0m \u001b[43m    \u001b[49m\u001b[43mpad_token_id\u001b[49m\u001b[38;5;241;43m=\u001b[39;49m\u001b[43mprocessor\u001b[49m\u001b[38;5;241;43m.\u001b[39;49m\u001b[43mtokenizer\u001b[49m\u001b[38;5;241;43m.\u001b[39;49m\u001b[43mpad_token_id\u001b[49m\u001b[43m,\u001b[49m\n\u001b[1;32m     26\u001b[0m \u001b[43m    \u001b[49m\u001b[43meos_token_id\u001b[49m\u001b[38;5;241;43m=\u001b[39;49m\u001b[43mprocessor\u001b[49m\u001b[38;5;241;43m.\u001b[39;49m\u001b[43mtokenizer\u001b[49m\u001b[38;5;241;43m.\u001b[39;49m\u001b[43meos_token_id\u001b[49m\u001b[43m,\u001b[49m\n\u001b[1;32m     27\u001b[0m \u001b[43m    \u001b[49m\u001b[43muse_cache\u001b[49m\u001b[38;5;241;43m=\u001b[39;49m\u001b[38;5;28;43;01mTrue\u001b[39;49;00m\u001b[43m,\u001b[49m\n\u001b[1;32m     28\u001b[0m \u001b[43m    \u001b[49m\u001b[43mnum_beams\u001b[49m\u001b[38;5;241;43m=\u001b[39;49m\u001b[43m \u001b[49m\u001b[38;5;241;43m3\u001b[39;49m\u001b[43m,\u001b[49m\n\u001b[1;32m     29\u001b[0m \u001b[43m    \u001b[49m\u001b[43mbad_words_ids\u001b[49m\u001b[38;5;241;43m=\u001b[39;49m\u001b[43m[\u001b[49m\u001b[43m[\u001b[49m\u001b[43mprocessor\u001b[49m\u001b[38;5;241;43m.\u001b[39;49m\u001b[43mtokenizer\u001b[49m\u001b[38;5;241;43m.\u001b[39;49m\u001b[43munk_token_id\u001b[49m\u001b[43m]\u001b[49m\u001b[43m]\u001b[49m\u001b[43m,\u001b[49m\n\u001b[1;32m     30\u001b[0m \u001b[43m    \u001b[49m\u001b[43mreturn_dict_in_generate\u001b[49m\u001b[38;5;241;43m=\u001b[39;49m\u001b[38;5;28;43;01mTrue\u001b[39;49;00m\u001b[43m,\u001b[49m\n\u001b[1;32m     31\u001b[0m \u001b[43m    \u001b[49m\u001b[43m)\u001b[49m\n\u001b[1;32m     33\u001b[0m seq \u001b[38;5;241m=\u001b[39m torch\u001b[38;5;241m.\u001b[39mcat((outputs\u001b[38;5;241m.\u001b[39msequences[\u001b[38;5;241m0\u001b[39m], torch\u001b[38;5;241m.\u001b[39mTensor([\u001b[38;5;241m2\u001b[39m, \u001b[38;5;241m2\u001b[39m])\u001b[38;5;241m.\u001b[39mint()\u001b[38;5;241m.\u001b[39mto(device)), \u001b[38;5;241m0\u001b[39m)\n\u001b[1;32m     34\u001b[0m \u001b[38;5;28mprint\u001b[39m(filename)\n",
      "File \u001b[0;32m~/.local/lib/python3.10/site-packages/torch/utils/_contextlib.py:115\u001b[0m, in \u001b[0;36mcontext_decorator.<locals>.decorate_context\u001b[0;34m(*args, **kwargs)\u001b[0m\n\u001b[1;32m    112\u001b[0m \u001b[38;5;129m@functools\u001b[39m\u001b[38;5;241m.\u001b[39mwraps(func)\n\u001b[1;32m    113\u001b[0m \u001b[38;5;28;01mdef\u001b[39;00m \u001b[38;5;21mdecorate_context\u001b[39m(\u001b[38;5;241m*\u001b[39margs, \u001b[38;5;241m*\u001b[39m\u001b[38;5;241m*\u001b[39mkwargs):\n\u001b[1;32m    114\u001b[0m     \u001b[38;5;28;01mwith\u001b[39;00m ctx_factory():\n\u001b[0;32m--> 115\u001b[0m         \u001b[38;5;28;01mreturn\u001b[39;00m \u001b[43mfunc\u001b[49m\u001b[43m(\u001b[49m\u001b[38;5;241;43m*\u001b[39;49m\u001b[43margs\u001b[49m\u001b[43m,\u001b[49m\u001b[43m \u001b[49m\u001b[38;5;241;43m*\u001b[39;49m\u001b[38;5;241;43m*\u001b[39;49m\u001b[43mkwargs\u001b[49m\u001b[43m)\u001b[49m\n",
      "File \u001b[0;32m~/.local/lib/python3.10/site-packages/transformers/generation/utils.py:1773\u001b[0m, in \u001b[0;36mGenerationMixin.generate\u001b[0;34m(self, inputs, generation_config, logits_processor, stopping_criteria, prefix_allowed_tokens_fn, synced_gpus, assistant_model, streamer, negative_prompt_ids, negative_prompt_attention_mask, **kwargs)\u001b[0m\n\u001b[1;32m   1765\u001b[0m     input_ids, model_kwargs \u001b[38;5;241m=\u001b[39m \u001b[38;5;28mself\u001b[39m\u001b[38;5;241m.\u001b[39m_expand_inputs_for_generation(\n\u001b[1;32m   1766\u001b[0m         input_ids\u001b[38;5;241m=\u001b[39minput_ids,\n\u001b[1;32m   1767\u001b[0m         expand_size\u001b[38;5;241m=\u001b[39mgeneration_config\u001b[38;5;241m.\u001b[39mnum_beams,\n\u001b[1;32m   1768\u001b[0m         is_encoder_decoder\u001b[38;5;241m=\u001b[39m\u001b[38;5;28mself\u001b[39m\u001b[38;5;241m.\u001b[39mconfig\u001b[38;5;241m.\u001b[39mis_encoder_decoder,\n\u001b[1;32m   1769\u001b[0m         \u001b[38;5;241m*\u001b[39m\u001b[38;5;241m*\u001b[39mmodel_kwargs,\n\u001b[1;32m   1770\u001b[0m     )\n\u001b[1;32m   1772\u001b[0m     \u001b[38;5;66;03m# 14. run beam sample\u001b[39;00m\n\u001b[0;32m-> 1773\u001b[0m     result \u001b[38;5;241m=\u001b[39m \u001b[38;5;28;43mself\u001b[39;49m\u001b[38;5;241;43m.\u001b[39;49m\u001b[43m_beam_search\u001b[49m\u001b[43m(\u001b[49m\n\u001b[1;32m   1774\u001b[0m \u001b[43m        \u001b[49m\u001b[43minput_ids\u001b[49m\u001b[43m,\u001b[49m\n\u001b[1;32m   1775\u001b[0m \u001b[43m        \u001b[49m\u001b[43mbeam_scorer\u001b[49m\u001b[43m,\u001b[49m\n\u001b[1;32m   1776\u001b[0m \u001b[43m        \u001b[49m\u001b[43mlogits_processor\u001b[49m\u001b[38;5;241;43m=\u001b[39;49m\u001b[43mprepared_logits_processor\u001b[49m\u001b[43m,\u001b[49m\n\u001b[1;32m   1777\u001b[0m \u001b[43m        \u001b[49m\u001b[43mlogits_warper\u001b[49m\u001b[38;5;241;43m=\u001b[39;49m\u001b[43mprepared_logits_warper\u001b[49m\u001b[43m,\u001b[49m\n\u001b[1;32m   1778\u001b[0m \u001b[43m        \u001b[49m\u001b[43mstopping_criteria\u001b[49m\u001b[38;5;241;43m=\u001b[39;49m\u001b[43mprepared_stopping_criteria\u001b[49m\u001b[43m,\u001b[49m\n\u001b[1;32m   1779\u001b[0m \u001b[43m        \u001b[49m\u001b[43mgeneration_config\u001b[49m\u001b[38;5;241;43m=\u001b[39;49m\u001b[43mgeneration_config\u001b[49m\u001b[43m,\u001b[49m\n\u001b[1;32m   1780\u001b[0m \u001b[43m        \u001b[49m\u001b[43msynced_gpus\u001b[49m\u001b[38;5;241;43m=\u001b[39;49m\u001b[43msynced_gpus\u001b[49m\u001b[43m,\u001b[49m\n\u001b[1;32m   1781\u001b[0m \u001b[43m        \u001b[49m\u001b[38;5;241;43m*\u001b[39;49m\u001b[38;5;241;43m*\u001b[39;49m\u001b[43mmodel_kwargs\u001b[49m\u001b[43m,\u001b[49m\n\u001b[1;32m   1782\u001b[0m \u001b[43m    \u001b[49m\u001b[43m)\u001b[49m\n\u001b[1;32m   1784\u001b[0m \u001b[38;5;28;01melif\u001b[39;00m generation_mode \u001b[38;5;241m==\u001b[39m GenerationMode\u001b[38;5;241m.\u001b[39mGROUP_BEAM_SEARCH:\n\u001b[1;32m   1785\u001b[0m     \u001b[38;5;66;03m# 11. prepare beam search scorer\u001b[39;00m\n\u001b[1;32m   1786\u001b[0m     beam_scorer \u001b[38;5;241m=\u001b[39m BeamSearchScorer(\n\u001b[1;32m   1787\u001b[0m         batch_size\u001b[38;5;241m=\u001b[39mbatch_size,\n\u001b[1;32m   1788\u001b[0m         num_beams\u001b[38;5;241m=\u001b[39mgeneration_config\u001b[38;5;241m.\u001b[39mnum_beams,\n\u001b[0;32m   (...)\u001b[0m\n\u001b[1;32m   1794\u001b[0m         max_length\u001b[38;5;241m=\u001b[39mgeneration_config\u001b[38;5;241m.\u001b[39mmax_length,\n\u001b[1;32m   1795\u001b[0m     )\n",
      "File \u001b[0;32m~/.local/lib/python3.10/site-packages/transformers/generation/utils.py:2632\u001b[0m, in \u001b[0;36mGenerationMixin._beam_search\u001b[0;34m(self, input_ids, beam_scorer, logits_processor, stopping_criteria, generation_config, synced_gpus, logits_warper, **model_kwargs)\u001b[0m\n\u001b[1;32m   2629\u001b[0m     outputs \u001b[38;5;241m=\u001b[39m stack_model_outputs(outputs_per_sub_batch)\n\u001b[1;32m   2631\u001b[0m \u001b[38;5;28;01melse\u001b[39;00m:  \u001b[38;5;66;03m# Unchanged original behavior\u001b[39;00m\n\u001b[0;32m-> 2632\u001b[0m     outputs \u001b[38;5;241m=\u001b[39m \u001b[38;5;28;43mself\u001b[39;49m\u001b[43m(\u001b[49m\n\u001b[1;32m   2633\u001b[0m \u001b[43m        \u001b[49m\u001b[38;5;241;43m*\u001b[39;49m\u001b[38;5;241;43m*\u001b[39;49m\u001b[43mmodel_inputs\u001b[49m\u001b[43m,\u001b[49m\n\u001b[1;32m   2634\u001b[0m \u001b[43m        \u001b[49m\u001b[43mreturn_dict\u001b[49m\u001b[38;5;241;43m=\u001b[39;49m\u001b[38;5;28;43;01mTrue\u001b[39;49;00m\u001b[43m,\u001b[49m\n\u001b[1;32m   2635\u001b[0m \u001b[43m        \u001b[49m\u001b[43moutput_attentions\u001b[49m\u001b[38;5;241;43m=\u001b[39;49m\u001b[43moutput_attentions\u001b[49m\u001b[43m,\u001b[49m\n\u001b[1;32m   2636\u001b[0m \u001b[43m        \u001b[49m\u001b[43moutput_hidden_states\u001b[49m\u001b[38;5;241;43m=\u001b[39;49m\u001b[43moutput_hidden_states\u001b[49m\u001b[43m,\u001b[49m\n\u001b[1;32m   2637\u001b[0m \u001b[43m    \u001b[49m\u001b[43m)\u001b[49m\n\u001b[1;32m   2639\u001b[0m \u001b[38;5;28;01mif\u001b[39;00m synced_gpus \u001b[38;5;129;01mand\u001b[39;00m this_peer_finished:\n\u001b[1;32m   2640\u001b[0m     cur_len \u001b[38;5;241m=\u001b[39m cur_len \u001b[38;5;241m+\u001b[39m \u001b[38;5;241m1\u001b[39m\n",
      "File \u001b[0;32m~/.local/lib/python3.10/site-packages/torch/nn/modules/module.py:1532\u001b[0m, in \u001b[0;36mModule._wrapped_call_impl\u001b[0;34m(self, *args, **kwargs)\u001b[0m\n\u001b[1;32m   1530\u001b[0m     \u001b[38;5;28;01mreturn\u001b[39;00m \u001b[38;5;28mself\u001b[39m\u001b[38;5;241m.\u001b[39m_compiled_call_impl(\u001b[38;5;241m*\u001b[39margs, \u001b[38;5;241m*\u001b[39m\u001b[38;5;241m*\u001b[39mkwargs)  \u001b[38;5;66;03m# type: ignore[misc]\u001b[39;00m\n\u001b[1;32m   1531\u001b[0m \u001b[38;5;28;01melse\u001b[39;00m:\n\u001b[0;32m-> 1532\u001b[0m     \u001b[38;5;28;01mreturn\u001b[39;00m \u001b[38;5;28;43mself\u001b[39;49m\u001b[38;5;241;43m.\u001b[39;49m\u001b[43m_call_impl\u001b[49m\u001b[43m(\u001b[49m\u001b[38;5;241;43m*\u001b[39;49m\u001b[43margs\u001b[49m\u001b[43m,\u001b[49m\u001b[43m \u001b[49m\u001b[38;5;241;43m*\u001b[39;49m\u001b[38;5;241;43m*\u001b[39;49m\u001b[43mkwargs\u001b[49m\u001b[43m)\u001b[49m\n",
      "File \u001b[0;32m~/.local/lib/python3.10/site-packages/torch/nn/modules/module.py:1541\u001b[0m, in \u001b[0;36mModule._call_impl\u001b[0;34m(self, *args, **kwargs)\u001b[0m\n\u001b[1;32m   1536\u001b[0m \u001b[38;5;66;03m# If we don't have any hooks, we want to skip the rest of the logic in\u001b[39;00m\n\u001b[1;32m   1537\u001b[0m \u001b[38;5;66;03m# this function, and just call forward.\u001b[39;00m\n\u001b[1;32m   1538\u001b[0m \u001b[38;5;28;01mif\u001b[39;00m \u001b[38;5;129;01mnot\u001b[39;00m (\u001b[38;5;28mself\u001b[39m\u001b[38;5;241m.\u001b[39m_backward_hooks \u001b[38;5;129;01mor\u001b[39;00m \u001b[38;5;28mself\u001b[39m\u001b[38;5;241m.\u001b[39m_backward_pre_hooks \u001b[38;5;129;01mor\u001b[39;00m \u001b[38;5;28mself\u001b[39m\u001b[38;5;241m.\u001b[39m_forward_hooks \u001b[38;5;129;01mor\u001b[39;00m \u001b[38;5;28mself\u001b[39m\u001b[38;5;241m.\u001b[39m_forward_pre_hooks\n\u001b[1;32m   1539\u001b[0m         \u001b[38;5;129;01mor\u001b[39;00m _global_backward_pre_hooks \u001b[38;5;129;01mor\u001b[39;00m _global_backward_hooks\n\u001b[1;32m   1540\u001b[0m         \u001b[38;5;129;01mor\u001b[39;00m _global_forward_hooks \u001b[38;5;129;01mor\u001b[39;00m _global_forward_pre_hooks):\n\u001b[0;32m-> 1541\u001b[0m     \u001b[38;5;28;01mreturn\u001b[39;00m \u001b[43mforward_call\u001b[49m\u001b[43m(\u001b[49m\u001b[38;5;241;43m*\u001b[39;49m\u001b[43margs\u001b[49m\u001b[43m,\u001b[49m\u001b[43m \u001b[49m\u001b[38;5;241;43m*\u001b[39;49m\u001b[38;5;241;43m*\u001b[39;49m\u001b[43mkwargs\u001b[49m\u001b[43m)\u001b[49m\n\u001b[1;32m   1543\u001b[0m \u001b[38;5;28;01mtry\u001b[39;00m:\n\u001b[1;32m   1544\u001b[0m     result \u001b[38;5;241m=\u001b[39m \u001b[38;5;28;01mNone\u001b[39;00m\n",
      "File \u001b[0;32m~/.local/lib/python3.10/site-packages/transformers/models/vision_encoder_decoder/modeling_vision_encoder_decoder.py:615\u001b[0m, in \u001b[0;36mVisionEncoderDecoderModel.forward\u001b[0;34m(self, pixel_values, decoder_input_ids, decoder_attention_mask, encoder_outputs, past_key_values, decoder_inputs_embeds, labels, use_cache, output_attentions, output_hidden_states, return_dict, **kwargs)\u001b[0m\n\u001b[1;32m    610\u001b[0m     decoder_input_ids \u001b[38;5;241m=\u001b[39m shift_tokens_right(\n\u001b[1;32m    611\u001b[0m         labels, \u001b[38;5;28mself\u001b[39m\u001b[38;5;241m.\u001b[39mconfig\u001b[38;5;241m.\u001b[39mpad_token_id, \u001b[38;5;28mself\u001b[39m\u001b[38;5;241m.\u001b[39mconfig\u001b[38;5;241m.\u001b[39mdecoder_start_token_id\n\u001b[1;32m    612\u001b[0m     )\n\u001b[1;32m    614\u001b[0m \u001b[38;5;66;03m# Decode\u001b[39;00m\n\u001b[0;32m--> 615\u001b[0m decoder_outputs \u001b[38;5;241m=\u001b[39m \u001b[38;5;28;43mself\u001b[39;49m\u001b[38;5;241;43m.\u001b[39;49m\u001b[43mdecoder\u001b[49m\u001b[43m(\u001b[49m\n\u001b[1;32m    616\u001b[0m \u001b[43m    \u001b[49m\u001b[43minput_ids\u001b[49m\u001b[38;5;241;43m=\u001b[39;49m\u001b[43mdecoder_input_ids\u001b[49m\u001b[43m,\u001b[49m\n\u001b[1;32m    617\u001b[0m \u001b[43m    \u001b[49m\u001b[43mattention_mask\u001b[49m\u001b[38;5;241;43m=\u001b[39;49m\u001b[43mdecoder_attention_mask\u001b[49m\u001b[43m,\u001b[49m\n\u001b[1;32m    618\u001b[0m \u001b[43m    \u001b[49m\u001b[43mencoder_hidden_states\u001b[49m\u001b[38;5;241;43m=\u001b[39;49m\u001b[43mencoder_hidden_states\u001b[49m\u001b[43m,\u001b[49m\n\u001b[1;32m    619\u001b[0m \u001b[43m    \u001b[49m\u001b[43mencoder_attention_mask\u001b[49m\u001b[38;5;241;43m=\u001b[39;49m\u001b[43mencoder_attention_mask\u001b[49m\u001b[43m,\u001b[49m\n\u001b[1;32m    620\u001b[0m \u001b[43m    \u001b[49m\u001b[43minputs_embeds\u001b[49m\u001b[38;5;241;43m=\u001b[39;49m\u001b[43mdecoder_inputs_embeds\u001b[49m\u001b[43m,\u001b[49m\n\u001b[1;32m    621\u001b[0m \u001b[43m    \u001b[49m\u001b[43moutput_attentions\u001b[49m\u001b[38;5;241;43m=\u001b[39;49m\u001b[43moutput_attentions\u001b[49m\u001b[43m,\u001b[49m\n\u001b[1;32m    622\u001b[0m \u001b[43m    \u001b[49m\u001b[43moutput_hidden_states\u001b[49m\u001b[38;5;241;43m=\u001b[39;49m\u001b[43moutput_hidden_states\u001b[49m\u001b[43m,\u001b[49m\n\u001b[1;32m    623\u001b[0m \u001b[43m    \u001b[49m\u001b[43muse_cache\u001b[49m\u001b[38;5;241;43m=\u001b[39;49m\u001b[43muse_cache\u001b[49m\u001b[43m,\u001b[49m\n\u001b[1;32m    624\u001b[0m \u001b[43m    \u001b[49m\u001b[43mpast_key_values\u001b[49m\u001b[38;5;241;43m=\u001b[39;49m\u001b[43mpast_key_values\u001b[49m\u001b[43m,\u001b[49m\n\u001b[1;32m    625\u001b[0m \u001b[43m    \u001b[49m\u001b[43mreturn_dict\u001b[49m\u001b[38;5;241;43m=\u001b[39;49m\u001b[43mreturn_dict\u001b[49m\u001b[43m,\u001b[49m\n\u001b[1;32m    626\u001b[0m \u001b[43m    \u001b[49m\u001b[38;5;241;43m*\u001b[39;49m\u001b[38;5;241;43m*\u001b[39;49m\u001b[43mkwargs_decoder\u001b[49m\u001b[43m,\u001b[49m\n\u001b[1;32m    627\u001b[0m \u001b[43m\u001b[49m\u001b[43m)\u001b[49m\n\u001b[1;32m    629\u001b[0m \u001b[38;5;66;03m# Compute loss independent from decoder (as some shift the logits inside them)\u001b[39;00m\n\u001b[1;32m    630\u001b[0m loss \u001b[38;5;241m=\u001b[39m \u001b[38;5;28;01mNone\u001b[39;00m\n",
      "File \u001b[0;32m~/.local/lib/python3.10/site-packages/torch/nn/modules/module.py:1532\u001b[0m, in \u001b[0;36mModule._wrapped_call_impl\u001b[0;34m(self, *args, **kwargs)\u001b[0m\n\u001b[1;32m   1530\u001b[0m     \u001b[38;5;28;01mreturn\u001b[39;00m \u001b[38;5;28mself\u001b[39m\u001b[38;5;241m.\u001b[39m_compiled_call_impl(\u001b[38;5;241m*\u001b[39margs, \u001b[38;5;241m*\u001b[39m\u001b[38;5;241m*\u001b[39mkwargs)  \u001b[38;5;66;03m# type: ignore[misc]\u001b[39;00m\n\u001b[1;32m   1531\u001b[0m \u001b[38;5;28;01melse\u001b[39;00m:\n\u001b[0;32m-> 1532\u001b[0m     \u001b[38;5;28;01mreturn\u001b[39;00m \u001b[38;5;28;43mself\u001b[39;49m\u001b[38;5;241;43m.\u001b[39;49m\u001b[43m_call_impl\u001b[49m\u001b[43m(\u001b[49m\u001b[38;5;241;43m*\u001b[39;49m\u001b[43margs\u001b[49m\u001b[43m,\u001b[49m\u001b[43m \u001b[49m\u001b[38;5;241;43m*\u001b[39;49m\u001b[38;5;241;43m*\u001b[39;49m\u001b[43mkwargs\u001b[49m\u001b[43m)\u001b[49m\n",
      "File \u001b[0;32m~/.local/lib/python3.10/site-packages/torch/nn/modules/module.py:1541\u001b[0m, in \u001b[0;36mModule._call_impl\u001b[0;34m(self, *args, **kwargs)\u001b[0m\n\u001b[1;32m   1536\u001b[0m \u001b[38;5;66;03m# If we don't have any hooks, we want to skip the rest of the logic in\u001b[39;00m\n\u001b[1;32m   1537\u001b[0m \u001b[38;5;66;03m# this function, and just call forward.\u001b[39;00m\n\u001b[1;32m   1538\u001b[0m \u001b[38;5;28;01mif\u001b[39;00m \u001b[38;5;129;01mnot\u001b[39;00m (\u001b[38;5;28mself\u001b[39m\u001b[38;5;241m.\u001b[39m_backward_hooks \u001b[38;5;129;01mor\u001b[39;00m \u001b[38;5;28mself\u001b[39m\u001b[38;5;241m.\u001b[39m_backward_pre_hooks \u001b[38;5;129;01mor\u001b[39;00m \u001b[38;5;28mself\u001b[39m\u001b[38;5;241m.\u001b[39m_forward_hooks \u001b[38;5;129;01mor\u001b[39;00m \u001b[38;5;28mself\u001b[39m\u001b[38;5;241m.\u001b[39m_forward_pre_hooks\n\u001b[1;32m   1539\u001b[0m         \u001b[38;5;129;01mor\u001b[39;00m _global_backward_pre_hooks \u001b[38;5;129;01mor\u001b[39;00m _global_backward_hooks\n\u001b[1;32m   1540\u001b[0m         \u001b[38;5;129;01mor\u001b[39;00m _global_forward_hooks \u001b[38;5;129;01mor\u001b[39;00m _global_forward_pre_hooks):\n\u001b[0;32m-> 1541\u001b[0m     \u001b[38;5;28;01mreturn\u001b[39;00m \u001b[43mforward_call\u001b[49m\u001b[43m(\u001b[49m\u001b[38;5;241;43m*\u001b[39;49m\u001b[43margs\u001b[49m\u001b[43m,\u001b[49m\u001b[43m \u001b[49m\u001b[38;5;241;43m*\u001b[39;49m\u001b[38;5;241;43m*\u001b[39;49m\u001b[43mkwargs\u001b[49m\u001b[43m)\u001b[49m\n\u001b[1;32m   1543\u001b[0m \u001b[38;5;28;01mtry\u001b[39;00m:\n\u001b[1;32m   1544\u001b[0m     result \u001b[38;5;241m=\u001b[39m \u001b[38;5;28;01mNone\u001b[39;00m\n",
      "File \u001b[0;32m~/.local/lib/python3.10/site-packages/transformers/models/mbart/modeling_mbart.py:2080\u001b[0m, in \u001b[0;36mMBartForCausalLM.forward\u001b[0;34m(self, input_ids, attention_mask, encoder_hidden_states, encoder_attention_mask, head_mask, cross_attn_head_mask, past_key_values, inputs_embeds, labels, use_cache, output_attentions, output_hidden_states, return_dict)\u001b[0m\n\u001b[1;32m   2077\u001b[0m return_dict \u001b[38;5;241m=\u001b[39m return_dict \u001b[38;5;28;01mif\u001b[39;00m return_dict \u001b[38;5;129;01mis\u001b[39;00m \u001b[38;5;129;01mnot\u001b[39;00m \u001b[38;5;28;01mNone\u001b[39;00m \u001b[38;5;28;01melse\u001b[39;00m \u001b[38;5;28mself\u001b[39m\u001b[38;5;241m.\u001b[39mconfig\u001b[38;5;241m.\u001b[39muse_return_dict\n\u001b[1;32m   2079\u001b[0m \u001b[38;5;66;03m# decoder outputs consists of (dec_features, layer_state, dec_hidden, dec_attn)\u001b[39;00m\n\u001b[0;32m-> 2080\u001b[0m outputs \u001b[38;5;241m=\u001b[39m \u001b[38;5;28;43mself\u001b[39;49m\u001b[38;5;241;43m.\u001b[39;49m\u001b[43mmodel\u001b[49m\u001b[38;5;241;43m.\u001b[39;49m\u001b[43mdecoder\u001b[49m\u001b[43m(\u001b[49m\n\u001b[1;32m   2081\u001b[0m \u001b[43m    \u001b[49m\u001b[43minput_ids\u001b[49m\u001b[38;5;241;43m=\u001b[39;49m\u001b[43minput_ids\u001b[49m\u001b[43m,\u001b[49m\n\u001b[1;32m   2082\u001b[0m \u001b[43m    \u001b[49m\u001b[43mattention_mask\u001b[49m\u001b[38;5;241;43m=\u001b[39;49m\u001b[43mattention_mask\u001b[49m\u001b[43m,\u001b[49m\n\u001b[1;32m   2083\u001b[0m \u001b[43m    \u001b[49m\u001b[43mencoder_hidden_states\u001b[49m\u001b[38;5;241;43m=\u001b[39;49m\u001b[43mencoder_hidden_states\u001b[49m\u001b[43m,\u001b[49m\n\u001b[1;32m   2084\u001b[0m \u001b[43m    \u001b[49m\u001b[43mencoder_attention_mask\u001b[49m\u001b[38;5;241;43m=\u001b[39;49m\u001b[43mencoder_attention_mask\u001b[49m\u001b[43m,\u001b[49m\n\u001b[1;32m   2085\u001b[0m \u001b[43m    \u001b[49m\u001b[43mhead_mask\u001b[49m\u001b[38;5;241;43m=\u001b[39;49m\u001b[43mhead_mask\u001b[49m\u001b[43m,\u001b[49m\n\u001b[1;32m   2086\u001b[0m \u001b[43m    \u001b[49m\u001b[43mcross_attn_head_mask\u001b[49m\u001b[38;5;241;43m=\u001b[39;49m\u001b[43mcross_attn_head_mask\u001b[49m\u001b[43m,\u001b[49m\n\u001b[1;32m   2087\u001b[0m \u001b[43m    \u001b[49m\u001b[43mpast_key_values\u001b[49m\u001b[38;5;241;43m=\u001b[39;49m\u001b[43mpast_key_values\u001b[49m\u001b[43m,\u001b[49m\n\u001b[1;32m   2088\u001b[0m \u001b[43m    \u001b[49m\u001b[43minputs_embeds\u001b[49m\u001b[38;5;241;43m=\u001b[39;49m\u001b[43minputs_embeds\u001b[49m\u001b[43m,\u001b[49m\n\u001b[1;32m   2089\u001b[0m \u001b[43m    \u001b[49m\u001b[43muse_cache\u001b[49m\u001b[38;5;241;43m=\u001b[39;49m\u001b[43muse_cache\u001b[49m\u001b[43m,\u001b[49m\n\u001b[1;32m   2090\u001b[0m \u001b[43m    \u001b[49m\u001b[43moutput_attentions\u001b[49m\u001b[38;5;241;43m=\u001b[39;49m\u001b[43moutput_attentions\u001b[49m\u001b[43m,\u001b[49m\n\u001b[1;32m   2091\u001b[0m \u001b[43m    \u001b[49m\u001b[43moutput_hidden_states\u001b[49m\u001b[38;5;241;43m=\u001b[39;49m\u001b[43moutput_hidden_states\u001b[49m\u001b[43m,\u001b[49m\n\u001b[1;32m   2092\u001b[0m \u001b[43m    \u001b[49m\u001b[43mreturn_dict\u001b[49m\u001b[38;5;241;43m=\u001b[39;49m\u001b[43mreturn_dict\u001b[49m\u001b[43m,\u001b[49m\n\u001b[1;32m   2093\u001b[0m \u001b[43m\u001b[49m\u001b[43m)\u001b[49m\n\u001b[1;32m   2095\u001b[0m logits \u001b[38;5;241m=\u001b[39m \u001b[38;5;28mself\u001b[39m\u001b[38;5;241m.\u001b[39mlm_head(outputs[\u001b[38;5;241m0\u001b[39m])\n\u001b[1;32m   2097\u001b[0m loss \u001b[38;5;241m=\u001b[39m \u001b[38;5;28;01mNone\u001b[39;00m\n",
      "File \u001b[0;32m~/.local/lib/python3.10/site-packages/torch/nn/modules/module.py:1532\u001b[0m, in \u001b[0;36mModule._wrapped_call_impl\u001b[0;34m(self, *args, **kwargs)\u001b[0m\n\u001b[1;32m   1530\u001b[0m     \u001b[38;5;28;01mreturn\u001b[39;00m \u001b[38;5;28mself\u001b[39m\u001b[38;5;241m.\u001b[39m_compiled_call_impl(\u001b[38;5;241m*\u001b[39margs, \u001b[38;5;241m*\u001b[39m\u001b[38;5;241m*\u001b[39mkwargs)  \u001b[38;5;66;03m# type: ignore[misc]\u001b[39;00m\n\u001b[1;32m   1531\u001b[0m \u001b[38;5;28;01melse\u001b[39;00m:\n\u001b[0;32m-> 1532\u001b[0m     \u001b[38;5;28;01mreturn\u001b[39;00m \u001b[38;5;28;43mself\u001b[39;49m\u001b[38;5;241;43m.\u001b[39;49m\u001b[43m_call_impl\u001b[49m\u001b[43m(\u001b[49m\u001b[38;5;241;43m*\u001b[39;49m\u001b[43margs\u001b[49m\u001b[43m,\u001b[49m\u001b[43m \u001b[49m\u001b[38;5;241;43m*\u001b[39;49m\u001b[38;5;241;43m*\u001b[39;49m\u001b[43mkwargs\u001b[49m\u001b[43m)\u001b[49m\n",
      "File \u001b[0;32m~/.local/lib/python3.10/site-packages/torch/nn/modules/module.py:1541\u001b[0m, in \u001b[0;36mModule._call_impl\u001b[0;34m(self, *args, **kwargs)\u001b[0m\n\u001b[1;32m   1536\u001b[0m \u001b[38;5;66;03m# If we don't have any hooks, we want to skip the rest of the logic in\u001b[39;00m\n\u001b[1;32m   1537\u001b[0m \u001b[38;5;66;03m# this function, and just call forward.\u001b[39;00m\n\u001b[1;32m   1538\u001b[0m \u001b[38;5;28;01mif\u001b[39;00m \u001b[38;5;129;01mnot\u001b[39;00m (\u001b[38;5;28mself\u001b[39m\u001b[38;5;241m.\u001b[39m_backward_hooks \u001b[38;5;129;01mor\u001b[39;00m \u001b[38;5;28mself\u001b[39m\u001b[38;5;241m.\u001b[39m_backward_pre_hooks \u001b[38;5;129;01mor\u001b[39;00m \u001b[38;5;28mself\u001b[39m\u001b[38;5;241m.\u001b[39m_forward_hooks \u001b[38;5;129;01mor\u001b[39;00m \u001b[38;5;28mself\u001b[39m\u001b[38;5;241m.\u001b[39m_forward_pre_hooks\n\u001b[1;32m   1539\u001b[0m         \u001b[38;5;129;01mor\u001b[39;00m _global_backward_pre_hooks \u001b[38;5;129;01mor\u001b[39;00m _global_backward_hooks\n\u001b[1;32m   1540\u001b[0m         \u001b[38;5;129;01mor\u001b[39;00m _global_forward_hooks \u001b[38;5;129;01mor\u001b[39;00m _global_forward_pre_hooks):\n\u001b[0;32m-> 1541\u001b[0m     \u001b[38;5;28;01mreturn\u001b[39;00m \u001b[43mforward_call\u001b[49m\u001b[43m(\u001b[49m\u001b[38;5;241;43m*\u001b[39;49m\u001b[43margs\u001b[49m\u001b[43m,\u001b[49m\u001b[43m \u001b[49m\u001b[38;5;241;43m*\u001b[39;49m\u001b[38;5;241;43m*\u001b[39;49m\u001b[43mkwargs\u001b[49m\u001b[43m)\u001b[49m\n\u001b[1;32m   1543\u001b[0m \u001b[38;5;28;01mtry\u001b[39;00m:\n\u001b[1;32m   1544\u001b[0m     result \u001b[38;5;241m=\u001b[39m \u001b[38;5;28;01mNone\u001b[39;00m\n",
      "File \u001b[0;32m~/Documents/UFLA/projeto_IC/table_extraction/proj/notebooks/../src/modeling_dimbart.py:335\u001b[0m, in \u001b[0;36mDiMBartDecoder.forward\u001b[0;34m(self, input_ids, attention_mask, encoder_hidden_states, encoder_attention_mask, head_mask, cross_attn_head_mask, past_key_values, inputs_embeds, use_cache, output_attentions, output_hidden_states, return_dict)\u001b[0m\n\u001b[1;32m    322\u001b[0m     layer_outputs \u001b[38;5;241m=\u001b[39m \u001b[38;5;28mself\u001b[39m\u001b[38;5;241m.\u001b[39m_gradient_checkpointing_func(\n\u001b[1;32m    323\u001b[0m         decoder_layer\u001b[38;5;241m.\u001b[39m\u001b[38;5;21m__call__\u001b[39m,\n\u001b[1;32m    324\u001b[0m         hidden_states,\n\u001b[0;32m   (...)\u001b[0m\n\u001b[1;32m    332\u001b[0m         use_cache,\n\u001b[1;32m    333\u001b[0m     )\n\u001b[1;32m    334\u001b[0m \u001b[38;5;28;01melse\u001b[39;00m:\n\u001b[0;32m--> 335\u001b[0m     layer_outputs \u001b[38;5;241m=\u001b[39m \u001b[43mdecoder_layer\u001b[49m\u001b[43m(\u001b[49m\n\u001b[1;32m    336\u001b[0m \u001b[43m        \u001b[49m\u001b[43mhidden_states\u001b[49m\u001b[43m,\u001b[49m\n\u001b[1;32m    337\u001b[0m \u001b[43m        \u001b[49m\u001b[43mattention_mask\u001b[49m\u001b[38;5;241;43m=\u001b[39;49m\u001b[43mattention_mask\u001b[49m\u001b[43m,\u001b[49m\n\u001b[1;32m    338\u001b[0m \u001b[43m        \u001b[49m\u001b[43mencoder_hidden_states\u001b[49m\u001b[38;5;241;43m=\u001b[39;49m\u001b[43mencoder_hidden_states\u001b[49m\u001b[43m,\u001b[49m\n\u001b[1;32m    339\u001b[0m \u001b[43m        \u001b[49m\u001b[43mencoder_attention_mask\u001b[49m\u001b[38;5;241;43m=\u001b[39;49m\u001b[43mencoder_attention_mask\u001b[49m\u001b[43m,\u001b[49m\n\u001b[1;32m    340\u001b[0m \u001b[43m        \u001b[49m\u001b[43mlayer_head_mask\u001b[49m\u001b[38;5;241;43m=\u001b[39;49m\u001b[43m(\u001b[49m\u001b[43mhead_mask\u001b[49m\u001b[43m[\u001b[49m\u001b[43midx\u001b[49m\u001b[43m]\u001b[49m\u001b[43m \u001b[49m\u001b[38;5;28;43;01mif\u001b[39;49;00m\u001b[43m \u001b[49m\u001b[43mhead_mask\u001b[49m\u001b[43m \u001b[49m\u001b[38;5;129;43;01mis\u001b[39;49;00m\u001b[43m \u001b[49m\u001b[38;5;129;43;01mnot\u001b[39;49;00m\u001b[43m \u001b[49m\u001b[38;5;28;43;01mNone\u001b[39;49;00m\u001b[43m \u001b[49m\u001b[38;5;28;43;01melse\u001b[39;49;00m\u001b[43m \u001b[49m\u001b[38;5;28;43;01mNone\u001b[39;49;00m\u001b[43m)\u001b[49m\u001b[43m,\u001b[49m\n\u001b[1;32m    341\u001b[0m \u001b[43m        \u001b[49m\u001b[43mcross_attn_layer_head_mask\u001b[49m\u001b[38;5;241;43m=\u001b[39;49m\u001b[43m(\u001b[49m\n\u001b[1;32m    342\u001b[0m \u001b[43m            \u001b[49m\u001b[43mcross_attn_head_mask\u001b[49m\u001b[43m[\u001b[49m\u001b[43midx\u001b[49m\u001b[43m]\u001b[49m\u001b[43m \u001b[49m\u001b[38;5;28;43;01mif\u001b[39;49;00m\u001b[43m \u001b[49m\u001b[43mcross_attn_head_mask\u001b[49m\u001b[43m \u001b[49m\u001b[38;5;129;43;01mis\u001b[39;49;00m\u001b[43m \u001b[49m\u001b[38;5;129;43;01mnot\u001b[39;49;00m\u001b[43m \u001b[49m\u001b[38;5;28;43;01mNone\u001b[39;49;00m\u001b[43m \u001b[49m\u001b[38;5;28;43;01melse\u001b[39;49;00m\u001b[43m \u001b[49m\u001b[38;5;28;43;01mNone\u001b[39;49;00m\n\u001b[1;32m    343\u001b[0m \u001b[43m        \u001b[49m\u001b[43m)\u001b[49m\u001b[43m,\u001b[49m\n\u001b[1;32m    344\u001b[0m \u001b[43m        \u001b[49m\u001b[43mpast_key_value\u001b[49m\u001b[38;5;241;43m=\u001b[39;49m\u001b[43mpast_key_value\u001b[49m\u001b[43m,\u001b[49m\n\u001b[1;32m    345\u001b[0m \u001b[43m        \u001b[49m\u001b[43moutput_attentions\u001b[49m\u001b[38;5;241;43m=\u001b[39;49m\u001b[43moutput_attentions\u001b[49m\u001b[43m,\u001b[49m\n\u001b[1;32m    346\u001b[0m \u001b[43m        \u001b[49m\u001b[43muse_cache\u001b[49m\u001b[38;5;241;43m=\u001b[39;49m\u001b[43muse_cache\u001b[49m\u001b[43m,\u001b[49m\n\u001b[1;32m    347\u001b[0m \u001b[43m    \u001b[49m\u001b[43m)\u001b[49m\n\u001b[1;32m    348\u001b[0m hidden_states \u001b[38;5;241m=\u001b[39m layer_outputs[\u001b[38;5;241m0\u001b[39m]\n\u001b[1;32m    350\u001b[0m \u001b[38;5;28;01mif\u001b[39;00m use_cache:\n",
      "File \u001b[0;32m~/.local/lib/python3.10/site-packages/torch/nn/modules/module.py:1532\u001b[0m, in \u001b[0;36mModule._wrapped_call_impl\u001b[0;34m(self, *args, **kwargs)\u001b[0m\n\u001b[1;32m   1530\u001b[0m     \u001b[38;5;28;01mreturn\u001b[39;00m \u001b[38;5;28mself\u001b[39m\u001b[38;5;241m.\u001b[39m_compiled_call_impl(\u001b[38;5;241m*\u001b[39margs, \u001b[38;5;241m*\u001b[39m\u001b[38;5;241m*\u001b[39mkwargs)  \u001b[38;5;66;03m# type: ignore[misc]\u001b[39;00m\n\u001b[1;32m   1531\u001b[0m \u001b[38;5;28;01melse\u001b[39;00m:\n\u001b[0;32m-> 1532\u001b[0m     \u001b[38;5;28;01mreturn\u001b[39;00m \u001b[38;5;28;43mself\u001b[39;49m\u001b[38;5;241;43m.\u001b[39;49m\u001b[43m_call_impl\u001b[49m\u001b[43m(\u001b[49m\u001b[38;5;241;43m*\u001b[39;49m\u001b[43margs\u001b[49m\u001b[43m,\u001b[49m\u001b[43m \u001b[49m\u001b[38;5;241;43m*\u001b[39;49m\u001b[38;5;241;43m*\u001b[39;49m\u001b[43mkwargs\u001b[49m\u001b[43m)\u001b[49m\n",
      "File \u001b[0;32m~/.local/lib/python3.10/site-packages/torch/nn/modules/module.py:1541\u001b[0m, in \u001b[0;36mModule._call_impl\u001b[0;34m(self, *args, **kwargs)\u001b[0m\n\u001b[1;32m   1536\u001b[0m \u001b[38;5;66;03m# If we don't have any hooks, we want to skip the rest of the logic in\u001b[39;00m\n\u001b[1;32m   1537\u001b[0m \u001b[38;5;66;03m# this function, and just call forward.\u001b[39;00m\n\u001b[1;32m   1538\u001b[0m \u001b[38;5;28;01mif\u001b[39;00m \u001b[38;5;129;01mnot\u001b[39;00m (\u001b[38;5;28mself\u001b[39m\u001b[38;5;241m.\u001b[39m_backward_hooks \u001b[38;5;129;01mor\u001b[39;00m \u001b[38;5;28mself\u001b[39m\u001b[38;5;241m.\u001b[39m_backward_pre_hooks \u001b[38;5;129;01mor\u001b[39;00m \u001b[38;5;28mself\u001b[39m\u001b[38;5;241m.\u001b[39m_forward_hooks \u001b[38;5;129;01mor\u001b[39;00m \u001b[38;5;28mself\u001b[39m\u001b[38;5;241m.\u001b[39m_forward_pre_hooks\n\u001b[1;32m   1539\u001b[0m         \u001b[38;5;129;01mor\u001b[39;00m _global_backward_pre_hooks \u001b[38;5;129;01mor\u001b[39;00m _global_backward_hooks\n\u001b[1;32m   1540\u001b[0m         \u001b[38;5;129;01mor\u001b[39;00m _global_forward_hooks \u001b[38;5;129;01mor\u001b[39;00m _global_forward_pre_hooks):\n\u001b[0;32m-> 1541\u001b[0m     \u001b[38;5;28;01mreturn\u001b[39;00m \u001b[43mforward_call\u001b[49m\u001b[43m(\u001b[49m\u001b[38;5;241;43m*\u001b[39;49m\u001b[43margs\u001b[49m\u001b[43m,\u001b[49m\u001b[43m \u001b[49m\u001b[38;5;241;43m*\u001b[39;49m\u001b[38;5;241;43m*\u001b[39;49m\u001b[43mkwargs\u001b[49m\u001b[43m)\u001b[49m\n\u001b[1;32m   1543\u001b[0m \u001b[38;5;28;01mtry\u001b[39;00m:\n\u001b[1;32m   1544\u001b[0m     result \u001b[38;5;241m=\u001b[39m \u001b[38;5;28;01mNone\u001b[39;00m\n",
      "File \u001b[0;32m~/.local/lib/python3.10/site-packages/transformers/models/mbart/modeling_mbart.py:676\u001b[0m, in \u001b[0;36mMBartDecoderLayer.forward\u001b[0;34m(self, hidden_states, attention_mask, encoder_hidden_states, encoder_attention_mask, layer_head_mask, cross_attn_layer_head_mask, past_key_value, output_attentions, use_cache)\u001b[0m\n\u001b[1;32m    674\u001b[0m \u001b[38;5;66;03m# cross_attn cached key/values tuple is at positions 3,4 of present_key_value tuple\u001b[39;00m\n\u001b[1;32m    675\u001b[0m cross_attn_past_key_value \u001b[38;5;241m=\u001b[39m past_key_value[\u001b[38;5;241m-\u001b[39m\u001b[38;5;241m2\u001b[39m:] \u001b[38;5;28;01mif\u001b[39;00m past_key_value \u001b[38;5;129;01mis\u001b[39;00m \u001b[38;5;129;01mnot\u001b[39;00m \u001b[38;5;28;01mNone\u001b[39;00m \u001b[38;5;28;01melse\u001b[39;00m \u001b[38;5;28;01mNone\u001b[39;00m\n\u001b[0;32m--> 676\u001b[0m hidden_states, cross_attn_weights, cross_attn_present_key_value \u001b[38;5;241m=\u001b[39m \u001b[38;5;28;43mself\u001b[39;49m\u001b[38;5;241;43m.\u001b[39;49m\u001b[43mencoder_attn\u001b[49m\u001b[43m(\u001b[49m\n\u001b[1;32m    677\u001b[0m \u001b[43m    \u001b[49m\u001b[43mhidden_states\u001b[49m\u001b[38;5;241;43m=\u001b[39;49m\u001b[43mhidden_states\u001b[49m\u001b[43m,\u001b[49m\n\u001b[1;32m    678\u001b[0m \u001b[43m    \u001b[49m\u001b[43mkey_value_states\u001b[49m\u001b[38;5;241;43m=\u001b[39;49m\u001b[43mencoder_hidden_states\u001b[49m\u001b[43m,\u001b[49m\n\u001b[1;32m    679\u001b[0m \u001b[43m    \u001b[49m\u001b[43mattention_mask\u001b[49m\u001b[38;5;241;43m=\u001b[39;49m\u001b[43mencoder_attention_mask\u001b[49m\u001b[43m,\u001b[49m\n\u001b[1;32m    680\u001b[0m \u001b[43m    \u001b[49m\u001b[43mlayer_head_mask\u001b[49m\u001b[38;5;241;43m=\u001b[39;49m\u001b[43mcross_attn_layer_head_mask\u001b[49m\u001b[43m,\u001b[49m\n\u001b[1;32m    681\u001b[0m \u001b[43m    \u001b[49m\u001b[43mpast_key_value\u001b[49m\u001b[38;5;241;43m=\u001b[39;49m\u001b[43mcross_attn_past_key_value\u001b[49m\u001b[43m,\u001b[49m\n\u001b[1;32m    682\u001b[0m \u001b[43m    \u001b[49m\u001b[43moutput_attentions\u001b[49m\u001b[38;5;241;43m=\u001b[39;49m\u001b[43moutput_attentions\u001b[49m\u001b[43m,\u001b[49m\n\u001b[1;32m    683\u001b[0m \u001b[43m\u001b[49m\u001b[43m)\u001b[49m\n\u001b[1;32m    684\u001b[0m hidden_states \u001b[38;5;241m=\u001b[39m nn\u001b[38;5;241m.\u001b[39mfunctional\u001b[38;5;241m.\u001b[39mdropout(hidden_states, p\u001b[38;5;241m=\u001b[39m\u001b[38;5;28mself\u001b[39m\u001b[38;5;241m.\u001b[39mdropout, training\u001b[38;5;241m=\u001b[39m\u001b[38;5;28mself\u001b[39m\u001b[38;5;241m.\u001b[39mtraining)\n\u001b[1;32m    685\u001b[0m hidden_states \u001b[38;5;241m=\u001b[39m residual \u001b[38;5;241m+\u001b[39m hidden_states\n",
      "File \u001b[0;32m~/.local/lib/python3.10/site-packages/torch/nn/modules/module.py:1532\u001b[0m, in \u001b[0;36mModule._wrapped_call_impl\u001b[0;34m(self, *args, **kwargs)\u001b[0m\n\u001b[1;32m   1530\u001b[0m     \u001b[38;5;28;01mreturn\u001b[39;00m \u001b[38;5;28mself\u001b[39m\u001b[38;5;241m.\u001b[39m_compiled_call_impl(\u001b[38;5;241m*\u001b[39margs, \u001b[38;5;241m*\u001b[39m\u001b[38;5;241m*\u001b[39mkwargs)  \u001b[38;5;66;03m# type: ignore[misc]\u001b[39;00m\n\u001b[1;32m   1531\u001b[0m \u001b[38;5;28;01melse\u001b[39;00m:\n\u001b[0;32m-> 1532\u001b[0m     \u001b[38;5;28;01mreturn\u001b[39;00m \u001b[38;5;28;43mself\u001b[39;49m\u001b[38;5;241;43m.\u001b[39;49m\u001b[43m_call_impl\u001b[49m\u001b[43m(\u001b[49m\u001b[38;5;241;43m*\u001b[39;49m\u001b[43margs\u001b[49m\u001b[43m,\u001b[49m\u001b[43m \u001b[49m\u001b[38;5;241;43m*\u001b[39;49m\u001b[38;5;241;43m*\u001b[39;49m\u001b[43mkwargs\u001b[49m\u001b[43m)\u001b[49m\n",
      "File \u001b[0;32m~/.local/lib/python3.10/site-packages/torch/nn/modules/module.py:1541\u001b[0m, in \u001b[0;36mModule._call_impl\u001b[0;34m(self, *args, **kwargs)\u001b[0m\n\u001b[1;32m   1536\u001b[0m \u001b[38;5;66;03m# If we don't have any hooks, we want to skip the rest of the logic in\u001b[39;00m\n\u001b[1;32m   1537\u001b[0m \u001b[38;5;66;03m# this function, and just call forward.\u001b[39;00m\n\u001b[1;32m   1538\u001b[0m \u001b[38;5;28;01mif\u001b[39;00m \u001b[38;5;129;01mnot\u001b[39;00m (\u001b[38;5;28mself\u001b[39m\u001b[38;5;241m.\u001b[39m_backward_hooks \u001b[38;5;129;01mor\u001b[39;00m \u001b[38;5;28mself\u001b[39m\u001b[38;5;241m.\u001b[39m_backward_pre_hooks \u001b[38;5;129;01mor\u001b[39;00m \u001b[38;5;28mself\u001b[39m\u001b[38;5;241m.\u001b[39m_forward_hooks \u001b[38;5;129;01mor\u001b[39;00m \u001b[38;5;28mself\u001b[39m\u001b[38;5;241m.\u001b[39m_forward_pre_hooks\n\u001b[1;32m   1539\u001b[0m         \u001b[38;5;129;01mor\u001b[39;00m _global_backward_pre_hooks \u001b[38;5;129;01mor\u001b[39;00m _global_backward_hooks\n\u001b[1;32m   1540\u001b[0m         \u001b[38;5;129;01mor\u001b[39;00m _global_forward_hooks \u001b[38;5;129;01mor\u001b[39;00m _global_forward_pre_hooks):\n\u001b[0;32m-> 1541\u001b[0m     \u001b[38;5;28;01mreturn\u001b[39;00m \u001b[43mforward_call\u001b[49m\u001b[43m(\u001b[49m\u001b[38;5;241;43m*\u001b[39;49m\u001b[43margs\u001b[49m\u001b[43m,\u001b[49m\u001b[43m \u001b[49m\u001b[38;5;241;43m*\u001b[39;49m\u001b[38;5;241;43m*\u001b[39;49m\u001b[43mkwargs\u001b[49m\u001b[43m)\u001b[49m\n\u001b[1;32m   1543\u001b[0m \u001b[38;5;28;01mtry\u001b[39;00m:\n\u001b[1;32m   1544\u001b[0m     result \u001b[38;5;241m=\u001b[39m \u001b[38;5;28;01mNone\u001b[39;00m\n",
      "File \u001b[0;32m~/.local/lib/python3.10/site-packages/transformers/models/mbart/modeling_mbart.py:274\u001b[0m, in \u001b[0;36mMBartAttention.forward\u001b[0;34m(self, hidden_states, key_value_states, past_key_value, attention_mask, layer_head_mask, output_attentions)\u001b[0m\n\u001b[1;32m    270\u001b[0m     attn_weights_reshaped \u001b[38;5;241m=\u001b[39m \u001b[38;5;28;01mNone\u001b[39;00m\n\u001b[1;32m    272\u001b[0m attn_probs \u001b[38;5;241m=\u001b[39m nn\u001b[38;5;241m.\u001b[39mfunctional\u001b[38;5;241m.\u001b[39mdropout(attn_weights, p\u001b[38;5;241m=\u001b[39m\u001b[38;5;28mself\u001b[39m\u001b[38;5;241m.\u001b[39mdropout, training\u001b[38;5;241m=\u001b[39m\u001b[38;5;28mself\u001b[39m\u001b[38;5;241m.\u001b[39mtraining)\n\u001b[0;32m--> 274\u001b[0m attn_output \u001b[38;5;241m=\u001b[39m \u001b[43mtorch\u001b[49m\u001b[38;5;241;43m.\u001b[39;49m\u001b[43mbmm\u001b[49m\u001b[43m(\u001b[49m\u001b[43mattn_probs\u001b[49m\u001b[43m,\u001b[49m\u001b[43m \u001b[49m\u001b[43mvalue_states\u001b[49m\u001b[43m)\u001b[49m\n\u001b[1;32m    276\u001b[0m \u001b[38;5;28;01mif\u001b[39;00m attn_output\u001b[38;5;241m.\u001b[39msize() \u001b[38;5;241m!=\u001b[39m (bsz \u001b[38;5;241m*\u001b[39m \u001b[38;5;28mself\u001b[39m\u001b[38;5;241m.\u001b[39mnum_heads, tgt_len, \u001b[38;5;28mself\u001b[39m\u001b[38;5;241m.\u001b[39mhead_dim):\n\u001b[1;32m    277\u001b[0m     \u001b[38;5;28;01mraise\u001b[39;00m \u001b[38;5;167;01mValueError\u001b[39;00m(\n\u001b[1;32m    278\u001b[0m         \u001b[38;5;124mf\u001b[39m\u001b[38;5;124m\"\u001b[39m\u001b[38;5;124m`attn_output` should be of size \u001b[39m\u001b[38;5;132;01m{\u001b[39;00m(bsz\u001b[38;5;250m \u001b[39m\u001b[38;5;241m*\u001b[39m\u001b[38;5;250m \u001b[39m\u001b[38;5;28mself\u001b[39m\u001b[38;5;241m.\u001b[39mnum_heads,\u001b[38;5;250m \u001b[39mtgt_len,\u001b[38;5;250m \u001b[39m\u001b[38;5;28mself\u001b[39m\u001b[38;5;241m.\u001b[39mhead_dim)\u001b[38;5;132;01m}\u001b[39;00m\u001b[38;5;124m, but is\u001b[39m\u001b[38;5;124m\"\u001b[39m\n\u001b[1;32m    279\u001b[0m         \u001b[38;5;124mf\u001b[39m\u001b[38;5;124m\"\u001b[39m\u001b[38;5;124m \u001b[39m\u001b[38;5;132;01m{\u001b[39;00mattn_output\u001b[38;5;241m.\u001b[39msize()\u001b[38;5;132;01m}\u001b[39;00m\u001b[38;5;124m\"\u001b[39m\n\u001b[1;32m    280\u001b[0m     )\n",
      "\u001b[0;31mKeyboardInterrupt\u001b[0m: "
     ]
    }
   ],
   "source": [
    "import torch\n",
    "from tqdm.auto import tqdm\n",
    "\n",
    "out_dics = {}\n",
    "sum_score = 0\n",
    "\n",
    "device = 'cuda' if torch.cuda.is_available() else 'cpu'\n",
    "model.to(device)\n",
    "model.eval()\n",
    "\n",
    "decoder_input_ids = processor.tokenizer(\"<table_extraction>\", add_special_tokens=False, return_tensors=\"pt\").input_ids\n",
    "\n",
    "for i, batch in enumerate(tqdm(train_dataloader)):\n",
    "    \n",
    "    pixel_values = batch[\"pixel_values\"].to(device)\n",
    "    filename = batch[\"file_name\"][0]\n",
    "    gt = batch['gt'][0].replace(\"> \", \">\").replace(\" <\", \"<\")\n",
    "    \n",
    "    # autoregressively generate sequence\n",
    "    outputs = model.generate(\n",
    "        pixel_values,\n",
    "        decoder_input_ids=decoder_input_ids.to(device),\n",
    "        max_length= 1600,\n",
    "        early_stopping=True,\n",
    "        pad_token_id=processor.tokenizer.pad_token_id,\n",
    "        eos_token_id=processor.tokenizer.eos_token_id,\n",
    "        use_cache=True,\n",
    "        num_beams= 3,\n",
    "        bad_words_ids=[[processor.tokenizer.unk_token_id]],\n",
    "        return_dict_in_generate=True,\n",
    "        )\n",
    "    \n",
    "    seq = torch.cat((outputs.sequences[0], torch.Tensor([2, 2]).int().to(device)), 0)\n",
    "    print(filename)\n",
    "    print(processor.decode(seq))\n",
    "    table = processor.token2ann(seq, 1)\n",
    "    \n",
    "    table_html = \"<html><body><table>\" + processor.table2html(table['tables'][0]).replace(\"> \", \">\").replace(\" <\", \"<\") + \"</table></body></html>\"\n",
    "    \n",
    "    \n",
    "    score = teds.evaluate(table_html, gt)\n",
    "    sum_score += score\n",
    "    \n",
    "    print(score,\"--\",sum_score/(i+1))\n",
    "    \n",
    "    out_dics[filename] = table_html"
   ]
  },
  {
   "cell_type": "code",
   "execution_count": null,
   "id": "0f50d679",
   "metadata": {},
   "outputs": [],
   "source": [
    "prompt[:,0]"
   ]
  },
  {
   "cell_type": "code",
   "execution_count": null,
   "id": "c4bb8738",
   "metadata": {},
   "outputs": [],
   "source": [
    "cp_dic = out_dics.copy()"
   ]
  },
  {
   "cell_type": "code",
   "execution_count": null,
   "id": "fdd5e883",
   "metadata": {},
   "outputs": [],
   "source": [
    "out_dics = cp_dic.copy()\n",
    "for filename in out_dics:\n",
    "    out_dics[filename] = \"<html><body><table>\" + out_dics[filename] + \"</table></body></html>\""
   ]
  },
  {
   "cell_type": "code",
   "execution_count": null,
   "id": "5d25fd36",
   "metadata": {},
   "outputs": [],
   "source": [
    "import json\n",
    "with open(\"../../pubtabnet/TML_pred_dic-EPOCH1.json\", 'w') as out:\n",
    "    json.dump(out_dics, out, ensure_ascii=False)"
   ]
  },
  {
   "cell_type": "code",
   "execution_count": null,
   "id": "73d62afd",
   "metadata": {},
   "outputs": [],
   "source": [
    "print(torch.cat((outputs.sequences[0], torch.tensor([processor.tokenizer.eos_token_id]).to(device)), 0))"
   ]
  },
  {
   "cell_type": "code",
   "execution_count": null,
   "id": "daa60e20",
   "metadata": {},
   "outputs": [],
   "source": [
    "import json\n",
    "with open(\"../../pubtabnet/final_eval.json\", encoding=\"utf-8\") as f:\n",
    "    gts = json.load(f)\n",
    "\n",
    "for gt in gts:\n",
    "    if(gt == \"663f4502ef940b47563185fb6dd16307b43b895fdb4fe1bbe8e514e6ad2bf6f2.png\"):\n",
    "        print(gts[gt]['html'].replace(\"<b>\", \"\").replace(\"</b>\", \"\"))"
   ]
  },
  {
   "cell_type": "code",
   "execution_count": null,
   "id": "3de0fe0a",
   "metadata": {},
   "outputs": [],
   "source": [
    "del model"
   ]
  },
  {
   "cell_type": "code",
   "execution_count": null,
   "id": "9d83e007",
   "metadata": {},
   "outputs": [],
   "source": [
    "processor"
   ]
  },
  {
   "cell_type": "code",
   "execution_count": null,
   "id": "839df77e",
   "metadata": {},
   "outputs": [],
   "source": []
  }
 ],
 "metadata": {
  "kernelspec": {
   "display_name": "Python 3 (ipykernel)",
   "language": "python",
   "name": "python3"
  },
  "language_info": {
   "codemirror_mode": {
    "name": "ipython",
    "version": 3
   },
   "file_extension": ".py",
   "mimetype": "text/x-python",
   "name": "python",
   "nbconvert_exporter": "python",
   "pygments_lexer": "ipython3",
   "version": "3.10.12"
  }
 },
 "nbformat": 4,
 "nbformat_minor": 5
}
